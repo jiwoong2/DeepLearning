{
  "nbformat": 4,
  "nbformat_minor": 0,
  "metadata": {
    "colab": {
      "private_outputs": true,
      "provenance": [],
      "authorship_tag": "ABX9TyMGEAtpG+O90Nrktr5c3J34",
      "include_colab_link": true
    },
    "kernelspec": {
      "name": "python3",
      "display_name": "Python 3"
    },
    "language_info": {
      "name": "python"
    }
  },
  "cells": [
    {
      "cell_type": "markdown",
      "metadata": {
        "id": "view-in-github",
        "colab_type": "text"
      },
      "source": [
        "<a href=\"https://colab.research.google.com/github/jiwoong2/deeplearning/blob/main/%EC%9D%B8%EA%B3%B5%EC%8B%A0%EA%B2%BD%EB%A7%9D_%EA%B5%AC%ED%98%842.ipynb\" target=\"_parent\"><img src=\"https://colab.research.google.com/assets/colab-badge.svg\" alt=\"Open In Colab\"/></a>"
      ]
    },
    {
      "cell_type": "code",
      "execution_count": null,
      "metadata": {
        "id": "Clz14ekeY6k3"
      },
      "outputs": [],
      "source": [
        "import sys, os\n",
        "import numpy as np\n",
        "import pickle # 피클라이브러리는 텍스트파일의 비효율적인 저장방식을 효율적으로 개선\n",
        "import tensorflow as tf"
      ]
    },
    {
      "cell_type": "markdown",
      "source": [
        "# 시그모이드, 소프트맥스 함수"
      ],
      "metadata": {
        "id": "mc_7hJfrZmf2"
      }
    },
    {
      "cell_type": "code",
      "source": [
        "def sigmoid(x):\n",
        "    return 1 / (1 + np.exp(-x))  # np.exp(x)는 밑이 자연상수 e 이고 x가 지수인 수를 반환한다.\n",
        "\n",
        "def softmax(x):\n",
        "    if x.dim == 2:   # x가 행렬일 경우 scalar = 0, vector = 1, matrix = 2, 위의 경우 vector를 처리하므로 후에 배치처리때 사용됨.\n",
        "        x = x.T\n",
        "        x = x - np.max(x, axis = 0)\n",
        "        y = np.exp(x) / np.sum(np.exp(x), axis = 0)\n",
        "        return y.T\n",
        "\n",
        "    x = x - np.max(x) # 오버플로를 방지하기위해 작성. 노트참고. , vector에 scalar를 빼면 numpy에서 알아서 원소별로 연산을 한다.\n",
        "    return np.exp(x) / np.sum(np.exp(x))  # normalize"
      ],
      "metadata": {
        "id": "tGchryN1Zqpn"
      },
      "execution_count": null,
      "outputs": []
    },
    {
      "cell_type": "markdown",
      "source": [
        "# Data 전처리"
      ],
      "metadata": {
        "id": "4AGfkbB9jsEe"
      }
    },
    {
      "cell_type": "code",
      "source": [
        "Mnist = tf.keras.datasets.mnist\n",
        "(x_train, t_train), (x_test, t_test) = Mnist.load_data()\n",
        "x_train, x_test = x_train / 255.0, x_test / 255.0 # normalize -> 많은 경우 피쳐가 여러개이므로 큰 숫자를 가지는 피쳐의 영향력이 너무 커지므로 모든 피쳐값을 0부터 1까지의 값으로 정규화 한다.\n",
        "x_train = x_train.reshape(60000, 784) # flatten\n",
        "x_test = x_test.reshape(10000, 784)"
      ],
      "metadata": {
        "id": "2IX3MpvvajPD"
      },
      "execution_count": null,
      "outputs": []
    },
    {
      "cell_type": "code",
      "source": [
        "# 아직 모델을 학습시키는 방법을 배우지 않았기 때문에 미리학습된 모델을 사용해 보는 과정."
      ],
      "metadata": {
        "id": "FadbCvbefr1M"
      },
      "execution_count": null,
      "outputs": []
    }
  ]
}