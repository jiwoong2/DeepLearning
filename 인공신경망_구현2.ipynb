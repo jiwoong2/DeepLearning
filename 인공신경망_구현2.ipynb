{
  "nbformat": 4,
  "nbformat_minor": 0,
  "metadata": {
    "colab": {
      "private_outputs": true,
      "provenance": [],
      "authorship_tag": "ABX9TyMKKKRuwz74VpgSih7vT0qR",
      "include_colab_link": true
    },
    "kernelspec": {
      "name": "python3",
      "display_name": "Python 3"
    },
    "language_info": {
      "name": "python"
    }
  },
  "cells": [
    {
      "cell_type": "markdown",
      "metadata": {
        "id": "view-in-github",
        "colab_type": "text"
      },
      "source": [
        "<a href=\"https://colab.research.google.com/github/jiwoong2/deeplearning/blob/main/%EC%9D%B8%EA%B3%B5%EC%8B%A0%EA%B2%BD%EB%A7%9D_%EA%B5%AC%ED%98%842.ipynb\" target=\"_parent\"><img src=\"https://colab.research.google.com/assets/colab-badge.svg\" alt=\"Open In Colab\"/></a>"
      ]
    },
    {
      "cell_type": "code",
      "execution_count": null,
      "metadata": {
        "id": "Clz14ekeY6k3"
      },
      "outputs": [],
      "source": [
        "import sys, os\n",
        "import numpy as np\n",
        "import pickle # 피클라이브러리는 텍스트파일의 비효율적인 저장방식을 효율적으로 개선\n",
        "import tensorflow as tf\n",
        "import matplotlib.pyplot as plt"
      ]
    },
    {
      "cell_type": "markdown",
      "source": [
        "# 시그모이드, 소프트맥스 함수"
      ],
      "metadata": {
        "id": "mc_7hJfrZmf2"
      }
    },
    {
      "cell_type": "code",
      "source": [
        "def sigmoid(x):\n",
        "    return 1 / (1 + np.exp(-x))  # np.exp(x)는 밑이 자연상수 e 이고 x가 지수인 수를 반환한다.\n",
        "\n",
        "def softmax(x):\n",
        "    if x.dim == 2:   # x가 행렬일 경우 scalar = 0, vector = 1, matrix = 2, 위의 경우 vector를 처리하므로 후에 배치처리때 사용됨.\n",
        "        x = x.T\n",
        "        x = x - np.max(x, axis = 0)\n",
        "        y = np.exp(x) / np.sum(np.exp(x), axis = 0)\n",
        "        return y.T\n",
        "\n",
        "    x = x - np.max(x) # 오버플로를 방지하기위해 작성. 노트참고. , vector에 scalar를 빼면 numpy에서 알아서 원소별로 연산을 한다.\n",
        "    return np.exp(x) / np.sum(np.exp(x))  # normalize"
      ],
      "metadata": {
        "id": "tGchryN1Zqpn"
      },
      "execution_count": null,
      "outputs": []
    },
    {
      "cell_type": "markdown",
      "source": [
        "# Data 전처리"
      ],
      "metadata": {
        "id": "4AGfkbB9jsEe"
      }
    },
    {
      "cell_type": "code",
      "source": [
        "def get_data():\n",
        "    Mnist = tf.keras.datasets.mnist\n",
        "    (x_train, t_train), (x_test, t_test) = Mnist.load_data()\n",
        "    x_train, x_test = x_train / 255.0, x_test / 255.0 # normalize -> 많은 경우 피쳐가 여러개이므로 큰 숫자를 가지는 피쳐의 영향력이 너무 커지므로 모든 피쳐값을 0부터 1까지의 값으로 정규화 한다.\n",
        "    x_train = x_train.reshape(60000, 784) # flatten\n",
        "    x_test = x_test.reshape(10000, 784)\n",
        "    return x_test, t_test"
      ],
      "metadata": {
        "id": "2IX3MpvvajPD"
      },
      "execution_count": null,
      "outputs": []
    },
    {
      "cell_type": "markdown",
      "source": [
        "# 모델 구현"
      ],
      "metadata": {
        "id": "fgxmGzW7k6pK"
      }
    },
    {
      "cell_type": "code",
      "source": [],
      "metadata": {
        "id": "FadbCvbefr1M"
      },
      "execution_count": null,
      "outputs": []
    },
    {
      "cell_type": "markdown",
      "source": [
        "# 배치처리 구현\n",
        "배치처리의 자세한 원리는 노트 참고.\n",
        "\n",
        "예제 모델에서는 배치처리후 시간이 절반 가까이 단축된다."
      ],
      "metadata": {
        "id": "ghMWW2TVk8ut"
      }
    },
    {
      "cell_type": "code",
      "source": [
        "x, t = get_data() # 테스트 데이터와 라벨을 x, t 변수에 저장한다.\n",
        "\n",
        "batch_size = 100 # 한번에 처리할 배치 사이즈를 지정 한다.\n",
        "accuracy_cnt = 0 # 추론결과 정답갯수를 저장할 변수."
      ],
      "metadata": {
        "id": "_rVlZFaRkzta"
      },
      "execution_count": null,
      "outputs": []
    },
    {
      "cell_type": "code",
      "source": [
        "for i in range(0, len(x), batch_size):\n",
        "    x_batch = x[i:i+batch_size] # batch size가 100 이므로 인덱스 0부터 99까지의 100개의 이미지를 슬라이싱 한다. 100*784 행렬이 반환 된다.(각 행은 falten한 이미지이다.)\n",
        "    y_batch = predict(network, x_batch) # 슬라이싱한 100가지 이미지를 모델로 추론해 나온 값을 저장한다. 100*10 행렬이 반환 된다.(각 행은 각 사진의 확률벡터이다.)\n",
        "    p = np.argmax(y_batch, axis = 1) # argmax 함수는 가장 큰값의 인덱스를 반화하며, axis = 1 은 앞의 작업을 각 행별로 적용한다. 결과적으로 100차원 벡터를 반환 한다.  axis = 0 은 열에대해서 적용한다.\n",
        "    accuracy_cnt += np.sum(p == t[i:i+batch_size]) # t는 라벨이고 마찬가지로 슬라이싱해 추론결과와 비교한다. bool형의 리스트를 반환하며 true는 1 false는 0 이므로 합하면 정답 갯수를 알 수 있다.\n",
        "\n",
        "print(\"Accuracy:\"+str(float(accuracy_cnt) / len(x)))"
      ],
      "metadata": {
        "id": "uptPF8IHlM-y"
      },
      "execution_count": null,
      "outputs": []
    },
    {
      "cell_type": "markdown",
      "source": [
        "# Error"
      ],
      "metadata": {
        "id": "MVE_cBCUrEIR"
      }
    },
    {
      "cell_type": "code",
      "source": [
        "error = [] # 모델의 추론이 틀린 인덱스를 저장하기 위한 리스트.\n",
        "\n",
        "for i in range(len(x)):\n",
        "    y = predict(network, x[i])\n",
        "    p = np.argmax(y) # 확률이 가장 높은 원소의 인덱스를 얻는다.\n",
        "    if p != t[i]:\n",
        "        error.append(i)\n",
        "\n",
        "print(error)\n",
        "\n",
        "plt.figure(figsize = (10, 10))\n",
        "for i in range(25):\n",
        "    plt.subplot(5, 5, i+1)\n",
        "    plt.xticks([])\n",
        "    plt.yticks([])\n",
        "    plt.imshow(x[error[i]].reshpae(28, 28), cmap = plt.cm.binary)\n",
        "    plt.xlabel(t[error[i]])\n",
        "plt.show()"
      ],
      "metadata": {
        "id": "FV3Yy31trAex"
      },
      "execution_count": null,
      "outputs": []
    }
  ]
}