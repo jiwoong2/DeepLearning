{
  "nbformat": 4,
  "nbformat_minor": 0,
  "metadata": {
    "colab": {
      "private_outputs": true,
      "provenance": [],
      "authorship_tag": "ABX9TyP2cgoHvPqgrxYtMaS177Wl",
      "include_colab_link": true
    },
    "kernelspec": {
      "name": "python3",
      "display_name": "Python 3"
    },
    "language_info": {
      "name": "python"
    }
  },
  "cells": [
    {
      "cell_type": "markdown",
      "metadata": {
        "id": "view-in-github",
        "colab_type": "text"
      },
      "source": [
        "<a href=\"https://colab.research.google.com/github/jiwoong2/deeplearning/blob/main/%ED%94%84%EB%A1%9C%EC%A0%9D%ED%8A%B82.ipynb\" target=\"_parent\"><img src=\"https://colab.research.google.com/assets/colab-badge.svg\" alt=\"Open In Colab\"/></a>"
      ]
    },
    {
      "cell_type": "markdown",
      "source": [
        "# 프로젝트 목적\n",
        "\n",
        "Sigmoid를 activation function으로 사용하는 깊은 신경망의 학습정체 원인은 vanishing gradient때문일까? 아니면 모델이 깊어짐에 따라 증가한 비선형성으로 optimizer가 local minimum에 빠졌기 때문일까? 이 프로젝트에서는 위의 의문을 해결하기위해 몇가지 가정을 세운후 간단한 이진분류모델로 실험해보고자한다."
      ],
      "metadata": {
        "id": "o7fAGjNz7ng3"
      }
    },
    {
      "cell_type": "markdown",
      "source": [
        "# 가정1:학습정체의 원인이 vanishing gradient일 경우\n"
      ],
      "metadata": {
        "id": "UVCX2UKt9Kng"
      }
    },
    {
      "cell_type": "markdown",
      "source": [
        "실험1:"
      ],
      "metadata": {
        "id": "iXJJDWpa9m0X"
      }
    },
    {
      "cell_type": "code",
      "execution_count": null,
      "metadata": {
        "id": "m9LweiYs7mk3"
      },
      "outputs": [],
      "source": [
        "import torch\n",
        "from torch import nn\n",
        "from torch import optim\n",
        "import torch.nn.functional as F\n",
        "import matplotlib.pyplot as plt"
      ]
    },
    {
      "cell_type": "markdown",
      "source": [
        "# data"
      ],
      "metadata": {
        "id": "dnyiiZvNA2kG"
      }
    },
    {
      "cell_type": "code",
      "source": [
        "N=20\n",
        "random0=torch.randn(int(N/2),1)\n",
        "random5=torch.randn(int(N/2),1)+8\n",
        "\n",
        "class1_data=torch.hstack([random0,random5])\n",
        "class2_data=torch.hstack([random5,random0])\n",
        "\n",
        "class1_label=torch.ones(int(N/2),1)\n",
        "class2_label=torch.zeros(int(N/2),1)\n",
        "class3_label=torch.ones(int(N/2),1)\n",
        "\n",
        "X=torch.vstack([class1_data,class2_data])\n",
        "y=torch.vstack([class1_label,class2_label])\n",
        "\n",
        "plt.plot(class1_data[:,0],class1_data[:,1],'bo')\n",
        "plt.plot(class2_data[:,0],class2_data[:,1],'ro')\n",
        "# plt.plot(class3_data[:,0],class3_data[:,1],'bo')\n",
        "plt.xlabel('x1')\n",
        "plt.ylabel('x2')\n",
        "plt.grid()"
      ],
      "metadata": {
        "id": "y9zUzFgLAqNQ"
      },
      "execution_count": null,
      "outputs": []
    },
    {
      "cell_type": "markdown",
      "source": [
        "# 1"
      ],
      "metadata": {
        "id": "JjHCjgtHA62I"
      }
    },
    {
      "cell_type": "code",
      "source": [
        "class Sigmoid_model(nn.Module):\n",
        "    def __init__(self):\n",
        "        super().__init__()\n",
        "        self.layer = nn.Sequential(nn.Linear(2, 10), nn.Sigmoid(),\n",
        "                                   nn.Linear(10, 10), nn.Sigmoid(),\n",
        "                                   nn.Linear(10, 10), nn.Sigmoid(),\n",
        "                                   nn.Linear(10, 10), nn.Sigmoid(),\n",
        "                                   nn.Linear(10, 10), nn.Sigmoid(),\n",
        "                                   nn.Linear(10, 10), nn.Sigmoid(),\n",
        "                                   nn.Linear(10, 1), nn.Sigmoid())\n",
        "\n",
        "    def forward(self, x):\n",
        "        x = self.layer(x)\n",
        "        return x"
      ],
      "metadata": {
        "id": "ZqyULKdj_9Ia"
      },
      "execution_count": null,
      "outputs": []
    },
    {
      "cell_type": "code",
      "source": [
        "s_model = Sigmoid_model()\n",
        "print(s_model.parameters)\n",
        "print(s_model.layer[0].weight[0,0])"
      ],
      "metadata": {
        "id": "SXRU7fZeBORp"
      },
      "execution_count": null,
      "outputs": []
    },
    {
      "cell_type": "code",
      "source": [
        "a = s_model.layer[8].weight[3,4].tolist()\n",
        "b = torch.linspace(a-50,a+50,10000)"
      ],
      "metadata": {
        "id": "0V9TZLFOG-4Y"
      },
      "execution_count": null,
      "outputs": []
    },
    {
      "cell_type": "code",
      "source": [
        "Loss = []\n",
        "\n",
        "for i in b:\n",
        "    s_model.layer[8].weight.requires_grad = False\n",
        "    s_model.layer[8].weight[0,0] = i\n",
        "    s_model.layer[8].weight.requires_grad = True\n",
        "    loss = F.binary_cross_entropy(s_model(X[0]), y[0])\n",
        "    Loss.append(round(loss.tolist(), 3))\n"
      ],
      "metadata": {
        "id": "0Bab4UTKH9N2"
      },
      "execution_count": null,
      "outputs": []
    },
    {
      "cell_type": "code",
      "source": [
        "plt.plot(b, Loss)\n",
        "plt.show()"
      ],
      "metadata": {
        "id": "D3PoUOxCIpGR"
      },
      "execution_count": null,
      "outputs": []
    },
    {
      "cell_type": "code",
      "source": [
        "a = s_model.layer[10].weight[0,0].detach().numpy() # detach했지만 여전히 그라디언트 추적중"
      ],
      "metadata": {
        "id": "JM1204XRBgZ7"
      },
      "execution_count": null,
      "outputs": []
    },
    {
      "cell_type": "code",
      "source": [
        "print(s_model.layer[10].weight)"
      ],
      "metadata": {
        "id": "Abugn_WHEX40"
      },
      "execution_count": null,
      "outputs": []
    },
    {
      "cell_type": "code",
      "source": [
        "s_model.layer[10].weight.requires_grad = False\n",
        "s_model.layer[10].weight[0,0] = torch.tensor(3)"
      ],
      "metadata": {
        "id": "TMPmaW3aD_-W"
      },
      "execution_count": null,
      "outputs": []
    },
    {
      "cell_type": "code",
      "source": [
        "s_model.layer[10].weight.requires_grad = True\n",
        "print(s_model.layer[10].weight)"
      ],
      "metadata": {
        "id": "4Ue5896aEt4f"
      },
      "execution_count": null,
      "outputs": []
    }
  ]
}