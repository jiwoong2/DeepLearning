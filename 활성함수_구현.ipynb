{
  "nbformat": 4,
  "nbformat_minor": 0,
  "metadata": {
    "colab": {
      "private_outputs": true,
      "provenance": [],
      "authorship_tag": "ABX9TyNoRE9OW4619vDwOVFvqZy5",
      "include_colab_link": true
    },
    "kernelspec": {
      "name": "python3",
      "display_name": "Python 3"
    },
    "language_info": {
      "name": "python"
    }
  },
  "cells": [
    {
      "cell_type": "markdown",
      "metadata": {
        "id": "view-in-github",
        "colab_type": "text"
      },
      "source": [
        "<a href=\"https://colab.research.google.com/github/jiwoong2/deeplearning/blob/main/%ED%99%9C%EC%84%B1%ED%95%A8%EC%88%98_%EA%B5%AC%ED%98%84.ipynb\" target=\"_parent\"><img src=\"https://colab.research.google.com/assets/colab-badge.svg\" alt=\"Open In Colab\"/></a>"
      ]
    },
    {
      "cell_type": "code",
      "execution_count": null,
      "metadata": {
        "id": "QmKZPoRyrgl2"
      },
      "outputs": [],
      "source": [
        "import numpy as np\n",
        "import matplotlib.pylab as plt # 그래프를 그려보기 위해 추가한다."
      ]
    },
    {
      "cell_type": "markdown",
      "source": [
        "# Heaviside 함수 (step function) 구현"
      ],
      "metadata": {
        "id": "2Dh_-ZUBr9N3"
      }
    },
    {
      "cell_type": "code",
      "source": [
        "# 벡터에 대해서는 적용이 불가능 하다.\n",
        "def step_function_1(x):\n",
        "    if x>0:\n",
        "        return 1\n",
        "    else:\n",
        "        return 0\n",
        "\n",
        "# 벡터도 적용 가능하게 구현한 함수.\n",
        "def step_function(x):\n",
        "    return np.array(x > 0, dtype = int)\n",
        "\n",
        "x = np.array([1,-1,2])\n",
        "print(x>0, type(x>0))\n",
        "\n",
        "step_function(x)"
      ],
      "metadata": {
        "id": "PuQIOA6Hrulz"
      },
      "execution_count": null,
      "outputs": []
    },
    {
      "cell_type": "code",
      "source": [
        "# 설명1\n",
        "X = np.arange(-5.0, 5.0, 0.1)\n",
        "Y = step_function(X)\n",
        "plt.plot(X, Y)\n",
        "plt.ylim(-0.1, 1.2, 1) # Y의 범위\n",
        "plt.show()"
      ],
      "metadata": {
        "id": "trigXlwGzb1t"
      },
      "execution_count": null,
      "outputs": []
    },
    {
      "cell_type": "markdown",
      "source": [
        "설명1: matplotlib은 np.array형의 데이터 X와 Y를 인데스순서로 매핑해 점을 찍고 각 점을 이어주는 식으로 그래프를 그려준다. 그러니까 밑의 sigmoid 함수의 그래프 처럼 곡선처럼 보이는 그래프라도 실제로는 각 점이 직선으로 이어진 그래프 이다.\n"
      ],
      "metadata": {
        "id": "rcQGr3ui02Qc"
      }
    },
    {
      "cell_type": "markdown",
      "source": [
        "# $ \\frac {1}{1 + e^{-x}}$   Sigmoid 함수 구현"
      ],
      "metadata": {
        "id": "r2xT4YdTvkxe"
      }
    },
    {
      "cell_type": "code",
      "source": [
        "def sigmoid(x):\n",
        "    return 1 / (1 + np.exp(-x))  # np.exp(x)는 밑이 자연상수 e 이고 x가 지수인 수를 반환한다.\n",
        "\n",
        "print(sigmoid(2))\n",
        "print(sigmoid(x)) # 위의 Heaviside 함수 구현에서 와 같이 Numpy를 사용하면 벡터도 연산해 준다."
      ],
      "metadata": {
        "id": "VANPh7eHtUXi"
      },
      "execution_count": null,
      "outputs": []
    },
    {
      "cell_type": "code",
      "source": [
        "X = np.arange(-5.0, 5.0, 0.1)\n",
        "Y = sigmoid(X)\n",
        "plt.plot(X, Y)\n",
        "plt.ylim(-0.1, 1.2, 1) # Y의 범위\n",
        "plt.show()"
      ],
      "metadata": {
        "id": "TXm72nPNwfAu"
      },
      "execution_count": null,
      "outputs": []
    },
    {
      "cell_type": "markdown",
      "source": [
        "# Sigmoid함수와 Step Function함수의 그래프 비교"
      ],
      "metadata": {
        "id": "VTYHR_Ir2sl2"
      }
    },
    {
      "cell_type": "code",
      "source": [
        "X = np.arange(-5.0, 5.0, 0.1)\n",
        "Y1 = sigmoid(X)\n",
        "Y2 = step_function(X)\n",
        "plt.plot(X, Y1)\n",
        "plt.plot(X, Y2, 'r--')\n",
        "plt.ylim(-0.1, 1.1) # Y의 범위\n",
        "plt.show()"
      ],
      "metadata": {
        "id": "vDeOhFR02OL9"
      },
      "execution_count": null,
      "outputs": []
    },
    {
      "cell_type": "markdown",
      "source": [
        "# RELU 함수 구현\n",
        "\n",
        "activation function은 뉴련이 그 다음 뉴런을 어떻게 activate하는지를 결정한다. 예로 생물학적 뉴련은 heaviside의 방식으로 activate한다. 인공신경망에서는 학습을 위해 이 acivate function을 미분가능한 연속적인 함수로 대체하는데 그것이 sigmoid함수 이다. 하지만 sigmoid함수를 깊은 신경망에 적용시 문제가 발생하는데 바로 gradient vanishing(기울기 소실) 이다. RELU 함수는 이런 sigmoid 함수의 문제를 해결하기위해 사용된다."
      ],
      "metadata": {
        "id": "a63UUAPwijhZ"
      }
    },
    {
      "cell_type": "code",
      "source": [
        "def relu(x):\n",
        "    return np.maximum(0, x)  # 0과 x 중 더큰 값을 취하게 된다. 결과적으로 x가 음수일때는 0 x가 양수일떄는 x값을 취하게 된다."
      ],
      "metadata": {
        "id": "GUyG5ZjUipny"
      },
      "execution_count": null,
      "outputs": []
    },
    {
      "cell_type": "code",
      "source": [
        "X = np.arange(-5.0, 5.0, 0.1)\n",
        "Y = relu(X)\n",
        "plt.plot(X, Y)\n",
        "plt.ylim(-1.0, 5.5)\n",
        "plt.show()"
      ],
      "metadata": {
        "id": "qYes5yzgkk8J"
      },
      "execution_count": null,
      "outputs": []
    }
  ]
}