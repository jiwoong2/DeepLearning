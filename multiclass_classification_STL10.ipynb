{
  "nbformat": 4,
  "nbformat_minor": 0,
  "metadata": {
    "colab": {
      "private_outputs": true,
      "provenance": [],
      "gpuType": "T4",
      "authorship_tag": "ABX9TyMIicrH/CAWf27E53OUIwrS",
      "include_colab_link": true
    },
    "kernelspec": {
      "name": "python3",
      "display_name": "Python 3"
    },
    "language_info": {
      "name": "python"
    },
    "accelerator": "GPU"
  },
  "cells": [
    {
      "cell_type": "markdown",
      "metadata": {
        "id": "view-in-github",
        "colab_type": "text"
      },
      "source": [
        "<a href=\"https://colab.research.google.com/github/jiwoong2/deeplearning/blob/main/multiclass_classification_STL10.ipynb\" target=\"_parent\"><img src=\"https://colab.research.google.com/assets/colab-badge.svg\" alt=\"Open In Colab\"/></a>"
      ]
    },
    {
      "cell_type": "code",
      "execution_count": null,
      "metadata": {
        "id": "80eAFDF3r8uP"
      },
      "outputs": [],
      "source": [
        "from google.colab import drive\n",
        "drive.mount('/content/drive')\n",
        "import sys\n",
        "sys.path.append(\"/content/drive/MyDrive/Colab Notebooks\")\n",
        "from multiclass_functions import *\n",
        "import torch\n",
        "from torch import nn, optim\n",
        "from torchvision import datasets, transforms\n",
        "import matplotlib.pyplot as plt\n",
        "DEVICE = \"cuda\" if torch.cuda.is_available() else \"cpu\"\n",
        "print(DEVICE)"
      ]
    },
    {
      "cell_type": "code",
      "source": [
        "BATCH_SIZE = 64\n",
        "LR = 2e-3\n",
        "LR_STEP = 3\n",
        "LR_GAMMA = 0.9\n",
        "EPOCH = 10\n",
        "TRAIN_RATIO = 0.8\n",
        "criterion = nn.CrossEntropyLoss()\n",
        "new_model_train = True\n",
        "model_type = \"CNN_deep\"\n",
        "dataset = \"STL10\"\n",
        "save_model_path =f\"/content/drive/MyDrive/Colab Notebooks/results/{model_type}_{dataset}.pt\""
      ],
      "metadata": {
        "id": "qIXeJiJcswH1"
      },
      "execution_count": null,
      "outputs": []
    },
    {
      "cell_type": "code",
      "source": [
        "transform_train = transforms.ToTensor()\n",
        "transform_test = transforms.ToTensor()"
      ],
      "metadata": {
        "id": "V5qWxeN3__U6"
      },
      "execution_count": null,
      "outputs": []
    },
    {
      "cell_type": "code",
      "source": [
        "train_DS = datasets.STL10(root = '/content/drive/MyDrive/Colab Notebooks/data', split = \"train\", download = True, transform = transform_train)\n",
        "NoT = int(len(train_DS)*TRAIN_RATIO)\n",
        "NoV = len(train_DS) - NoT\n",
        "train_DS, val_DS = torch.utils.data.random_split(train_DS, [NoT, NoV])\n",
        "val_DS.trainsfrom = transform_test\n",
        "test_DS = datasets.STL10(root = '/content/drive/MyDrive/Colab Notebooks/data', split = \"test\", download=True, transform=transform_test)\n",
        "\n",
        "train_DL = torch.utils.data.DataLoader(train_DS, batch_size=BATCH_SIZE, shuffle=True)\n",
        "val_DL = torch.utils.data.DataLoader(val_DS, batch_size=BATCH_SIZE, shuffle=True)\n",
        "test_DL = torch.utils.data.DataLoader(test_DS, batch_size=BATCH_SIZE, shuffle=True)\n",
        "\n",
        "train_DL = torch.utils.data.DataLoader(train_DS, batch_size = BATCH_SIZE, shuffle= True)\n",
        "test_DL = torch.utils.data.DataLoader(test_DS, batch_size = BATCH_SIZE, shuffle = True)"
      ],
      "metadata": {
        "id": "5MWFX4zUvuJi"
      },
      "execution_count": null,
      "outputs": []
    },
    {
      "cell_type": "code",
      "source": [
        "# train data 보다 test data가 더 많음. 애초에 train data가 적을때 어떻게할지 연구할 목적으로 만들어진 data set임.\n",
        "print(train_DS)\n",
        "print(test_DS)\n",
        "print(len(train_DS))\n",
        "print(len(test_DS))"
      ],
      "metadata": {
        "id": "Xl9rzz5DEIWE"
      },
      "execution_count": null,
      "outputs": []
    },
    {
      "cell_type": "code",
      "source": [
        "print(test_DS.classes)\n",
        "x_batch, y_batch = next(iter(test_DL))\n",
        "print(x_batch.shape)\n",
        "plt.imshow(x_batch[0].permute(1,2,0))\n",
        "print(test_DS.classes[y_batch[0]])"
      ],
      "metadata": {
        "id": "mwLGVaG7Es4C"
      },
      "execution_count": null,
      "outputs": []
    },
    {
      "cell_type": "code",
      "source": [
        "class CNN_deep(nn.Module):\n",
        "    def __init__(self):\n",
        "        super().__init__()\n",
        "        self.conv_block1 = nn.Sequential(nn.Conv2d(3,32,3,padding=1),\n",
        "                                         nn.BatchNorm2d(32),\n",
        "                                         nn.ReLU(),\n",
        "                                         nn.Conv2d(32,32,3,padding=1),\n",
        "                                         nn.BatchNorm2d(32),\n",
        "                                         nn.ReLU())\n",
        "        self.Maxpool1 = nn.MaxPool2d(2)\n",
        "\n",
        "        self.conv_block2 = nn.Sequential(nn.Conv2d(32,64,3,padding=1),\n",
        "                                         nn.BatchNorm2d(64),\n",
        "                                         nn.ReLU(),\n",
        "                                         nn.Conv2d(64,64,3,padding=1),\n",
        "                                         nn.BatchNorm2d(64),\n",
        "                                         nn.ReLU(),\n",
        "                                         nn.Conv2d(64,64,3,padding=1),\n",
        "                                         nn.BatchNorm2d(64),\n",
        "                                         nn.ReLU())\n",
        "        self.Maxpool2 = nn.MaxPool2d(2)\n",
        "\n",
        "        self.conv_block3 = nn.Sequential(nn.Conv2d(64,128,3,padding=1),\n",
        "                                         nn.BatchNorm2d(128),\n",
        "                                         nn.ReLU(),\n",
        "                                         nn.Conv2d(128,128,3,padding=1),\n",
        "                                         nn.BatchNorm2d(128),\n",
        "                                         nn.ReLU(),\n",
        "                                         nn.Conv2d(128,128,3,padding=1),\n",
        "                                         nn.BatchNorm2d(128),\n",
        "                                         nn.ReLU())\n",
        "        self.Maxpool3 = nn.MaxPool2d(2)\n",
        "\n",
        "        self.classifier = nn.Sequential(nn.Linear(128*12*12,512),\n",
        "                                        nn.ReLU(),\n",
        "                                        nn.Linear(512,10))\n",
        "\n",
        "    def forward(self, x):\n",
        "        x = self.conv_block1(x)\n",
        "        x = self.Maxpool1(x)\n",
        "        x = self.conv_block2(x)\n",
        "        x = self.Maxpool2(x)\n",
        "        x = self.conv_block3(x)\n",
        "        x = self.Maxpool3(x)\n",
        "        x = torch.flatten(x, start_dim=1)\n",
        "        x = self.classifier(x)\n",
        "        return x"
      ],
      "metadata": {
        "id": "c6MfhaT2xuzt"
      },
      "execution_count": null,
      "outputs": []
    },
    {
      "cell_type": "code",
      "source": [
        "exec(f\"model = {model_type}().to(DEVICE)\")\n",
        "print(model)\n",
        "x_batch, _ = next(iter(train_DL))\n",
        "print(model(x_batch.to(DEVICE)).shape)"
      ],
      "metadata": {
        "id": "nVZzsgJny1v_"
      },
      "execution_count": null,
      "outputs": []
    },
    {
      "cell_type": "code",
      "source": [
        "if new_model_train:\n",
        "    optimizer = optim.Adam(model.parameters(), lr=LR)\n",
        "    loss_history = Train(model, train_DL, criterion, optimizer, EPOCH)\n",
        "\n",
        "    torch.save(model, save_model_path)\n",
        "\n",
        "    plt.plot(range(1,EPOCH+1),loss_history)\n",
        "    plt.xlabel('Epoch')\n",
        "    plt.ylabel('loss')\n",
        "    plt.title(\"Train Loss\")\n",
        "    plt.grid()"
      ],
      "metadata": {
        "id": "cZoIXtkpzytS"
      },
      "execution_count": null,
      "outputs": []
    },
    {
      "cell_type": "code",
      "source": [
        "load_model = torch.load(save_model_path, map_location=DEVICE)"
      ],
      "metadata": {
        "id": "RWl4fUNG0hEH"
      },
      "execution_count": null,
      "outputs": []
    },
    {
      "cell_type": "code",
      "source": [
        "Test(load_model, test_DL)\n",
        "print(count_params(load_model))"
      ],
      "metadata": {
        "id": "ZF5JfS_m2TlH"
      },
      "execution_count": null,
      "outputs": []
    },
    {
      "cell_type": "code",
      "source": [
        "Test_plot(load_model, test_DL)"
      ],
      "metadata": {
        "id": "1HlnJDt32d1D"
      },
      "execution_count": null,
      "outputs": []
    }
  ]
}