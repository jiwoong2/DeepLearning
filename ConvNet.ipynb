{
  "nbformat": 4,
  "nbformat_minor": 0,
  "metadata": {
    "colab": {
      "private_outputs": true,
      "provenance": [],
      "mount_file_id": "1l9iVTHnqIr8hD-PKQoccjCspLnzSc6HD",
      "authorship_tag": "ABX9TyPsnExYduQEe09G+JJSGqu9",
      "include_colab_link": true
    },
    "kernelspec": {
      "name": "python3",
      "display_name": "Python 3"
    },
    "language_info": {
      "name": "python"
    }
  },
  "cells": [
    {
      "cell_type": "markdown",
      "metadata": {
        "id": "view-in-github",
        "colab_type": "text"
      },
      "source": [
        "<a href=\"https://colab.research.google.com/github/jiwoong2/deeplearning/blob/main/ConvNet.ipynb\" target=\"_parent\"><img src=\"https://colab.research.google.com/assets/colab-badge.svg\" alt=\"Open In Colab\"/></a>"
      ]
    },
    {
      "cell_type": "code",
      "source": [
        "%cd '/content/drive/MyDrive/Colab/module'\n",
        "!ls"
      ],
      "metadata": {
        "id": "m_IwR-hLRr9I"
      },
      "execution_count": null,
      "outputs": []
    },
    {
      "cell_type": "code",
      "source": [
        "import pickle\n",
        "import numpy as np\n",
        "from collections import OrderedDict\n",
        "import layers\n",
        "import optimizer"
      ],
      "metadata": {
        "id": "H9fTTXjBQqpe"
      },
      "execution_count": null,
      "outputs": []
    },
    {
      "cell_type": "code",
      "source": [
        "class DeepConvNet:\n",
        "    # conv - relu - pool - affine - relu - affine - softmax\n",
        "\n",
        "    def __init__(self, input_dim = (1, 28, 28),\n",
        "                 conv_param = {'filter_num':30, 'filter_size':5, 'pad':0, 'stride': 1},\n",
        "                 hidden_size = 100, output_size = 10, weight_init_std = 0.01):\n",
        "\n",
        "        filter_num = conv_param['filter_num']\n",
        "        filter_size = conv_param['filter_size']\n",
        "        filter_pad = conv_param['pad']\n",
        "        filter_stride = conv_param['stride']\n",
        "        input_size = input_dim[1]\n",
        "        conv_output_size = (input_size - filter_size + 2*filter_pad) / filter_stride + 1 # height, width를 따로 계산해야하지만 정사각이미지라서 하나만 계산.\n",
        "        pool_output_size = int(filter_num * (conv_output_size/2) * (conv_output_size/2))"
      ],
      "metadata": {
        "id": "nn44Qi2AR_Cd"
      },
      "execution_count": null,
      "outputs": []
    },
    {
      "cell_type": "code",
      "source": [
        "input_dim = (1, 28, 26)\n",
        "input_dim[1]"
      ],
      "metadata": {
        "id": "wmgMEqw5Vu23"
      },
      "execution_count": null,
      "outputs": []
    }
  ]
}