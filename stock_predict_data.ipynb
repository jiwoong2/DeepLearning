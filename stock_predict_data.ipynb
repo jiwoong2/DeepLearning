{
  "nbformat": 4,
  "nbformat_minor": 0,
  "metadata": {
    "colab": {
      "private_outputs": true,
      "provenance": [],
      "mount_file_id": "1y0ekygRdH6R5t2upkEwRKXjdw4QIZHYr",
      "authorship_tag": "ABX9TyMFmfKK+PkJxeSjyVoFq7ui",
      "include_colab_link": true
    },
    "kernelspec": {
      "name": "python3",
      "display_name": "Python 3"
    },
    "language_info": {
      "name": "python"
    }
  },
  "cells": [
    {
      "cell_type": "markdown",
      "metadata": {
        "id": "view-in-github",
        "colab_type": "text"
      },
      "source": [
        "<a href=\"https://colab.research.google.com/github/jiwoong2/deeplearning/blob/main/stock_predict_data.ipynb\" target=\"_parent\"><img src=\"https://colab.research.google.com/assets/colab-badge.svg\" alt=\"Open In Colab\"/></a>"
      ]
    },
    {
      "cell_type": "code",
      "execution_count": null,
      "metadata": {
        "id": "hzTwXQVRXB1l"
      },
      "outputs": [],
      "source": [
        "import pandas as pd\n",
        "# from google.colab import drive\n",
        "# drive.mount('/content/drive')\n",
        "from sklearn.preprocessing import StandardScaler\n",
        "import numpy as np\n",
        "import torch\n",
        "from torch import nn"
      ]
    },
    {
      "cell_type": "code",
      "source": [
        "# 데이터 불러오기\n",
        "data = pd.read_csv('/content/drive/MyDrive/Colab Notebooks/data/Microsoft_Stock.csv')"
      ],
      "metadata": {
        "id": "VV7wMv2fXX_r"
      },
      "execution_count": null,
      "outputs": []
    },
    {
      "cell_type": "code",
      "source": [
        "# 날짜데이터 누락\n",
        "data.drop('Date', axis=1, inplace=True)"
      ],
      "metadata": {
        "id": "G73Y5akEXewJ"
      },
      "execution_count": null,
      "outputs": []
    },
    {
      "cell_type": "code",
      "source": [
        "data"
      ],
      "metadata": {
        "id": "NAm1TvpTukW0"
      },
      "execution_count": null,
      "outputs": []
    },
    {
      "cell_type": "code",
      "source": [
        "n_data = data.to_numpy()\n",
        "n_data.shape"
      ],
      "metadata": {
        "id": "YZJctHQcw_Np"
      },
      "execution_count": null,
      "outputs": []
    },
    {
      "cell_type": "code",
      "source": [
        "# # 데이터 표준화\n",
        "# # 지수적으로 증가하는 주가데이터 특성상 전체를 한번에 표준화할 경우 초기데이터의 와 후기데이터의 scale차 발생.\n",
        "# scaler = StandardScaler()\n",
        "\n",
        "# std_data = scaler.fit_transform(data) # numpy 배열로 반환함."
      ],
      "metadata": {
        "id": "_ruYOkN5Xjpx"
      },
      "execution_count": null,
      "outputs": []
    },
    {
      "cell_type": "code",
      "source": [
        "# 1부터 10 사이의 정수 중에서 중복 없이 랜덤하게 5개 추출\n",
        "s = np.random.choice(range(0, 1511-81), size=30, replace=False)\n",
        "\n",
        "print(s)"
      ],
      "metadata": {
        "id": "2gTaeGfrvbAa"
      },
      "execution_count": null,
      "outputs": []
    },
    {
      "cell_type": "code",
      "source": [
        "def data_gen(Size:int):\n",
        "\n",
        "    s = np.random.choice(range(0, 1511-81), size=Size, replace=False)\n",
        "    s = np.array(s)\n",
        "\n",
        "    short_term_data = []\n",
        "    short_term_label = []\n",
        "\n",
        "    for i in s:\n",
        "        s_data = n_data[i:i+30, :]\n",
        "        short_term_data.append(s_data)\n",
        "\n",
        "        label = (n_data[i+51,2] - n_data[i+31,2]) / n_data[i+31,2] * 100\n",
        "\n",
        "        if label >= 10:\n",
        "            short_term_label.append(3)\n",
        "\n",
        "        elif 0 <= label < 10:\n",
        "            short_term_label.append(2)\n",
        "\n",
        "        elif -10 < label < 0:\n",
        "            short_term_label.append(1)\n",
        "\n",
        "        elif label <= -10:\n",
        "            short_term_label.append(0)\n",
        "\n",
        "    short_term_data = np.array(short_term_data)\n",
        "    short_term_label = np.array(short_term_label)\n",
        "\n",
        "    return short_term_data, short_term_label\n",
        "\n",
        "short_term_data, short_term_label = data_gen(60)"
      ],
      "metadata": {
        "id": "Fup9l2Tc-43v"
      },
      "execution_count": null,
      "outputs": []
    },
    {
      "cell_type": "code",
      "source": [
        "short_term_data.shape"
      ],
      "metadata": {
        "id": "D_UueEV1DtJm"
      },
      "execution_count": null,
      "outputs": []
    },
    {
      "cell_type": "code",
      "source": [
        "short_term_label.shape"
      ],
      "metadata": {
        "id": "Io0wclxODwn7"
      },
      "execution_count": null,
      "outputs": []
    },
    {
      "cell_type": "code",
      "source": [
        "class RNN(nn.Module):\n",
        "    def __init__(self):\n",
        "        super().__init__()\n",
        "\n",
        "        self.rnn = nn.RNN(5,30,3,batch_first = True)\n",
        "        self.linear = nn.Linear(30,4)\n",
        "\n",
        "    def forward(self, x):\n",
        "        _, x = self.rnn(x)\n",
        "        x = x[-1,:,:]\n",
        "        # x = x.squeeze(0)\n",
        "        x = self.linear(x)\n",
        "        return x\n",
        "\n",
        "model = RNN()"
      ],
      "metadata": {
        "id": "hbedXMO7CZqt"
      },
      "execution_count": null,
      "outputs": []
    },
    {
      "cell_type": "code",
      "source": [
        "model.state_dict"
      ],
      "metadata": {
        "id": "aWFZ0ImACi8F"
      },
      "execution_count": null,
      "outputs": []
    },
    {
      "cell_type": "code",
      "source": [
        "from torchsummary import summary\n",
        "from contextlib import redirect_stdout\n",
        "\n",
        "model = RNN()\n",
        "\n",
        "# 요약된 모델 아키텍처를 직접 파일에 리디렉션합니다.\n",
        "with open('/content/drive/MyDrive/Colab Notebooks/graph/model_summary.txt', 'w') as f:\n",
        "    with redirect_stdout(f):\n",
        "        summary(model, (30, 5))\n",
        "\n",
        "print(\"모델 아키텍처가 'model_summary.txt' 파일에 저장되었습니다.\")"
      ],
      "metadata": {
        "id": "Oy990WUzDgdw"
      },
      "execution_count": null,
      "outputs": []
    },
    {
      "cell_type": "code",
      "source": [
        "import os\n",
        "from torchsummary import summary\n",
        "from contextlib import redirect_stdout\n",
        "\n",
        "model = RNN()\n",
        "\n",
        "# 새 폴더 생성 경로 설정\n",
        "folder_path = '/content/drive/MyDrive/Colab Notebooks/graph/new_folder'\n",
        "if not os.path.exists(folder_path):\n",
        "    os.makedirs(folder_path)\n",
        "\n",
        "# 파일 저장 경로 설정\n",
        "file_path = os.path.join(folder_path, 'model_summary.txt')\n",
        "\n",
        "# 요약된 모델 아키텍처를 직접 파일에 리디렉션합니다.\n",
        "with open(file_path, 'w') as f:\n",
        "    with redirect_stdout(f):\n",
        "        summary(model, (30, 5))\n",
        "\n",
        "print(f\"모델 아키텍처가 '{file_path}' 파일에 저장되었습니다.\")\n"
      ],
      "metadata": {
        "id": "lOiW-3xHJk3t"
      },
      "execution_count": null,
      "outputs": []
    },
    {
      "cell_type": "code",
      "source": [
        "short_term_label2 = []\n",
        "for i in short_term_label:\n",
        "if i >= 10:\n",
        "    short_term_label2.append(3)\n",
        "\n",
        "elif 0 <= i < 10:\n",
        "    short_term_label2.append(2)\n",
        "\n",
        "elif -10 < i < 0:\n",
        "    short_term_label2.append(1)\n",
        "\n",
        "elif i <= -10:\n",
        "    short_term_label2.append(0)"
      ],
      "metadata": {
        "id": "un9eW89k6xem"
      },
      "execution_count": null,
      "outputs": []
    },
    {
      "cell_type": "code",
      "source": [
        "short_term_data[:]"
      ],
      "metadata": {
        "id": "vG97lklz2FSt"
      },
      "execution_count": null,
      "outputs": []
    },
    {
      "cell_type": "code",
      "source": [
        "# term3_data\n",
        "# 연속된 3개의 data를 묶어서 다시 구성.\n",
        "term3_data = []\n",
        "term3_label = []\n",
        "\n",
        "label = data['Close'].to_numpy() # label은 마지막날종가와 다음날종가의 증가율로.\n",
        "\n",
        "for i in range(len(std_data)-2):\n",
        "\n",
        "    d = np.hstack([std_data[i,:], std_data[i+1,:], std_data[i+2,:]])\n",
        "    l = (label[i+2]-label[i+1])/label[i+1]*100\n",
        "\n",
        "    term3_data.append(d)\n",
        "    term3_label.append(l)\n",
        "\n",
        "term3_data = torch.tensor(term3_data).float()    # double형은 모델훈련시 가중치와 data형이 맞지 않으므로\n",
        "term3_label = torch.tensor(term3_label).float()  # float형으로 변환한다.\n",
        "\n",
        "print(term3_data.shape)\n",
        "print(term3_label.shape)\n",
        "print(term3_data[0])\n",
        "print(term3_label[0])"
      ],
      "metadata": {
        "id": "ZlcSwPiAYSDa"
      },
      "execution_count": null,
      "outputs": []
    },
    {
      "cell_type": "code",
      "source": [
        "!pip install yfinance"
      ],
      "metadata": {
        "id": "gzNik5-TMN1K"
      },
      "execution_count": null,
      "outputs": []
    },
    {
      "cell_type": "code",
      "source": [
        "import yfinance as yf"
      ],
      "metadata": {
        "id": "sAxwWn4QMNaN"
      },
      "execution_count": null,
      "outputs": []
    },
    {
      "cell_type": "code",
      "source": [
        "apple = yf.Ticker(\"AAPL\")\n",
        "hist = apple.history(period=\"10y\")\n",
        "hist = hist.reset_index()\n",
        "hist"
      ],
      "metadata": {
        "id": "DFBA70WOMTZL"
      },
      "execution_count": null,
      "outputs": []
    },
    {
      "cell_type": "code",
      "source": [
        "# hist[hist['Stock Splits'] != 0].index #주식분할에 의한 주가변동은 플랫폼에서 연속성을 유지하기위해 보정하기때문에 따로 전처리할 필요없음."
      ],
      "metadata": {
        "id": "GgBEmhMqOoTv"
      },
      "execution_count": null,
      "outputs": []
    },
    {
      "cell_type": "code",
      "source": [
        "hist.drop(['Date','Dividends','Stock Splits'], axis=1, inplace=True)\n",
        "hist"
      ],
      "metadata": {
        "id": "5X1JDAzsSsN3"
      },
      "execution_count": null,
      "outputs": []
    },
    {
      "cell_type": "code",
      "source": [],
      "metadata": {
        "id": "CPDrffV5UMmW"
      },
      "execution_count": null,
      "outputs": []
    }
  ]
}