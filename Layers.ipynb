{
  "nbformat": 4,
  "nbformat_minor": 0,
  "metadata": {
    "colab": {
      "private_outputs": true,
      "provenance": [],
      "collapsed_sections": [
        "sj4WXKUl0qWM",
        "uv92Sclmfmfc",
        "9jYP-eyoWzLF"
      ],
      "authorship_tag": "ABX9TyMi/OqdS6PwoNV4jbO2EOIz",
      "include_colab_link": true
    },
    "kernelspec": {
      "name": "python3",
      "display_name": "Python 3"
    },
    "language_info": {
      "name": "python"
    }
  },
  "cells": [
    {
      "cell_type": "markdown",
      "metadata": {
        "id": "view-in-github",
        "colab_type": "text"
      },
      "source": [
        "<a href=\"https://colab.research.google.com/github/jiwoong2/deeplearning/blob/main/Layers.ipynb\" target=\"_parent\"><img src=\"https://colab.research.google.com/assets/colab-badge.svg\" alt=\"Open In Colab\"/></a>"
      ]
    },
    {
      "cell_type": "code",
      "source": [
        "import numpy as np\n",
        "import matplotlib.pyplot as plt"
      ],
      "metadata": {
        "id": "4p5z0WWbNpG1"
      },
      "execution_count": null,
      "outputs": []
    },
    {
      "cell_type": "markdown",
      "source": [
        "# Affine layer"
      ],
      "metadata": {
        "id": "sj4WXKUl0qWM"
      }
    },
    {
      "cell_type": "markdown",
      "source": [
        "Affine층은 fully-connected layer, dense layer이라고도 불리며 입력된 벡터에 가중치 행렬(weight matrix)를 곱하고 편향(bias)를 더하는 연산을 수행한다. 딥러닝 모델이 역전파(back propagation)을 통해 학습을 진행하면 각 가중치와 편향은 손실함수(loss function)을 최소화하는 최적값을 찾아가게 된다.\n",
        "\\\n",
        "\\\n",
        "\\\n",
        "Forward\n",
        "\n",
        "$Y = XW +B$\n",
        "\n",
        "$ \\begin{pmatrix} y_{1} & y_{2} & y_{3} \\\\ \\vdots & \\vdots & \\vdots \\end{pmatrix} = \\begin{pmatrix} x_{1} & x_{2} \\\\ \\vdots & \\vdots \\end{pmatrix} \\begin{pmatrix} w_{11} & w_{12} & w_{13} \\\\ w_{21} & w_{22} & w_{23} \\end{pmatrix}  + \\begin{pmatrix} b_{1} & b_{2} & b_{3} \\\\ \\vdots & \\vdots & \\vdots \\end{pmatrix} $\n",
        "\n",
        "여기서 입력값 X는 2차원 벡터이고 출력값 Y은 3차원벡터이며 위의 수식은 입력값 X의 배치처리를 고려해 확장한 수식이다. 확장된 X행렬은 각행이 배치된 입력값이며 확장된 B행렬은 편향벡터를 배치 수 만큼 각 행에 반복한 행렬이다.(Broadcasting)\n",
        "\\\n",
        "\\\n",
        "\\\n",
        "Backward\n",
        "\n",
        "Affine층의 계산그래프는 X와 W의 행렬곱, 그 결과값과 B의 덧셈으로 이루어진다. 주의할 점은 배치처리시 B의 덧셈연산 이전에 Repeat연산(편향벡터를 배치 수 만큼 각행에 반복하는 것)이 추가로 진행된다는 점 이다.\n",
        "\\\n",
        "\\\n",
        "\\\n",
        "1.덧셈노드의 역전파\n",
        "\n",
        "흘러들어온 미분이 $\\frac{\\partial L}{\\partial Y}$ 일때 $Y = XW + B$임을 생각해 L에 대한 XW와 B에대한 편미분을 각각 구하면,\n",
        "\n",
        "$\\frac{\\partial L}{\\partial WX} = \\frac{\\partial L}{\\partial Y} \\frac{\\partial Y}{\\partial WX}$ 이므로 $\\frac{\\partial L}{\\partial WX} = \\frac{\\partial L}{\\partial Y} * 1$ 이 되고,\n",
        "\n",
        "$\\frac{\\partial L}{\\partial B} = \\frac{\\partial L}{\\partial Y} \\frac{\\partial Y}{\\partial B}$ 이므로 $\\frac{\\partial L}{\\partial B} = \\frac{\\partial L}{\\partial Y} * 1$ 이 된다.\n",
        "\\\n",
        "\\\n",
        "\\\n",
        "2.행렬곱노드의 역전파\n",
        "\n",
        "행렬곱노드의 역전파를 이해하기 위해 다음과같은 행렬곱함수 f을 생각한다.\n",
        "\n",
        "$ \\begin{pmatrix} x_1 & x_2 \\\\ x_3 & x_4 \\end{pmatrix} \\begin{pmatrix} w_{1} & w_{2} \\\\ w_{3} & w_{4} \\end{pmatrix} = \\begin{pmatrix} x_1 w_{1} + x_2 w_{3} & x_1 w_{2} + x_2 w_{4} \\\\ x_3 w_{1} + x_4 w_{3} & x_3 w_{2} + x_3 w_{4} \\end{pmatrix} = \\begin{pmatrix} y_1 & y_2 \\\\ y_3 & y_4 \\end{pmatrix} $\n",
        "\n",
        "여기서 $ \\begin{pmatrix} y_1 & y_2 \\\\ y_3 & y_4 \\end{pmatrix} $ 가 손실함수 L에 입력되 최종적으로 스칼라로 반환된다는점을 생각하면 $dL$ 다변수함수의 미분법에 의해\n",
        "\n",
        "$ dL = \\frac{\\partial L}{\\partial y_1} dy_1 + \\frac{\\partial L}{\\partial y_2} dy_2 + \\frac{\\partial L}{\\partial y_3} dy_3 + \\frac{\\partial L}{\\partial y_4} dy_4$ 로 표현할수 있고, 각각의 $dy_i$들은 다시 $x_i와 w_i$들의 다변수함수 미분법으로 표혈할 수 있을 것이다. 여기서 수식을 줄이기위해 $x_1$에 대한 역전파만 살펴보면 x1의 변화에 대한 각 y원소들의 변화는\n",
        "\n",
        "$dy_1 = w1,$ $dy_2 = w2,$ $dy_3 = 0,$ $dy_4 = 0$이 된다. 이것을 다시쓰면\n",
        "\n",
        "$ \\frac{\\partial L}{\\partial x_1} = \\frac{\\partial L}{\\partial y_1} w_1 + \\frac{\\partial L}{\\partial y_2} w_2 $ 로 표현된다. 이방법으로 손실함수 L에 대한 각 X원소들의 편미분을 구해 표시하면(여기서 X는 $x_i$들을 모아놓은 행렬),\n",
        "\n",
        "$\\frac{\\partial L}{\\partial X} = \\begin{pmatrix} \\frac{\\partial L}{\\partial x_1} & \\frac{\\partial L}{\\partial x_2} \\\\ \\frac{\\partial L}{\\partial x_3} & \\frac{\\partial L}{\\partial x_4} \\end{pmatrix} = \\begin{pmatrix} \\frac{\\partial L}{\\partial y_1} w_1 + \\frac{\\partial L}{\\partial y_2} w_2 & \\frac{\\partial L}{\\partial y_1} w_3 + \\frac{\\partial L}{\\partial y_2} w_4 \\\\ \\frac{\\partial L}{\\partial y_3} w_1 + \\frac{\\partial L}{\\partial y_4} w_2 & \\frac{\\partial L}{\\partial y_3} w_3 + \\frac{\\partial L}{\\partial y_4} w_4 \\end{pmatrix} = \\begin{pmatrix} \\frac{\\partial L}{\\partial y_1} & \\frac{\\partial L}{\\partial y_2} \\\\ \\frac{\\partial L}{\\partial y_3} & \\frac{\\partial L}{\\partial y_4} \\end{pmatrix}  \\begin{pmatrix} w_{1} & w_{3} \\\\ w_{2} & w_{4} \\end{pmatrix} = \\frac{\\partial L}{\\partial Y} W^T$\n",
        "\n",
        "으로 표시할 수 있다.\n",
        "\n",
        "같은 방법으로 행렬 L에대한 행렬 W의 편미분을 표시하면\n",
        "\n",
        "$X^T  \\frac{\\partial L}{\\partial Y}$로 표시할 수 있다.\n",
        "\\\n",
        "\\\n",
        "\\\n",
        "\\\n",
        "3.repeat노드의 역전파\n",
        "\n",
        "repeat노드는 위의 행렬곱노드의 한 형태로 표현 가능하다. 예를들어 $(x_1, x_2)$를 3번 반복하는 repeat노드는 $(1, 1, 1)^T (x_1, x_2)$ 형태의 행렬곱으로도 표현 가능하다. 이를 이용해 위의 행렬곱노드의 역전파 과정을 진행하면 repeat노드의 역전파를 구할 수 있다."
      ],
      "metadata": {
        "id": "nRf_JDv41gnS"
      }
    },
    {
      "cell_type": "code",
      "execution_count": null,
      "metadata": {
        "id": "vch9MBTy0RSn"
      },
      "outputs": [],
      "source": [
        "class Affine:\n",
        "    def __init__(self, W, b):\n",
        "        self.W = W # 가중치 행렬\n",
        "        self.b = b # bias 벡터\n",
        "\n",
        "        # 입력된 data 초기화\n",
        "        self.x = None\n",
        "        self.original_x_shape = None\n",
        "        # 가중치와 bias 미분\n",
        "        self.dW = None\n",
        "        self.db = None\n",
        "\n",
        "    def forward(self, x):\n",
        "        # 텐서 대응\n",
        "        self.original_x_shape = x.shape\n",
        "        x = x.reshape(x.shape[0], -1) # 4차원 텐서를 행렬로 변환. -1을 입력하면 reshape 가능한 숫자를 알아서 대입한다.\n",
        "        self.x = x\n",
        "\n",
        "        out = np.dot(self.x, self.W) + self.b # affine 변환. bias의 경우 배치처리를 할경우 행렬뎃섬에서 shape이 맞지 않는데 numpy에서 자동으로 벡터를 복사해 각 열에 더하게 된다.\n",
        "\n",
        "        return out\n",
        "\n",
        "    def backward(self, dout): # dout:흘러들어온 미분\n",
        "        dx = np.dot(dout, self.W.T) # data방향 역전파.\n",
        "        self.dW = np.dot(self.x.T, dout) # weight matrix 방향 역전파.\n",
        "        self.db = np.sum(dout, axis=0) # bias 방향 역전파. 행렬의 경우 axis 0: 행, 1: 열. 텐서의 경우 axis 0: 각 행렬, 1: 각 행렬의 행, 2: 각 행렬의 열\n",
        "\n",
        "        dx =dx.reshape(*self.original_x_shape) # 입력데이터. *은 ()와 ,를 없에주지만 없어도 되는 것 같음.\n",
        "\n",
        "        return dx # 데이터방향으로 미분값을 흘려보내야 다음 노드에서 값을 받아 역전파를 수행할 수 있음."
      ]
    },
    {
      "cell_type": "markdown",
      "source": [
        "# Sigmoid layer"
      ],
      "metadata": {
        "id": "uv92Sclmfmfc"
      }
    },
    {
      "cell_type": "markdown",
      "source": [
        "Sigmoid layer는 affine layer를 통과한 데이터에 활성화함수(activation function) 중 하나인 sigmoid함수를 적용한다. 활성화함수를 적용하는 이유는 출력값을 비선형적으로 만들어줌으로써 은닉층을 쌓아 깊은 신경망을 구성하기 위해서이다. 선형적인 출력을 내보내는 레이어를 아무리 쌓아도 결국 하나의 레이어로 표현할 수 있기 때문에 활성화함수 없이는 깊은신경망을 구성할 수 없다.\n",
        "\\\n",
        "\\\n",
        "\\\n",
        "foreward\n",
        "\n",
        "$f(x) = \\frac{1}{1+e^{-x}}$\n",
        "\\\n",
        "\\\n",
        "\\\n",
        "backward\n",
        "\n",
        "시그모이드함수의 역전파는 고전적인 미분계산시 매우간단한 수식으로 표현가능하다.\n",
        "\n",
        "$f(x) = \\frac{1}{1+e^{-x}}$ 이고,\n",
        "\n",
        "$t = 1+e^{-x}$ 일때\n",
        "\n",
        "$ \\frac{df}{dx} = \\frac{df}{dt} \\frac{dt}{dx}$ 이고,\n",
        "\n",
        "$\\frac{df}{dt} = -t^{-2}, \\frac{dt}{dx} = -e^{-x} 이므로$\n",
        "\n",
        "$ \\frac{df}{dx} = \\frac{df}{dt} \\frac{dt}{dx} = (-t^{-2})(-e^{-x}) = \\frac{e^{-x}}{(1+e^{-x})^2} = \\frac{1+e^{-x}-1}{(1+e^{-x})^2} = \\frac{1}{1-e^{-x}}-\\frac{1}{(1-e^{-x})^2} $\n",
        "\n",
        "이므로 시그모이드함수 f(x)의 결과값을 y로 치환했을때 시그모이드함수의 미분은\n",
        "\n",
        "$y(1-y)$으로 표현 가능하다.\n",
        "\\\n",
        "\\\n",
        "다시 흘러들어온 미분이 $\\frac{\\partial L}{\\partial f}$일때 연쇄법칙에 의한 시그모이드 함수의 역전파는\n",
        "\n",
        "$\\frac{\\partial L}{\\partial x} = \\frac{\\partial L}{\\partial f} \\frac{\\partial f}{\\partial x} = \\frac{\\partial L}{\\partial f}y(1-y)$로 나타낼 수 있다.\n"
      ],
      "metadata": {
        "id": "5aGPs7xofuM7"
      }
    },
    {
      "cell_type": "code",
      "source": [
        "class Sigmoid:\n",
        "    def __init__(self):\n",
        "        self.out = None\n",
        "\n",
        "    def forward(self, x):\n",
        "        out = 1 / (1 + np.exp(-x)) # 시그모이드 함수를 그대로 표현.\n",
        "        self.out = out\n",
        "        return out\n",
        "\n",
        "    def backward(self, dout):\n",
        "        dx = dout * (1.0 - self.out) * self.out # 위의 결과를 그대로 표현.\n",
        "        return dx"
      ],
      "metadata": {
        "id": "vGhToAjRft1-"
      },
      "execution_count": null,
      "outputs": []
    },
    {
      "cell_type": "markdown",
      "source": [
        "시그모이드 함수의 기울기 소멸(vanashing gradient) 문제\n",
        "\n",
        "활성화 함수를 사용한다고 깊은 신경망을 구성하는데 발생하는 모든 문제점을 해결할 수 있는 것은 아니다. 특히 시그모이드함수로 깊은 신경망을 구성하면 vanashing gradient라는 심각한 문제가 발생한다.\n",
        "\n",
        "밑의 두번째 그래프는 시그모이드함수의 기울기를 나타낸다. 살펴보면 최댓값이 0.25에 불과하고 x값이 작아지거나 커지면 급격히 0으로 수렴하는것을 알 수 있다. 이런 시그모이드함수의 특성때문에 층이 깊어질수록 체인룰에의해 시그모이드함수의 미분값이 계속해서 곱해지게되고 결과적으로 그값은 급격히 작아져 모델 학습이 불가능하게 되는데 이를 gradient vanashing이라고 한다."
      ],
      "metadata": {
        "id": "ohaAMjtjYtm2"
      }
    },
    {
      "cell_type": "markdown",
      "source": [
        "![image.png](data:image/png;base64,iVBORw0KGgoAAAANSUhEUgAAAiMAAAGzCAIAAAByxoA4AAAgAElEQVR4AexdCXgURfZvriSgkOCiCOxSAoII/Bc8GC8EFRVXXHBdj11WiKvCouAqLljhDMgRkFMIiMipAgGEcFTCTbgSCCAhCSTcgSTkgEAuQhIyM/3/Jo3tMJl50zPTXVMzXfn2W7urX733e796jzfTU4cg8j/OAGeAM8AZ4AxoyYCgpXKumzPAGeAMcAY4AyKvNDwIOAOcAc4AZ0BbBnil0ZZfrp0zwBngDHAGeKXhMcAZ4AxwBjgD2jLAK422/HLtnAHOAGeAM8ArDY8BzgBngDPAGdCWAV5ptOWXa+cMcAY4A5wBXml4DHAGOAOcAc6AtgzwSqMtv1w7Z4AzwBngDPBKQykGQkNDEUKUjN1tJiMjQxCEZcuW3d38+11NbJmZmYGBgQcPHvxdyPHVU089NWLECMfP+RO9MBAeHi4ILvyTsmzZMkEQMjIy1CUIIRQaGqquToXanHpUE9uaNWsaN25cWlrq1ERBQUGDBg1iYmKcSjIo4EJYMIjehyDV/NecGng3Ks3HH3/cvXt3hQg3bNjQoEGD3NxchfJczF8ZsFtp5s6d26hRo9u3b9f02um/yzW7KGmp+a+5kl6qyDj1yAab0Whs3779uHHjFFr/73//+/jjjysUZkqMVxpKw3H79u2KigpKxu42Yzaby8vLjUbj3c2/39lUwatXr9arV2/VqlW/S4BXJpPpwQcfHDt2LCjFH/o/A3YrTa9evd5++227zjv9d9luL6eNFRUVdgub046eCxiNxvLycrPZ7EiVTaWJjo6uVatWdna2I3mb9rS0NEEQdu/ebdPO/i2vNOyPkeYIbSrNrFmz6tevr+TrvIxs6NChCCEgwWRJfuHHDNSsNGVlZUFBQY7e3GpUaVhm2KbS9OnTp1u3bi4B7tSpU//+/V3qwoIwrzQqj0JJScnnn3+OEAoICLj//vtffvnlX3/9VRRFm3/NCwoK3n///YYNGwYHBw8YMODEiRPWP6WEhobec889ly9f7t279z333NO8efPIyEhRFFNSUl588cUGDRq0bNly5cqV1tAvXLjw9ttvN27cuH79+k899RQhRH5a8+1ZdHR0x44dAwMDO3bsuGHDBhts3bt3f+GFF+TuaWlpQUFB1sF94MCB2rVrf/XVV7LMpk2bBEE4fvy43MIv9MDAgQMHnnzyycDAwNatWy9cuLBmpdm8eXOtWrXy8vIkNk6ePPniiy8GBQW1aNFi4sSJS5YskX+n2b17d61atay/Ga9cuVIQhAULFthl8uzZs2+99VbTpk0DAwNbtGjx3nvvFRUVSZI2/5onJyd3795dNrp06VLZqCiKCKHevXvHxcU98cQTQUFBnTp1iouLE0Vx/fr1nTp1CgwMfPzxx20Ce/fu3d26dWvQoEFwcHCfPn3S0tJkhDa102w2T5w4sUWLFvXr13/hhRdOnjxpja28vDwgIGD8+PFydwnbkiVL5JbJkycLgmD928ywYcNCQkJ87lMdrzTymKpz0a9fv4CAgC+//HLx4sXTpk3761//+vPPP9tUGpPJ9Mwzz9SpU2fo0KGRkZGvvPJK586dbSpNUFBQhw4dBg8ePH/+/GeffVZ62rx58xEjRsybN69jx4516tS5ePGiBDovL69p06YNGzYcPXr0rFmzOnfuXLt27Q0bNkhPbSrN9u3ba9eu3alTp1mzZo0ePTo4OLhjx47ybIXbt2/Xr1//yy+/tKZj+vTpgiBs2rRJFMWbN2+2adOmQ4cO1i8Ds7OzBUGYN2+edS9+7d8MpKSk1K9fv2XLlhERERMnTmzatOmf//xnmxkBgwcPfvLJJyUecnNz77///saNG48fP3769Olt27aV5OUZAUOGDKlbt670ySwnJ+e+++57+eWX7f6TWllZ2apVq+bNm0+aNGnx4sUTJkzo2rXrpUuXJEPW/5pnZ2ffd999f/jDHyZMmDBjxoz27dtLuSYbRQg98sgjzZo1Gz9+/OzZs1u0aHHvvff+/PPPLVu2nFr9Fxwc/PDDD5tMJkn5zp0769at265du2+++WbChAlNmjRp3LixrM2m0owZM0YQhNdffz0yMvLDDz9s3rx5kyZN5NkKBw8eFARh8+bN1nHyxhtvBAcHZ2ZmSp8sAwICPvroI2uBn3/+WRCE1NRU60b2r3mlUXmMgoODhwwZUlOp9feG9evXC4IwZ84cScxkMr300ks2lUYQhClTpkgChYWF9evXr1WrVlRUlNRy+vRpQRDCw8Ol2y+++EIQhAMHDki3paWlrVq1euihh6T0sKk0Xbp0adasmfwBcMeOHYIgyJXm/PnzNWuGyWTq1q1b06ZNCwoKpH8Ojh49KtmS/z8gIOCTTz6Rb/mF3zPw5ptvBgUFXb58WfI0LS2tTp06NpWmZcuWNlGamJgoyV+9ejU4ONj660VZWdnDDz/csWPHioqK3r17N2rUSFZuQ2ZSUpIgCOvWrbNpl26tK81nn31Wq1atpKQk6dH169fvu+8+a6MIIUEQEhISJIHt27cLglC/fn3Z9Pfffy8IgvRFRxTFLl26PPDAA9evX5fkk5OTa9euPWDAAOnWutJcvXo1ICCgd+/ecrEcNWqUIAhypVm8eHHNmpGbm3vfffe98sorlZWVjz32WMuWLYuLiyXl0v8nJCQIgrBmzRrrRvaveaVReYwQQk8++eSVK1ds9FpXmoEDB9arV6+srEyWkWqP/Do7NDRUEISrV6/KAl26dLn33nvlkBVFMSQkRH6j1a5dO4PBIAuLohgRESEHsXWlycnJEQQhLCzMWrhDhw5ypUlMTBQEQfoeZi1z/vz5e+65p2vXrjavOGSZpk2bvvPOO/Itv/BvBoxGY/369f/xj39Yu/n6669bV5rU1FRBEI4cOSLJtGvX7umnn7aW//TTT63/0RdF8eDBg7Vr1zYYDIIgWL9Esu4liuLFixcFQfj444+tk0iWsa40bdu2ffbZZ+VHoih+9tln1kYRQh06dJAFioqKBEHo3bu33CK92ZbASOlj/d5YFMVevXo1adJEkreuNKtWrRIEYdu2bbKqq1evWleaadOmCYJQczrA6tWrBUEwGAy1atXatWuX3F26SE9PFwRh/vz5Nu2M3/JKo/IArVmzJigoqHbt2l27dg0PD79w4YJkwLrSvPrqqy1btrQ2nJycbPOdJigoyFqgR48e7du3t25BCL3xxhtSS2BgoFx1pJaNGzcKgiD9WmNdaQ4dOlQzh//2t7/ZVJqffvrJ2pZ0Lb1D69Spk92JPQ888MC7775bsxdv8UsGcnNzBUGw/llFFMVhw4ZZV5qpU6c2bdpU/nhUM0q//fZb63/0JaKGDBkiCEKvXr1g3r788kvpy8err74aGRkpf0eXfnqRvzcEBATIXzgkhTZGEUKvvfaatS1BEAYPHiy3SOkzY8YMURTtpo/0RuHmzZuiKFpXGunTnvwvgKSwcePGMjap0mRlZcm25IvevXsLgjBo0CC5Rb6Qpp85+vlKFmPtglca9UckJydn/vz5ffv2bdCgQVBQUGxsrM3vNEoqzT333GONrEePHh07drRukX7JlFpq5rDblUZ6ezZ37lxrW9L1K6+8IgjCfffdZ3fpTEBAwKefflqzF2/xSwaUVJru3bvL/6qKolgzSm3+0RdFsaKiomPHjoIgPPzww3a/r1iTmZKSMnHixOeff7527dotWrSQ/8m2/k6jpNJYf4MRRVEQBOsX4FKlmT59uuqVRnp7lpKSYu2UKIoFBQVNmzYVBKFbt27y70OyTHx8vCAIa9eulVt84oJXGg2HKT8/v0WLFs8995xNpVHy9sylSlPz7dnUqVPde3smzQgYNmyYDS/fffedIAiTJ0++9957+/TpY/OUzwiwIcTvb52+PSssLKxbt671P4hK3p5hjGvXrj1jxow6dep89tlnCmmU/vEdPXq0JG9daZS8PVNeaey+PXvttdfce3smzQiQJtpYe/ree+81aNBA+ko0c+ZM60eiKPIZATaE6PHWaDRaf4sXRbFr167S3Bvrt2e//PKL0xkBLlUa6fu7/KvmzZs3W7du7d6MAFEUn6/+sx6/ixcv3nvvvX//+99FUVy4cKEgCCtWrLAWkGY5S7OGrNv5tR8zAM8IWLNmTd26da3TQYpSYEbA4cOH69SpI817DAsLq1Wr1t69e+0SWFxcXFVVJT8qKSmpXbv28OHDpRbrSjN06FCnMwKUVxppRkDTpk0LCwslW6mpqcCMgHr16gEzAqRZzjZvINetWycIgvRS4R//+Ef9+vXPnDkjeyq9ogwODpbfSVo/Yvmaf6dRc3QKCwvvueee0NDQWbNmLVq06N133xUEQfpUYl1pjEajwWCQZzm/+uqrXbp0EQRh+fLlEhppPY01MvjtmTTLOTg4eOzYsbNnz+7SpUutWrUczXLeunWrPMt5zJgxNrOcRVGcMWNGYGCgPOPFbDa/8MIL999/vzxD4ZVXXgkJCbGe9TB06NCWLVv6XPRbM8yvXWUgOTk5KChImg08adIkm1nOAwYMsF6VJYpiTk7OH/7wB0eznMvLyx955JH27duXl5eLolhZWdmxY8dWrVpJv3/YYIuOjm7RosUXX3yxYMGCuXPndu3atV69eocOHZLErCtNZmZmSEhIkyZN5FnOUq5ZT4l2qdJIs5zbt28/ffr0r7/+Wpq3La83sP6dRhTFkSNHyrOcP/roI5tZzqIovvHGG88884zsXX5+fpMmTV588UUplaTXaM8884z1O7ROnTq9//77chdfueCVRs2RqqysHDFiROfOnRs2bHjPPfd07txZ/uHOutKIonjt2rV+/fpJKzc/+OAD6eu/PInZ1UojiqK0cjMkJCQoKMhgMMArN9evX//oo48GBgZ26NCh5srN/Pz8unXrypMCpJfp69evl5nKzMxs1KjR66+/LrWYTKZmzZqNGTNGFuAXOmFg3759TzzxREBAgM3KTbPZ/MADD3zzzTc2PKSkpPTo0UNeRGm9cnPYsGF16tSRv/GIonjs2LG6devanTp/8eLFDz/8sE2bNkFBQffdd9+LL75oPUfLutKIopiUlPT8888HBgb+8Y9/jIiImDt3riAI8mJS6987JbTA7zSSwK5du5577rn69es3atTor3/9K7By02QyTZgwoVmzZnZXboqiuGHDhlq1akmrZ0RRfOuttxo2bChXQVEUpbcF06ZNk0xLE8+snbVhmNlbXmmYGJro6GhBEBTunUwB8Ycffqh8k4zo6Oj69evn5ORQAMZN+AQD0lz5U6dOMYj2888/DwoKArYBpInZaDS2a9dO+ae0zz///LHHHvPFlwe80tCMq99t3bp1S74xGo0vvfRSo0aNrBvlp165uHz5svJTA55++ml+aoBXholZo4mJifK6Y6+DtE6rgoICaesBr6OSAURFRSk/NeCee+6x3plGVsL+Ba803hmjjz76qF+/fvPmzZsxY4a02Qw7mekdRrhVzoA2DHTu3Pnzzz9fuHDhhAkTWrZsWbdu3X379mljimt1yACvNA6p0fTBypUrH3/88UaNGgUEBHTo0IHvGKYp21y5nhkYOXJk27Zt69ev36BBg27duu3cuVPPbHjLd15pvMU8t8sZ4AxwBvTCAK80ehlp7idngDPAGfAWA7zSeIt5bpczwBngDOiFAW9WGpPJlJWVVVRUVMz/OANMMlBUVJSVlWW9bs4r/zDwTGEyOjiouxiAk8WblSYrK0vgf5wB5hmQt270SpkRRZFnCvMxwgHeYcBRsniz0khHQWRlZd1VGfkNZ4AZBqR/4q037/JKseGZwkxEcCAOGYCTxZuVpri4WBAEeX8tr+QwN8oZABhgJEQZgQEQxR9xBuAo5ZWGRwhnwCEDcPI47Kb2A0ZgqO0W1+dXDMBRyiuNXw02d0ZdBuDkUdcWoI0RGABC/ogzAEcprzQ8QjgDDhmAk8dhN7UfMAJDbbe4Pr9iAI5SXmn8arC5M+oyACePurYAbYzAABDyR5wBOEp5peERwhlwyACcPA67qf2AERhqu8X1+RUDcJTySuNXg82dUZcBOHnUtQVoYwQGgJA/4gzAUcorDY8QzoBDBuDkcdhN7QeMwFDbLa7PrxiAo5RXGr8abO6MugzAyaOuLUAbIzAAhPwRZwCOUl5peIRwBhwyACePw25qP2AEhtpucX1+xQAcpbzS+NVgc2fUZQBOHnVtAdoYgQEg5I84A3CUKqo0+/bte+ONN5o1ayYIQnR0tCNO4+LiHnvssYCAgDZt2ixbtsyRmNwOI5PF+AVnwFsMACEaGRmJEAoMDDQYDImJiTURLlq0qFu3biHVfz179rSWCQ0Ntd6RsVevXjW7W7cAMKzF+DVnwIsMwFGqqNLExsaOHj16w4YNQKW5ePFigwYNvvzyy7S0tHnz5tWpU2fbtm2w2zAyuC9/yhmgwICjEI2KigoICFi6dOmpU6cGDhwYEhKSn59vg6dfv37z589PSkpKT0//4IMPgoODs7OzJZnQ0NDXXnst97e/Gzdu2PS1uXUEw0aM33IGvMgAHKWKKo2MHqg0X331VceOHWXJ9957z+4ntYqKCnkvUGnvT77Dpkwav5AYMJvNZZVV10orMq+XnckrScosjD9/bc/p/B2n8mJTcjaduLL+16w1RzNXHr68IiFj8YGLC/eej9xzLnLPubm7zn676+ycnWdn7zwzc8eZmdtPz9h+evq209O2pk/dmh4Rmz4lNm1yTNokcmrillNfbzk1fvPJ8E0nJ2455Yh5R8ljMBiGDBki9TKZTM2bN4+IiHCkRBRFo9HYsGHDFStWSDKhoaF9+/YF5EVR5JkC8+Ph06wbZZF7zmVeL/NQD+8uM+AoWSQB1SrN888///nnn8tWly5d2qhRI/lWvggPD7d+b8D3cpaZ0dVFUdnt1OyibSdzlxy4OHHLqWFRSaFLE/vMO9Bt2u6O47YhTGj+r+3oWEfk202eysrKOnXqWL9GHjBgQJ8+fRwpEUWxpKQkKChoy5YtkkxoaGhwcPD999/frl27wYMHFxQU1OzLM6UmJ2q1pGYXdZmwHWHy5/HbT2QWqqVW53rsJovMiWqVpm3btlOmTJH1xsTECIJw69YtuUW64J/UbAjRyW3m9bLo49lTYtMGLEk0TN6psJC0Gx3bZcL2ZyN295y5t/fc/X0jD779Xfw/vj/0/uLDHyxN/HjF0U9+PvbZquPD1iSNWHfiq3XJYeuTw9anjNyQMmpDypjo1LEbU8dtTA3fZPniMmGz5UvMxC2nJpFTk2PSpsSmRcRavuhM25o+c/tpR6NgN3muXLkiCEJCQoLca8SIEQaDQb6tefHJJ5+0bt26vLxcerR69epNmzalpKRER0c/+uijXbt2NRqNNr14ptgQouLt+4sPyxH4j+8PqahZz6rsJotMCO1KIxsWRRFGZi3Jr32RgfLbxq2pOf9be+K5qbvlxJYvnpi4o8+8A5/8fGzillML955fczRz56m8Y5eun79aml9SXlpRZTSZve613RB1tdJEREQ0btw4OTnZrjsXLlwQBGHXrl12n0qNdmEA8vwRwMDFazcRJg+FkcMXClqFWb49n8svAeT5I4UMwFGqWqVR+PbMGjSMzFqSX/sQA2az+cDZa5+vPt5h7Fa5rrQZGdM38uCY6NSfD186dulGaUWVT3hkN0Rdens2ffr04ODgo0ePAv42adJk4cKFgIBdGIA8fwQwMHVrOsLkg6WW6YIfLT+KMJlEHP5QB+jhj2wYgKNUtUrz1VdfderUSbb9z3/+0+6MAFmAf6expsI/rquMprVHM1+euVcuMM9G7J645dTeM1dv+khpsRkIR8ljMBiGDh0qCZtMphYtWtidETBt2rRGjRodOgS9n8nKyqpVq9amTZtsTFvfOoJhLcOvFTLwxtwDCJPo45Z5gJtPXEGYvDZnv8K+XAxgAI5SRZWmtLQ0qfpPEIRZs2YlJSVdvnxZFMWwsLD+/ftLtqVZziNGjEhPT58/fz6f5QwMiV8+2nEq76UZcVKNeXTs1jHRqccu3TAx8AbME7YdJU9UVFRgYODy5cvT0tIGDRoUEhKSl5cnimL//v3DwsIki1OnTg0ICPjll19+m8ycW1paKopiaWnp8OHDDx06lJGRsWvXrscff7xt27YVFRUATkcwgC78kV0Gim7dlt6Y5RVbfjO7WlIhvUkrLKu0K88blTMAR6miShMXF2czYSw0NFQUxdDQ0B49eshQ4uLiunTpEhAQ0Lp1a75yU6bF7y/yissH/Wh5C4Ew6Txh+3d7zxeX3/YPr4HkmTdvXsuWLQMCAgwGw+HDhyV/e/ToIaWGKIoIIZusCQ8PF0Xx1q1br7766v3331+vXj2E0MCBA6UqBTAGwAB68Uc1GdiVlocweXF6nPxI+gq+7WSu3MIv3GMAjlJFlcY9w057wcicducCLDCw98xVacJom5ExU7em+02NkbhlJEQZgcFCvHmIYRI5hTAJW58i6xkTnYowGb/5pNzCL9xjAI5SXmncY5X3Es1m87e7zj5UPXun99z9aTnF/kcKnDzU/GUEBjV/tTP03vcJCJO1RzNlExuOZyFM3v4uXm7hF+4xAEcprzTusar3XkaTeeSGFOmN2agNKRVVtstB/IMgOHmo+cgIDGr+amTIbDb/ebxlwWZqdpFsIj23GGHSadw2s9n7s+plVL54AUcprzS+OKZexmw0mT9bdVz6KfXnw5e8jEZL83DyaGn5Lt2MwLgLkw/e5BTdQpi0GRlj/cHottHUdlQswoTvTOPhkMJRyiuNh/TqrrvZbJZebT88KmZL8hX/9h9OHmq+MwKDmr8aGdqdbpkO8OqsfTb6/zJnP8JkO58UYMOLi7dwlPJK4yKduheP3HNO+jYTk5Lj92TAyUPNfUZgUPNXI0NS6P539XEb/cPWJCFM5uw8a9POb11iAI5SXmlcIlPvwtKnQoTJsoMX9cAFnDzUGGAEBjV/NTI0tPqV74K48zb6f9h/AWHyyc/HbNr5rUsMwFHKK41LZOpaOKfoljShedzGVJ0QAScPNRIYgUHNX40M9Z5r/y3ZnvR8hEmv2bZv1TSC4a9q4SjllcZfx11lv4wm8zvfWWaI9p673/oHVZXNMKYOTh5qYBmBQc1fLQyZzWbpQIqa+2lKe262H7PV17e00II35TrhKOWVRjmTupZcevAiwqTjuG0Z127qhwg4eajxwAgMav5qYSi/pBxh0iqM1PycdNtoaj0yBmGSU2R7yokWSPxVJxylvNL467ir6VduUbn0efCnQ/48p7kmZXDy1JTXqIURGBp5R0dt4sXrCJPnpu62a+6F6ZYt++LPX7P7lDcqYQCOUl5plHCod5nBPx1DmLw5/6DeXi/AyUMtLBiBQc1fLQytOZKJMHl/8Z0d6mxMfLA0EWGy8rBl42D+5x4DcJTySuMeqzrqFX/uGsKk9ciYU1f8cL8ZeCDh5IH7qviUERgqekRfVUSs5ViasQ4ms0zYbNkPjR9U48m4wFHKK40n3Pp/X7PZ/Ob8g0CK+jcFcPJQ850RGNT81cKQ9L18yQH7s/N/TMhAmHy0HDqwTgtU/qQTjlJeafxprNX3Rdpl/ZExsfkllvM89PYHJw81NhiBQc1fLQxJB6DtOGU5Rqjm357TlonO/Ei0mswob4GjlFca5UzqTtJkMr9WvVHHlNg03Tlf7TCcPNQ4YQQGNX+1MCQtBXO04/i5/BLLPpvh27QwrROdcJTySqOTMHDHzW0nc6Vtbm/c1OmJhHDyuMOpW30YgeEWdiY63ayokvYdd3R+UlnlHYGiW35yiB993uEo5ZWG/oj4jMV3F1qWak7dmu4ziNUGCieP2tYc6mMEhkN8zD84k2f5yvJ/4FeWx7/egTDR4bQXtUYPjlJeadTi2d/0pGYXSVPO9LycDU4eakPOCAxq/qpuSNpv5i9z9gOa/zrvAN/RGeDH6SM4SnmlcUqgTgW+XHMCYTJ0le3Gt7qiA04ealQwAoOav6obkqaWDVwBTS375GfLorGl+tg6VnWGRVGEo5RXGi0493mdV0sqpOOhjl++4fPOeOAAnDweKHatKyMwXAPNkvSU2DSEyfjNJwFQk4hlSc3XW04BMvwRwAAcpbzSANTp99GCuPMIk76RB/VLQbXncPJQI4cRGNT8Vd3Qpyt/RZgsdrCYRjK3PN6ypGbQj9D3HtWB+ZNCOEp5pfGnsVbHF7PZ3HPmXoTJ6kS9b84BJ486dCvQwggMBUgZFflb9erjWPDsvu3VMy37zDvAqA/Mw4KjlFca5geQOsDkrEKESbvRsY6mhFJH5DWDcPJQg8UIDGr+qm7omSm7ECZJmYWAZinsn5q8C5DhjwAG4CjllQagTqePxm1MRZh8pu+5ANLYw8lDLT4YgUHNX3UNGU3mNtWHAuQWQftc5BVbjhVoPTLGaDKrC0An2uAo5ZVGJ2Gg1M3KKpO0mjrudL7SPv4rBycPNb8ZgUHNX3UN5SsrIUaTuVUYQZjkF0MFSV1s/qQNjlJeafxprFXwRXpb3XXSTv7JzunETRXoVqYCzmFlOvQrdSLT8jb46SnOX4sZJu9EmKRkFemXLA88h6OUVxoPqPXHrl9EJfG5nvLAwskji2l9wQgMrd3USP/WVMumSkomUkqLNx3twqkRPL9RC0cprzR+M9AqOHLbaPq/8G0IkyMZ11VQ5/sq4OSh5h8jMKj5q64hafry4J+OOVX78YqjCBO9HSzrlBaFAnCU8kqjkEZdiB04azn07PGvd/BXZ9J4w8lDLSYYgUHNX3UNSWegwcs2JYujo1MQJjO3n1YXgE60wVHKK41OwkCRm2OiLbPO8C/JiqR1IAQnDzUCGIFBzV91DX2++jjC5Pt9552qnbvrLMJkxLoTTiW5QE0G4CjllaYmYzptMZnM0i+ie9L5rLM7MQAnD7VAYQQGNX/VNfTe95YtyTcmZTtVu+ZIJsJkwFSlCQcAACAASURBVJJEp5JcoCYDcJTySlOTMZ22HL98A2HSYezWiiqjTimo4TacPDXEtWpgBIZW7mms96UZcQiThPMFTu3sPXMVYdJr9j6nklygJgNwlPJKU5MxnbZM33YaYfLpyl916r89t+HksddDkzZGYGjim/ZKpUku5/JLnZpKzy1GmHSZsN2pJBeoyQAcpbzS1GRMpy19Ig8iTNYezdSp//bchpPHXg9N2hiBoYlvGistv22UTttUcpjmjZuVkjD/Wu/GsMBRyiuNG5T6YZfCssqHqhdIwzt2+KHnoEtw8oBd1XzICAw1XaKlK/N6mbSJn9nsfI8Zs9ncdnQswiTzehktgP5jB45SXmn8Z6Q98SQmJQdh8vLMvZ4o8b++cPJQ85cRGNT8VdHQr9W/Pj43dbdCnd2m7UaYHOXryRTyZSUGRymvNFZU6fgybL1lJYGSNQe6IglOHmpUMAKDmr8qGtpWfRbAm/OVnrT09wXxCBOSnKMiBp2ogqOUVxqdhAHkptlsfm6q5aPc7vQ8SE5/z+DkocYHIzCo+auioR8PXUKYwOc6W5uTzkxbAp6ZZi3Pr2UG4CjllUYmSr8XGdduIkweHhVzs6JKvyzY8xxOHns9NGljBIYmvmmsdOaOMwiTURtSFNqZsNlyxvOUmDSF8lxMZgCOUl5pZKL0eyF97nt3YYJ+KXDgOZw8Djqp38wIDPUd016j9Fp4zs6zCk0t3Gs51/zz1ccVynMxmQE4SnmlkYnS78WQ6lPWv92lNBv1wxScPNR4YAQGNX9VNPTRcsummSsPKz2nfGNSNsLkve/5py6XBwGOUl5pXCbUzzqYzXc2oTl0wfkiaj/z3ak7cPI47a6WACMw1HKHph5plZjygwDiz1k2mX1pRhxNkP5hC45SXmn8Y5Td90JacPDwqJhblXwTGlsa4eSxldbsnhEYmvmnoeJnpuxCmCRlFiq0cSavBGHSmW8ToJAvKzE4SnmlsaJKl5cbjmchTJRPA9UVSXDyUKOCERjU/FXLkNlsfnhUDMIku/CWQp3Xf9sm4LbRpLALF5MYgKOUVxq9x8nIDZaVNJP5ZBt7gQAnj70emrQxAkMT37RUWljm8u4yJpO59UhLceKbZbg6MnCU8krjKp/+Jv/KrL0Ik+0nc/3NMTX8gZNHDQuKdDACQxFWloTOuvUq7MlJOxEmqdlFLLniA1jgKOWVxgeGUDuI8oe+gtIK7az4rmY4eaj5xQgMav6qZehg9c/7ru6x9Nqc/QiTuNP8lCbXxgGOUl5pXGPTz6R3peXxmTbAmMLJA3RU9xEjMNR1ioK26OOWKcv/XHTIJVvvLz6MMFl3LMulXlwYjlJeaXQdIdIR6/w4Z0dBACePo16qtzMCQ3W/tFa4aN8FhMl/XVyG+UVUEsJk4V7np0Frjd+39MNRyiuNb42mymilg2+jjihd16ayeebVwclDDT4jMKj5q5ahyTFpCJNJ5JRLCicRy4Y0rvZyyYRfCsNRyiuNXw66IqdMJnPHcdsQJmk5xYo66E8ITh5qfDACg5q/ahmSvp18v8+1byfShjRfRCWpBUMneuAo5ZVGJ2Fgx81z+aUIk0fGxFbxpQN26LE0wcnjoJP6zYzAUN8xjTX2++EQwmTDcdd+cVl3zLLC7P3FhzVG52/q4Sjllcbfxlu5P+t/tWTUWwvilXfRmyScPNTYYAQGNX/VMvTqrH0Ik/1nr7qkMO50PsLktTn7XerFheEo5ZVGvxESvukkP/0MHn44eeC+Kj5lBIaKHtFR9cREy8qYk1dcWxmTml2EMHly0k46IP3GChylvNL4zUC77Mjf5h9EmEQfz3a5p246wMlDjQZGYFDzVxVDbq/2zy0qR5i0HhljMplVQaITJXCU8kqjkzCwdfO20dRudCzC5PzVUttn/P43BuDk+U1K8/8yAkNzP1U1IK9KrqhybevY20YTwgRhcv1mpaqI/FwZHKVKK01kZCRCKDAw0GAwJCYm2uVs9uzZ7dq1CwoK+uMf//jFF1+Ul5fbFZMbYWSyGL/QgoFTV4oRJp3GbeMf3AB6gRB1mhGLFi3q1q1bSPVfz549rbPGbDaPHTv2wQcfDAoK6tmz59mzTk4GAmAA4HX+6PxVy4SXTuO2ucFD5wnbESZn8krc6KvbLnCUKqo0UVFRAQEBS5cuPXXq1MCBA0NCQvLzbbdqWLlyZWBg4MqVKzMyMrZv396sWbNhw4bBpMPI4L78qYcMrE68jDD5x/euLZ/20KjPdXcUokoyol+/fvPnz09KSkpPT//ggw+Cg4Ozs++8qJw6dWpwcPDGjRuTk5P79OnTqlUr+GOZIxg+xydNwEcyriNMun+zxw2jL82IQ5jEn7vmRl/ddoGjVFGlMRgMQ4YMkRg0mUzNmzePiIiwIXTIkCEvvfSS3Pjll18+99xz8q3dCxiZ3S68US0GpC2cp8Ty89IhRh2FqJKMsNZrNBobNmy4YsUKURTNZvODDz44ffp0SaCoqCgwMHD16tXW8jbXjmDYiPFbawa2ncx1+ziMdxcmIEw2nbhirZBfwwzAUeq80lRWVtapUyc6Olo2M2DAgD59+si30sXKlSuDg4OlVwQXLlxo37795MmTbWREUayoqCj+7S8rK0sQhOJivmywJk+at/SNtEwH2MxzCWTabvIozAhrxSUlJUFBQVu2bBFF8cKFC4IgJCX9vjCwe/fu//3vf63leabYsOHG7arqb+0fLT/iRt9Pq887X3Lgoht9ddvFbrLIbDivNFeuXBEEISHh94O1R4wYYTAYZBXyxbfffluvXr26desKgjB48GC53foiPDxcuPuPVxprfuhcG03m9mO2IkzO5fPpABDldpNHeUbIqj/55JPWrVtLr8ji4+MFQcjJyZGfvvPOO++++658K13wTLEhxNXbyD3nECbD155wtaMoiuM2piJMpm1Nd6OvbrvYTRaZDdUqTVxcXNOmTX/44YeUlJQNGzb86U9/+vrrr2Uz8gX/TiNT4cWLC9U/lrYbzXcHcDIIdpPH1UoTERHRuHHj5ORkyZjCSsMzxcnYOHs8YbNl+zL33g/P3XUWYTJinTtVyhkuv31uN1lkb51XGoXvCrp16zZ8+HBZ708//VS/fn2TCTohFUYmq+IXqjMQk5KDMPnrvAOqa/YzhXZDVGFGSFRMnz49ODj46NGjMjMK357J8uxsimMNif3rz1cfR5i4uumZ5Jf05u3DZe68eWOfGY0Q2k0W2ZbzSiOKosFgGDp0qNTHZDK1aNGi5oyAxx9//KuvvpL1rlq1qn79+kYjNJMdRiar4heqMzBj+2mEyVfr7nzKVl2/3yh0FKJKMkIUxWnTpjVq1OjQobsm+EkzAmbMmCGxVFxczGcEaBEwnhwzs716NkEf/lHMlYFxlCySDkWVJioqKjAwcPny5WlpaYMGDQoJCcnLyxNFsX///mFhYZKi8PDwhg0brl69+uLFizt27GjTpk3NV882sGFkNsL8VkUGPlp+FGGy9CD/wdMJqY5CVElGTJ06NSAg4Jdffsn97a+09M6vYlOnTg0JCdm0aVNKSkrfvn35LGcnw+DW49e/tRyduSfddj2GEmW/Xr6BMHk2YrcSYS4jMeAoWaSniiqNKIrz5s1r2bJlQECAwWA4fPjOLqc9evQIDQ2VFFVVVY0fP75NmzZBQUF/+tOfPv3008LCQngMYGRwX/7UEwaejdiNMDl0ocATJXroC4So04xACN0990UIDw+XSJNWbjZt2jQwMLBnz55nzpyByQRgwB31/PTpKbsQJicynfwrZJeijGs3ESbtx2y1+5Q32mUAjlKllcauag8bYWQeKufdHTFQdOu2tNlGUdltRzK8XWKAkRBlBIYPRYXZbJY2W8q8XuYG7OLyOzlyqxJ6/++GZj/uAkcprzR+PPT2XUu8aFk7/cyUXfYf81YrBuDksRLU9pIRGNo6qar2mxVV0sepssoqNxSbzeaHR8UgTLILb7nRXZ9d4CjllUZ3UbE8PgNhwufVKBl4OHmUaFBFhhEYqvhCR0nm9TLplD+3zXWdZDlxICXLtRMH3DbnBx3hKOWVxg+G2DUXwtYnI0y+2cZXpTnnDU4e5/1VkmAEhkre0FCTlFno4Rf3XrMtp6jtPePaKWo0fGPVBhylvNKwOm6a4Xqz+lgavg+NEoLh5FGiQRUZRmCo4gsdJbvT8xAmvee6f26meydD0/GOTStwlPJKw+aoaYXKbDZ3GrcNYXI6l++I7pxkOHmc91dJghEYKnlDQ83ao5kIk/5L7J9vogTBkOqtz37Yf0GJMJdxur6YVxp9BUle8Z3zBF09HkpfNP3mLSP/xDMC4zdWfOC/C/eeR5h8EfX7Nqaugpa2PuMvmZXzBkcprzTKmfQHyQNnryFMXpwe5w/OaO8DnDza279jgREY1Pz13NCUmDSEyddbTrmtas5Oy9ZnYev5PhpKKYSjlFcapTz6h9zSgxcRJgNX/L4Nl3/4pZEXcPJoZLSmWkZg1ATGbMv/1p5AmETuOec2wh8PXeKZ4hJ7cJTySuMSmT4vLB2Axt8JKBxIOHkUKvFcjBEYnjtCTcOHy44gTFYnXnbbIkm27EL79wXxbmvQW0c4Snml0Vc8vPOd5TDB6ON3jhnWl/Ouewsnj+v63OzBCAw30Xujm3TQ3/aTuW4bTzhfYHnPPIO/Z1ZKIRylvNIo5dEP5Mxmc+cJ2xEmqdl8PZqi8YSTR5EKNYQYgaGGK5R0PD9tD8Lk2KXrbts7k1eCMOk8YbvbGvTWEY5SXml0FA/XSisQJg+FEb6bk8JRh5NHoRLPxRiB4bkj1DR0rJ7Kf+Gq+0fKXi2xJAvCpMoIHbJFzSP2DcFRyisN+yOoGkLphcDz0/aoptHfFcHJQ817RmBQ89dDQxVVRs/3kK0ymiQl10orPMSjk+5wlPJKo5MwsLj5YwLf8cy14YaTxzVdHkgzAsMDD6h2zSm6hTBpMzLGbDZ7Ylh61Xwmj69xVsQiHKW80igi0T+EpMVo7p2s7h8MuOoFnDyuanNbnhEYbuOn3DE1uwhh8uSknR7afXF6HMIk4Tw/xkkRkXCU8kqjiET/EPrnokMIk7VHM/3DHQpewMlDAYBkghEY1Pz10NC+M1cRJr1m7/NQz98XxCNMYlJyPNSjk+5wlPJKo5MwsLj51GTLKYTHL9/Qkc+euQonj2e6XejNCAwXEHtVdGNSNsLkn4sOeYhi4ArLIeg/HrrkoR6ddIejlFcanYSBKJ8NVVhWqRefPfYTTh6P1StVwAgMpXC9LbfkgGUjjCErf/UQiHS+xpydZz3Uo5PucJTySqOTMBCll9ePfb1DLw6r4SecPGpYUKSDERiKsDIgNH3baYTJuI2pHmKZtjUdYRK+6aSHenTSHY5SXml0Egbi5hNXECZv8d01XBlwOHlc0eSRLCMwPPKBYuew9SkIk9k7z3ho84f9FxAmQ1cd91CPTrrDUcorjU7CQPx2l2Vv2uFrT+jFYTX8hJNHDQuKdDACQxFWBoQG/Vj9+0pChodYNhzPQpj0+8HT33s8hOEr3eEo5ZXGV8bRU5xfRCUhTObHub+7racIfLA/nDzUHGIEBjV/PTT09neWOWMk2dM5Y3Gn81WZw+ahO77SHY5SXml8ZRw9xdkn8iDCZGuqp+nnKQ6f6g8nDzVXGIFBzV8PDb04Q511MClZlnU5hsmersvx0B1f6Q5HKa80vjKOHuG0HOoczg91dplDOHlcVuduB0ZguAufdj+11vZnF1r2Gnh4lKd7DdD230v24CjllcZLw0LXrLy3ZvltI13Lvm0NTh5qvjECg5q/nhhScb+yW5V39k8rLr/tCSSd9IWjlFcaXYTBkYzrCJPnpu7WhbfqOQknj3p2nGhiBIYTlGw8lj9UGU0ebXomedN+zFaEyaWCm2w4xzQKOEp5pWF68NQCt+ZIJsLk/cWH1VKoEz1w8lAjgREY1Pz1xJB0rkwXlc6VeTZiN8LkV76thoIhgaOUVxoFFPq+SESsZQ2a52vZfJ8J1zyAk8c1XR5IMwLDAw/odZWOxnhJpbMy35h7AGGy81QePQd81hIcpbzS+OzAugJc2sFp2cGLrnTisiKcPNQIYgQGNX89MUSScxAmb38X74kSue+AJYkIkzV8U1qZEccXcJTySuOYOT968vLMvQiTvWeu+pFPNFyBk4cGgmobjMCg5q8nhqRDmAb9eNQTJXLfYdWr0L7be15u4ReOGICjlFcaR7z5T7vJZG43Opb/sOnGiMLJ44ZC97owAsM98JR7zd55BmEStj5FFbsTt5xCmEyOSVNFm38rgaOUVxr/Hn2Ld7lF5QiT1iNjbvMT0V0cbTh5XFTmvjgjMNx3gGLPsRtTESbTt51WxWbknnMIk//xPZwUsAlHKa80Cij0cZHDFwoQJs9P2+PjfngBPpw81AAxAoOav54Y+nTlrwiTJQfU+UlydeJlhMm/lx3xBJJO+sJRyiuN/4fBmqN8irObowwnj5tKXe/GCAzXgXuhh3Sw7MakbFVsbz+ZizDpE3lQFW3+rQSOUl5p/Hv0Ld7N2G45rmPkBnXeXPs/X1YewsljJajtJSMwtHVSJe29Zu9DmOw/q87kl6PVS567TeNLnp0PDxylvNI4Z9DXJT5bdRxhspDPn3F9IOHkcV2fmz0YgeEmerrdnpy0E2Fy8kqRKmYvXC1FmHQct00Vbf6tBI5SXmn8e/Qt3vFdnN0eYzh53FbrakdGYLgKm7682WxuMzIGYZJbVK6K9aKy2wgThElFFd8w0AmjcJTySuOEPj943GXCdoTJqSvFfuALZRfg5KEGhhEY1Px125DqhcFkMreuLl05RbfcRqWTjnCU8krj52FQXH7nQ1lpRZWfu6qBe3DyaGDQvkpGYNgHx1KrFi+7npio5us4lthSGQscpbzSqEw3a+pSsy2nOT0xcQdrwHwCD5w81FxgBAY1f902JP2Ar+6E/ldnqTnFwG3X2O8IRymvNOyPoEcIpW2g3pzPp2m6QyOcPO5odKsPIzDcwk6107bqScl9VZ2U/N73CQgTtaZNU6WDrjE4SnmloTsa1K0tiDuPMPl89XHqlv3BIJw81DxkBAY1f902JC20/FDVhZaf/mxZCrqU707rbFTgKOWVxhl/Pv48bH0ywmTmjjM+7od34MPJQw0TIzCo+eu2IWnzmOGqbh4zJtqyvc2M7epsb+O2a+x3hKOUVxr2R9AjhNKS6V+OZXmkRa+d4eShxgojMKj567ahr6s3xJwSq+aGmLN2WLbs5AufnQ4KHKW80jgl0LcFpEMDj2Zc9203vIQeTh5qoBiBQc1ftw19Ub3J//f71Nzkf3l8BsJk8E/H3Ealk45wlPJK489hUFllahVmWXeWX6LOQjZ/Jsueb3Dy2OuhSRsjMDTxTVWl/asPLlur6sFlm09cQZi8szBBVaR+qAyOUl5p/HDIZZek5QXtx2w1m81yI79QzgCcPMr1eCjJCAwPvaDQvffc/QiT3elqHsYcf+4awqTnzL0U8Pu0CThKeaXx6cF1Aj7udD7C5NVZ+5zI8ccOGICTx0En9ZsZgaG+Y2prfGbKLoRJUmahiorTcooRJo99zVekOSEVjlJeaZzQ59OPVyRYXjF/vEKdk259mgr3wMPJ455ON3oxAsMN5DS7mM13zpbNvF6mot38YstBgg+FEaOJvxiAeIWjlFcaiDtffyZNxZm45ZSvO+It/HDyUEPFCAxq/rpn6GZFlbQb5k1VN166bTRJaq/frHQPmE56wVHKK40/h8FHy48iTH5MyPBnJ7X0DU4eLS3fpZsRGHdhYu8m83oZwqTd6FjVf5X8v/BtCJNz+SXsOc0QIjhKeaVhaKhUh/LKrL0Ik71n1DkVSnV47CuEk4cafkZgUPPXPUMnMgsRJs9M2eVed6DXC9PjECaHLxQAMvwRHKW80vhthJjN5vZjtiJMLl676bdOauwYnDwaG/9dPSMwfgfE5NWedMv8l95z96uO7q0F8QiT2JQc1TX7k0I4Snml8aexvsuXa6UV0i+Z/BCnu3hx5QZOHlc0eSTLCAyPfNC+87pjWQiT/ksSVTf18QrLW+ifDl1SXbM/KYSjlFcafxrru3xJqn6Z8NRk9V8m3GXGr2/g5KHmOiMwqPnrnqHv92m1mSz+xbJ54Le7zroHTCe94CjllcZvw2BLsmVt898XxPuth9o7BieP9vbvWGAEBjV/3TM0JTYNYTJhs/ozLadtTUeYhG866R4wnfSCo1RppYmMjEQIBQYGGgyGxET7308LCws//fTTBx98MCAgoG3btjExMTDFMDK4L3/qlIHv9lo+4n0RleRUkgs4YgAIUacZcfLkybfeegshJAjC7NmzrU2Eh4cLVn+PPPKI9dOa1wCMmsK6bRm+9gTCJHLPOdUZ+GH/BYTJ0FX86A2IWjhKFVWaqKiogICApUuXnjp1auDAgSEhIfn5+TY2Kysrn3zyyddff/3gwYMZGRl79+49ceKEjYzNLYzMRpjfusrAqA0pfLdzV0mzkXcUokoy4siRI8OHD1+9evWDDz5Ys9J07Ngx97e/a9eu2di1uXUEw0ZM57cfLjuCMFmVeFl1HjYct/wC1O+HQ6pr9ieFcJQqqjQGg2HIkCESKSaTqXnz5hERETYcfffdd61bt759+7ZNO3ALIwM68kdKGBhQvdtg1BH1E0+Jdf+QcRSiSjJCZgAhVLPSdO7cWRZweuEIhtOOuhJ4c/5BhMm2k7mqey3t6tRrNt/VCaIWjlLnlaaysrJOnTrR0dGykQEDBvTp00e+lS7+8pe//Otf/xo4cOADDzzQsWPHyZMnG41GGxlRFCsqKop/+8vKyhIEobi4uKYYb/GcgZdmWBYBHDzn5POy54b8WIPd5FGYETItditNgwYNmjVr1qpVq379+l2+bOfTAM8UmUCFF92/2YMw0eKAjJSsIoRJ10k7FSLRp5jdZJGpcF5prly5IghCQsLvm2aPGDHCYDDIKqSLRx55JDAw8MMPPzx27FhUVNR99903fvx4GxlRFG3eUPNKU5MiVVrkPaAuFfDFNO4zajd5FGaEbLVmpYmNjV27dm1ycvK2bdueeeaZli1blpTYrj/nmSITqPCi0zjLSv4LV0sVyisXyy68hTB5eFSM6rsPKMfAvqTdZJFhq1Zp2rZt+6c//Un+HjNz5swHH3xQNiNf8E9qMhWaXlwtsSymaRVGKqtMmhryb+V2k8fzSmNNWmFhYaNGjRYvXmzdyL/927Dh9LaiyijtTlZU5sILfKdqJYHy278pv6W+coUY2BezmywybOeVRuG7gu7du/fs2VPWGxsbKwhCZSW0Jx2MTFbFL9xg4NfLNzTamcMNML7bxW6IKswI2eua32nkR9LFk08+GRYWZtNofWsXhrUAv84psnztaDNSq68dj47l2204iTI4Sp1XGlEUDQbD0KFDJTsmk6lFixY1ZwSMHDkSIWQy3fkEPWfOnGbNmsHQYGRwX/4UZmCTdFDgd7+/84Tl+VO7DDgKUSUZISuEK01paWnjxo2//fZbWb7mhSMYNSV125Kare1PKc9N3Y0wOXaJn5LuMMTgKFVUaaKiogIDA5cvX56WljZo0KCQkJC8PMupdv3795c/i2VmZjZs2HDo0KFnzpwhhDzwwAOTJk1yCKr6AYwM7sufwgzMjzuHMBnGF9PANDl76ihElWREZWVlUvVfs2bNhg8fnpSUdO7cnaUe//vf//bu3ZuRkREfH//yyy83adLk6lVoF1RHMJzB19HzvWeuIky0mx7WZ94BhMl2DSa2+c0gwVGqqNKIojhv3ryWLVsGBAQYDIbDhw9L7PTo0SM0NFRmKiEh4amnngoMDGzdurWjuWeysCiKMDJrSX7tKgMjqxfTzNx+2tWOXN6aASBEnWZERkaG1epMy2WPHj0k5e+9916zZs0CAgJatGjx3nvvnT9/3tpozWsARk1hfbZIS17+9cOdf5pUJ+GDpYkIk9UaLNZRHaq3FMJRqrTSaIEeRqaFRf3o7F+9mGbN0Uz9uKyFp4yEKCMwtGBYLZ3SMv7PNFvG/+UarTYgUIsBr+uBo5RXGq8PkCYAXqw+USP+PF9M4xG9cPJ4pNqVzozAcAUybdmp1VuTjd+s1dZkk2Msm6p9zY+vdTywcJTySuOYOZ99YjKZ246ORZioe6C6z/LhPnA4edzX62JPRmC4iJqq+Ih1lu8c83Zrtd0y30XQ6XDCUcorjVMCfU8gv7hcWkxz28gX03g0fHDyeKTalc6MwHAFMm3Zj5ZrtemZ5Mmao5kaHX5DmynN7MFRyiuNZsR7T/GxS5bFNM9G7PYeBD+xDCcPNScZgUHNXzcMabfpmQRmV1qeRgd6uuEsm13gKOWVhs1R8wjVxqRshMm7C/liGo9oZGd6JJzDnjrpF/2fn2bZ9Ey79S7H+VJoZ3ECRymvNM7488HnkXssi2m+XOPk1AYf9Iw2ZDh5qKFhBAY1f90w1LF607OL17Ta5e9yQRnC5JExsW5g00kXOEp5pfHDMAhbbzmMdtaOM37oG12X4OShhoURGNT8ddWQvC9ZcblW+5KVVlRJ+6qVVVa5Ck8n8nCU8krjh2Hw/uLDCJO1fDGNx2MLJ4/H6pUqYASGUrjU5a5ov9ey2cznczoZVzhKeaVxQp8vPn6hejHNoQsFvgieKcxw8lCDyggMav66akg6P8YwWdvzY56esgthciKz0FV4OpGHo5RXGn8LA8timlGWxTRZN8r8zTfq/sDJQw0OIzCo+euqIelMzL/M2e9qR5fkX/92P8JkT7rtwfYuKfFjYThKeaXxt6HPLbIspmk9MqaKL6bxeGzh5PFYvVIFjMBQCpe63C/HshAm7y/WatMzySHppfS6Y1nU/fMNg3CU8krjG6OoHOXRjOsIk+em8sU0yjlzKAknj8Nuaj9gBIbabqmmb9G+CwiTz1cfV02jPUWf4id7rgAAIABJREFUrz6OMPl+n5PtUO111UUbHKW80vhbEEQftyymee97vphGhZGFk0cFA8pUMAJDGVgvSE2JtWxKNmHzKU1tT9h8CmEyJTZNUyu+qxyOUl5pfHdk7SOft/sswmT4Wr6Yxj4/LrXCyeOSKk+EGYHhiQua9h2+lsZGyzyz4EGEo5RXGpg933uKf7EsppmzU6utBn2PEQ8Qw8njgWLXujICwzXQFKX/vcyy6ZnWh8esPHwZYfLhsiMUPfMlU3CU8krjS2OpBGu/Hw4hTH7hv1sqIcuZDJw8znqr9pwRGKr5o7aiPpEHESY7TlkOAtbub2tqLsKkb+RB7Uz4tGY4Snml8enBtQO++zeWDaAO88U0drhxuQlOHpfVuduBERjuwte833NTd1dvenZDU0tHqufaPD9tj6ZWfFc5HKW80vjuyNpBbjSZHx4VgzDJLrxl5zFvcpEBOHlcVOa+OCMw3HdA456Pjt2KMLlUoNWmZxL881dLESYdx23T2BtfVQ9HKa80vjqudnHnFN1CmLQZGWM0me0K8EaXGICTxyVVnggzAsMTF7Tre6vSKO1IVqLZpmcS+MKySslQ+W2jdu74rmY4Snml8d2RtYNc+oLfbRpfTGOHHDea4ORxQ6F7XRiB4R54rXtl3bDsstx2dKzZrO2nK7PZ3Gak5YXBFf7CwN6gwlHKK409zny2TVpM84/vD/msB2wBh5OHGlZGYFDz1yVDyVmFCJOnp+xyqZd7wobJOxEmKVlF7nX3715wlPJK41ejz6f8qzuccPKoawvQxggMAKEXH+1Jz0eYvP6ttpueSQ7+ZQ7f+szhUMNRyiuNQ+J88YG0mGb2Tn4yjTqjByePOjYUaGEEhgKkXhBZV73pWf8liRRs91+SyM/jcMQzHKW80jjizSfb//WD5WQavgmgWoMHJ49aVpzqYQSGU5xeEVi49zzC5IuoJArWh0UlIUwWxPGtz+yQDUcprzR2KPPdJn4yjbpjByePurYAbYzAABB68dGUGMumZxO3aLvpmeTgZIq2vEipe6bhKOWVxj1WWezFT6ZRfVTg5FHdnCOFjMBwBM+77V+usWx6Nj/uHAUY0vcnrTeNpuCIFibgKOWVRgvOvaMzr5ifTKMy83DyqGzMsTpGYDgG6M0nHyy1/Hay5kgmBRB0DsKh4IgWJuAo5ZVGC869o/PYpRsIk2cj+GIa1fiHk0c1M84UMQLDGUzvPP/rvAMIk50ab3om+SYd7tlr9j7vuMq2VThKeaVhe/RcQbcxyXIyzbsL+ck0rrAGysLJA3ZV8yEjMNR0ST1dz0ZYNj07flnbTc8kvKnZRQiTJyftVA++/2iCo5RXGv8Z6cg95xAmw9bQmITjP6yBnsDJA3ZV8yEjMNR0ST1dj4yJRZhcLihTT6VDTfLR6Sa+21MNkuAo5ZWmBmE+2xC2PgVhMnMHX0yj2hDCyaOaGWeKGIHhDKYXnpdVVkl7kZVWVFEwf9toksxdv1lJwZxvmYCjlFca3xpNCK20rGzNURo/jUI4/OgZnDzUHGUEBjV/lRu6XGDZ9OyRMZpveiZD6jxhO8LkTF6J3MIvJAbgKOWVxn/i5MUZcQiT+HPX/Mclb3sCJw81dIzAoOavckPSLJjnptKbBfOSlGXneZbZjhIcpbzS2PLlo/dms7ndaHovrH2UJVdhw8njqja35RmB4TZ+7TpK52C+OZ/eOZjvLkxAmGw6cUU7p3xUMxylvNL46LDawr5aUoEwaRVGKqtMts/4vbsMwMnjrlaX+zECw2Xc2nf46dAlhMnHK45qb+qOhU9//hVhsvTgRWoWfcUQHKW80vjKODrBefyyZTHNM1T2TncCxY8ew8lDzVFGYFDzV7mhWTvOIExGbkhR3sVDyXEbUxEm32xL91CP/3WHo5RXGj8Z8c0nriBM3v4u3k/8YcMNOHmoYWQEBjV/lRsatYH2fMtvd51FmOBfkpWD1IkkHKW80vhJGCyIo7ejrZ9QpsANOHkUKFBHhBEY6jijqpaBK44iTH48dElVrZCylYcvI0w+Wn4EEtLlMzhKeaXxk6AYHW35cDdj+2k/8YcNN+DkoYaRERjU/FVu6G/zDyJMtqbmKO/ioeS2k7kIk76R9OYgeAiYWnc4SnmloTYQ2hoKrd5ncHXiZW3N6Ew7nDzUyGAEBjV/lRt6ftoehMnRjOvKu3goSX9etYeAqXWHo5RXGmoDoa2hnjP3IkwOnOXT/NXkGU4eNS2BuhiBAWL0zsP2Y7YiTC4V3KRm/lLBTYRJ+zFbqVn0FUNwlPJK4yvjCOE0m81SymVco5dyECB/eQYnDzUvGYFBzV+Fhm5W3NmK5iaVrWgkVF4xqpAQ74rBUcorjXdHRx3rBaWWxTQPhZGKKqM6GrmWagbg5KFGEiMwqPmr0FDGNcvXi0fHUv16IX+qo/lFSiEh3hWDo5RXGu+OjjrWT2QWIkwMk/lm5urwKWuBk0cW0/qCERhau+mq/qMZ1xEmz0/b42pHD+Xp/zjkIWA63eEo5ZWGzihoa4Uk5yBM3lrAF9OozDOcPCobc6yOERiOAXrnSWyKJez/RnErGsnPtxbEI0xiUuhNePMOvy5ahaOUVxoX6WRS/Pt9lsU0/119nEl0PgwKTh5qjjECg5q/Cg39mJCBMBn0I72taCRgg386hjBZHp+hEKdOxOAo5ZXGH8JgbPUOGdO28h0yVB5NOHlUNuZYHSMwHAP0zpOZ1VvRjKK4FY3kp5RufEMam1GHo5RXGhu6fPL238uOIExWHuaLaVQePjh5VDbmWB0jMBwD9M4T6ei/2TtpH/03b7dlQ5oR6054x21WrcJRyisNq+PmCq5XZlkW0+w7c9WVTlzWOQNw8jjvr5IEIzBU8kY1NR9Xb0XzE8WtaCToa45kIkxClyaq5olfKIKjlFcanx9ks9ncYaxl/dqFq6U+7wxjDsDJQw0sIzCo+avQUN9Iy1Y0207mKpRXS2xPej7C5PVv96ul0D/0wFHKK43Pj/KNm5XS2eblt/liGpVHE04elY05VscIDMcAvfPkuam7ESbHLt2gbD41uwhh8uQkvqjgLuLhKOWV5i6yfPEmJYvHvVbjBiePVlZr6GUERg1c3mzw4iGz+cXl0qmDRpPZmxQwZhuOUl5pGBsu1+FsTbWsKqB5wK3rGH21B5w81LxiBAY1f5UYKim/LX2VL6usUiKvoozRZG4VRhAm+SXlKqr1dVVwlPJK4+vjK/6w/wLCZMjKX33eE/YcgJOHGl5GYFDzV4mhC1dLESYd6G5FIwN7YuJOhElqdpHcwi/gKOWVxucjJHzTSYRJRCxfTKP+UMLJo749BxoZgeEAnXeaE84XIExenB7nFfN/mbMfYbLndL5XrLNpFI5SXmnYHDUXUH203LKYhv5cTxcg+qwonDzU3GIEBjV/lRjamJSNMHnv+wQlwqrLDFiSiDBZcyRTdc2+qxCOUqWVJjIyEiEUGBhoMBgSE6GJ5KtXrxYEoW/fvk4pg5E57c4FJAZ6zd6HMInjH680CAggRJ1mxMmTJ9966y2EkCAIs2fPtkHntLu1PADDWkxX14v2WV4ae2sHpuFrTyBMIvec0xXnsLNwlCqqNFFRUQEBAUuXLj116tTAgQNDQkLy8+1/bczIyGjRosXzzz/PKw08Kmo9NZvNncZtQ5icyy9RSyfXIzPgKHmUZMSRI0eGDx++evXqBx980KbSKOkuYxBF0REMaxm9XU/ccgphMjkmzSuOT9uajjAZtzHVK9bZNApHqaJKYzAYhgwZIrlnMpmaN28eERFR01uj0fjss88uXrw4NDSUV5qa/GjRUlR2ZwbOrUq+mEZ9gh0lj8KMkAAhhGwqjUvdeaWxO65DVx1HmPyw/4Ldp1o3Ljt4EWHyyc/HtDbkQ/odJYvkgvNKU1lZWadOnejoaNnnAQMG9OnTR76VL8aNG/fmm2+KoghUmoqKiuLf/rKysgRBKC4uljXwC1cZkBaRPf71Dlc7cnklDNhNHuUZIZmwqTQKu/NMgQfonYUJCJNNJ67AYho9lc7p+Ds/p8OKX7vJIj93XmmuXLkiCEJCwu+/vI0YMcJgMMgqpIsDBw60aNHi2jXLOfZApQkPDxfu/uOVxoZJl26lxTR9Iw+61IsLK2TAbvIozAjZhE2lUdidZ4pMoN2LF6bHIUwOXyiw+1TrxiPVh7B1/4b2IWxa++WJfrvJIitUp9KUlJQ89NBDsbGxkl6g0vBPajL1qlxIJ9N8toqfTKMKnbZK7CaPwlIh63Kv0vBMkQmseWE2mx+t3usv49rNmk8ptEgHS7cfs9Vs5tsE3OHbbrLIY+G80ij5sp+UlCQIQp3f/mpV/9WpU+f8+fOypZoXMLKa8rylJgOjo1MQJtO3na75iLd4zoDdEFWSEdambSqNq9357zTWZErXXtwgQAJws6JK2qGgtIL2DgU12WCkxW6yyNicVxpRFA0Gw9ChQ6U+JpOpRYsWNjMCysvLU63++vbt+9JLL6WmplZWVsqWal7AyGrK85aaDPTn8/prkqJei6MQdZoR1hBsKo2ShLLuziuNDRuiKJ7Lt2wQ0Cl8W81H1Fr4Buo2VDtKFklMUaWJiooKDAxcvnx5WlraoEGDQkJC8vLyRFHs379/WFiYjT34dxprYRiZtSS/dsSA9LY64bx33lY7QuU37Y5CVElGVFZWJlX/NWvWbPjw4UlJSefO3Vl+4ai7I94cwXAk7/ft8eeuIUx6ztzrRU9frP6hiKeePARwlCqqNKIozps3r2XLlgEBAQaD4fDhw5L2Hj16hIaGypbkC+B3GlmGf1KzpsK9a6PJ/PCoGIRJduEt9zTwXjADQPI4zYiMjIy7574IPXr0kM3Z7S4/tbkAYNhI6uR2w/EshMk/Fx3yor//+P4QwmTD8SwvYmDKNBylSiuNFi7ByLSw6Gc6rxTeQpg8PCqG716u0cgyEqKMwNCIZDfULtx7HmHyRVSSG33V6jIsKglhsiAO+ilaLVs+oQeOUl5pfGIQ7YM8dMGyyWAPPtXSPj0qtMLJo4IBZSoYgaEMLA2pCZstGwRMifXOBgGSh1OrtwkI33SShsO+YAOOUl5pfGEMHWBcc9Rynvn7i++8zHQgxZvdZwBOHvf1utiTERguotZQ/NOVvyJMlhy4qKENZ6qXx2cgTAb9eNSZoF6ew1HKK40Px8GM7acRJqM2pPiwD2xDh5OHGnZGYFDz16mht7+LR5iQ5BynktoJbDuZizDpwxdN/0YxHKW80vzGkw/+97+rLVs/LdzL3xRrNXhw8mhltYZeRmDUwOW1huen7UGYHM247jUEongisxBh8tTkXV7EwJRpOEp5pWFqsFwD8+b8gwiT2BRvfrJzDbGvScPJQ80bRmBQ8xc2ZDabHxkTizC5XFAGS2r6NK+4HGHSKoxUGU2aGvIV5XCU8krjK+NoB+cTE3fwI2bt8KJeE5w86tlxookRGE5Q0npcdOvO/uXlt725f7nRZG490rLGILeonJbrTNuBo5RXGqYHDwAn74dRXH4bEOOPPGEATh5PNLvUlxEYLmHWTvhsXgnC5P+8ukGA5N3TU3YhTJIyC7Vz1oc0w1HKK40PDeVdUNNzixEmnSdsv6uV36jKAJw8qpqClDECA4JI8dneM1cRJq/O2kfRpn1TfSMtr6+3pubaf6yzVjhKeaXx1XDYcSoPYfLXeQd81QFfwA0nDzUPGIFBzV/Y0OrEywiT0KXQGfOwBrWe/ufHYwiTZQe9OdlaLV881wNHKa80njPsHQ2LD1hO/fv051+9Y14fVuHkocYBIzCo+QsbmrnjDMIkbL33J/eHbzqJMImITYcB6+QpHKW80vhqGPAopzBycPJQACCZYAQGNX9hQ8PXnkCYzN11Fhaj8PQ7BjbFoeCmQhNwlPJKo5BG5sT+vewIwmTl4cvMIfMjQHDyUHOUERjU/IUN/euHwwiTdce8v7Vl9PFshMl73/9+HjGM3L+fwlHKK42vjn7PmXsRJgfOWo7T5n8aMQAnj0ZGa6plBEZNYF5peXGG5Vzn+HPej3xp48EXpsd5hQfWjMJRyisNa+OlCI/JZG432vuL1xRh9WUhOHmoecYIDGr+AobMZnP7MVsRJhe9dK6zNTZ+xrM1G3CU8kpjzZXPXEvrk1uPjLnN1ydrOWhw8mhp+S7djMC4C5OXborKmFi2KXlfftsonfFcdIuvaRPhKOWVxksZ45nZIxnXESbdpu32TA3v7YQBOHmcdFbvMSMw1HPIfU1pOZZlZI99vcN9Far27DxhO8LkdG6Jqlp9UhkcpbzS+OSgrq0+L6DfD948c9AniXMRNJw8LipzX5wRGO47oF7P3emWZWSvf7tfPZUeaeo1ex/CZM/pfI+0+EVnOEp5pfHJQZ6+jZ8XQGPg4OShgaDaBiMwqPkLGPrp0CWEyUfLWTkV5sPqKaA/H74EYNbJIzhKeaXxyTCQToL6Yf8Fn0TvO6Dh5KHmByMwqPkLGPpmWzrCZOzGVECG5qOxG1MRJtO28sWb/HcamnFHy9br3+5HmOw4lUfLoE7tMPJPPCMwWAiCYVFJCJMFcaycybSwevHmf1cfZ4Ec72KAo5R/p/Hu6Lhj3Ww2dxhrmeh5Lp//DukOgcr7wMmjXI+HkozA8NALVbq/930CwmRjUrYq2jxXsiX5CsLk7wviPVfl6xrgKOWVxvfG92pJBcLkoTBSUeXN8zl8jzjXEcPJ47o+N3swAsNN9Kp26/6N5bTNxIvePG3T2qHjl28gTJ6ewk/e5G/PrOPCL66lKc7PRvApzpoPJyP/xDMCQ3O6nRkwm81tqxcsZ1735mmb1jDzS+6cvMlXtsFRyr/TWIeNb1yvqZ7i/K8fDvsGXF9GCScPNc8YgUHNX0eGrpXe+TbPzj/rJpO57SjLbh3sFD9H7GndDkcprzRa86++fmn6zeho7++arr5vjGmEk4caWEZgUPPXkaGUrCKESddJOx0JeKW9R/ULvUMXCrxinR2jcJTySsPOSClF8unPvyJM+BRnpXx5IAcnjweKXevKCAzXQGsgvTU1B2HSN/KgBrrdV9nvh0MIk18Y2FvafR/U6AlHKa80anBMV8df5limOO/kU5y1px1OHu3t37HACAxq/joytGjfBYTJ0FVsTSkesc5yXs63DJyX44g3Ou1wlPJKQ2cUVLNiNcW5VDWlXJEDBuDkcdBJ/WZGYKjvmIsa2VwmOWfnWYTJV+uSXfTG38ThKOWVxsfGW57rwqc4Uxg5OHkoAJBMMAKDmr+ODH2wNBFhsiqRrdP/1h3LQpjwGTpwlPJK4yiqGW1PvGjZxfm5qXyKM40BgpOHBoJqG4zAoOavI0Nsnv6XcL4AYcLPQ4OjlFcaR1HNaPuaI5kIk/cX8ynONAYITh4aCKptMAKDmr92DZnN5kfGWOYTXyq4aVfAW42XC8oQJm1Hx5pMZm9hYMEuHKW80rAwRi5gmBKThjAJ33TShT5c1F0G4ORxV6vL/RiB4TJuVTvI743ZWUwj+VdZZXoojCBMrpZUqOqxjymDo5RXGh8bzo+WH0GY/JiQ4WO4fRMunDzUfGIEBjV/7Ro6dsmy7wubW2M8NXkXwiQps9Aucp00wlHKK42PhcEL0+MQJvHnrvkYbt+ECycPNZ8YgUHNX7uGNiZlI0zeXZhg96l3G/++IB5hsvnEFe/C8K51OEp5pfHu6LhmvaLK2HpkDMIkr7jctZ5c2i0G4ORxS6U7nRiB4Q509frM222ZTPy/tSfUU6mapmFrLGcZRO45p5pGH1QERymvNL40pGfzShAmHcZuNZt1/dsjtTGDk0dvMKj5a9fQV+uSESZzdp61+9S7jdKSmhHrWKyC1JiBk4VXGmoDoYIhaTeOv847oIIurkIBA3DyKFCgjggjMNRxxl0t/1xk2fRl/a9Z7irQsF/0ccubvXeYfLOnodt3q4ajlFeau9li+y5yzzmEyRdRSWzD9B90cPJQ85MRGNT8tWuo27TdCJMjGaycTGMNUjql5qnJuj6lBo5SXmmsA4b1a+lo23m7WXyBwDp3buGDk8ctle50YgSGO9BV6lNlNEm/UOYWsfgL5fWblQhbJjqX39bv4YRwlPJKo1IqUFHTZ94BhElsSg4Va9yIk2MEqREE5zA1GF40lHmd6dWRZrO5U/g2hMnZPP0euA5HKa80Xkwf10ybzeaO4yzRfEbH0ewaZR5Lw8njsXqlChiBoRSuBnLx568hTF6cHqeBbnVU9p5r2WF9h453WIejlFcadeKMgpa84jvnyPK9NSmwLZmAk0dvMKj5W9PQqsTLCJMBSxJrPmKkhZ8aBScLrzSMBKpzGNLHuh7f7HEuyiVUYgBOHpWMOFfDCAznQDWTmFy9CdP4zexuwjRtazrCZOzGVM04YF0xHKW80rA+fjK+HxMyECb/XnZEbuEXWjMAJ4/W1mX9jMCQ8dC/+Gj5UcY3YYo6YvnW1Z/hb11ajxocpbzSaM2/avpHR6cgTCJi01XTyBU5YwBOHme9VXvOCAzV/HFd0UszLJswHTjL7iZM0tkBen7lAEcprzSuR72XerzzXQLCZMNxFleueYkSzc3CyaO5+d8MMALjNzi0/1tlND08yrIJU3bhLdq2FdvLKbqFMGkzMqbKaFLcya8E4SjllcY3BttsNv95/HaEyckrRb6B2C9QwslDzUVGYFDz18bQpYKbCJN2bB8AYzKZ2462HJ9zuaDMBr9ObuEo5ZXGN8JAnnim56Vh9IcKTh5qeBiBQc1fG0N7TucjTHrN3mfTztqtdCTo/rNXWQNGBw8cpbzS0BkFT63sO3PVsp5gBrvrCTz1kMn+cPJQg8wIDGr+2hhacuAiwmTwT8ds2lm7laYtrNDr2VFwlPJKw1q42sfzw/4LPpFs9tH7bCucPNTcYgQGNX9tDI2JTkWYTNvK+lyYKbGW83B1O9EZjlJeaWyimtHb4WtPIExm7TjDKD4/hQUnDzWnGYFBzV8bQ//64TDCZO3RTJt21m7XHs1EmPxz0SHWgNHBA0cprzR0RsFTK3zHM08ZdKs/nDxuqXSnEyMw3IGuRp9nIyy7OB+7xOIuztb+STs6d52007pRP9dwlPJK4wORYDKZ24/ZijA5f7XUB+D6EUQ4eag5yggMav5aGyq/bZS2Sb5+s9K6ncHr4vLbEtTi8tsMwtMaEhylvNJozb8K+i8X3NnIVrdT9VUg0S0VcPK4pdKdTozAcAe6x33Sc4sRJn8ev90nzpk1TN6JMPn18g2P/fY9BXCU8krjAyO6/WQuwuQvc/b7AFb/gggnDzVfGYFBzV9rQ7EpOQiTvpEHrRuZve73g+Vg0DXM/6SkBYFwlPJKowXnKuucu+ssP2pTZU6VqYOTR5kOFaQYgaGCJ66rmLPTEvxfrjnhelcv9Bi30TJNbkpMmhdse9skHKVKK01kZCRCKDAw0GAwJCba2bt70aJF3bp1C6n+69mzp10ZGypgZDbCer79z4/HECaL9l3QMwle8R0IUacZIYri2rVrH3nkkcDAwE6dOsXExMguhIaGClZ/vXr1kh/ZvQBg2JX3p0ZpN35fCX5pG9wPdbkNLhyliipNVFRUQEDA0qVLT506NXDgwJCQkPz8fJto7tev3/z585OSktLT0z/44IPg4ODs7GwbGZtbGJmNsJ5vn5tqmXsTf57d7QX9dXQchaiSjIiPj69Tp84333yTlpY2ZsyYevXqpabe2VI+NDT0tddey/3t78YNJ6/1HcHwV9qt/ZIW3u894xsL76WjPbrr8mgPOEoVVRqDwTBkyBBp+E0mU/PmzSMiIqyjwebaaDQ2bNhwxYoVNu02tzAyG2Hd3haV3ZnQUlSmxwkt3h13RyGqJCPefffd3r17y/ifeuqp//znP9JtaGho37595UdOLxzBcNrR1wUqqoytR1r21swtKvcJX/JL7hxXqMNdo+AodV5pKisr69SpEx0dLY/0gAED+vTpI9/WvCgpKQkKCtqyZUvNRxUVFcW//WVlZQmCUFxcXFOMt8gMSJ+Suk3bLbfwC2oM2E0ehRnxpz/9afbs2TLUcePG/fnPf5ZuQ0NDg4OD77///nbt2g0ePLigoEAWky94poiieOqKL008E0XRbDb/X7jlCPa0HN39s2Y3WeR4dl5prly5IghCQkKC3GfEiBEGg0G+rXnxySeftG7durzczseQ8PBwqxfUlkteaWoSaN2yaJ9lH5r//Mj6pk/WmP3m2m7yKMyIevXqrVq1SqZi/vz5DzzwgHS7evXqTZs2paSkREdHP/roo127djUajbKkdMEzRRTF6OPZCJN3vvv9Hx8blhi8/dv8gwiTzSeuMIhNU0h2k0W2qH6liYiIaNy4cXJysmzD+oJ/UrNmQ8n156uPI0zm7T6rRJjLqMuA3eTxvNJYg7xw4YIgCLt27bJuFEWRZ4ooihGxliOTR0en2JDD8i3+JRlhMn3baZZBaoHNbrLIhpxXGoXvCiSN06dPDw4OPnr0qGwAuICRAR119Uj6RXRPuu0UDF2R4C1n7YaowowA3p7ZuNOkSZOFCxfaNFrf2oVhLeCv1/9edoTxQ51rMr9Cr6eww1HqvNKIomgwGIYOHSpxajKZWrRoYXdGwLRp0xo1anTokNIN5mBkNYdQhy1llVWtwgjCJL/EzqtIHRJC2WVHIaokI95999033nhDBvzMM8/IMwLkRlEUs7KyatWqtWnTJutGm2tHMGzE/O9W2vHs8AU7v2Mx6+zRjOsIk6en2H5JZRawWsDgKFVUaaKiogIDA5cvX56WljZo0KCQkJC8vDxRFPv37x8WFiYBnTp1akBAwC+//PLb1M3c0lInm3TByNTy36f1HLt0A2HypF737PP62DkKUSUZER8fX7du3RkzZqSnp4eHh8uznEtLS4cPH37o0KGMjIxdu3Y9/vjjbdu2raioAJx1BAPo4gePSn7bRqywjPUdz6zZLq33EbcYAAAef0lEQVSo8pWN2qxhe34NR6miSiOK4rx581q2bBkQEGAwGA4fPizB6tGjR2hoqHSNELL5qT88PBxGDyOD++rkqbQQ7IOldpbK6oQB77oJhKjTjJBWbrZr1y4gIKBjx47yys1bt269+uqr999/f7169RBCAwcOlD63AZ4CMIBevv5I+phlmOx7WyP3+GYPwuTgOX0tgIOjVGml0SJqYWRaWPQ5nf+rPpZmxnbd/brIyEgxEqKMwKA8KCsPX0aYvL/4zudaytY9MTf4Jz1u6gFHKa80nkSU5n1fmhGHMNmdbnlXyf/oMwAnDzU8jMCg5q9kaOSGFB/dQ0yfGxXCUcorDeX0ccGcvDsA+ydzuOCVT4nCyUPNFUZgUPNXMvTG3AMIE5KcQ9mu5+Z2peUhTF6dtc9zVT6kAY5SXmnYHcq9Z64iTHrocg8lRkYFTh5qIBmBQc1fy3KiKuPDoyz70GReL6NpVxVbOUW3ECatR8boak8aOEp5pVEltDRRMnvnGX5YgCbMKlYKJ49iNZ4KMgLDUzdc6Z+cVYgw6TzBNw5As/HMbDZ3mbAdYZKaXWTzyI9v4SjllYbdoe+/JNHnlq2xy6ZbyODkcUulO50YgeEOdHf7/HToko9OB5A8lo5Eizpy2V0CfK8fHKW80jA6oibTna36dPWxiLXBgJOHGlpGYFDzVxTFr9ZZ9nT5Zls6TaMq2poSk4YwGbnBl/bR8dB9OEp5pfGQXq26n8svRZg8Mib2ttGklQ2u1xkDcPI4663ac0ZgqOaPAkWvzdmPMNmamqtAlkWRramWQ6lf09OJ7HCU8krDYphaFv0dzfS5XWwZpdIDWHDyeKDYta6MwHANtAfS5bfvHEtzpfCWB2q82TWv+M5BNaUVVd7EQdE2HKW80lAcCldMha23vD2YrMsDyV3hSVtZOHm0tW2lnREYVoi0vfz1smUTpicm7jCbzdpa0lK7tGmbfo7KhaOUVxotY80D3S9Mt6zZ3JXG12x6QKLHXeHk8Vi9UgWMwFAK12O55fEZCBNf34RpyMpfESaRe855zIdvKICjlFcaFkcxt+jOV++iW/xEZ28OEJw81JAxAoOav0NXWc5kmrPTt89kWnzgIsLkw2VHqPHmXUNwlPJK493RsW9dOmrwjbkH7D/mrbQYgJOHFgqRERh0/DWbzYbJOxEmCed96bCAmuRI7wAf+9q33wHW9MtRCxylvNI44s2b7dKxffxHGm+OQbVtOHmowWMEBh1/LxeUIUweHuXzC+wrqoxtR8UiTDKu3aRDnXetwFHKK413R8e+9e7Vu47zjTXts0OxFU4eakAYgUHHX2nW5VsL4umY09TKm/MPIkw2HM/S1AojyuEo5ZWGkWH6HcaVwv9v79qDorjS/VRMGE1tKZvSVWOtvbg3JinNa+OOa/auu7lYZrOxSG3uqlvZRHcrhdmNxo1Rb4OvicQAEZC4vmJUNEYBSQSJzchDBFQQRGZ4v0FhRF4qA4gzwDxuDW3ayTBzmJ6Z7j7d8/mP/TjnO7/v932/+Zie0+dYF00KCKF69fAjzUNaBDlCi4c3SJjA4Mffjd+WEiQVoRLrO5u2LIWdrSJIKuS0T7y/ic5SqDS2iYHFcbJaS5BU0B74kUb4cKDFwxs+TGDw4y+9jdiFmk5+huN0lKwq66LOPrJILjpLodJwmmnuGN8wsvtZOLxJ4w55Xu6DFo+XB3NuDhMYzgF67U7nyAuPvwihpDHrsk8/NCvUuiL1TdG+gup6aNFZCpXGdSb5aGk2m+ftsE68uVjfxcd4MAaSAbR4kF29eRMTGN50yYmts2VtBEm9LqFFXOifak4VtzrxWDqX0VkKlQavSFfc1BEk9ezWc4ZhI17IfBINWjy8UYIJDB783Zxi3WdTmVrJw1j8DBGVXkuQ1L8T1PwMJ+Ao6CyFSiNgaBwMvft8PUFSwV8XO7gHl3hnAC0e3uBgAoNrf81m828jsyW2NEZ+YzdBUvN2ZIl6ZR1XQo/OUqg0rnDIXxv6u3Z8kQ9ta8EfuexHQouHvT03e2ACw030Lndr6OwjSOqpTaqBQemsSqkfMs7ebH2rpr6jz2UmRNkQnaVQaTAK6u1+wy9CKIKk2nV6jGD5MBS0eHgjBhMYXPt76GKTqHc/c8bP3w4VEiR19HKzswbSuI7OUqg0GEX5dIl1frOUfg7FiFy3oKDF45ZJdzphAsMd6Gz60J/Ihy42sekkgrb7cxoJklpxpEgEWD2AiM5SqDQeUOvtrh+MLP4alV7rbcNgz00G0OJx0yj7bpjAYA+cRY97hmF67ZbGrn4W3cTQlHkq2Cfpd7HRWQqVBpdUHRgcfmbLOYKkSlt7cMHk8zjQ4uGNHkxgcOov/ZLjf3+eLb1fzs1m86sjm4CcLWvjlENhjaOzFCqNsNF5ODr9JsHvPr8gPaU9dFJsR2jx8OYNJjA49TfktHV+85aUCk5HEcp4uKqaIKkP46U81xmdpVBphMo9+3HfP36NIKnIc1JY7sneN9Geo8XDm1uYwODO32Gj6aWwTIKk8uqk+cLytRvWXUTnbksfHDZxR6OwltFZCpVG2Og8GL1PP/TUyFTIqrZeLAABiBEG0OLhjSRMYHDnb15dF0FSvwrLHDZK84PYZDK//Kl17Q+pllKLZYxdlKDScCcfFpbpVTVfjc6BR2csWOO+KSYf8ZjA4I5veq2/TclSXvOYfjwo4XWd0VkKlYY7+bCwvDKuiCCpmMw6Fn2gKfcMoMXD/fgPRsAEBkf+GoaNzynTCZK60iTuTTbR/Fyqty4W8PwnGfohaS40hc5SqDTo9ODj7s2e+wEjL2xKb34nH/RxOQZaPFyO/CPbmMD4ESbvndCzzn69I8toMnvPKnaWjCbzb8LPEyRFld3CDpw3AKGzFCqNNzj2zEZMZh1BUssPFnhmBnp7nwG0eLw/nhOLmMBwgs7Ty2vi1QRJffK9dFbVdMbIzvQagqT+HifNVzjRWQqVxllW8HR92GhSfGb9qTC1VMpz7Xli09vDoMXj7dGc2sMEhlN8Htzo7jf81ybrDi7lWp0HZsTRtamrnyCpWaFpnb0SXG4KnaVQaQTO0cyRXfleCsuEbQIEjoSj4dHicdSDk2uYwODCt305DT61w+xb+/MJkjqY18gFmcLaRGcpVBpho2Oh5wJ8BjtsChwHx8OjxeO4DwdXMYHhdc9MpgfbBPjCRmE0e/FFLQRJLdx5QXo/SqGzFCqN1+XDwmBVWy9BUgEh1PXueyy6QVO+GECLhy8UY7ypwBsMrw90obaTIKnnlOn3B6U5HWs0YwODw89/kkGQ1LmK9tF3RX0FLRaoNEIGl/4tdPXJEiFBwNjOGUCLx3k/L9/BBIaXvbI8+EK//fsqr1vG2eDn56zzAv53fz7OIN3Ahs5SqDRuUOqdLs3d9+jJzbAugHcI5cAKWjwcDOjYJCYwHINz92qZtof+edzXvtB39OrpSRDqlrvukodjP3SWQqURLGbkd2USnvIoGK1eHRgtHq8OhTKGCQwURPb33jtWTJDUulMa9l1F3+PjU6UESb1//JroPbFxAJ2lUGlsqOLxsKGzb1aodXJn8fU7PA4LQ7FjAC0edrY8aI0JDA88sO9acVNH/0Lpm28r13X00bvrSmmLEHSWQqWx1wA/538fWX7mvWPF/AwHo7jHAFo87tl0oxcmMNxA7qwL/YVmbYKUV9F35jt9fd0pDf2+tmSWOkRnKVQadD5wcpdeufaXoWlNkttekBO+hDOKFg9vuDCB4S1/c0dWbp4VmtbQ2ectm6Kzc7PnPr18+4XaTtGBdwgYnaVQaRySxuFFw7BxUUwuQVJhZ31ryg2HnHJmGi0ezoa1N4wJDHtYbp0bho1/GNmAEvL/szTr9miBMbnSeGsbnaVQadySiwed6DmOL3+aqRsY8sAMdOWDAbR4+EAwMgYmMLziL70owMufZvXpfT3/ewYGX/7Uuv9bTEatV7gV1gg6S6HS8Bqdkpa79Mzm9EqpvbfFK498DYYWD18opPPmZvWtXvqR0ekSLW/s4TxQWvktgqR+GZpW2Sb6Zd/QYoFKw18e9uqH6OcGHyX64sxO/oj23kho8XhvnDEsYQJjDJRj3dYPPXhu/I+jVyXzM/hYTo99n97W/bXYPLEvlIDOUqg0Y6eCV1oYTeZ/HL1KkNRvws/DczOvUMqDEbR4eABAD4EJDA/9DU0uJ0hq3o6s2/0GD01JqXtnn/5XYdZnaB8lakRdgNFZCpWGp6SNHFmCYvZmlS+sjs4Tp9wPgxYP9+M/GAETGJ74e+RSM0FSBEnl1XV5YkeSfQsab9Nv18Vdbhavg+gshUrDR2S/ymuiZZaivsnHeDCGlxhAi8dLg4xtBhMYYwN10uJcRTv9ouL+HAmulu/EaXaXD120fkQEhIh4nyp0lkKlYZcQbrSOu/zgr7nd5+vd6A5dBGQALR7egGECwz1/0yvbn9qkIkhqU3K5qJ8Ouee+i73MZjP9dHFWaJpIpwuhsxQqjYuZ4E4zk8lMPzQjSCpaEhMZ3WFBzH3Q4uHNM0xguOFvslpLPxf65zfXho0mNyz4TheTybwu0bpwwKzQtPiiFtE5js5SqDRcBVR3f2jVcesaggRJ7cqsg7/muCKaS7to8XA58o9sYwLjR5jGOhk2mnZQVXT+r08qhTIzFmHW+8NGE11sCJIKT6seElVtRmcpVBpXEoB1m4LG2wvCzxMk9dQmVbIaXh1gTSAmHdDi4Q0kJjBc97e5+95fDli3MbZ+YqqqTSaz6319vKXZbI7NqqOpC9p7uVk8eySisxQqjZcTu6NXz/xVsnDnBYltQeFlsrA3hxYPb/AxgeGKv/oh494LDbM3W3+YmbMtXVV+y5Ve0MaOAars1nPKdIKkZm9W7cqsE8WrNugshUpjF2L3T9t1+rCzVc9sOUf/PRJyuvyeYdh9c9ATAwbQ4uENICYw0P7qh4zfXLmh+CyLzv+/HSpsuT2A7gJ3EQy09dx/+9AVmszfhJ+Pu9yMeb1BZylUGkSsXbo1ZDRlVLavOl5M76NHkNSf912W0rYTLrEg0UZo8fDmNCYwHPprNpurb/WGq6pf2J5Bfyy+EpGdrNbCD5MO6WJ10Ww2U2W3XonIpol9cXuGMrWy4qYOT27RWQqVhlXoHzbu7jekqG+uS9S8NPJ+L50KS78syK3rwjMPHkKHI5cZQIvHZTOeNsQEhq0bhmFjUfOdmIza/4nOoZOfIKlXIrLjLjdLY2ViW2eFPaa/LP428kG9IUhq8a68CFVNfmP34DBG0/nQWepqpdm7dy9BEHK5XKFQFBUVOaQ+KSnp6aeflsvlc+fOTUtLc9jG9iIamW1LwY+NJnPrnYG8uq7Dl5rXJqjp5csYgb38adZnadW17b672YbgAeIIACJFPVGE2WzeunXrtGnTxo8fHxgYWF8/xotWCBgcOT7arH7IWK7VJRW3hp2tWn6wgP4lhpbAU5tVwV8Xn6toN8Iv/6OJ89KVYaPpQk3nBydL6JeTaOaf2XLuLwfyw85WpahvVtzU9Qv6uB6dpS5VmsTERD8/v7i4uKqqquDgYH9//85O+9178vPzx40bt3Pnzurq6i1btjz22GMVFRVoktHI0H29eNdkMvcbhtt1+obOPnXL3Yv1Xd+Xth2+1Byhqvn4VOk7hwsDY3Jto8sUmD9+cZH+ywJmcHoxHFiZcpaiHioiMjJy0qRJZ86cKSsrCwoKCggI0Ov1CMedwUB0YXXLbDbrh4y3+w0Nnf3F1+9kVXUkFbd+ldcUrqpeE69+a3/+/M/O0y/5M8lPkNTLn2Z9cLIkWa2F9f9Zse1hY93AULJa+1Giht5xwDYi9LJySw8UfBivDjtbdSC38btr2ty6rtLWnsau/o5e/T3DMHdPXNBZ6lKlUSgUq1evpgkymUxPPvlkRESEHV/Lli174403mIvz589///33mVPmwGAw9P7wT6vVymSy3t5e5i5zcM8wrEytVKZWbj1TsSWlYnNKeWhyecjpcvK7sv/7tmxDUun6pNJ1pzTrEjX/TlCvTVB/GK9efbLkg5Ml/zpx7Z/fXFt1vDj46+L3jhW/d+zqP45efedw4bIvC/687/Ib/7m4eFfeH6JyXonInrcj6/lPMp7dem60hOyCR58+tUkVGJMb/HXx7vP1ObWdd+4NMmjhQKoMOBOPJ4owm83Tpk2LioqiSdPpdHK5PCEhAcGhMxh0l6yqDmVq5ZaUitBkq0A2JJWuS9SsTbAq4p/fXBsRwtWVcUXvHC58+9CV5QetQvjjFxdfjcpZEH7+xe0Zz2xxVQIvhWX+9eCVT76vTLza0tDZz91nFoIKuMUwYDKZ6zv6vr2m3Xam4q39+fQynQ4/u2wvBoRQc5Xpv96R9UpE9qtROa/F5i35z6W39uf/9eCVFUeK3jtW/K8T11afLPkwXv1RoubjU6UbkkrJ78pCk8u3pFRsO1NxvrqDAWB3gM7SsSvN4ODguHHjUlJSGLsrVqwICgpiTumDn//857GxsczFbdu2Pf/888wpc6BUKmU//uew0ty9N2jLDg/Hs0LTXtie8dvI7Ndi85Z+WbD6ZMkn31fuy2lIKm7Nq+tqvTMATwaYIPrOgUPxeKiIpqYmmUym0TzcOWLhwoVr1661Y9XFv8ksFguzDoXnMnlOmf67zy8E7bm04kjR2gS1MrXyq7ymtPJbpa093f0GKC12McLtVHd/qLS154zm5qGLTeFp1esSNe8cLnwtNu+ViOznlOn0zlgeJklUutNN2xyKhaFo7ErT1tYmk8kKCgqYPhs3blQoFMwpffDYY4/Fx8czF/ft2/ezn/2MOWUOXNTP/UHj5+dqotJrozNqYzLrdmXWfZFVv/t8/Z7s+r0XGvblNOzPafwyt/FgXuOhi02HLjYdudQcd7n5WP71rwuuH79y45srN04U3ogvakkoajl1tTVZrT1b1pZR2X6htjO/ofvq9TulrT1Vbb0Nnf0ttwc6+/T6ISOoiIkRHDAMOBSPh4rIz8+XyWS3bj180WTp0qXLli1jBqUPXPybzGKx5NV17UyviRnRyJ7s+v05D3Rx9HLz8YLrJwpvJBS1JBW3ni7RntHc/L60Lb2yPa+uq6j5TrlWV9/R13pnoKvP0KcfgofAdiGQ2KnZbL4/aOzs0zd29Ve26dQtd4ua71yq786u6ThX0Z5a2vbtNW18UcvXBdePXm4+fKn5q7ymA7mN+3Ia9mTXf5FVvyuzLjqj9lJ9tzNaHIqFacx3pWEGtliks5OgrVNwLCUGHIqHn0rj4t9kUmIbfBE1Aw7Fwng0dqXx8FkBM9LoAzSy0e3hCjDAMwMOU9RDRbj49MzWU4cwbBvAMTAgOAPoLB270lgsFoVCsWbNGtoTk8k0Y8YMhzMClixZwni7YMEChzMCmAbwncaWCjjGkwFn4vFEEfSMgOjoaNrl3t5eD2cE4EkdoPI1BpyJhebBpUqTmJgol8uPHTtWXV29atUqf3//jg7rDIR33303JCSENpSfn//oo49GR0fX1NQolUoRzXL2tYQAf11nwJl4PFREZGSkv79/ampqeXn5m2++KfgsZ9cJgZbAgDMGnImFbu9SpbFYLHv27Jk5c6afn59CoSgsLKQ7//73v1+5ciUzcFJS0uzZs/38/ObMmSOxNzcZH+HApxhAiMcTRdBvbk6dOlUulwcGBtbV1aFZRcBAd4S7wABvDKCz1NVKwwVcNDIuRgSbwAArBjBJUUxgsKIOGvsaA+gshUrja/kA/rJgAC0eFoY8a4oJDM+cgN4SZwCdpVBpJB5+cM8TBtDi8cQyq76YwGCFGRr7GgPoLIVK42v5AP6yYAAtHhaGPGuKCQzPnIDeEmcAnaVQaSQefnDPEwbQ4vHEMqu+mMBghRka+xoD6CyFSuNr+QD+smAALR4WhjxrigkMz5yA3hJnAJ2lUGkkHn5wzxMG0OLxxDKrvpjAYIUZGvsaA+gshUrja/kA/rJgAC0eFoY8a4oJDM+cgN4SZwCdpVBpJB5+cM8TBtDi8cQyq76YwGCFGRr7GgPoLBWy0uh0OplMptVqf9gaDf4HBvBigN6sT6fTCfupAUrBKy0AjSMG0GIRstLQyH68LxqcAQPYMaDVaoWtNKAU7HICADlhwJlYhKw0JpNJq9XqdDpHBbKXVheG33iwBdbbC6Q5TKUxLiICqtPptFqtyWQSttKglQJxHyPATm4j4u6kB0+XsQWGzjS0WISsNGj1op/6oftyehdbYDhvxACk+WZOQtzdiLskSYNKwzoTJJkHrFlg2QFIY0kYu+bY0ostMPizjF2G/dDa7YBCpfmBQpf/d5trl0dwvyG22LAFhvMnjut5gC292ALDOe6SJA3fSmMwGJRKpcFgcF1v/LTEFpjFYsEWG7bAcCbN9XzGll5sgeEcd0mShm+lcV1m0BIYAAaAAWAAZwag0uAcHcAGDAADwIAUGIBKI4Uogg/AADAADODMAFQanKMD2IABYAAYkAIDUGmkEEXwARgABoABnBmASoNzdAAbMAAMAANSYADTSrNjx44FCxZMmDBh0qRJdjS3tLT86U9/mjBhwpQpUzZs2DA8PGzXgM9TgiBsl/+JiIjgc3S7sfbu3UsQhFwuVygURUVFdneFOlUqlbYUPf3000IhocfNy8tbsmTJ9OnTZTJZSkoKA8ZsNm/dunXatGnjx48PDAysr69nbuF8AEpxLzogljF5865SMK0027Zt27Vr18cff2xXaYxG49y5cxctWqTRaFQq1eTJk0NDQ8ekjLsGBEGEhYW1//Dv3r173I2FtpyYmOjn5xcXF1dVVRUcHOzv79/Z2Ynuws9dpVI5Z86cHxhq7+7u5mdcZ6OoVKrNmzcnJyfbVZrIyMhJkyadOXOmrKwsKCgoICBAr9c7M4LPdVCKG7EAsbhCmneVgmmloYk4evSoXaVRqVSPPPJIR0cH3eDAgQMTJ04cHBx0hTgu2hAEERsby4VltjYVCsXq1avpXiaT6cknnxT2CxaDX6lUvvDCC8wpPge2lcZsNk+bNi0qKoqGp9Pp5HJ5QkICPmjRSEApaH7s7oJY7AhBn3pFKSKrNFu3brX92GpubpbJZGq1Gs0Ud3cJgpg6deoTTzzx4osv7ty5U6hHeYODg+PGjbN9FrRixYqgoCDuHHfdslKpfPzxx6dPnx4QEPD222+3tLS43pfTlrb6aWpqkslkGo2GGXHhwoVr165lTjE/GF1pQCnOQgZiccaMs+teUYrIKk1wcPDixYsZRgYGBmQymUqlYq7wfBATE5OTk1NWVnbgwAF/f/9169bxDIAerq2tTSaTFRQUMKNv3LhRoVAwpwIeqFSqpKSksrKy9PT0BQsWzJw5s6+vT0A8zNC2+snPz5fJZLdu3WLuLl26dNmyZcwp5gejKw0oxVnIQCzOmHF23StKEabSkCRp+yux7XFNTQ3jsOD6cREnDfjIkSOPPvqoIAu14SweJpoWi6Wnp2fixImHDx+2vSjUsVf0wzV4FzMQlOJ6IEAsrnNFt/SKUoSpNF1dXTVO/tn+6DJaPzw/E3ARJx2PyspKmUxWW1vLNpCet8f5gYCdd/PmzQsJCbG7KMiprX6wfXrmYgaCUlxPIRCL61zRLb2iFGEqjYuujtYPPSOAmVV18ODBiRMnCvI1YrQLJ06ceOSRR+7evTv6Fg9XFArFmjVr6IFMJtOMGTMwmRFg63t/f/9Pf/rT3bt3214U6thWP/SMgOjoaBpMb2+vNGYEgFIcZheIxSEtzi56RSmYVpqWlhaNRrN9+/af/OQnmpF//f39FouFnuW8ePHi0tLS9PT0KVOmCDjLuaCgIDY2trS0tKmp6cSJE1OmTFmxYoWzaHF9PTExUS6XHzt2rLq6etWqVf7+/swMPa6HRttfv359bm7u9evX8/PzFy1aNHny5K6uLnQXTu/29/fTGSWTyXbt2qXRaOhJCpGRkf7+/qmpqeXl5W+++aZYZjmDUtzIFhCLK6R5VymYVpqVK1fa/ngjk8lycnJodm7cuPH6669PmDBh8uTJ69evF2q6l8ViKSkpmT9//qRJk8aPH//ss8+Gh4cL++1qz549M2fO9PPzUygUhYWFriQTD22WL18+ffp0Pz+/GTNmLF++vLGxkYdBEUPk5OTYpdbKlSstFgv95ubUqVPlcnlgYGBdXR3CCD63QCnuxQLEMiZv3lUKppVmTBagATAADAADwIBYGIBKI5ZIAU5gABgABsTKAFQasUYOcAMDwAAwIBYGoNKIJVKAExgABoABsTIAlUaskQPcwAAwAAyIhQGoNGKJFOAEBoABYECsDEClEWvkADcwAAwAA2JhACqNWCIFOIEBYAAYECsDUGnEGjnADQwAA8CAWBiASiOWSAFOYAAYAAbEygBUGrFGDnADA8AAMCAWBqDSiCVSgBMYAAaAAbEy8P+jlAfzbeTl8AAAAABJRU5ErkJggg==)"
      ],
      "metadata": {
        "id": "6nLFVf2G3m1c"
      }
    },
    {
      "cell_type": "code",
      "source": [
        "# sigmoid함수와 기울기 그래프 그리기.\n",
        "\n",
        "sigmoid = Sigmoid()\n",
        "x = np.arange(-10, 10, 0.1)\n",
        "y1 = sigmoid.forward(x)\n",
        "y2 = sigmoid.forward(x) * (1 - sigmoid.forward(x))\n",
        "plt.subplot(121)\n",
        "plt.title(\"sigmoid(x)\")\n",
        "plt.plot(x,y1)\n",
        "plt.subplot(122)\n",
        "plt.title(\"d/dx sigmoid(x)\")\n",
        "plt.plot(x,y2)\n",
        "plt.show"
      ],
      "metadata": {
        "id": "nOJRO2WAUsFP"
      },
      "execution_count": null,
      "outputs": []
    },
    {
      "cell_type": "markdown",
      "source": [
        "# Relu layer"
      ],
      "metadata": {
        "id": "9jYP-eyoWzLF"
      }
    },
    {
      "cell_type": "markdown",
      "source": [
        "Relu layer는 affin층을 통과한 데이터에 활성화함수중 하나인 relu함수를 적용한다. relu함수는 0을포함한 0보다작은 값은 0으로, 0보다큰값은 그대로 출력하는 함수이다.\n",
        " relu함수를 사요하면 sigmoid함수의 gradient vanashing문제를 극복할 수 있고, 간단한 함수인 만큼 모델학습속도가 매우 빠르다는 장점이 있다.\n",
        " 하지만 단점도 있는데, 음수값을 입력받으면 무조건 0을 반환하고 기울기또한 0이기 때문에 가중치업데이트가 안되는 현상이 발생할 수 있다. 이런 현상을 죽어가는 렐루현상?이라고 한다.\n",
        "\\\n",
        "\\\n",
        "\\\n",
        "forward\n",
        "\\\n",
        "\\\n",
        "$ y = \\begin{cases} x, & x>0 \\\\ 0, & x<=0  \\end{cases} $\n",
        "\\\n",
        "\\\n",
        "\\\n",
        "backward\n",
        "\\\n",
        "\\\n",
        "밑의 그래프를 보면 함수의 그래프가 매우 간단하므로 쉽게 기울기를 구할 수 있다.\n",
        "\\\n",
        "\\\n",
        "$ \\frac{\\partial y}{\\partial x} = \\begin{cases} 1, & x>0 \\\\ 0, & x<=0 \\end{cases}$\n",
        "\n",
        "(*원래 0에서는 미분이 불가능 하다.)\n",
        "\n",
        "즉 relu layer의 역전파는 체인룰에 의해 흘러들어온 미분에 0이나 1을 곱하는 과정이 된다.\n"
      ],
      "metadata": {
        "id": "5TpD4knG5btU"
      }
    },
    {
      "cell_type": "markdown",
      "source": [
        "![image.png](data:image/png;base64,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)"
      ],
      "metadata": {
        "id": "FL2zrF2MDl92"
      }
    },
    {
      "cell_type": "code",
      "source": [
        "class Relu:\n",
        "    def __init__(self):\n",
        "        self.mask = None\n",
        "\n",
        "    def forward(self, x):\n",
        "        self.mask = (x <= 0) # self.mask는 0보다 크면 false 0보다 작으면 true인 리스트를 반환한다.\n",
        "        out = x.copy()\n",
        "        out[self.mask] = 0 # mask true인 부분을 모두 0으로 반환한다.\n",
        "\n",
        "        return out\n",
        "\n",
        "    def backward(self, dout):\n",
        "        dout[self.mask] = 0 # 주의할점은 흘러들어온 미분값의 부호에 의해 1이나 0을 곱하는것이 정해지는게 아니라 위의 x값을 기준으로 gradient를 살리거나 죽이게 된다.\n",
        "        dx = dout\n",
        "\n",
        "        return dx"
      ],
      "metadata": {
        "id": "PQuZYRA8An_h"
      },
      "execution_count": null,
      "outputs": []
    },
    {
      "cell_type": "code",
      "source": [
        "# Relu함수 그래프 그리기\n",
        "\n",
        "relu = Relu()\n",
        "x = np.arange(-5, 5, 0.1)\n",
        "y = relu.forward(x)\n",
        "\n",
        "plt.plot(x, y)\n",
        "plt.title('Relu')\n",
        "plt.show"
      ],
      "metadata": {
        "id": "Myaxy_f5_9qz"
      },
      "execution_count": null,
      "outputs": []
    },
    {
      "cell_type": "markdown",
      "source": [
        "# Softmax with Loss layer"
      ],
      "metadata": {
        "id": "SPDVqU7gGFJP"
      }
    },
    {
      "cell_type": "markdown",
      "source": [
        "1.Softmax\n",
        "\n",
        "softmax함수는 입력벡터를 확률분포로 변환한다. 예를들어 모델이 1부터 10까지의 숫자 이미지를보고 어떤숫자인지 예측할때 소프트맥스 함수는 입력이미지가 각 숫자일 확률을 벡터로 표현할 수 있다. 당연히 확률벡터의 모든 원소의 합은 1이 된다.\n",
        "\\\n",
        "\\\n",
        "\\\n",
        "forward\n",
        "\\\n",
        "\\\n",
        "$ softmax(x^i) = \\frac{e^{x_i}}{\\sum_{j=1}^{n} e^{x_j}} $\n",
        "\\\n",
        "\\\n",
        "softmax함수가 단순히 $ \\frac{x_i}{\\sum_{j=1}^{n} x_j} $ 로 표현되지 않고 굳이 자연상수 e를 사용해 표현되는 이유는 우선 지수 함수를 사용해 입력값의 차이를 더 명확하게 하기위함이고 또, backpropagation과정에서 미분계산을 더 용이하게 하기 위해서 이다.\n",
        "\\\n",
        "\\\n",
        "\\\n",
        "2.Cross entropy(https://insomnia.tistory.com/12)\n",
        "\n",
        "크로스엔트로피는 모델에서 예측한 확률값이 실제값과 비교했을 때 틀릴 수 있는 정보량을 의미한다. 크로스 엔트로피를 이해하기위해 우선 엔트로피를 살펴보자. 엔트로피는 불확실성(정보량)을 의미하며\n",
        "\n",
        "$H(x) = \\sum_{j=1}^{n} log \\frac{1}{p_i} p_i$ 로 표현된다."
      ],
      "metadata": {
        "id": "s01Srd3MGNQ1"
      }
    }
  ]
}