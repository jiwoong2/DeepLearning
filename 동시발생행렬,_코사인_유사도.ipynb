{
  "nbformat": 4,
  "nbformat_minor": 0,
  "metadata": {
    "colab": {
      "private_outputs": true,
      "provenance": [],
      "authorship_tag": "ABX9TyMCDWtJUqBmshqI00OaZPTG",
      "include_colab_link": true
    },
    "kernelspec": {
      "name": "python3",
      "display_name": "Python 3"
    },
    "language_info": {
      "name": "python"
    }
  },
  "cells": [
    {
      "cell_type": "markdown",
      "metadata": {
        "id": "view-in-github",
        "colab_type": "text"
      },
      "source": [
        "<a href=\"https://colab.research.google.com/github/jiwoong2/deeplearning/blob/main/%EB%8F%99%EC%8B%9C%EB%B0%9C%EC%83%9D%ED%96%89%EB%A0%AC%2C_%EC%BD%94%EC%82%AC%EC%9D%B8_%EC%9C%A0%EC%82%AC%EB%8F%84.ipynb\" target=\"_parent\"><img src=\"https://colab.research.google.com/assets/colab-badge.svg\" alt=\"Open In Colab\"/></a>"
      ]
    },
    {
      "cell_type": "code",
      "source": [
        "import numpy as np"
      ],
      "metadata": {
        "id": "aDuEEU8amE4B"
      },
      "execution_count": null,
      "outputs": []
    },
    {
      "cell_type": "code",
      "source": [
        "text = 'You say goodbye and I say hello.'"
      ],
      "metadata": {
        "id": "MveLpLfdinKG"
      },
      "execution_count": null,
      "outputs": []
    },
    {
      "cell_type": "code",
      "execution_count": null,
      "metadata": {
        "id": "X77zVnyTiO-O"
      },
      "outputs": [],
      "source": [
        "# 희소행렬. 말뭉치에 등장하는 순서대로 단어를 원-핫 인코딩 한다.\n",
        "\n",
        "def preprocess(text):\n",
        "    text = text.lower() # 소문자 변환\n",
        "    text = text.replace('.', ' .') # 특정 단어 대체\n",
        "    words = text.split(' ') # 띄어쓰기로 문장을 분리. 리스트로 반환\n",
        "\n",
        "    word_to_id = {}\n",
        "    id_to_word = {}\n",
        "\n",
        "    for word in words:\n",
        "        if word not in word_to_id:\n",
        "            new_id = len(word_to_id)\n",
        "            word_to_id[word] = new_id\n",
        "            id_to_word[new_id] = word\n",
        "\n",
        "    corpus = np.array([word_to_id[w] for w in words])\n",
        "\n",
        "    return corpus, word_to_id, id_to_word"
      ]
    },
    {
      "cell_type": "code",
      "source": [
        "corpus, word_to_id, id_to_word = preprocess(text)"
      ],
      "metadata": {
        "id": "pjgGBHTemDxd"
      },
      "execution_count": null,
      "outputs": []
    },
    {
      "cell_type": "code",
      "source": [
        "# 동시 발생 행렬. 분포 가셀에 따라 주변에 등장하는 단어를 벡터에 반영한다.\n",
        "\n",
        "def creat_co_matrix(corpus, vocab_size, window_size=1): # vocab_size 는 단어의 개수이다.\n",
        "    corpus_size = len(corpus)\n",
        "    co_matrix = np.zeros((vocab_size, vocab_size), dtype=np.int32)\n",
        "\n",
        "    for idx, word_id in enumerate(corpus): # 인덱스와 원소를 묶어서 반환.\n",
        "        for i in range(1, window_size + 1):\n",
        "            left_idx = idx - i\n",
        "            right_idx = idx + i\n",
        "\n",
        "            if left_idx >= 0:\n",
        "                left_word_id = corpus[left_idx]\n",
        "                co_matrix[word_id, left_word_id] += 1\n",
        "\n",
        "            if right_idx < corpus_size:\n",
        "                right_word_id = corpus[right_idx]\n",
        "                co_matrix[word_id, right_word_id] += 1\n",
        "\n",
        "    return co_matrix"
      ],
      "metadata": {
        "id": "TctF_5yMnQNJ"
      },
      "execution_count": null,
      "outputs": []
    },
    {
      "cell_type": "code",
      "source": [
        "C = creat_co_matrix(corpus, 7)"
      ],
      "metadata": {
        "id": "AKhSTvSxtcXo"
      },
      "execution_count": null,
      "outputs": []
    },
    {
      "cell_type": "markdown",
      "source": [
        "# 코사인 유사도"
      ],
      "metadata": {
        "id": "iDwH0ZScU5hU"
      }
    },
    {
      "cell_type": "code",
      "source": [
        "def cos_similarity(x, y, eps = 1e-8):\n",
        "\n",
        "    nx = x / (np.sqrt(np.sum(x ** 2)) + eps) # x를 normalize\n",
        "    ny = y / (np.sqrt(np.sum(y ** 2)) + eps) # y를 normalize\n",
        "\n",
        "    return np.dot(nx, ny)"
      ],
      "metadata": {
        "id": "ud9FhpRTU9Ta"
      },
      "execution_count": null,
      "outputs": []
    },
    {
      "cell_type": "code",
      "source": [
        "# you와 i의 유사도를 비교.\n",
        "\n",
        "c0 = C[word_to_id['you']]\n",
        "c1 = C[word_to_id['i']]\n",
        "c0, c1"
      ],
      "metadata": {
        "id": "NoqOf8mTWbMf"
      },
      "execution_count": null,
      "outputs": []
    },
    {
      "cell_type": "code",
      "source": [
        "# 결과로 변환된 벡터에 단어의 본질적인 의미가 어느정도 녹아들었다는것을 알 수 있다.\n",
        "\n",
        "cos_similarity(c0, c1)"
      ],
      "metadata": {
        "id": "fMfZZRfVWqX3"
      },
      "execution_count": null,
      "outputs": []
    },
    {
      "cell_type": "markdown",
      "source": [
        "# 코사인 유사도 높은순으로 출력하기"
      ],
      "metadata": {
        "id": "d0l2nOQXXL_P"
      }
    },
    {
      "cell_type": "code",
      "source": [
        "def most_similar(query, word_to_id, id_to_word, word_matrix, top=5):\n",
        "    '''유사 단어 검색\n",
        "\n",
        "    :param query: 쿼리(텍스트)\n",
        "    :param word_to_id: 단어에서 단어 ID로 변환하는 딕셔너리\n",
        "    :param id_to_word: 단어 ID에서 단어로 변환하는 딕셔너리\n",
        "    :param word_matrix: 단어 벡터를 정리한 행렬. 각 행에 해당 단어 벡터가 저장되어 있다고 가정한다.\n",
        "    :param top: 상위 몇 개까지 출력할 지 지정\n",
        "    '''\n",
        "    if query not in word_to_id:\n",
        "        print('%s(을)를 찾을 수 없습니다.' % query)\n",
        "        return\n",
        "\n",
        "    print('\\n[query] ' + query)\n",
        "    query_id = word_to_id[query]\n",
        "    query_vec = word_matrix[query_id]\n",
        "\n",
        "    # 코사인 유사도 계산\n",
        "    vocab_size = len(id_to_word)\n",
        "\n",
        "    similarity = np.zeros(vocab_size)\n",
        "    for i in range(vocab_size):\n",
        "        similarity[i] = cos_similarity(word_matrix[i], query_vec)\n",
        "\n",
        "    # 코사인 유사도를 기준으로 내림차순으로 출력\n",
        "    count = 0\n",
        "    for i in (-1 * similarity).argsort(): # argsort() 오름차순으로 인덱스를 반환한다.\n",
        "        if id_to_word[i] == query:\n",
        "            continue\n",
        "        print(' %s: %s' % (id_to_word[i], similarity[i]))\n",
        "\n",
        "        count += 1\n",
        "        if count >= top:\n",
        "            return"
      ],
      "metadata": {
        "id": "uwt7ClrjXZVZ"
      },
      "execution_count": null,
      "outputs": []
    },
    {
      "cell_type": "code",
      "source": [
        "# 말 뭉치에서 you와 코사인 유사도가 가장 가까운 단어를 찾는다.\n",
        "# 하지만 말 뭉치가 너무 짧기 때문에 그리 정확하지 않다.\n",
        "\n",
        "most_similar('you', word_to_id, id_to_word, C, top=5)"
      ],
      "metadata": {
        "id": "14fvpHmWbTGg"
      },
      "execution_count": null,
      "outputs": []
    }
  ]
}