{
  "nbformat": 4,
  "nbformat_minor": 0,
  "metadata": {
    "colab": {
      "private_outputs": true,
      "provenance": [],
      "collapsed_sections": [
        "gt_nQHJiJr3P",
        "2U0b7u-VK8nZ",
        "QM1rmD39Uf0Z",
        "53j4NSXdaJMg",
        "5mjQlYaPfEZs",
        "KEQ24_FbbuDA",
        "oTmhD0IzidbA",
        "Dhy615EsDwx5"
      ],
      "authorship_tag": "ABX9TyO+ldluJjoqxAtwYaTc+xPm",
      "include_colab_link": true
    },
    "kernelspec": {
      "name": "python3",
      "display_name": "Python 3"
    },
    "language_info": {
      "name": "python"
    }
  },
  "cells": [
    {
      "cell_type": "markdown",
      "metadata": {
        "id": "view-in-github",
        "colab_type": "text"
      },
      "source": [
        "<a href=\"https://colab.research.google.com/github/jiwoong2/deeplearning/blob/main/time_layers.ipynb\" target=\"_parent\"><img src=\"https://colab.research.google.com/assets/colab-badge.svg\" alt=\"Open In Colab\"/></a>"
      ]
    },
    {
      "cell_type": "markdown",
      "source": [
        "# RNN(Recurrent Neural Network)\n"
      ],
      "metadata": {
        "id": "gt_nQHJiJr3P"
      }
    },
    {
      "cell_type": "code",
      "execution_count": null,
      "metadata": {
        "id": "QfJ222EWJkzx"
      },
      "outputs": [],
      "source": [
        "class RNN:\n",
        "    def __init__(self, Wx, Wh, b):\n",
        "        self.params = [Wx, Wh, b]\n",
        "        self.grads = [np.zeros_like(Wx), np.zeros_like(Wh), np.zeros_like(b)]\n",
        "        self.cache = None\n",
        "\n",
        "    def forward(self, x, h_prev):\n",
        "        Wx, Wh, b = self.params\n",
        "        t = np.dot(h_prev, Wh) + np.dot(x, Wx) + b\n",
        "        h_next = np.tanh(t)\n",
        "\n",
        "        self.cache = (x, h_prev, h_next)\n",
        "        return h_next\n",
        "\n",
        "    def backward(self, dh_next): # dh_next는 흘러들어온 미분\n",
        "        Wx, Wh, b = self.params\n",
        "        x, h_prev, h_next = self.cache\n",
        "\n",
        "        dt = dh_next * (1 - h_next ** 2) # 활성화 함수 tanh에 대한 미분.(1-y^2)\n",
        "        db = np.sum(dt, axis=0) # repeat node에 대한 역전파.\n",
        "        dWh = np.dot(h_prev.T, dt) # dot 연산에 대한 역전파\n",
        "        dh_prev = np.dot(dt, Wh.T) # dot 연산에 대한 역전파\n",
        "        dWx = np.dot(x.T, dt) # dot 연산에 대한 역전파\n",
        "        dx = np.dot(dt, Wx.T) # dot에 연산에 대한 역전파\n",
        "\n",
        "        self.grads[0][...] = dWx\n",
        "        self.grads[1][...] = dWh\n",
        "        self.grads[2][...] = db\n",
        "\n",
        "        return dx, dh_prev"
      ]
    },
    {
      "cell_type": "markdown",
      "source": [
        "# TimeRNN(미니배치, TruncatedBPTT)"
      ],
      "metadata": {
        "id": "2U0b7u-VK8nZ"
      }
    },
    {
      "cell_type": "code",
      "source": [
        "class TimeRNN:\n",
        "    def __init__(self, Wx, Wh, b, stateful=False): # stateful은 TruncatedBPTT의 시간블록의 출력인 히든스테이트를 다음 시간블록으로 전달할지 말지 결정한다.\n",
        "        self.params = [Wx, Wh, b]\n",
        "        self.grads = [np.zeros_like(Wx), np.zeros_like(Wh), np.zeros_like(b)]\n",
        "        self.layers = None\n",
        "\n",
        "        self.h, self.dh = None, None\n",
        "        self.stateful = stateful\n",
        "\n",
        "    def forward(self, xs):\n",
        "        Wx, Wh, b = self.params\n",
        "        N, T, D = xs.shape # 배치 크기, 시간블록 크기, embedding층을 거친 벡터 차원.\n",
        "        D, H = Wx.shape # data 는 D, D를 은닉층 H 으로 보내는 Weight matirx.\n",
        "\n",
        "        self.layers = [] # RNN 시간블록을 저장할 리스트.\n",
        "        hs = np.empty((N, T, H), dtype='f') # 3차원 텐서 생성. empty는 랜덤한 값을 생성함. 히든스테이트들을 저장할 것.\n",
        "\n",
        "        if not self.stateful or self.h is None:\n",
        "            self.h = np.zeros((N, H), dtype='f') # 히든스테이를 다음 블록으로 전달하지 않을 경우 제로행렬을 전달.\n",
        "\n",
        "        for t in range(T): # T는 타임사이즈.\n",
        "            layer = RNN(*self.params) # 브라켓을 떼고 RNN인슨턴스 생성에 필요한 파라미터를 입력.\n",
        "            self.h = layer.forward(xs[:, t, :], self.h) # 시간블록 선택(data), 히든스테이트 선택.\n",
        "            hs[:, t, :] = self.h\n",
        "            self.layers.append(layer)\n",
        "\n",
        "        return hs # 히든 스테이트들의 모임을 반환.\n",
        "\n",
        "    def backward(self, dhs):\n",
        "        Wx, Wh, b = self.params\n",
        "        N, T, H = dhs.shape # 흘러들어온 미분의 shape.\n",
        "        D, H = Wx.shape\n",
        "\n",
        "        dxs = np.empty((N, T, D), dtype='f')\n",
        "        dh = 0 # dh는 다음 시간블록에서 흘러들어온 미분.\n",
        "        grads = [0, 0, 0] # gradient를 저장할 리스트.\n",
        "        for t in reversed(range(T)): # 역전파이므로 마지막 시간블록부터 시작.\n",
        "            layer = self.layers[t]\n",
        "            dx, dh = layer.backward(dhs[:, t, :] + dh) # 흘러들어온 두 미분을 합한다.\n",
        "            dxs[:, t, :] = dx\n",
        "\n",
        "            for i, grad in enumerate(layer.grads): # gardient 저장.\n",
        "                grads[i] += grad\n",
        "\n",
        "        for i, grad in enumerate(grads):\n",
        "            self.grads[i][...] = grad\n",
        "        self.dh = dh\n",
        "\n",
        "        return dxs\n",
        "\n",
        "    def set_state(self, h):\n",
        "        self.h = h\n",
        "\n",
        "    def reset_state(self):\n",
        "        self.h = None"
      ],
      "metadata": {
        "id": "VQkjIZoXK9en"
      },
      "execution_count": null,
      "outputs": []
    },
    {
      "cell_type": "markdown",
      "source": [
        "# Time Embedding"
      ],
      "metadata": {
        "id": "QM1rmD39Uf0Z"
      }
    },
    {
      "cell_type": "code",
      "source": [
        "class TimeEmbedding:\n",
        "    def __init__(self, W): # bias는 없고 W는 각 단어들의 벡터표현이 각 행에 저장돼어 있음.\n",
        "        self.params = [W]\n",
        "        self.grads = [np.zeros_like(W)]\n",
        "        self.layers = None\n",
        "        self.W = W\n",
        "\n",
        "    def forward(self, xs): # 시간 블럭으로 묶인 단어 묶음.\n",
        "        N, T = xs.shape\n",
        "        V, D = self.W.shape # vocab(단어 개수)사이즈 * vector의 크기\n",
        "\n",
        "        out = np.empty((N, T, D), dtype='f') # xs와 동일한 사이즈의 행렬에 원소가 벡터로 변함.(각 단어의 ID를 벡터로 변환)\n",
        "        self.layers = [] # embedding 인스턴스들을 저장\n",
        "\n",
        "        for t in range(T): # T는 시간블럭의 길이\n",
        "            layer = Embedding(self.W)\n",
        "            out[:, t, :] = layer.forward(xs[:, t])\n",
        "            self.layers.append(layer)\n",
        "\n",
        "        return out\n",
        "\n",
        "    def backward(self, dout):\n",
        "        N, T, D = dout.shape # dout의 shape은 out의 shape와 동일하다.\n",
        "\n",
        "        grad = 0\n",
        "        for t in range(T):\n",
        "            layer = self.layers[t]\n",
        "            layer.backward(dout[:, t, :])\n",
        "            grad += layer.grads[0] # 모든 gredient를 더한후 업데이트한다.\n",
        "\n",
        "            # ? 업데이트 과정은?\n",
        "\n",
        "        self.grads[0][...] = grad\n",
        "        return None"
      ],
      "metadata": {
        "id": "NFfNqCDWUkjD"
      },
      "execution_count": null,
      "outputs": []
    },
    {
      "cell_type": "markdown",
      "source": [
        "# Time Affine"
      ],
      "metadata": {
        "id": "53j4NSXdaJMg"
      }
    },
    {
      "cell_type": "code",
      "source": [
        "class TimeAffine:\n",
        "    def __init__(self, W, b):\n",
        "        self.params = [W, b]\n",
        "        self.grads = [np.zeros_like(W), np.zeros_like(b)]\n",
        "        self.x = None\n",
        "\n",
        "    def forward(self, x): # TimeRNN 층에서 올라온 hidden states 묶음.\n",
        "        N, T, D = x.shape # 베치사이즈 * 타임사이즈 * 히든스테이트 벡터의 차원.\n",
        "        W, b = self.params\n",
        "\n",
        "        rx = x.reshape(N*T, -1) # 히든 스테이트 하나 하나 affine 변환을 하는 것 보다 행렬로 바꿔서 한번에 연산하는 것 이 빠름.\n",
        "        out = np.dot(rx, W) + b # W 의 사이즈는 히든사이즈 * voc사이즈.( 각 단어의 스코어를 부여해야 하므로)\n",
        "        self.x = x\n",
        "        return out.reshape(N, T, -1) # 원래형태로 복원\n",
        "\n",
        "    def backward(self, dout): # dout은 Time Softmax층에서 흘러들어온 미분.\n",
        "        x = self.x\n",
        "        N, T, D = x.shape\n",
        "        W, b = self.params\n",
        "\n",
        "        dout = dout.reshape(N*T, -1) # 순전파에서와의 같은 이유로 3차원텐서를 2차원 행렬로 변환.\n",
        "        rx = x.reshape(N*T, -1) # rx는 TimeRNN에서 올라온 히든 스테이트 텐서를 행렬로 변환.\n",
        "\n",
        "        db = np.sum(dout, axis=0) # repeat노드의 역전파\n",
        "        dW = np.dot(rx.T, dout)\n",
        "        dx = np.dot(dout, W.T)\n",
        "        dx = dx.reshape(*x.shape)\n",
        "\n",
        "        self.grads[0][...] = dW # 업데이트\n",
        "        self.grads[1][...] = db\n",
        "\n",
        "        return dx # 밑으로 흘려보냄"
      ],
      "metadata": {
        "id": "s2SEPE1GaOoj"
      },
      "execution_count": null,
      "outputs": []
    },
    {
      "cell_type": "markdown",
      "source": [
        "# TimeSoftmaxWithLoss"
      ],
      "metadata": {
        "id": "5mjQlYaPfEZs"
      }
    },
    {
      "cell_type": "code",
      "source": [
        "class TimeSoftmaxWithLoss:\n",
        "    def __init__(self):\n",
        "        self.params, self.grads = [], [] # S.L층은 학습해야할 파라미터가 없음.\n",
        "        self.cache = None\n",
        "        self.ignore_label = -1 # 특정 라벨을 무시.\n",
        "\n",
        "    def forward(self, xs, ts): # ts는 label\n",
        "        N, T, V = xs.shape # 단어에 대한 스코어.\n",
        "\n",
        "        if ts.ndim == 3:  # 정답 레이블이 원핫 벡터인 경우\n",
        "            ts = ts.argmax(axis=2) # 원핫인코딩 되기전으로 수정.\n",
        "\n",
        "        mask = (ts != self.ignore_label)\n",
        "\n",
        "        # 배치용과 시계열용을 정리(reshape)\n",
        "        xs = xs.reshape(N * T, V) # 3차언텐서를 행렬로.\n",
        "        ts = ts.reshape(N * T) # flatten\n",
        "        mask = mask.reshape(N * T)\n",
        "\n",
        "        ys = softmax(xs)\n",
        "        ls = np.log(ys[np.arange(N * T), ts])# 슬라이싱 0,3  1,2  ...\n",
        "        ls *= mask  # ignore_label에 해당하는 데이터는 손실을 0으로 설정\n",
        "        loss = -np.sum(ls)\n",
        "        loss /= mask.sum()  # corss entropy 구하는 과정\n",
        "\n",
        "        self.cache = (ts, ys, mask, (N, T, V))\n",
        "        return loss\n",
        "\n",
        "    def backward(self, dout=1): # 마지막층이므로 흘러들어온 미분은 1\n",
        "        ts, ys, mask, (N, T, V) = self.cache\n",
        "\n",
        "        dx = ys\n",
        "        dx[np.arange(N * T), ts] -= 1 # 슬라이싱, 빼기. S.L의 역전파\n",
        "        dx *= dout\n",
        "        dx /= mask.sum() # 개수로 나눠줌\n",
        "        dx *= mask[:, np.newaxis]  # 벡터를 열벡터로하는 행렬로 변환. ignore_label에 해당하는 데이터는 기울기를 0으로 설정\n",
        "\n",
        "        dx = dx.reshape((N, T, V))\n",
        "\n",
        "        return dx"
      ],
      "metadata": {
        "id": "qE120lOMfJWS"
      },
      "execution_count": null,
      "outputs": []
    },
    {
      "cell_type": "markdown",
      "source": [
        "# Simple RNN"
      ],
      "metadata": {
        "id": "KEQ24_FbbuDA"
      }
    },
    {
      "cell_type": "code",
      "source": [
        "class SimpleRnnlm:\n",
        "    def __init__(self, vocab_size, wordvec_size, hidden_size): # vocab_size = 어휘의 개수, wordvec_size = 단어를 몇차원 벡터로 변환할 것  인가?(embedding층의 출력), hidden_size = 히든 스테이트\n",
        "        V, D, H = vocab_size, wordvec_size, hidden_size\n",
        "        rn = np.random.randn\n",
        "\n",
        "        # 가중치 초기화\n",
        "        embed_W = (rn(V, D) / 100).astype('f') # time embedding층의 weight matrix.\n",
        "        rnn_Wx = (rn(D, H) / np.sqrt(D)).astype('f') # RNN층의 data에 act하는 matrix. 자비에 초기값.\n",
        "        rnn_Wh = (rn(H, H) / np.sqrt(H)).astype('f') # RNN층의 hidden_state에 act하는 matrix. 자비에 초기값.\n",
        "        rnn_b = np.zeros(H).astype('f')\n",
        "        affine_W = (rn(H, V) / np.sqrt(H)).astype('f') # affine층에 act하는 matrix. 자비에 초기값.각 단어에대한 스코어 출력.\n",
        "        affine_b = np.zeros(V).astype('f')\n",
        "\n",
        "        # 계층 생성\n",
        "        self.layers = [\n",
        "            TimeEmbedding(embed_W),\n",
        "            TimeRNN(rnn_Wx, rnn_Wh, rnn_b, stateful=True),\n",
        "            TimeAffine(affine_W, affine_b)\n",
        "        ]\n",
        "        self.loss_layer = TimeSoftmaxWithLoss()\n",
        "        self.rnn_layer = self.layers[1]\n",
        "\n",
        "        # 모든 가중치와 기울기를 리스트에 모은다.\n",
        "        self.params, self.grads = [], []\n",
        "        for layer in self.layers:\n",
        "            self.params += layer.params # 계속 추가.\n",
        "            self.grads += layer.grads\n",
        "\n",
        "    def forward(self, xs, ts): # xs는 단어의 묶음(배치사이즈*시간사이즈의 행렬 그 원소는 단어의 아이디). ts(배치사이즈*시간사이즈의 행렬 그 원소는 단어의 아이디)\n",
        "        for layer in self.layers:\n",
        "            xs = layer.forward(xs)\n",
        "        loss = self.loss_layer.forward(xs, ts)\n",
        "        return loss\n",
        "\n",
        "    def backward(self, dout=1):\n",
        "        dout = self.loss_layer.backward(dout)\n",
        "        for layer in reversed(self.layers):\n",
        "            dout = layer.backward(dout)\n",
        "        return dout\n",
        "\n",
        "    def reset_state(self):\n",
        "        self.rnn_layer.reset_state()"
      ],
      "metadata": {
        "id": "idP9zLMybyZ0"
      },
      "execution_count": null,
      "outputs": []
    },
    {
      "cell_type": "markdown",
      "source": [
        "# Train Custom Loop"
      ],
      "metadata": {
        "id": "oTmhD0IzidbA"
      }
    },
    {
      "cell_type": "code",
      "source": [
        "# 하이퍼파라미터 설정\n",
        "batch_size = 10\n",
        "wordvec_size = 100 # 단어를 100차원 벡터로 표현하고 싶음.\n",
        "hidden_size = 100 # RNN의 은닉 상태 벡터의 원소 수\n",
        "time_size = 5     # Truncated BPTT가 한 번에 펼치는 시간 크기\n",
        "lr = 0.1\n",
        "max_epoch = 100\n",
        "\n",
        "# 학습 데이터 읽기(전체 중 1000개만)\n",
        "corpus, word_to_id, id_to_word = ptb.load_data('train')\n",
        "corpus_size = 1000\n",
        "corpus = corpus[:corpus_size] # 데이터를 1000미만으로 cut. RNN은 성능이 그렇게 좋지 못해 과거 data를 많이 기억하지 못함.\n",
        "vocab_size = int(max(corpus) + 1) # 단어 id 최댓값 + 1.\n",
        "\n",
        "xs = corpus[:-1]  # 입력. 맨끝 제외. target단어의 다음 단어가 라벨이 되므로.\n",
        "ts = corpus[1:]   # 출력(정답 레이블). 맨 처음 제외.\n",
        "data_size = len(xs)\n",
        "print('말뭉치 크기: %d, 어휘 수: %d' % (corpus_size, vocab_size))\n",
        "\n",
        "# 학습 시 사용하는 변수\n",
        "max_iters = data_size // (batch_size * time_size) # 미니배치의 갯수. iteration 반복.\n",
        "time_idx = 0 # 타임블럭\n",
        "total_loss = 0\n",
        "loss_count = 0\n",
        "ppl_list = [] # 자연어처리에서 모델의 성능을 표현하는 식.\n",
        "\n",
        "# 모델 생성\n",
        "model = SimpleRnnlm(vocab_size, wordvec_size, hidden_size)\n",
        "optimizer = SGD(lr)\n",
        "\n",
        "# 미니배치의 각 샘플의 읽기 시작 위치를 계산\n",
        "jump = (corpus_size - 1) // batch_size\n",
        "offsets = [i * jump for i in range(batch_size)] # 각 배치에서 처음등장하는 단어의 위치.\n",
        "\n",
        "for epoch in range(max_epoch):\n",
        "    for iter in range(max_iters):\n",
        "        # 미니배치 취득\n",
        "        batch_x = np.empty((batch_size, time_size), dtype='i')\n",
        "        batch_t = np.empty((batch_size, time_size), dtype='i')\n",
        "        for t in range(time_size):\n",
        "            for i, offset in enumerate(offsets): # 각 배치 행렬에 원소를 채워넣음.\n",
        "                batch_x[i, t] = xs[(offset + time_idx) % data_size]\n",
        "                batch_t[i, t] = ts[(offset + time_idx) % data_size]\n",
        "            time_idx += 1\n",
        "\n",
        "        # 기울기를 구하여 매개변수 갱신\n",
        "        loss = model.forward(batch_x, batch_t)\n",
        "        model.backward()\n",
        "        optimizer.update(model.params, model.grads)\n",
        "        total_loss += loss\n",
        "        loss_count += 1\n",
        "\n",
        "    # 에폭마다 퍼플렉서티 평가\n",
        "    ppl = np.exp(total_loss / loss_count)\n",
        "    print('| 에폭 %d | 퍼플렉서티 %.2f'\n",
        "          % (epoch+1, ppl))\n",
        "    ppl_list.append(float(ppl))\n",
        "    total_loss, loss_count = 0, 0\n",
        "\n",
        "# 그래프 그리기\n",
        "x = np.arange(len(ppl_list))\n",
        "plt.plot(x, ppl_list, label='train')\n",
        "plt.xlabel('epochs')\n",
        "plt.ylabel('perplexity')\n",
        "plt.show()"
      ],
      "metadata": {
        "id": "5EQYXXw0ihfR"
      },
      "execution_count": null,
      "outputs": []
    },
    {
      "cell_type": "markdown",
      "source": [
        "# LSTM"
      ],
      "metadata": {
        "id": "Dhy615EsDwx5"
      }
    },
    {
      "cell_type": "code",
      "source": [
        "class LSTM:\n",
        "    def __init__(self, Wx, Wh, b):\n",
        "        '''\n",
        "\n",
        "        Parameters\n",
        "        ----------\n",
        "        Wx: 입력 x에 대한 가중치 매개변수(4개분의 가중치가 담겨 있음), 옆으로 묶음.\n",
        "        Wh: 은닉 상태 h에 대한 가장추 매개변수(4개분의 가중치가 담겨 있음)\n",
        "        b: 편향（4개분의 편향이 담겨 있음）\n",
        "        '''\n",
        "        self.params = [Wx, Wh, b]\n",
        "        self.grads = [np.zeros_like(Wx), np.zeros_like(Wh), np.zeros_like(b)]\n",
        "        self.cache = None\n",
        "\n",
        "    def forward(self, x, h_prev, c_prev): # LSTM에서는 파라미터 c_prev가 하나 더 필요하다.\n",
        "        Wx, Wh, b = self.params\n",
        "        N, H = h_prev.shape # 히든스테이트와 shape이 똑같다.\n",
        "\n",
        "        A = np.dot(x, Wx) + np.dot(h_prev, Wh) + b # Affine 변환.(4개의 Affine 변환)\n",
        "\n",
        "        # 4개의 Affine변환을 sliceing\n",
        "        f = A[:, :H]\n",
        "        g = A[:, H:2*H]\n",
        "        i = A[:, 2*H:3*H]\n",
        "        o = A[:, 3*H:]\n",
        "\n",
        "        f = sigmoid(f) # forget gate\n",
        "        g = np.tanh(g) # 새로 추가할 정보.\n",
        "        i = sigmoid(i) # input gate\n",
        "        o = sigmoid(o) # output gate\n",
        "\n",
        "        c_next = f * c_prev + g * i # 다음시각으로 보내는 cell state\n",
        "        h_next = o * np.tanh(c_next) # 다음시각으로 보내는 hidden state\n",
        "\n",
        "        self.cache = (x, h_prev, c_prev, i, f, g, o, c_next) # 역전파할때 사용.\n",
        "        return h_next, c_next\n",
        "\n",
        "    def backward(self, dh_next, dc_next):\n",
        "        Wx, Wh, b = self.params\n",
        "        x, h_prev, c_prev, i, f, g, o, c_next = self.cache\n",
        "\n",
        "        tanh_c_next = np.tanh(c_next) # 순전파 조각.\n",
        "\n",
        "        # 역저파 graph을 따라 연산.\n",
        "        ds = dc_next + (dh_next * o) * (1 - tanh_c_next ** 2)\n",
        "\n",
        "        dc_prev = ds * f\n",
        "\n",
        "        di = ds * g\n",
        "        df = ds * c_prev\n",
        "        do = dh_next * tanh_c_next\n",
        "        dg = ds * i\n",
        "\n",
        "        di *= i * (1 - i) # sigmoid함수의 미분\n",
        "        df *= f * (1 - f)\n",
        "        do *= o * (1 - o)\n",
        "        dg *= (1 - g ** 2) # tanh함수의 미분.\n",
        "\n",
        "        dA = np.hstack((df, dg, di, do)) # 옆으로 이어붙임.(vstack은 vertical stcak. 위로 이어붙임.)\n",
        "\n",
        "        dWh = np.dot(h_prev.T, dA)\n",
        "        dWx = np.dot(x.T, dA)\n",
        "        db = dA.sum(axis=0)\n",
        "\n",
        "        self.grads[0][...] = dWx\n",
        "        self.grads[1][...] = dWh\n",
        "        self.grads[2][...] = db\n",
        "\n",
        "        dx = np.dot(dA, Wx.T)\n",
        "        dh_prev = np.dot(dA, Wh.T)\n",
        "\n",
        "        return dx, dh_prev, dc_prev"
      ],
      "metadata": {
        "id": "3tBCE9BjD0pA"
      },
      "execution_count": null,
      "outputs": []
    },
    {
      "cell_type": "markdown",
      "source": [
        "# TIme LSTM"
      ],
      "metadata": {
        "id": "_cvGpa_RKArI"
      }
    },
    {
      "cell_type": "code",
      "source": [
        "class TimeLSTM:\n",
        "    def __init__(self, Wx, Wh, b, stateful=False): # stateful 파라미터가 추가. 순전파시 시간블럭들의 연결 여부.\n",
        "        self.params = [Wx, Wh, b]\n",
        "        self.grads = [np.zeros_like(Wx), np.zeros_like(Wh), np.zeros_like(b)]\n",
        "        self.layers = None\n",
        "\n",
        "        self.h, self.c = None, None\n",
        "        self.dh = None\n",
        "        self.stateful = stateful\n",
        "\n",
        "    def forward(self, xs):\n",
        "        Wx, Wh, b = self.params\n",
        "        N, T, D = xs.shape\n",
        "        H = Wh.shape[0]\n",
        "\n",
        "        self.layers = []\n",
        "        hs = np.empty((N, T, H), dtype='f')\n",
        "\n",
        "        if not self.stateful or self.h is None:\n",
        "            self.h = np.zeros((N, H), dtype='f')\n",
        "        if not self.stateful or self.c is None:\n",
        "            self.c = np.zeros((N, H), dtype='f')\n",
        "\n",
        "        for t in range(T):\n",
        "            layer = LSTM(*self.params)\n",
        "            self.h, self.c = layer.forward(xs[:, t, :], self.h, self.c)\n",
        "            hs[:, t, :] = self.h\n",
        "\n",
        "            self.layers.append(layer)\n",
        "\n",
        "        return hs\n",
        "\n",
        "    def backward(self, dhs):\n",
        "        Wx, Wh, b = self.params\n",
        "        N, T, H = dhs.shape\n",
        "        D = Wx.shape[0]\n",
        "\n",
        "        dxs = np.empty((N, T, D), dtype='f')\n",
        "        dh, dc = 0, 0\n",
        "\n",
        "        grads = [0, 0, 0]\n",
        "        for t in reversed(range(T)):\n",
        "            layer = self.layers[t]\n",
        "            dx, dh, dc = layer.backward(dhs[:, t, :] + dh, dc)\n",
        "            dxs[:, t, :] = dx\n",
        "            for i, grad in enumerate(layer.grads):\n",
        "                grads[i] += grad\n",
        "\n",
        "        for i, grad in enumerate(grads):\n",
        "            self.grads[i][...] = grad\n",
        "        self.dh = dh\n",
        "        return dxs\n",
        "\n",
        "    def set_state(self, h, c=None):\n",
        "        self.h, self.c = h, c\n",
        "\n",
        "    def reset_state(self):\n",
        "        self.h, self.c = None, None"
      ],
      "metadata": {
        "id": "pIj_5ZdmJ7iy"
      },
      "execution_count": null,
      "outputs": []
    }
  ]
}