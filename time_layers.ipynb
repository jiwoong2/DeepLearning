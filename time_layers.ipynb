{
  "nbformat": 4,
  "nbformat_minor": 0,
  "metadata": {
    "colab": {
      "private_outputs": true,
      "provenance": [],
      "collapsed_sections": [
        "gt_nQHJiJr3P",
        "2U0b7u-VK8nZ",
        "QM1rmD39Uf0Z"
      ],
      "authorship_tag": "ABX9TyP1FRuJzxP7N77kyA1o8vyn",
      "include_colab_link": true
    },
    "kernelspec": {
      "name": "python3",
      "display_name": "Python 3"
    },
    "language_info": {
      "name": "python"
    }
  },
  "cells": [
    {
      "cell_type": "markdown",
      "metadata": {
        "id": "view-in-github",
        "colab_type": "text"
      },
      "source": [
        "<a href=\"https://colab.research.google.com/github/jiwoong2/deeplearning/blob/main/time_layers.ipynb\" target=\"_parent\"><img src=\"https://colab.research.google.com/assets/colab-badge.svg\" alt=\"Open In Colab\"/></a>"
      ]
    },
    {
      "cell_type": "markdown",
      "source": [
        "# RNN(Recurrent Neural Network)\n"
      ],
      "metadata": {
        "id": "gt_nQHJiJr3P"
      }
    },
    {
      "cell_type": "code",
      "execution_count": null,
      "metadata": {
        "id": "QfJ222EWJkzx"
      },
      "outputs": [],
      "source": [
        "class RNN:\n",
        "    def __init__(self, Wx, Wh, b):\n",
        "        self.params = [Wx, Wh, b]\n",
        "        self.grads = [np.zeros_like(Wx), np.zeros_like(Wh), np.zeros_like(b)]\n",
        "        self.cache = None\n",
        "\n",
        "    def forward(self, x, h_prev):\n",
        "        Wx, Wh, b = self.params\n",
        "        t = np.dot(h_prev, Wh) + np.dot(x, Wx) + b\n",
        "        h_next = np.tanh(t)\n",
        "\n",
        "        self.cache = (x, h_prev, h_next)\n",
        "        return h_next\n",
        "\n",
        "    def backward(self, dh_next): # dh_next는 흘러들어온 미분\n",
        "        Wx, Wh, b = self.params\n",
        "        x, h_prev, h_next = self.cache\n",
        "\n",
        "        dt = dh_next * (1 - h_next ** 2) # 활성화 함수 tanh에 대한 미분.(1-y^2)\n",
        "        db = np.sum(dt, axis=0) # repeat node에 대한 역전파.\n",
        "        dWh = np.dot(h_prev.T, dt) # dot 연산에 대한 역전파\n",
        "        dh_prev = np.dot(dt, Wh.T) # dot 연산에 대한 역전파\n",
        "        dWx = np.dot(x.T, dt) # dot 연산에 대한 역전파\n",
        "        dx = np.dot(dt, Wx.T) # dot에 연산에 대한 역전파\n",
        "\n",
        "        self.grads[0][...] = dWx\n",
        "        self.grads[1][...] = dWh\n",
        "        self.grads[2][...] = db\n",
        "\n",
        "        return dx, dh_prev"
      ]
    },
    {
      "cell_type": "markdown",
      "source": [
        "# TimeRNN(미니배치, TruncatedBPTT)"
      ],
      "metadata": {
        "id": "2U0b7u-VK8nZ"
      }
    },
    {
      "cell_type": "code",
      "source": [
        "class TimeRNN:\n",
        "    def __init__(self, Wx, Wh, b, stateful=False): # stateful은 TruncatedBPTT의 시간블록의 출력인 히든스테이트를 다음 시간블록으로 전달할지 말지 결정한다.\n",
        "        self.params = [Wx, Wh, b]\n",
        "        self.grads = [np.zeros_like(Wx), np.zeros_like(Wh), np.zeros_like(b)]\n",
        "        self.layers = None\n",
        "\n",
        "        self.h, self.dh = None, None\n",
        "        self.stateful = stateful\n",
        "\n",
        "    def forward(self, xs):\n",
        "        Wx, Wh, b = self.params\n",
        "        N, T, D = xs.shape # 배치 크기, 시간블록 크기, embedding층을 거친 벡터 차원.\n",
        "        D, H = Wx.shape # data 는 D, D를 은닉층 H 으로 보내는 Weight matirx.\n",
        "\n",
        "        self.layers = [] # RNN 시간블록을 저장할 리스트.\n",
        "        hs = np.empty((N, T, H), dtype='f') # 3차원 텐서 생성. empty는 랜덤한 값을 생성함. 히든스테이트들을 저장할 것.\n",
        "\n",
        "        if not self.stateful or self.h is None:\n",
        "            self.h = np.zeros((N, H), dtype='f') # 히든스테이를 다음 블록으로 전달하지 않을 경우 제로행렬을 전달.\n",
        "\n",
        "        for t in range(T): # T는 타임사이즈.\n",
        "            layer = RNN(*self.params) # 브라켓을 떼고 RNN인슨턴스 생성에 필요한 파라미터를 입력.\n",
        "            self.h = layer.forward(xs[:, t, :], self.h) # 시간블록 선택(data), 히든스테이트 선택.\n",
        "            hs[:, t, :] = self.h\n",
        "            self.layers.append(layer)\n",
        "\n",
        "        return hs # 히든 스테이트들의 모임을 반환.\n",
        "\n",
        "    def backward(self, dhs):\n",
        "        Wx, Wh, b = self.params\n",
        "        N, T, H = dhs.shape # 흘러들어온 미분의 shape.\n",
        "        D, H = Wx.shape\n",
        "\n",
        "        dxs = np.empty((N, T, D), dtype='f')\n",
        "        dh = 0 # dh는 다음 시간블록에서 흘러들어온 미분.\n",
        "        grads = [0, 0, 0] # gradient를 저장할 리스트.\n",
        "        for t in reversed(range(T)): # 역전파이므로 마지막 시간블록부터 시작.\n",
        "            layer = self.layers[t]\n",
        "            dx, dh = layer.backward(dhs[:, t, :] + dh) # 흘러들어온 두 미분을 합한다.\n",
        "            dxs[:, t, :] = dx\n",
        "\n",
        "            for i, grad in enumerate(layer.grads): # gardient 저장.\n",
        "                grads[i] += grad\n",
        "\n",
        "        for i, grad in enumerate(grads):\n",
        "            self.grads[i][...] = grad\n",
        "        self.dh = dh\n",
        "\n",
        "        return dxs\n",
        "\n",
        "    def set_state(self, h):\n",
        "        self.h = h\n",
        "\n",
        "    def reset_state(self):\n",
        "        self.h = None"
      ],
      "metadata": {
        "id": "VQkjIZoXK9en"
      },
      "execution_count": null,
      "outputs": []
    },
    {
      "cell_type": "markdown",
      "source": [
        "# Time Embedding"
      ],
      "metadata": {
        "id": "QM1rmD39Uf0Z"
      }
    },
    {
      "cell_type": "code",
      "source": [
        "class TimeEmbedding:\n",
        "    def __init__(self, W): # bias는 없고 W는 각 단어들의 벡터표현이 각 행에 저장돼어 있음.\n",
        "        self.params = [W]\n",
        "        self.grads = [np.zeros_like(W)]\n",
        "        self.layers = None\n",
        "        self.W = W\n",
        "\n",
        "    def forward(self, xs): # 시간 블럭으로 묶인 단어 묶음.\n",
        "        N, T = xs.shape\n",
        "        V, D = self.W.shape # vocab(단어 개수)사이즈 * vector의 크기\n",
        "\n",
        "        out = np.empty((N, T, D), dtype='f') # xs와 동일한 사이즈의 행렬에 원소가 벡터로 변함.(각 단어의 ID를 벡터로 변환)\n",
        "        self.layers = [] # embedding 인스턴스들을 저장\n",
        "\n",
        "        for t in range(T): # T는 시간블럭의 길이\n",
        "            layer = Embedding(self.W)\n",
        "            out[:, t, :] = layer.forward(xs[:, t])\n",
        "            self.layers.append(layer)\n",
        "\n",
        "        return out\n",
        "\n",
        "    def backward(self, dout):\n",
        "        N, T, D = dout.shape # dout의 shape은 out의 shape와 동일하다.\n",
        "\n",
        "        grad = 0\n",
        "        for t in range(T):\n",
        "            layer = self.layers[t]\n",
        "            layer.backward(dout[:, t, :])\n",
        "            grad += layer.grads[0] # 모든 gredient를 더한후 업데이트한다.\n",
        "\n",
        "            # ? 업데이트 과정은?\n",
        "\n",
        "        self.grads[0][...] = grad\n",
        "        return None"
      ],
      "metadata": {
        "id": "NFfNqCDWUkjD"
      },
      "execution_count": null,
      "outputs": []
    },
    {
      "cell_type": "markdown",
      "source": [
        "# Time Affine"
      ],
      "metadata": {
        "id": "53j4NSXdaJMg"
      }
    },
    {
      "cell_type": "code",
      "source": [
        "class TimeAffine:\n",
        "    def __init__(self, W, b):\n",
        "        self.params = [W, b]\n",
        "        self.grads = [np.zeros_like(W), np.zeros_like(b)]\n",
        "        self.x = None\n",
        "\n",
        "    def forward(self, x): # TimeRNN 층에서 올라온 hidden states 묶음.\n",
        "        N, T, D = x.shape # 베치사이즈 * 타임사이즈 * 히든스테이트 벡터의 차원.\n",
        "        W, b = self.params\n",
        "\n",
        "        rx = x.reshape(N*T, -1) # 히든 스테이트 하나 하나 affine 변환을 하는 것 보다 행렬로 바꿔서 한번에 연산하는 것 이 빠름.\n",
        "        out = np.dot(rx, W) + b # W 의 사이즈는 히든사이즈 * voc사이즈.( 각 단어의 스코어를 부여해야 하므로)\n",
        "        self.x = x\n",
        "        return out.reshape(N, T, -1) # 원래형태로 복원\n",
        "\n",
        "    def backward(self, dout): # dout은 Time Softmax층에서 흘러들어온 미분.\n",
        "        x = self.x\n",
        "        N, T, D = x.shape\n",
        "        W, b = self.params\n",
        "\n",
        "        dout = dout.reshape(N*T, -1) # 순전파에서와의 같은 이유로 3차원텐서를 2차원 행렬로 변환.\n",
        "        rx = x.reshape(N*T, -1) # rx는 TimeRNN에서 올라온 히든 스테이트 텐서를 행렬로 변환.\n",
        "\n",
        "        db = np.sum(dout, axis=0) # repeat노드의 역전파\n",
        "        dW = np.dot(rx.T, dout)\n",
        "        dx = np.dot(dout, W.T)\n",
        "        dx = dx.reshape(*x.shape)\n",
        "\n",
        "        self.grads[0][...] = dW # 업데이트\n",
        "        self.grads[1][...] = db\n",
        "\n",
        "        return dx # 밑으로 흘려보냄"
      ],
      "metadata": {
        "id": "s2SEPE1GaOoj"
      },
      "execution_count": null,
      "outputs": []
    },
    {
      "cell_type": "markdown",
      "source": [
        "# TimeSoftmaxWithLoss"
      ],
      "metadata": {
        "id": "5mjQlYaPfEZs"
      }
    },
    {
      "cell_type": "code",
      "source": [
        "class TimeSoftmaxWithLoss:\n",
        "    def __init__(self):\n",
        "        self.params, self.grads = [], [] # S.L층은 학습해야할 파라미터가 없음.\n",
        "        self.cache = None\n",
        "        self.ignore_label = -1 # 특정 라벨을 무시.\n",
        "\n",
        "    def forward(self, xs, ts): # ts는 label\n",
        "        N, T, V = xs.shape # 단어에 대한 스코어.\n",
        "\n",
        "        if ts.ndim == 3:  # 정답 레이블이 원핫 벡터인 경우\n",
        "            ts = ts.argmax(axis=2) # 원핫인코딩 되기전으로 수정.\n",
        "\n",
        "        mask = (ts != self.ignore_label)\n",
        "\n",
        "        # 배치용과 시계열용을 정리(reshape)\n",
        "        xs = xs.reshape(N * T, V) # 3차언텐서를 행렬로.\n",
        "        ts = ts.reshape(N * T) # flatten\n",
        "        mask = mask.reshape(N * T)\n",
        "\n",
        "        ys = softmax(xs)\n",
        "        ls = np.log(ys[np.arange(N * T), ts])# 슬라이싱 0,3  1,2  ...\n",
        "        ls *= mask  # ignore_label에 해당하는 데이터는 손실을 0으로 설정\n",
        "        loss = -np.sum(ls)\n",
        "        loss /= mask.sum()  # corss entropy 구하는 과정\n",
        "\n",
        "        self.cache = (ts, ys, mask, (N, T, V))\n",
        "        return loss\n",
        "\n",
        "    def backward(self, dout=1): # 마지막층이므로 흘러들어온 미분은 1\n",
        "        ts, ys, mask, (N, T, V) = self.cache\n",
        "\n",
        "        dx = ys\n",
        "        dx[np.arange(N * T), ts] -= 1 # 슬라이싱, 빼기. S.L의 역전파\n",
        "        dx *= dout\n",
        "        dx /= mask.sum() # 개수로 나눠줌\n",
        "        dx *= mask[:, np.newaxis]  # 벡터를 열벡터로하는 행렬로 변환. ignore_label에 해당하는 데이터는 기울기를 0으로 설정\n",
        "\n",
        "        dx = dx.reshape((N, T, V))\n",
        "\n",
        "        return dx"
      ],
      "metadata": {
        "id": "qE120lOMfJWS"
      },
      "execution_count": null,
      "outputs": []
    }
  ]
}