{
  "nbformat": 4,
  "nbformat_minor": 0,
  "metadata": {
    "colab": {
      "provenance": [],
      "include_colab_link": true
    },
    "kernelspec": {
      "name": "python3",
      "display_name": "Python 3"
    },
    "language_info": {
      "name": "python"
    }
  },
  "cells": [
    {
      "cell_type": "markdown",
      "metadata": {
        "id": "view-in-github",
        "colab_type": "text"
      },
      "source": [
        "<a href=\"https://colab.research.google.com/github/jiwoong2/deeplearning/blob/main/Custom_Dataset.ipynb\" target=\"_parent\"><img src=\"https://colab.research.google.com/assets/colab-badge.svg\" alt=\"Open In Colab\"/></a>"
      ]
    },
    {
      "cell_type": "code",
      "execution_count": 1,
      "metadata": {
        "id": "K4XPqjRTHf54"
      },
      "outputs": [],
      "source": [
        "import torch\n",
        "from torchvision import transforms\n",
        "import numpy as np"
      ]
    },
    {
      "cell_type": "code",
      "source": [
        "class Custom_Dataset(torch.utils.data.Dataset):\n",
        "    def __init__(self, X, Y, transform=None):\n",
        "        self.X = X\n",
        "        self.Y = Y\n",
        "        self.transform = transform\n",
        "\n",
        "    def __len__(self):\n",
        "        return self.X.shape[0]\n",
        "\n",
        "    def __getitem__(self, idx):\n",
        "        x = self.X[idx]\n",
        "        if self.transform is not None:\n",
        "            x = self.transform(x)\n",
        "        y = self.Y[idx]\n",
        "        return x, y"
      ],
      "metadata": {
        "id": "qRcnrgq3HsLc"
      },
      "execution_count": 2,
      "outputs": []
    },
    {
      "cell_type": "code",
      "source": [
        "X_data = np.arange(-10,10).reshape(-1,1)\n",
        "Y_data = X_data**2"
      ],
      "metadata": {
        "id": "973GNPNUI7Cr"
      },
      "execution_count": 3,
      "outputs": []
    },
    {
      "cell_type": "code",
      "source": [
        "transform = lambda x:x+1\n",
        "BATCH_SIZE = 8\n",
        "\n",
        "custom_DS = Custom_Dataset(X_data, Y_data, transform=transform)\n",
        "\n",
        "NoT = int(len(custom_DS)*0.8)\n",
        "NoV = int(len(custom_DS)*0.1)\n",
        "NoTes = len(custom_DS) - NoT - NoV\n",
        "train_DS, val_DS, test_DS = torch.utils.data.random_split(custom_DS, [NoT, NoV, NoTes]) # 트레이닝 data, validation data, test data로 나눔.\n",
        "\n",
        "train_DL = torch.utils.data.DataLoader(train_DS, batch_size=BATCH_SIZE, shuffle=True)\n",
        "val_DL = torch.utils.data.DataLoader(val_DS, batch_size=BATCH_SIZE, shuffle=True)\n",
        "test_DL = torch.utils.data.DataLoader(test_DS, batch_size=BATCH_SIZE, shuffle=True)"
      ],
      "metadata": {
        "id": "CXR1bi_mJR4K"
      },
      "execution_count": 4,
      "outputs": []
    },
    {
      "cell_type": "code",
      "source": [
        "for x_batch, y_batch in train_DL:\n",
        "    print(f\"x_batch = {x_batch.reshape(-1)}, \\n\"\n",
        "          f\"y_batch = {y_batch.reshape(-1)}\")\n",
        "print()\n",
        "for x_batch, y_batch in val_DL:\n",
        "    print(f\"x_batch = {x_batch.reshape(-1)}, \\n\"\n",
        "          f\"y_batch = {y_batch.reshape(-1)}\")\n",
        "print()\n",
        "for x_batch, y_batch in test_DL:\n",
        "    print(f\"x_batch = {x_batch.reshape(-1)}, \\n\"\n",
        "          f\"y_batch = {y_batch.reshape(-1)}\")"
      ],
      "metadata": {
        "colab": {
          "base_uri": "https://localhost:8080/"
        },
        "id": "juSQbjDZKdbk",
        "outputId": "b66d618d-3d8f-4f6c-9427-281036e81fde"
      },
      "execution_count": 5,
      "outputs": [
        {
          "output_type": "stream",
          "name": "stdout",
          "text": [
            "x_batch = tensor([-8, -4,  1, -6, -3, -7, -1,  0]), \n",
            "y_batch = tensor([81, 25,  0, 49, 16, 64,  4,  1])\n",
            "x_batch = tensor([ 6,  8, 10,  9,  4,  3, -2, -5]), \n",
            "y_batch = tensor([25, 49, 81, 64,  9,  4,  9, 36])\n",
            "\n",
            "x_batch = tensor([-9,  5]), \n",
            "y_batch = tensor([100,  16])\n",
            "\n",
            "x_batch = tensor([2, 7]), \n",
            "y_batch = tensor([ 1, 36])\n"
          ]
        }
      ]
    }
  ]
}