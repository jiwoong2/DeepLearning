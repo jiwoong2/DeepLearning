{
  "nbformat": 4,
  "nbformat_minor": 0,
  "metadata": {
    "colab": {
      "private_outputs": true,
      "provenance": [],
      "authorship_tag": "ABX9TyPbsDXwsXKdKJxIJCG9an/k",
      "include_colab_link": true
    },
    "kernelspec": {
      "name": "python3",
      "display_name": "Python 3"
    },
    "language_info": {
      "name": "python"
    }
  },
  "cells": [
    {
      "cell_type": "markdown",
      "metadata": {
        "id": "view-in-github",
        "colab_type": "text"
      },
      "source": [
        "<a href=\"https://colab.research.google.com/github/jiwoong2/deeplearning/blob/main/MNIST_dataset_%EC%82%B4%ED%8E%B4%EB%B3%B4%EA%B8%B0.ipynb\" target=\"_parent\"><img src=\"https://colab.research.google.com/assets/colab-badge.svg\" alt=\"Open In Colab\"/></a>"
      ]
    },
    {
      "cell_type": "code",
      "source": [
        "import numpy as np\n",
        "import sys, os\n",
        "import tensorflow as tf # 텐서플로에서 MNIST dataset을 지원함."
      ],
      "metadata": {
        "id": "eqdUH95xSfW4"
      },
      "execution_count": null,
      "outputs": []
    },
    {
      "cell_type": "code",
      "source": [
        "Mnist = tf.keras.datasets.mnist\n",
        "(x_train, t_train), (x_test, t_test) = Mnist.load_data()"
      ],
      "metadata": {
        "id": "_FXZJ_HhTj0E"
      },
      "execution_count": null,
      "outputs": []
    },
    {
      "cell_type": "code",
      "source": [
        "# 파이썬이 행렬을 화면에 출력할때 너무길면 줄넘김해서 이미지 메트릭스가 깨지게 되고 행렬의 항의 개수가 너무 많으면 ...으로 생략하기 떄문에 이를 방지하고자 작성한다.\n",
        "np.set_printoptions(linewidth = 200, threshold = 1000)\n",
        "\n",
        "print(x_train[0]) # 첫번째 이미지 메트릭스\n",
        "print(t_train[0]) # 첫번째 이미지의 라벨\n",
        "print(t_train[:10]) # 10번째 이미지까지의 라벨\n",
        "print(x_train[0].dtype)"
      ],
      "metadata": {
        "id": "MSoe_2T6UIze"
      },
      "execution_count": null,
      "outputs": []
    },
    {
      "cell_type": "code",
      "source": [
        "print(x_train.ndim)\n",
        "print(t_train.ndim)\n",
        "print(x_train.shape) # 28*28 픽셀 이미지 60000장이 존재 수업에서는 60000*1*28*28이라고 나오는데 이는 color 이미지와 포멧을 맞추기 위해 그렇다고 한다.(입력을 4차원 텐서로 맞추기 위해)"
      ],
      "metadata": {
        "id": "jfiU4SEPVRAB"
      },
      "execution_count": null,
      "outputs": []
    },
    {
      "cell_type": "code",
      "source": [
        "x = np.array([[1,2],[2,3]])\n",
        "y = np.array([[1,1]])\n",
        "\n",
        "print(x.ndim)\n",
        "print(y.ndim) # [1,1]은 vextor이미만 matrix로 인식시킬수도 있음."
      ],
      "metadata": {
        "id": "7bxq8BTpWiul"
      },
      "execution_count": null,
      "outputs": []
    },
    {
      "cell_type": "markdown",
      "source": [
        "# PIL 라이브러리를 사용하여 이미지 출력해 보기"
      ],
      "metadata": {
        "id": "M_ZSt4y4jpQo"
      }
    },
    {
      "cell_type": "code",
      "source": [
        "from PIL import Image # PIL 라이브러리는 파이썬에서 이미지처리를 도와준다."
      ],
      "metadata": {
        "id": "JTMGd1lfYDtZ"
      },
      "execution_count": null,
      "outputs": []
    },
    {
      "cell_type": "code",
      "source": [
        "def img_show(img):\n",
        "    pil_img = Image.fromarray(np.uint8(img)) # fromarray -> 행렬로부터 이미지화, uint8 -> 설명1\n",
        "    pil_img.show()"
      ],
      "metadata": {
        "id": "NoJp0-Q9aOp5"
      },
      "execution_count": null,
      "outputs": []
    },
    {
      "cell_type": "markdown",
      "source": [
        "설명1: 픽셀의 밝기에 대한 정보는 1byte에 담긴다. 1byte 는 8bit 이므로 총 256개의 정보를 담을 수 있다. 그렇기 때문에 0~255까지 표시 가능한 uint자료형을 사용하면 밝기의 단위를 표시할 수 있는 것 이다.\n",
        "\n",
        "* int자료형은 -127 ~ 127 까지로 256개의 정보를 표시한다.\n",
        "\n",
        "* int자료형, uint자료형 모두 표시 가능한 값을 넘어가는 경우 modular연산을 통해 나머지를 반환 받아 표시한다. ex) uint(256)의 경우 256 mod 255 = 1"
      ],
      "metadata": {
        "id": "cEyutko5bRDh"
      }
    },
    {
      "cell_type": "code",
      "source": [
        "img = x_train[0]\n",
        "label = t_train[0]\n",
        "print(label)"
      ],
      "metadata": {
        "id": "tZRaVjwhdwBw"
      },
      "execution_count": null,
      "outputs": []
    },
    {
      "cell_type": "code",
      "source": [
        "print(img.shape)\n",
        "img.resize(28, 28) # resize만 작동하고 reshpae은 작동하지 않음. 왜?\n",
        "print(img.shape)"
      ],
      "metadata": {
        "id": "UawHVzu0f_QG"
      },
      "execution_count": null,
      "outputs": []
    },
    {
      "cell_type": "code",
      "source": [
        "img_show(img)\n",
        "img_show(255-img) # 행렬의 원소에 각각 연산한다. 255-img와 img-255는 결과가 다르다."
      ],
      "metadata": {
        "id": "cbJEa_idgKov"
      },
      "execution_count": null,
      "outputs": []
    },
    {
      "cell_type": "markdown",
      "source": [
        "# matplotlib 라이브러리를 사용하여 이미지 출력해 보기"
      ],
      "metadata": {
        "id": "VqaKb2BEjuxe"
      }
    },
    {
      "cell_type": "code",
      "source": [
        "import matplotlib.pyplot as plt"
      ],
      "metadata": {
        "id": "4CnMXhpLjlKA"
      },
      "execution_count": null,
      "outputs": []
    },
    {
      "cell_type": "code",
      "source": [
        "plt.figure() # 이미지를 그리기위한 도화지를 만드는 개념.\n",
        "plt.imshow(x_train[0]) # 입력한 이미지 행렬을 이미지로 변환\n",
        "plt.colorbar()\n",
        "plt.show()"
      ],
      "metadata": {
        "id": "WWpIl0Ggj_Bq"
      },
      "execution_count": null,
      "outputs": []
    },
    {
      "cell_type": "code",
      "source": [
        "plt.figure(figsize=(8, 8)) # 도화지 사이즈를 10*10으로 설정 한다. (칸이 아니라 사이즈를 표시함.)\n",
        "for i in range(25):\n",
        "    plt.subplot(5, 5, i+1) # 5*5 바둑판 생성 한다. 세번째 인수는 인데스로 1부터시작하므로 1을 더해준다.\n",
        "    plt.xticks([]) # 눈금\n",
        "    plt.yticks([])\n",
        "    plt.imshow(x_train[i], cmap = plt.cm.binary) # cmap은 color map을 뜻 한다.\n",
        "    plt.xlabel(t_train[i])\n",
        "plt.show()"
      ],
      "metadata": {
        "id": "ex9VeEj3kC1m"
      },
      "execution_count": null,
      "outputs": []
    }
  ]
}