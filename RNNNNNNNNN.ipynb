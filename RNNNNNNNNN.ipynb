{
  "nbformat": 4,
  "nbformat_minor": 0,
  "metadata": {
    "colab": {
      "private_outputs": true,
      "provenance": [],
      "authorship_tag": "ABX9TyMRWAhWcjVQebrcGRMbxM6n",
      "include_colab_link": true
    },
    "kernelspec": {
      "name": "python3",
      "display_name": "Python 3"
    },
    "language_info": {
      "name": "python"
    }
  },
  "cells": [
    {
      "cell_type": "markdown",
      "metadata": {
        "id": "view-in-github",
        "colab_type": "text"
      },
      "source": [
        "<a href=\"https://colab.research.google.com/github/jiwoong2/deeplearning/blob/main/RNNNNNNNNN.ipynb\" target=\"_parent\"><img src=\"https://colab.research.google.com/assets/colab-badge.svg\" alt=\"Open In Colab\"/></a>"
      ]
    },
    {
      "cell_type": "code",
      "execution_count": null,
      "metadata": {
        "id": "mS6KYyFFPWoH"
      },
      "outputs": [],
      "source": [
        "import pandas as pd\n",
        "import torch\n",
        "from sklearn.preprocessing import StandardScaler\n",
        "from torch import nn, optim\n",
        "import numpy as np\n",
        "from torch.utils.data import Dataset, DataLoader, random_split\n",
        "from tqdm import tqdm\n",
        "import matplotlib.pyplot as plt\n",
        "import yfinance as yf\n",
        "DEVICE = \"cuda\" if torch.cuda.is_available() else \"cpu\""
      ]
    },
    {
      "cell_type": "markdown",
      "source": [
        "# handle"
      ],
      "metadata": {
        "id": "jlXt6-CEZBmv"
      }
    },
    {
      "cell_type": "code",
      "source": [
        "LR = 1e-6 # -1 인경우 한번에 0또는 1만 출력하는 로컬 미니멈으로 수렴.\n",
        "EPOCH = 200\n",
        "batch_size = 150"
      ],
      "metadata": {
        "id": "FsPV_UP_TaMJ"
      },
      "execution_count": null,
      "outputs": []
    },
    {
      "cell_type": "markdown",
      "source": [
        "# data\n"
      ],
      "metadata": {
        "id": "krmzWjKPXbzP"
      }
    },
    {
      "cell_type": "code",
      "source": [
        "def load_stock_data(Ticker, peri):\n",
        "\n",
        "    ticker = yf.Ticker(Ticker)\n",
        "    stock_data = ticker.history(period=peri)\n",
        "    stock_data = stock_data.reset_index() # 인덱스 초기화\n",
        "    stock_data.drop(['Date','Dividends','Stock Splits'], axis=1, inplace=True) # 불필요한 data 누락\n",
        "    stock_data = stock_data.to_numpy()\n",
        "    return stock_data\n",
        "\n",
        "apple = load_stock_data(\"AAPL\", \"25y\")"
      ],
      "metadata": {
        "id": "mILsQbOQSju6"
      },
      "execution_count": null,
      "outputs": []
    },
    {
      "cell_type": "code",
      "source": [
        "def data_generator(Size:int, data, interval:int):\n",
        "\n",
        "    idx = np.random.choice(range(interval, len(data)-6), size=Size, replace=False)\n",
        "    idx = np.array(idx)\n",
        "\n",
        "    g_data = []\n",
        "    g_label = []\n",
        "\n",
        "    for i in idx:\n",
        "        gs_data = data[i-interval:i, :]\n",
        "        g_data.append(gs_data)\n",
        "\n",
        "        label = (data[i+6,3] - data[i+1,3]) / data[i+1,3] * 100\n",
        "\n",
        "        if  label >= 5:\n",
        "            g_label.append(3)\n",
        "\n",
        "        elif 0 <= label < 5:\n",
        "            g_label.append(2)\n",
        "\n",
        "        elif -5 <= label < 0:\n",
        "            g_label.append(1)\n",
        "\n",
        "        elif label < -5:\n",
        "            g_label.append(0)\n",
        "\n",
        "    g_data = np.array(g_data).astype(np.float32)\n",
        "    g_label = np.array(g_label)\n",
        "\n",
        "    return g_data, g_label"
      ],
      "metadata": {
        "id": "t_K3NDUNSyb1"
      },
      "execution_count": null,
      "outputs": []
    },
    {
      "cell_type": "code",
      "source": [
        "apple_short_term_data, apple_short_term_label = data_generator(5000, apple, 20)"
      ],
      "metadata": {
        "id": "yiKjAfUQSznG"
      },
      "execution_count": null,
      "outputs": []
    },
    {
      "cell_type": "code",
      "source": [
        "short_term_data = apple_short_term_data\n",
        "short_term_label = apple_short_term_label"
      ],
      "metadata": {
        "id": "MrVejdypS6Oh"
      },
      "execution_count": null,
      "outputs": []
    },
    {
      "cell_type": "code",
      "source": [
        "def data_scaler(data):\n",
        "    for sample in range(data.shape[0]):\n",
        "        scaler = StandardScaler()\n",
        "        std = scaler.fit_transform(data[sample,:,:])\n",
        "        data[sample,:,:] = std\n",
        "\n",
        "data_scaler(short_term_data)"
      ],
      "metadata": {
        "id": "85eHa5D2S9Nk"
      },
      "execution_count": null,
      "outputs": []
    },
    {
      "cell_type": "code",
      "source": [
        "class CustomDataset(Dataset):\n",
        "    def __init__(self, data, labels):\n",
        "        self.data = data\n",
        "        self.labels = labels\n",
        "\n",
        "    def __len__(self):\n",
        "        return len(self.data)\n",
        "\n",
        "    def __getitem__(self, idx):\n",
        "        return self.data[idx], self.labels[idx]\n",
        "\n",
        "# 인스턴스 생성.\n",
        "short_term_dataset = CustomDataset(short_term_data, short_term_label)\n",
        "\n",
        "#데이터를 훈련 데이터와 검증 데이터, 테스트 데이터로 나누기. 파이토치데이터셋 인스턴스에 사용하면 라벨도 같이 분류됨.\n",
        "#훈련세트 80%, 테스트세트 20% 분류\n",
        "train_size = int(0.9 * len(short_term_dataset))\n",
        "test_size = len(short_term_dataset) - train_size\n",
        "\n",
        "short_term_train_dataset, short_term_test_dataset = random_split(short_term_dataset, [train_size, test_size])\n",
        "\n",
        "#테스트세트를 테스트세트 10%, 검증세트 10% 분류\n",
        "test_size = int(0.5 * len(short_term_test_dataset))\n",
        "val_size = len(short_term_test_dataset) - test_size\n",
        "\n",
        "short_term_test_dataset, short_term_val_dataset = random_split(short_term_test_dataset, [test_size, val_size])\n",
        "\n",
        "# 데이터 로더 생성.\n",
        "short_term_train_DL = DataLoader(short_term_train_dataset, batch_size=batch_size, shuffle=True)\n",
        "short_term_val_DL = DataLoader(short_term_val_dataset, batch_size=batch_size, shuffle=True)\n",
        "short_term_test_DL = DataLoader(short_term_test_dataset, batch_size=batch_size, shuffle=True)\n",
        "\n",
        "# 데이터 로더를 통해 데이터 확인\n",
        "for features, labels in short_term_train_DL:\n",
        "    print(features.shape)\n",
        "    print(labels)\n",
        "    break"
      ],
      "metadata": {
        "id": "zp5cFxgRTRtz"
      },
      "execution_count": null,
      "outputs": []
    },
    {
      "cell_type": "code",
      "source": [
        "class_counts = [sum(short_term_train_DL.dataset[:][1] == 0), sum(short_term_train_DL.dataset[:][1] == 1), sum(short_term_train_DL.dataset[:][1] == 2), sum(short_term_train_DL.dataset[:][1] == 3)]\n",
        "total = sum(class_counts)\n",
        "class_weights = [total / count for count in class_counts]\n",
        "class_weights = torch.FloatTensor(class_weights)\n",
        "print(class_weights)\n",
        "\n",
        "criterion = nn.CrossEntropyLoss(weight=class_weights)\n",
        "criterion = criterion.to(DEVICE) # loss에 가중치를 부여하는경우 손실함수도 gpu에 올려야함."
      ],
      "metadata": {
        "id": "GLVEYPvWX4br"
      },
      "execution_count": null,
      "outputs": []
    },
    {
      "cell_type": "markdown",
      "source": [
        "# model"
      ],
      "metadata": {
        "id": "wWvEIa7VXeHp"
      }
    },
    {
      "cell_type": "code",
      "source": [
        "class RNN(nn.Module):\n",
        "    def __init__(self):\n",
        "        super().__init__()\n",
        "\n",
        "        self.rnn = nn.RNN(5,30,2,batch_first = True)\n",
        "        self.linear = nn.Linear(30,4)\n",
        "\n",
        "    def forward(self, x):\n",
        "        _, x = self.rnn(x)\n",
        "        x = x[-1,:,:]\n",
        "        # x = x.squeeze(0)\n",
        "        x = self.linear(x)\n",
        "        return x\n",
        "\n",
        "model = RNN().to(DEVICE)\n",
        "optimizer = optim.Adam(model.parameters(), lr = LR)"
      ],
      "metadata": {
        "id": "E4VWqInGPrIi"
      },
      "execution_count": null,
      "outputs": []
    },
    {
      "cell_type": "code",
      "source": [
        "for i in short_term_train_DL:\n",
        "    test_data = i[0]\n",
        "    break\n",
        "\n",
        "test_data.shape"
      ],
      "metadata": {
        "id": "K7R6AZZxT4qI"
      },
      "execution_count": null,
      "outputs": []
    },
    {
      "cell_type": "code",
      "source": [
        "model = RNN()\n",
        "a = model(test_data)\n",
        "print(a.shape)"
      ],
      "metadata": {
        "id": "eWdveZmGT-BZ"
      },
      "execution_count": null,
      "outputs": []
    },
    {
      "cell_type": "markdown",
      "source": [
        "# trainer"
      ],
      "metadata": {
        "id": "5K3-JfyKXpcZ"
      }
    },
    {
      "cell_type": "code",
      "source": [
        "# 1에폭 트레이닝.\n",
        "def loss_epoch(model, DL, criterion, optimizer = None):\n",
        "\n",
        "    N = len(DL.dataset) # the number of data\n",
        "    rloss = 0; rcorrect = 0\n",
        "\n",
        "    for x_batch, y_batch in DL:\n",
        "\n",
        "        x_batch = x_batch.to(DEVICE)\n",
        "        y_batch = y_batch.to(DEVICE)\n",
        "\n",
        "        # inference\n",
        "        y_hat = model(x_batch)\n",
        "\n",
        "        # loss\n",
        "        loss = criterion(y_hat,y_batch)\n",
        "\n",
        "        # update\n",
        "        if optimizer is not None:\n",
        "            optimizer.zero_grad() # gradient 누적을 막기 위한 초기화\n",
        "            loss.backward() # backpropagation\n",
        "            optimizer.step() # weight update\n",
        "\n",
        "        # loss accumulation\n",
        "        loss_b = loss.item() * x_batch.shape[0] # batch loss # BATCH_SIZE를 곱하면 마지막 18개도 32개를 곱하니까..\n",
        "        rloss += loss_b # running loss\n",
        "        # accuracy accumulation\n",
        "        pred = y_hat.argmax(dim=1)\n",
        "        corrects_b = torch.sum(pred == y_batch).item()\n",
        "        rcorrect += corrects_b\n",
        "\n",
        "    loss_e = rloss/ N # epoch loss\n",
        "    accuracy_e = rcorrect/N*100\n",
        "\n",
        "    return loss_e, accuracy_e, rcorrect\n",
        "\n",
        "def Train(model, train_DL, val_DL, criterion, optimizer, EPOCH):\n",
        "\n",
        "    loss_history = {\"train\":[], \"val\":[]}\n",
        "    acc_history = {\"train\":[], \"val\":[]}\n",
        "\n",
        "    for ep in tqdm(range(EPOCH), leave=False):\n",
        "\n",
        "        model.train() # train mode로 전환\n",
        "        train_loss, train_acc, _ = loss_epoch(model, train_DL, criterion, optimizer)\n",
        "        loss_history[\"train\"] += [train_loss]\n",
        "        acc_history[\"train\"] += [train_acc]\n",
        "\n",
        "        model.eval() # test mode로 전환\n",
        "        with torch.no_grad():\n",
        "            val_loss, val_acc, _ = loss_epoch(model, val_DL, criterion)\n",
        "            loss_history[\"val\"] += [val_loss]\n",
        "            acc_history[\"val\"] += [val_acc]\n",
        "\n",
        "        # # print loss\n",
        "        # print(f\"train loss: {round(train_loss,5)}, \"\n",
        "        #       f\"val loss: {round(val_loss,5)} \\n\"\n",
        "        #       f\"train acc: {round(train_acc,1)} %, \"\n",
        "        #       f\"val acc: {round(val_acc,1)} %, time: {round(time.time()-epoch_start)} s\")\n",
        "        # print(\"-\"*20)\n",
        "\n",
        "    return loss_history, acc_history\n",
        "\n",
        "def Test(model, test_DL, criterion):\n",
        "    model.eval()\n",
        "    with torch.no_grad():\n",
        "        test_loss, test_acc, rcorrect = loss_epoch(model, test_DL, criterion)\n",
        "    print()\n",
        "    print(f\"Test loss: {round(test_loss,5)}\")\n",
        "    print(f\"Test accuracy: {rcorrect}/{len(test_DL.dataset)} ({round(test_acc,1)} %)\")\n",
        "    return round(test_acc,1)\n",
        "\n",
        "def graph(loss, acc, epoch):\n",
        "    # 두 개의 그래프를 하나의 figure에 가로로 배열\n",
        "    fig, axs = plt.subplots(1, 2, figsize=(10, 4))\n",
        "\n",
        "    # 첫 번째 그래프 (Train Loss와 Validation Loss)\n",
        "    axs[0].plot(range(1, epoch + 1), loss['train'], label='Train Loss')\n",
        "    axs[0].plot(range(1, epoch + 1), loss['val'], label='Validation Loss')\n",
        "    axs[0].set_xlabel('Epoch')\n",
        "    axs[0].set_ylabel('Loss')\n",
        "    axs[0].set_title('Training and Validation Loss')\n",
        "    axs[0].legend()\n",
        "\n",
        "    # 두 번째 그래프 (Train Accuracy와 Validation Accuracy)\n",
        "    axs[1].plot(range(1, epoch + 1), acc['train'], label='Train acc')\n",
        "    axs[1].plot(range(1, epoch + 1), acc['val'], label='Validation acc')\n",
        "    axs[1].set_xlabel('Epoch')\n",
        "    axs[1].set_ylabel('Accuracy')\n",
        "    axs[1].set_title('Training and Validation Accuracy')\n",
        "    axs[1].legend()\n",
        "\n",
        "    # 그래프 출력\n",
        "    plt.tight_layout()  # 그래프 간격 조정\n",
        "    plt.show()"
      ],
      "metadata": {
        "id": "N_fr5fG1UNE9"
      },
      "execution_count": null,
      "outputs": []
    },
    {
      "cell_type": "markdown",
      "source": [
        "# experiment"
      ],
      "metadata": {
        "id": "9FOCzRIYYLCk"
      }
    },
    {
      "cell_type": "code",
      "source": [
        "loss, acc = Train(model, short_term_train_DL, short_term_val_DL, criterion, optimizer, EPOCH)"
      ],
      "metadata": {
        "id": "TYuJpPLrYKhn"
      },
      "execution_count": null,
      "outputs": []
    },
    {
      "cell_type": "code",
      "source": [
        "print(f\"EPOCH:{EPOCH}, batch:{batch_size}, LR:{LR}]\")\n",
        "graph(loss, acc, EPOCH)"
      ],
      "metadata": {
        "id": "79968_qtYQ7Y"
      },
      "execution_count": null,
      "outputs": []
    },
    {
      "cell_type": "code",
      "source": [
        "Test(model, short_term_test_DL, criterion)"
      ],
      "metadata": {
        "id": "ZMVQAyvWZI6k"
      },
      "execution_count": null,
      "outputs": []
    },
    {
      "cell_type": "markdown",
      "source": [
        "# LSTM"
      ],
      "metadata": {
        "id": "OpBgFzQucF3E"
      }
    },
    {
      "cell_type": "code",
      "source": [],
      "metadata": {
        "id": "mEj7xy7mcHxP"
      },
      "execution_count": null,
      "outputs": []
    }
  ]
}