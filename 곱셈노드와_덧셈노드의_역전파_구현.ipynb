{
  "nbformat": 4,
  "nbformat_minor": 0,
  "metadata": {
    "colab": {
      "private_outputs": true,
      "provenance": [],
      "authorship_tag": "ABX9TyMDy4cj+pPUjWFcdhxLdk4W",
      "include_colab_link": true
    },
    "kernelspec": {
      "name": "python3",
      "display_name": "Python 3"
    },
    "language_info": {
      "name": "python"
    }
  },
  "cells": [
    {
      "cell_type": "markdown",
      "metadata": {
        "id": "view-in-github",
        "colab_type": "text"
      },
      "source": [
        "<a href=\"https://colab.research.google.com/github/jiwoong2/deeplearning/blob/main/%EA%B3%B1%EC%85%88%EB%85%B8%EB%93%9C%EC%99%80_%EB%8D%A7%EC%85%88%EB%85%B8%EB%93%9C%EC%9D%98_%EC%97%AD%EC%A0%84%ED%8C%8C_%EA%B5%AC%ED%98%84.ipynb\" target=\"_parent\"><img src=\"https://colab.research.google.com/assets/colab-badge.svg\" alt=\"Open In Colab\"/></a>"
      ]
    },
    {
      "cell_type": "code",
      "source": [
        "import numpy as np"
      ],
      "metadata": {
        "id": "YhzxJNW0K6US"
      },
      "execution_count": null,
      "outputs": []
    },
    {
      "cell_type": "markdown",
      "source": [
        "#곱셉노드 역전파 구현\n",
        "\n",
        "x, y가 입력, z가 출력이라고 가정했을때 역전파는 z ebge 에서 $ \\frac{\\partial L}{\\partial z}$, x ebge 에서 $ \\frac{\\partial L}{\\partial x}$, y ebge 에서 $ \\frac{\\partial L}{\\partial y}$ 이고,\n",
        "\n",
        "$L(z) = L(xy)$에 연쇄법칙을 사용해 편미분하면\n",
        "\n",
        "$ \\frac{\\partial}{\\partial x}L(xy) = L'(xy) * y$\n",
        "$ \\frac{\\partial}{\\partial y}L(xy) = L'(xy) * x$\n",
        "이므로\n",
        "\n",
        "곱셈노드 역전파는 흘러들어온 미분값에 각 입력값을 교차해서 곱하게 된다.\n",
        "\n",
        "* 자세한 개념은 노트 참고"
      ],
      "metadata": {
        "id": "Eq7xAN8SGuWb"
      }
    },
    {
      "cell_type": "code",
      "execution_count": null,
      "metadata": {
        "id": "MJ3kN3ooGpuh"
      },
      "outputs": [],
      "source": [
        "class MulLayer:\n",
        "    def __init__(self):\n",
        "        self.x = None\n",
        "        self.y = None\n",
        "\n",
        "    def forward(self, x, y): # 순전파\n",
        "        self.x = x\n",
        "        self.y = y\n",
        "        out = x * y\n",
        "\n",
        "        return out\n",
        "\n",
        "    def backward(self, dout): # 역전파\n",
        "        dx = dout * self.y\n",
        "        dy = dout * self.x\n",
        "\n",
        "        return dx, dy"
      ]
    },
    {
      "cell_type": "code",
      "source": [
        "gob = MulLayer()\n",
        "print(gob.x)\n",
        "print(gob.forward(2, 3))\n",
        "print(gob.x)\n",
        "print(gob.y)\n",
        "print(gob.backward(4))"
      ],
      "metadata": {
        "id": "_FvCdOfeK-b9"
      },
      "execution_count": null,
      "outputs": []
    },
    {
      "cell_type": "markdown",
      "source": [
        "#덧셈노드의 역전파\n",
        "\n",
        "x, y가 입력, z가 출력이라고 가정했을때 역전파는 z ebge 에서 $ \\frac{\\partial L}{\\partial z}$, x ebge 에서 $ \\frac{\\partial L}{\\partial x}$, y ebge 에서 $ \\frac{\\partial L}{\\partial y}$ 이고,\n",
        "\n",
        "$L(z) = L(x+y)$에 연쇄법칙을 사용해 편미분하면\n",
        "\n",
        "$ \\frac{\\partial}{\\partial x}L(x+y) = L'(x+y) * 1$\n",
        "$ \\frac{\\partial}{\\partial y}L(x+y) = L'(x+y) * 1$\n",
        "이므로\n",
        "\n",
        "덧셈노드 역전파는 흘러들어온 미분값이 그대로 통과하게 된다.\n",
        "\n",
        "* 자세한 개념은 노트 참고"
      ],
      "metadata": {
        "id": "AoIpg5nzLlnh"
      }
    },
    {
      "cell_type": "code",
      "source": [
        "class AddLayer:\n",
        "    def __init__(self):\n",
        "        pass\n",
        "\n",
        "    def forward(self, x, y):\n",
        "        out = x + y\n",
        "\n",
        "        return out\n",
        "\n",
        "    def backward(self, dout):\n",
        "        dx = dout * 1\n",
        "        dy = dout * 1\n",
        "\n",
        "        return dx, dy"
      ],
      "metadata": {
        "id": "0IzkokvIMQM8"
      },
      "execution_count": null,
      "outputs": []
    },
    {
      "cell_type": "code",
      "source": [
        "hab = AddLayer()\n",
        "print(hab.forward(2, 3))\n",
        "print(hab.backward(4))"
      ],
      "metadata": {
        "id": "Acwvca9RMqpG"
      },
      "execution_count": null,
      "outputs": []
    }
  ]
}