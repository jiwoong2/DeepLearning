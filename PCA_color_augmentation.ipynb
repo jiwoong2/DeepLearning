{
  "nbformat": 4,
  "nbformat_minor": 0,
  "metadata": {
    "colab": {
      "private_outputs": true,
      "provenance": [],
      "mount_file_id": "19Tge4wLzqsrSEy1wFKJ6yuDeh3nnpzPu",
      "authorship_tag": "ABX9TyMJZZFFGAd81fhsDDn0sUU8",
      "include_colab_link": true
    },
    "kernelspec": {
      "name": "python3",
      "display_name": "Python 3"
    },
    "language_info": {
      "name": "python"
    }
  },
  "cells": [
    {
      "cell_type": "markdown",
      "metadata": {
        "id": "view-in-github",
        "colab_type": "text"
      },
      "source": [
        "<a href=\"https://colab.research.google.com/github/jiwoong2/deeplearning/blob/main/PCA_color_augmentation.ipynb\" target=\"_parent\"><img src=\"https://colab.research.google.com/assets/colab-badge.svg\" alt=\"Open In Colab\"/></a>"
      ]
    },
    {
      "cell_type": "markdown",
      "source": [
        "# PCA color augmentation\n",
        "\n",
        "PCA color augmentation은 ImageNet Classification with Deep Convolutional\n",
        "Neural Networks(AlexNet)논문에 제시된 data augmentation 기법으로 이 프로젝트를 통해 PCA color augmentation의 아이디어를 이해하고, 파이썬 코드로 구현해 보고자 한다."
      ],
      "metadata": {
        "id": "tKvTKwc1Ijir"
      }
    },
    {
      "cell_type": "markdown",
      "source": [
        "# PCA color augmentation 과정\n",
        "\n",
        "PCA color augmentation으 과정은 다음과 같다.\n",
        "\n",
        "1. 이미지의 R,G,B값에 대한 covariance matrix(공분산 행렬)을 구한다.\n",
        "\n",
        "2. 위에서 구한 covariance matrix 의 고윳값과 고유벡터를 구한다.\n",
        "\n",
        "3. 고윳값에 평균이 0이고 표준편차가 0.1인 가우시안분포를 기반으로 생성한 random variable, $ \\alpha $을 곱한다.\n",
        "\n",
        "4. 각 열을 고유벡터로 갖는 행렬 [p1, p2, p3]과 그에 상응하는 고유값이 순서대로 나열된(위의 $ \\alpha $이 곱해진)벡터 [] dot product한다."
      ],
      "metadata": {
        "id": "hj5sQXfhLVTP"
      }
    },
    {
      "cell_type": "code",
      "source": [
        "import numpy as np\n",
        "import matplotlib.pyplot as plt\n",
        "from google.colab.patches import cv2_imshow"
      ],
      "metadata": {
        "id": "RCHuyXzjJv3S"
      },
      "execution_count": null,
      "outputs": []
    },
    {
      "cell_type": "code",
      "source": [
        "img = cv2.imread('/content/drive/MyDrive/워 해머-스페이스 마린.png', cv2.IMREAD_COLOR)"
      ],
      "metadata": {
        "id": "yvNGoapoSM8v"
      },
      "execution_count": null,
      "outputs": []
    },
    {
      "cell_type": "code",
      "source": [
        "cv2_imshow(img)"
      ],
      "metadata": {
        "id": "mc0YI08qTJiy"
      },
      "execution_count": null,
      "outputs": []
    },
    {
      "cell_type": "code",
      "source": [
        "img.shape"
      ],
      "metadata": {
        "id": "CEzHvx0iTVzd"
      },
      "execution_count": null,
      "outputs": []
    },
    {
      "cell_type": "code",
      "source": [
        "# 이미지의 색상 채널 순서는 BGR임.\n",
        "img_r = img.copy()\n",
        "img_r[:,:,0] = 0\n",
        "img_r[:,:,1] = 0\n",
        "cv2_imshow(img_r)"
      ],
      "metadata": {
        "id": "kNgTM1tBUnXy"
      },
      "execution_count": null,
      "outputs": []
    },
    {
      "cell_type": "code",
      "source": [
        "img1 = img.copy()"
      ],
      "metadata": {
        "id": "ViUWbBrUW-Ot"
      },
      "execution_count": null,
      "outputs": []
    },
    {
      "cell_type": "code",
      "source": [
        "img1 = img1 / 255.0"
      ],
      "metadata": {
        "id": "XAaj624IYCIW"
      },
      "execution_count": null,
      "outputs": []
    },
    {
      "cell_type": "code",
      "source": [
        "img2 = img1.reshape(-1, 3)\n",
        "img2.shape"
      ],
      "metadata": {
        "id": "qYy2QZ8DY-pJ"
      },
      "execution_count": null,
      "outputs": []
    },
    {
      "cell_type": "code",
      "source": [
        "np.mean(img2, axis = 0)"
      ],
      "metadata": {
        "id": "1PkFV3WuZJwt"
      },
      "execution_count": null,
      "outputs": []
    },
    {
      "cell_type": "code",
      "source": [
        "img3 = img2 - np.mean(img2, axis = 0)"
      ],
      "metadata": {
        "id": "ANy3Hbq4aIpB"
      },
      "execution_count": null,
      "outputs": []
    },
    {
      "cell_type": "code",
      "source": [
        "img4 = np.cov(img3, rowvar = False) # rowvar가 True일시 row가 변수 column이 관측값으로 설정."
      ],
      "metadata": {
        "id": "erXdo7Xjabde"
      },
      "execution_count": null,
      "outputs": []
    },
    {
      "cell_type": "code",
      "source": [
        "img4"
      ],
      "metadata": {
        "id": "cnqbJuqsbaO4"
      },
      "execution_count": null,
      "outputs": []
    },
    {
      "cell_type": "code",
      "source": [
        "np.cov(img.reshape(-1, 3), rowvar = False)"
      ],
      "metadata": {
        "id": "4as95TfxsMSX"
      },
      "execution_count": null,
      "outputs": []
    },
    {
      "cell_type": "code",
      "source": [
        "eig_valse_1, eig_vecs_1 = np.linalg.eigh(np.cov(img.reshape(-1, 3), rowvar = False))\n",
        "print(eig_valse_1)\n",
        "print(eig_vecs_1)"
      ],
      "metadata": {
        "id": "j0X_HFEtsjEM"
      },
      "execution_count": null,
      "outputs": []
    },
    {
      "cell_type": "code",
      "source": [
        "eig_vals, eig_vecs = np.linalg.eigh(img4) # np.linalg.eigh() 함수는 실수 대칭행렬(또는 복소수 에미리미트 행렬)의 eigen value, eigen vector을 반환함.\n",
        "                                          # eigen value만 반환하는 eigvalsh(), 정사각행렬에서 작동하는 eig(), eigh)()등도 있음."
      ],
      "metadata": {
        "id": "oXzBLZ35bbF-"
      },
      "execution_count": null,
      "outputs": []
    },
    {
      "cell_type": "code",
      "source": [
        "print(eig_vals)  # 기본 오름차순으로 정렬됨.\n",
        "print(eig_vecs)  # 열 벡터임."
      ],
      "metadata": {
        "id": "ELWpjld3eWbN"
      },
      "execution_count": null,
      "outputs": []
    },
    {
      "cell_type": "code",
      "source": [
        "eig_vecs"
      ],
      "metadata": {
        "id": "TYk2PagpoLIR"
      },
      "execution_count": null,
      "outputs": []
    },
    {
      "cell_type": "code",
      "source": [
        "idx = np.argsort(-eig_vals)\n",
        "idx"
      ],
      "metadata": {
        "id": "m4HILEmev7r_"
      },
      "execution_count": null,
      "outputs": []
    },
    {
      "cell_type": "code",
      "source": [
        "eig_vals[::-1].sort()\n",
        "eig_vals"
      ],
      "metadata": {
        "id": "TxOCzx8ow1y2"
      },
      "execution_count": null,
      "outputs": []
    },
    {
      "cell_type": "code",
      "source": [
        "eig_vecs = eig_vecs[:, idx]\n",
        "eig_vecs"
      ],
      "metadata": {
        "id": "bh9Na6vfxFd2"
      },
      "execution_count": null,
      "outputs": []
    },
    {
      "cell_type": "code",
      "source": [
        "m1 = np.column_stack((eig_vecs))"
      ],
      "metadata": {
        "id": "BnoXXRM1zHjL"
      },
      "execution_count": null,
      "outputs": []
    },
    {
      "cell_type": "code",
      "source": [
        "m1"
      ],
      "metadata": {
        "id": "_dJNA964b6Kg"
      },
      "execution_count": null,
      "outputs": []
    },
    {
      "cell_type": "code",
      "source": [
        "m2 = np.zeros((3, 1))\n",
        "alpha = np.random.normal(0, 0.1)"
      ],
      "metadata": {
        "id": "ldw1yUvUb7dT"
      },
      "execution_count": null,
      "outputs": []
    },
    {
      "cell_type": "code",
      "source": [
        "m2[:, 0] = alpha * eig_vals[:]"
      ],
      "metadata": {
        "id": "GwOQf0bodTuJ"
      },
      "execution_count": null,
      "outputs": []
    },
    {
      "cell_type": "code",
      "source": [
        "m2"
      ],
      "metadata": {
        "id": "bXZGKX-sdmYU"
      },
      "execution_count": null,
      "outputs": []
    },
    {
      "cell_type": "code",
      "source": [
        "add_vect = m1@m2"
      ],
      "metadata": {
        "id": "q6i29sMLkC2R"
      },
      "execution_count": null,
      "outputs": []
    },
    {
      "cell_type": "code",
      "source": [
        "add_vect"
      ],
      "metadata": {
        "id": "tsuf0XY37qWZ"
      },
      "execution_count": null,
      "outputs": []
    },
    {
      "cell_type": "code",
      "source": [
        "img.dtype"
      ],
      "metadata": {
        "id": "dDK2PRoE7ttx"
      },
      "execution_count": null,
      "outputs": []
    },
    {
      "cell_type": "code",
      "source": [
        "for idx in range(3):   # RGB\n",
        "    img.astype('float64')[..., idx] += add_vect[idx]"
      ],
      "metadata": {
        "id": "Zuw3mKMDsJuO"
      },
      "execution_count": null,
      "outputs": []
    },
    {
      "cell_type": "code",
      "source": [
        "img = np.clip(img, 0.0, 255.0)\n",
        "img = img.astype(np.uint8)"
      ],
      "metadata": {
        "id": "HXpxARcR8RC4"
      },
      "execution_count": null,
      "outputs": []
    },
    {
      "cell_type": "code",
      "source": [
        "cv2_imshow(img)"
      ],
      "metadata": {
        "id": "f0mOi0Mf8geS"
      },
      "execution_count": null,
      "outputs": []
    },
    {
      "cell_type": "code",
      "source": [
        "a = np.array(range(4))\n",
        "a = a.reshape(2,2)\n",
        "b = np.array(range(2))\n",
        "b = b.reshape(2, -1)"
      ],
      "metadata": {
        "id": "GbMC_NfH8klc"
      },
      "execution_count": null,
      "outputs": []
    },
    {
      "cell_type": "code",
      "source": [
        "a@b"
      ],
      "metadata": {
        "id": "XdICYIJmv_kO"
      },
      "execution_count": null,
      "outputs": []
    },
    {
      "cell_type": "code",
      "source": [
        "a = np.array([[0, 2], [1, 3]])\n",
        "a"
      ],
      "metadata": {
        "id": "RmLeR6OiwAT_"
      },
      "execution_count": null,
      "outputs": []
    },
    {
      "cell_type": "code",
      "source": [
        "b"
      ],
      "metadata": {
        "id": "oS2RNwuNwbXc"
      },
      "execution_count": null,
      "outputs": []
    },
    {
      "cell_type": "code",
      "source": [
        "a = [25.4, 26.3, 26.5, 29.0, 29.0, 29.7, 29.7, 30.0, 30.0, 30.7, 31.0, 31.0,\n",
        "                31.5, 32.0, 32.0, 32.0, 33.0, 33.0, 33.5, 33.5, 34.0, 34.0, 34.5, 35.0,\n",
        "                35.0, 35.0, 35.0, 36.0, 36.0, 37.0, 38.5, 38.5, 39.5, 41.0, 41.0]\n",
        "b = [242.0, 290.0, 340.0, 363.0, 430.0, 450.0, 500.0, 390.0, 450.0, 500.0, 475.0, 500.0,\n",
        "                500.0, 340.0, 600.0, 600.0, 700.0, 700.0, 610.0, 650.0, 575.0, 685.0, 620.0, 680.0,\n",
        "                700.0, 725.0, 720.0, 714.0, 850.0, 1000.0, 920.0, 955.0, 925.0, 975.0, 950.0]"
      ],
      "metadata": {
        "id": "YpM0aKpHwb6P"
      },
      "execution_count": null,
      "outputs": []
    },
    {
      "cell_type": "code",
      "source": [
        "plt.plot(a, b, 'ro')\n",
        "plt.plot(a1, b1, 'bo')\n",
        "plt.plot(a2, b2, 'yo')\n",
        "plt.show"
      ],
      "metadata": {
        "id": "BmohjYqT4WC5"
      },
      "execution_count": null,
      "outputs": []
    },
    {
      "cell_type": "code",
      "source": [
        "an = a - np.mean(a)\n",
        "an = an / np.std(an)\n",
        "\n",
        "bn = b - np.mean(b)\n",
        "bn = bn / np.std(bn)\n",
        "\n",
        "an"
      ],
      "metadata": {
        "id": "Qv4dGSY34o3n"
      },
      "execution_count": null,
      "outputs": []
    },
    {
      "cell_type": "code",
      "source": [
        "cov = np.cov(an, bn)\n",
        "cov"
      ],
      "metadata": {
        "id": "5Kmteby_6bPd"
      },
      "execution_count": null,
      "outputs": []
    },
    {
      "cell_type": "code",
      "source": [
        "eval, evec = np.linalg.eigh(cov)"
      ],
      "metadata": {
        "id": "exuxiuRl8eHH"
      },
      "execution_count": null,
      "outputs": []
    },
    {
      "cell_type": "code",
      "source": [
        "eval"
      ],
      "metadata": {
        "id": "Yy_0U5jW9xNK"
      },
      "execution_count": null,
      "outputs": []
    },
    {
      "cell_type": "code",
      "source": [
        "evec"
      ],
      "metadata": {
        "id": "EQQuSC7c90gz"
      },
      "execution_count": null,
      "outputs": []
    },
    {
      "cell_type": "code",
      "source": [
        "delta = np.dot(evec, eval)"
      ],
      "metadata": {
        "id": "uwqQyJjl-GqW"
      },
      "execution_count": null,
      "outputs": []
    },
    {
      "cell_type": "code",
      "source": [
        "a1 = a + delta[0]\n",
        "b1 = b + delta[1]\n",
        "a1"
      ],
      "metadata": {
        "id": "0xDX6ItB-ljW"
      },
      "execution_count": null,
      "outputs": []
    },
    {
      "cell_type": "code",
      "source": [
        "a2 = a + delta[0]*0.5\n",
        "b2 = b + delta[1]*0.5"
      ],
      "metadata": {
        "id": "KB65-AGh-_80"
      },
      "execution_count": null,
      "outputs": []
    },
    {
      "cell_type": "code",
      "source": [
        "alphas = np.random.normal(0, 0.1, 3)\n",
        "delta = np.dot(p, alphas*lambdas)\n",
        "delta = (delta*255.).astype('int8')\n",
        "pca_color_image = np.maximum(np.minimum(original_image + delta, 255), 0).astype('uint8')"
      ],
      "metadata": {
        "id": "z3cHJ8BB91Jn"
      },
      "execution_count": null,
      "outputs": []
    },
    {
      "cell_type": "code",
      "source": [
        "np.cov(a, b)"
      ],
      "metadata": {
        "id": "ZEAX4mW2_TlM"
      },
      "execution_count": null,
      "outputs": []
    },
    {
      "cell_type": "code",
      "source": [
        "np.cov(a1, b1)"
      ],
      "metadata": {
        "id": "jE0njQvJ_WvF"
      },
      "execution_count": null,
      "outputs": []
    },
    {
      "cell_type": "code",
      "source": [
        "a2"
      ],
      "metadata": {
        "id": "udxVMO2q_YaT"
      },
      "execution_count": null,
      "outputs": []
    }
  ]
}