{
  "nbformat": 4,
  "nbformat_minor": 0,
  "metadata": {
    "colab": {
      "private_outputs": true,
      "provenance": [],
      "mount_file_id": "19Tge4wLzqsrSEy1wFKJ6yuDeh3nnpzPu",
      "authorship_tag": "ABX9TyMvBOML+mFHk2uFJtPCExjC",
      "include_colab_link": true
    },
    "kernelspec": {
      "name": "python3",
      "display_name": "Python 3"
    },
    "language_info": {
      "name": "python"
    }
  },
  "cells": [
    {
      "cell_type": "markdown",
      "metadata": {
        "id": "view-in-github",
        "colab_type": "text"
      },
      "source": [
        "<a href=\"https://colab.research.google.com/github/jiwoong2/deeplearning/blob/main/PCA_color_augmentation.ipynb\" target=\"_parent\"><img src=\"https://colab.research.google.com/assets/colab-badge.svg\" alt=\"Open In Colab\"/></a>"
      ]
    },
    {
      "cell_type": "markdown",
      "source": [
        "# PCA color augmentation\n",
        "\n",
        "PCA color augmentation은 ImageNet Classification with Deep Convolutional\n",
        "Neural Networks(AlexNet)논문에 제시된 data augmentation 기법으로 이 프로젝트를 통해 PCA color augmentation의 아이디어를 이해하고, 파이썬 코드로 구현해 보고자 한다."
      ],
      "metadata": {
        "id": "tKvTKwc1Ijir"
      }
    },
    {
      "cell_type": "markdown",
      "source": [
        "# PCA color augmentation의 대략적인 과정과 아이디어\n",
        "\n",
        "ImageNet Classification with Deep Convolutional Neural Networks 논문에서 설명하는 PCA color augmentation의 과정은 다음과 같다.\n",
        "\n",
        "1. 이미지의 R,G,B값에 대한 covariance matrix(공분산 행렬)을 구한다.\n",
        "\n",
        "2. 위에서 구한 covariance matrix 의 고윳값과 고유벡터를 구한다.\n",
        "\n",
        "3. 고윳값에 평균이 0이고 표준편차가 0.1인 가우시안분포를 기반으로 생성한 각기 다른 random variable $ \\alpha $를 곱해준다.\n",
        "\n",
        "4. 각 열을 고유벡터로 갖는 행렬 $[\\textbf{p}_1, \\textbf{p}_2, \\textbf{p}_3]$과 그에 상응하는 고유값이 순서대로 나열된(위의 $ \\alpha $이 곱해진)벡터 [$\\lambda_1 \\alpha_1, \\lambda_2 \\alpha_2, \\lambda_3 \\alpha_3$]를 dot product한다.\n",
        "\n",
        "5. 위에서 구한 3차원 벡터를 각 픽셀의 RGB값에 더해준다.\n",
        "\n",
        "과정을 살펴보면 이미지의 RGB값을 이용해 구한 covarian matrix의 고윳값과 고유벡터를 사용해 이미지의 RGB값에 변화를 준다. 이미지의 RGB값의 분포특성을 반영한 covarian matirx의 **고유벡터와 그에 상응하는 고윳값을 곱함으로써 본래의\n",
        "RGB 분포특성을 어느정도 유지면서 고윳값에 적당한 상수를 곱하는 방식으로 약간의 무작위한 분포차이를 만들어냄을 알 수 있다.**"
      ],
      "metadata": {
        "id": "hj5sQXfhLVTP"
      }
    },
    {
      "cell_type": "markdown",
      "source": [
        "# 각 과정에 대한 코드구현과 추가이해"
      ],
      "metadata": {
        "id": "MzkseWgN7aXj"
      }
    },
    {
      "cell_type": "markdown",
      "source": [
        "이미지 불러오기"
      ],
      "metadata": {
        "id": "vR8QEHst7lUX"
      }
    },
    {
      "cell_type": "code",
      "source": [
        "import numpy as np\n",
        "import cv2\n",
        "from google.colab.patches import cv2_imshow\n",
        "import matplotlib.pyplot as plt"
      ],
      "metadata": {
        "id": "RCHuyXzjJv3S"
      },
      "execution_count": null,
      "outputs": []
    },
    {
      "cell_type": "code",
      "source": [
        "img = cv2.imread('/content/drive/MyDrive/워 해머-스페이스 마린.png', cv2.IMREAD_COLOR)"
      ],
      "metadata": {
        "id": "yvNGoapoSM8v"
      },
      "execution_count": null,
      "outputs": []
    },
    {
      "cell_type": "code",
      "source": [
        "cv2_imshow(img)\n",
        "plt.imshow(img[:,:,::-1])"
      ],
      "metadata": {
        "id": "mc0YI08qTJiy"
      },
      "execution_count": null,
      "outputs": []
    },
    {
      "cell_type": "code",
      "source": [
        "print(img.shape)\n",
        "print(img.dtype)"
      ],
      "metadata": {
        "id": "i34pvYcK8TMV"
      },
      "execution_count": null,
      "outputs": []
    },
    {
      "cell_type": "code",
      "source": [
        "# cv2로 불로온 컬러이미지의 색상 채널 순서는 BGR이다.\n",
        "img_r = img.copy()\n",
        "img_r[:,:,0] = 0\n",
        "img_r[:,:,1] = 0\n",
        "cv2_imshow(img_r)"
      ],
      "metadata": {
        "id": "kNgTM1tBUnXy"
      },
      "execution_count": null,
      "outputs": []
    },
    {
      "cell_type": "markdown",
      "source": [
        "이미지 RGB값 normalization\n",
        "\n",
        "이미지의 픽셀값을 normalization하는 이유는 후에 이를 기반으로한 상관계수 행렬을 구하기 위함이다. 기반이 되는 data의 scale에 영향을 받는 covariance는 그 값이 data의 scale에 따라 널뛰므로 data의 상관 관계의 방향을 파악할 수는 있어도 그 값자체에서 의미를 찾기 힘들다. 하지만 이를보완한 상관계수는 normalization 과정을 거친 data를 사용하기 때문에 data의 scale에 영향을 받지 않고 data의 상관관계의 방향은 물론 그 강도까지 파악할 수 있다."
      ],
      "metadata": {
        "id": "1KhG-Q2G9C5x"
      }
    },
    {
      "cell_type": "code",
      "source": [
        "img_norm = img.copy()"
      ],
      "metadata": {
        "id": "ViUWbBrUW-Ot"
      },
      "execution_count": null,
      "outputs": []
    },
    {
      "cell_type": "code",
      "source": [
        "img_norm = img_norm.reshape(-1, 3)\n",
        "img_norm.shape"
      ],
      "metadata": {
        "id": "XAaj624IYCIW"
      },
      "execution_count": null,
      "outputs": []
    },
    {
      "cell_type": "code",
      "source": [
        "# 이미지의 각 채널의 평균값을 0으로 변환한다.\n",
        "img_norm = img_norm - np.mean(img_norm, axis = 0)"
      ],
      "metadata": {
        "id": "1PkFV3WuZJwt"
      },
      "execution_count": null,
      "outputs": []
    },
    {
      "cell_type": "code",
      "source": [
        "# 이미지의 각 채널의 표준편차를 1로 변환한다.\n",
        "img_norm = img_norm / np.std(img_norm, axis = 0)"
      ],
      "metadata": {
        "id": "Yqs2JVAjDDGb"
      },
      "execution_count": null,
      "outputs": []
    },
    {
      "cell_type": "markdown",
      "source": [
        "covariance mattrix 와 고윳값 고유벡터 구하기.\n",
        "\n",
        "normalization 과정을 거친 이미지의 RGB값을 기반으로한 covariance matirx(즉, 상관계수 행렬) form은 다음과 같다.\n",
        "\n",
        "C = $ \\begin{pmatrix} Var(R) & Cov(R, G) & Cov(R, B) \\\\ Cov(G, R) & Var(G) & Cov(G, B) \\\\ Cov(B, R) & Cov(B, G) & Var(B) \\end{pmatrix}$\n",
        "\n",
        "그렇다면 covariance matirx의 고윳값과 고유벡터에는 어떤의미가 있을까?\n",
        "\n",
        "covariance matirx의 form을 다시 살펴보면 가장먼저 symmetrix matrix임을 알 수 있다. symmetric matrix는 대각화 가능하며 고유값으로 real number를 가지므로 위의 수식을 구현하는데 무리가 없다.\n",
        "\n",
        "또, 임의의 3차원 벡터를 곱해보면 기반이된 이미지의 R, G, B값의 분산과 서로의 공분산 특성을 반영해 벡터를 mapping시킨다는 특징도 알 수 있다. 그 의미는 covariance matrix의 고유값중 가장 큰값에 대응하는 고유벡터가 R, G ,B값의 분산을 가장 크게 갖는 축(주 축)이고, 그 다음 큰 고유값에 해당하는 고유벡터는 두번째로 큰 분산을 갖는 축(두번째 주 축), 세번째 고유값에 해당하는 고유벡터는 세번째 주축이라는 뜻 이다. PCA color augmentation은 이 주축에 적당히 작은 임의의 값을 곱해 다시 더해줌으로써 이미지의 R, G, B값의 전체적인 분산특성(아마도 이미지의 색조?)을 헤치지 않으면서도 분산특성이 다른 이미지를 생성하는것이 목적임을 알 수 있다."
      ],
      "metadata": {
        "id": "O7K2fMzuEHVl"
      }
    },
    {
      "cell_type": "code",
      "source": [
        "cov = np.cov(img_norm, rowvar = False) # rowvar가 True일시 row가 변수 column이 관측값으로 설정.\n",
        "print(cov)"
      ],
      "metadata": {
        "id": "erXdo7Xjabde"
      },
      "execution_count": null,
      "outputs": []
    },
    {
      "cell_type": "code",
      "source": [
        "eig_vals, eig_vecs = np.linalg.eigh(cov) # np.linalg.eigh() 함수는 실수 대칭행렬(또는 복소수 에미리미트 행렬)의 eigen value, eigen vector을 반환함.\n",
        "                                              # eigen value만 반환하는 eigvalsh(), 정사각행렬에서 작동하는 eig(), eigh)()등도 있음.\n",
        "print(eig_vals)  # 기본 오름차순으로 정렬됨.\n",
        "print(eig_vecs)  # 열 벡터임."
      ],
      "metadata": {
        "id": "oXzBLZ35bbF-"
      },
      "execution_count": null,
      "outputs": []
    },
    {
      "cell_type": "code",
      "source": [
        "# 내림차순으로 정렬\n",
        "idx = np.argsort(-eig_vals)\n",
        "eig_vals = eig_vals[idx]\n",
        "eig_vecs = eig_vecs[:, idx]\n",
        "\n",
        "print(eig_vals)\n",
        "print(eig_vecs)"
      ],
      "metadata": {
        "id": "m4HILEmev7r_"
      },
      "execution_count": null,
      "outputs": []
    },
    {
      "cell_type": "markdown",
      "source": [
        "평균이 0이고 표준편차가 0.1인 가우시안 분포에서 랜더한 값 $\\alpha$ 3개를 추출한다."
      ],
      "metadata": {
        "id": "oG5kmrPbfGi3"
      }
    },
    {
      "cell_type": "code",
      "source": [
        "alphas = np.random.normal(0, 0.1, 3)\n",
        "print(alphas)"
      ],
      "metadata": {
        "id": "GwOQf0bodTuJ"
      },
      "execution_count": null,
      "outputs": []
    },
    {
      "cell_type": "markdown",
      "source": [
        "$[\\textbf{p}_1, \\textbf{p}_2, \\textbf{p}_3] [\\lambda_1 \\alpha_1, \\lambda_2 \\alpha_2, \\lambda_3 \\alpha_3]^T$를 계산해 3차원 벡터를 얻는다. 논문에서는 이 값을 그대로 원본이미지의 R, G, B값에 더해준다고 나와있지만 구현에서는 rescale과정을 통해 픽셀값과의 scale 차이를 줄여서 좀더 유의미한 값으로 만들어준다."
      ],
      "metadata": {
        "id": "CCnrKAdSyDTd"
      }
    },
    {
      "cell_type": "code",
      "source": [
        "delta = np.dot(eig_vecs, alphas*eig_vals)\n",
        "delta = (delta*255.).astype('int8')\n",
        "print(delta.dtype)\n",
        "print(delta)"
      ],
      "metadata": {
        "id": "qfr5c3JDzVLV"
      },
      "execution_count": null,
      "outputs": []
    },
    {
      "cell_type": "markdown",
      "source": [
        "위의 3차원 벡터를 각 픽셀의 RGB값에 더해준후 범위를 0~255로 rescale 해준다."
      ],
      "metadata": {
        "id": "9bBYzOXAeACr"
      }
    },
    {
      "cell_type": "code",
      "source": [
        "arg_img = img.reshape(-1,3)\n",
        "arg_img = arg_img + delta\n",
        "arg_img = arg_img.reshape(515, 609, 3)\n",
        "arg_img = np.clip(arg_img, 0.0, 255.0)"
      ],
      "metadata": {
        "id": "ZRZlzSzClhJZ"
      },
      "execution_count": null,
      "outputs": []
    },
    {
      "cell_type": "code",
      "source": [
        "cv2_imshow(arg_img)"
      ],
      "metadata": {
        "id": "7qisR7a3mE1S"
      },
      "execution_count": null,
      "outputs": []
    },
    {
      "cell_type": "markdown",
      "source": [
        "원본 이미지를 입력받아 10개의 PCA color argumetation image를 생성하는 메서드\n",
        "https://qiita.com/koshian2/items/78de8ccd09dd2998ddfc"
      ],
      "metadata": {
        "id": "KmAwY49TlMkC"
      }
    },
    {
      "cell_type": "code",
      "source": [
        "def PCA_color_argumentation(img):\n",
        "\n",
        "    img_norm = img.reshape(-1,3)\n",
        "    img_norm = img_norm - np.mean(img_norm, axis = 0)\n",
        "    img_norm = img_norm / np.std(img_norm, axis = 0)\n",
        "\n",
        "    cov = np.cov(img_norm, rowvar = False)\n",
        "\n",
        "    en, ev = np.linalg.eigh(cov)\n",
        "\n",
        "    alphas = np.random.randn(3) * 0.1\n",
        "\n",
        "    sv = np.dot(ev, en * alphas)\n",
        "    sv = (sv * 255.0).astype('int8')\n",
        "\n",
        "    img_out = img.reshape(-1,3) + sv\n",
        "    img_out = img_out.reshape(img.shape)\n",
        "    img_out = np.clip(img_out, 0, 255)\n",
        "\n",
        "    plt.imshow(img_out[:,:,::-1])\n",
        "\n",
        "\n",
        "    return"
      ],
      "metadata": {
        "id": "dJbPFLRFlWaX"
      },
      "execution_count": null,
      "outputs": []
    },
    {
      "cell_type": "code",
      "source": [
        "plt.subplot(2, 1, 1)                # nrows=2, ncols=1, index=1\n",
        "plt.plot(x1, y1, 'o-')\n",
        "plt.title('1st Graph')\n",
        "plt.ylabel('Damped oscillation')\n",
        "\n",
        "plt.subplot(2, 1, 2)                # nrows=2, ncols=1, index=2\n",
        "plt.plot(x2, y2, '.-')\n",
        "plt.title('2nd Graph')\n",
        "plt.xlabel('time (s)')\n",
        "plt.ylabel('Undamped')"
      ],
      "metadata": {
        "id": "Haumdlu7ubx-"
      },
      "execution_count": null,
      "outputs": []
    },
    {
      "cell_type": "code",
      "source": [
        "PCA_color_argumentation(img)"
      ],
      "metadata": {
        "id": "6GCO6ja8pUkg"
      },
      "execution_count": null,
      "outputs": []
    },
    {
      "cell_type": "code",
      "source": [
        "a = [25.4, 26.3, 26.5, 29.0, 29.0, 29.7, 29.7, 30.0, 30.0, 30.7, 31.0, 31.0,\n",
        "                31.5, 32.0, 32.0, 32.0, 33.0, 33.0, 33.5, 33.5, 34.0, 34.0, 34.5, 35.0,\n",
        "                35.0, 35.0, 35.0, 36.0, 36.0, 37.0, 38.5, 38.5, 39.5, 41.0, 41.0]\n",
        "b = [242.0, 290.0, 340.0, 363.0, 430.0, 450.0, 500.0, 390.0, 450.0, 500.0, 475.0, 500.0,\n",
        "                500.0, 340.0, 600.0, 600.0, 700.0, 700.0, 610.0, 650.0, 575.0, 685.0, 620.0, 680.0,\n",
        "                700.0, 725.0, 720.0, 714.0, 850.0, 1000.0, 920.0, 955.0, 925.0, 975.0, 950.0]"
      ],
      "metadata": {
        "id": "YpM0aKpHwb6P"
      },
      "execution_count": null,
      "outputs": []
    },
    {
      "cell_type": "code",
      "source": [
        "plt.plot(a, b, 'ro')\n",
        "plt.plot(a1, b1, 'bo')\n",
        "plt.plot(a2, b2, 'yo')\n",
        "plt.show"
      ],
      "metadata": {
        "id": "BmohjYqT4WC5"
      },
      "execution_count": null,
      "outputs": []
    },
    {
      "cell_type": "code",
      "source": [
        "an = a - np.mean(a)\n",
        "an = an / np.std(an)\n",
        "\n",
        "bn = b - np.mean(b)\n",
        "bn = bn / np.std(bn)\n",
        "\n",
        "an"
      ],
      "metadata": {
        "id": "Qv4dGSY34o3n"
      },
      "execution_count": null,
      "outputs": []
    },
    {
      "cell_type": "code",
      "source": [
        "cov = np.cov(an, bn)\n",
        "cov"
      ],
      "metadata": {
        "id": "5Kmteby_6bPd"
      },
      "execution_count": null,
      "outputs": []
    },
    {
      "cell_type": "code",
      "source": [
        "eval, evec = np.linalg.eigh(cov)"
      ],
      "metadata": {
        "id": "exuxiuRl8eHH"
      },
      "execution_count": null,
      "outputs": []
    },
    {
      "cell_type": "code",
      "source": [
        "eval"
      ],
      "metadata": {
        "id": "Yy_0U5jW9xNK"
      },
      "execution_count": null,
      "outputs": []
    },
    {
      "cell_type": "code",
      "source": [
        "evec"
      ],
      "metadata": {
        "id": "EQQuSC7c90gz"
      },
      "execution_count": null,
      "outputs": []
    },
    {
      "cell_type": "code",
      "source": [
        "delta = np.dot(evec, eval)"
      ],
      "metadata": {
        "id": "uwqQyJjl-GqW"
      },
      "execution_count": null,
      "outputs": []
    },
    {
      "cell_type": "code",
      "source": [
        "a1 = a + delta[0]\n",
        "b1 = b + delta[1]\n",
        "a1"
      ],
      "metadata": {
        "id": "0xDX6ItB-ljW"
      },
      "execution_count": null,
      "outputs": []
    },
    {
      "cell_type": "code",
      "source": [
        "a2 = a + delta[0]*0.5\n",
        "b2 = b + delta[1]*0.5"
      ],
      "metadata": {
        "id": "KB65-AGh-_80"
      },
      "execution_count": null,
      "outputs": []
    },
    {
      "cell_type": "code",
      "source": [
        "alphas = np.random.normal(0, 0.1, 3)\n",
        "delta = np.dot(p, alphas*lambdas)\n",
        "delta = (delta*255.).astype('int8')\n",
        "pca_color_image = np.maximum(np.minimum(original_image + delta, 255), 0).astype('uint8')"
      ],
      "metadata": {
        "id": "z3cHJ8BB91Jn"
      },
      "execution_count": null,
      "outputs": []
    },
    {
      "cell_type": "code",
      "source": [
        "np.cov(a, b)"
      ],
      "metadata": {
        "id": "ZEAX4mW2_TlM"
      },
      "execution_count": null,
      "outputs": []
    },
    {
      "cell_type": "code",
      "source": [
        "np.cov(a1, b1)"
      ],
      "metadata": {
        "id": "jE0njQvJ_WvF"
      },
      "execution_count": null,
      "outputs": []
    },
    {
      "cell_type": "code",
      "source": [
        "a2"
      ],
      "metadata": {
        "id": "udxVMO2q_YaT"
      },
      "execution_count": null,
      "outputs": []
    }
  ]
}