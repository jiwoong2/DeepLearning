{
  "nbformat": 4,
  "nbformat_minor": 0,
  "metadata": {
    "colab": {
      "private_outputs": true,
      "provenance": [],
      "mount_file_id": "19Tge4wLzqsrSEy1wFKJ6yuDeh3nnpzPu",
      "authorship_tag": "ABX9TyOdW8XT6l1aomS7xG/yeoSr",
      "include_colab_link": true
    },
    "kernelspec": {
      "name": "python3",
      "display_name": "Python 3"
    },
    "language_info": {
      "name": "python"
    }
  },
  "cells": [
    {
      "cell_type": "markdown",
      "metadata": {
        "id": "view-in-github",
        "colab_type": "text"
      },
      "source": [
        "<a href=\"https://colab.research.google.com/github/jiwoong2/deeplearning/blob/main/PCA_color_augmentation.ipynb\" target=\"_parent\"><img src=\"https://colab.research.google.com/assets/colab-badge.svg\" alt=\"Open In Colab\"/></a>"
      ]
    },
    {
      "cell_type": "code",
      "execution_count": null,
      "metadata": {
        "id": "xn8OHUTU9pIY"
      },
      "outputs": [],
      "source": [
        "import numpy as np\n",
        "import cv2\n",
        "from google.colab.patches import cv2_imshow"
      ]
    },
    {
      "cell_type": "code",
      "source": [
        "img = cv2.imread('/content/drive/MyDrive/워 해머-스페이스 마린.png', cv2.IMREAD_COLOR)"
      ],
      "metadata": {
        "id": "yvNGoapoSM8v"
      },
      "execution_count": null,
      "outputs": []
    },
    {
      "cell_type": "code",
      "source": [
        "cv2_imshow(img)"
      ],
      "metadata": {
        "id": "mc0YI08qTJiy"
      },
      "execution_count": null,
      "outputs": []
    },
    {
      "cell_type": "code",
      "source": [
        "img.shape"
      ],
      "metadata": {
        "id": "CEzHvx0iTVzd"
      },
      "execution_count": null,
      "outputs": []
    },
    {
      "cell_type": "code",
      "source": [
        "# 이미지의 색상 채널 순서는 BGR임.\n",
        "img_r = img.copy()\n",
        "img_r[:,:,0] = 0\n",
        "img_r[:,:,1] = 0\n",
        "cv2_imshow(img_r)"
      ],
      "metadata": {
        "id": "kNgTM1tBUnXy"
      },
      "execution_count": null,
      "outputs": []
    },
    {
      "cell_type": "code",
      "source": [
        "img1 = img.copy()"
      ],
      "metadata": {
        "id": "ViUWbBrUW-Ot"
      },
      "execution_count": null,
      "outputs": []
    },
    {
      "cell_type": "code",
      "source": [
        "img1 = img1 / 255.0"
      ],
      "metadata": {
        "id": "XAaj624IYCIW"
      },
      "execution_count": null,
      "outputs": []
    },
    {
      "cell_type": "code",
      "source": [
        "img2 = img1.reshape(-1, 3)\n",
        "img2.shape"
      ],
      "metadata": {
        "id": "qYy2QZ8DY-pJ"
      },
      "execution_count": null,
      "outputs": []
    },
    {
      "cell_type": "code",
      "source": [
        "np.mean(img2, axis = 0)"
      ],
      "metadata": {
        "id": "1PkFV3WuZJwt"
      },
      "execution_count": null,
      "outputs": []
    },
    {
      "cell_type": "code",
      "source": [
        "img3 = img2 - np.mean(img2, axis = 0)"
      ],
      "metadata": {
        "id": "ANy3Hbq4aIpB"
      },
      "execution_count": null,
      "outputs": []
    },
    {
      "cell_type": "code",
      "source": [
        "img4 = np.cov(img3, rowvar = False) # rowvar가 True일시 row가 변수 column이 관측값으로 설정."
      ],
      "metadata": {
        "id": "erXdo7Xjabde"
      },
      "execution_count": null,
      "outputs": []
    },
    {
      "cell_type": "code",
      "source": [
        "img4"
      ],
      "metadata": {
        "id": "cnqbJuqsbaO4"
      },
      "execution_count": null,
      "outputs": []
    },
    {
      "cell_type": "code",
      "source": [
        "eig_vals, eig_vecs = np.linalg.eigh(img4) # np.linalg.eigh() 함수는 실수 대칭행렬(또는 복소수 에미리미트 행렬)의 eigen value, eigen vector을 반환함.\n",
        "                                          # eigen value만 반환하는 eigvalsh(), 정사각행렬에서 작동하는 eig(), eigh)()등도 있음."
      ],
      "metadata": {
        "id": "oXzBLZ35bbF-"
      },
      "execution_count": null,
      "outputs": []
    },
    {
      "cell_type": "code",
      "source": [
        "print(eig_vals)\n",
        "print(eig_vecs)"
      ],
      "metadata": {
        "id": "ELWpjld3eWbN"
      },
      "execution_count": null,
      "outputs": []
    }
  ]
}