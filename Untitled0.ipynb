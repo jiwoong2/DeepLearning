{
  "nbformat": 4,
  "nbformat_minor": 0,
  "metadata": {
    "colab": {
      "private_outputs": true,
      "provenance": [],
      "collapsed_sections": [
        "q_Ebqel0IPSI",
        "pDNre4YqIS58"
      ],
      "gpuType": "T4",
      "authorship_tag": "ABX9TyM7aq2J7R5OEyW4eKcL/7bH",
      "include_colab_link": true
    },
    "kernelspec": {
      "name": "python3",
      "display_name": "Python 3"
    },
    "language_info": {
      "name": "python"
    },
    "accelerator": "GPU"
  },
  "cells": [
    {
      "cell_type": "markdown",
      "metadata": {
        "id": "view-in-github",
        "colab_type": "text"
      },
      "source": [
        "<a href=\"https://colab.research.google.com/github/jiwoong2/deeplearning/blob/main/Untitled0.ipynb\" target=\"_parent\"><img src=\"https://colab.research.google.com/assets/colab-badge.svg\" alt=\"Open In Colab\"/></a>"
      ]
    },
    {
      "cell_type": "code",
      "execution_count": null,
      "metadata": {
        "id": "gwNC_yCuIETt"
      },
      "outputs": [],
      "source": [
        "import torch\n",
        "from torch import nn\n",
        "from torch import optim\n",
        "import torch.nn.functional as F\n",
        "import matplotlib.pyplot as plt"
      ]
    },
    {
      "cell_type": "markdown",
      "source": [
        "# Data"
      ],
      "metadata": {
        "id": "q_Ebqel0IPSI"
      }
    },
    {
      "cell_type": "code",
      "source": [
        "N=20\n",
        "random0=torch.randn(int(N/2),1)\n",
        "random5=torch.randn(int(N/2),1)+8\n",
        "\n",
        "class1_data=torch.hstack([random0,random5])\n",
        "class2_data=torch.hstack([random5,random0])\n",
        "\n",
        "class1_label=torch.ones(int(N/2),1)\n",
        "class2_label=torch.zeros(int(N/2),1)\n",
        "class3_label=torch.ones(int(N/2),1)\n",
        "\n",
        "X=torch.vstack([class1_data,class2_data])\n",
        "y=torch.vstack([class1_label,class2_label])\n",
        "\n",
        "plt.plot(class1_data[:,0],class1_data[:,1],'bo')\n",
        "plt.plot(class2_data[:,0],class2_data[:,1],'ro')\n",
        "plt.xlabel('x1')\n",
        "plt.ylabel('x2')\n",
        "plt.grid()"
      ],
      "metadata": {
        "id": "r-nYyBhPINpV"
      },
      "execution_count": null,
      "outputs": []
    },
    {
      "cell_type": "markdown",
      "source": [
        "# Model"
      ],
      "metadata": {
        "id": "pDNre4YqIS58"
      }
    },
    {
      "cell_type": "code",
      "source": [
        "class Sigmoid_model(nn.Module):\n",
        "    def __init__(self):\n",
        "        super().__init__()\n",
        "        self.layer = nn.Sequential(nn.Linear(2, 10), nn.Sigmoid(),\n",
        "                                   nn.Linear(10, 10), nn.Sigmoid(),\n",
        "                                   nn.Linear(10, 10), nn.Sigmoid(),\n",
        "                                   nn.Linear(10, 10), nn.Sigmoid(),\n",
        "                                   nn.Linear(10, 10), nn.Sigmoid(),\n",
        "                                   nn.Linear(10, 10), nn.Sigmoid(),\n",
        "                                   nn.Linear(10, 1), nn.Sigmoid())\n",
        "\n",
        "    def forward(self, x):\n",
        "        x = self.layer(x)\n",
        "        return x"
      ],
      "metadata": {
        "id": "b_CO0xGiIXTE"
      },
      "execution_count": null,
      "outputs": []
    },
    {
      "cell_type": "markdown",
      "source": [
        "# Graph"
      ],
      "metadata": {
        "id": "-3Cq3Q0QIgMw"
      }
    },
    {
      "cell_type": "code",
      "source": [
        "print(Sigmoid_model())"
      ],
      "metadata": {
        "id": "8TK7SJGnIpqI"
      },
      "execution_count": null,
      "outputs": []
    },
    {
      "cell_type": "code",
      "source": [
        "s_model = Sigmoid_model()\n",
        "\n",
        "layer_idx = 2\n",
        "wr, wc = 2, 3\n",
        "scale = 2\n",
        "\n",
        "wv = s_model.layer[layer_idx].weight[wr,wc].tolist()\n",
        "b = torch.linspace(wv-scale,wv+scale,1000)\n",
        "\n",
        "Loss = []\n",
        "for i in b:\n",
        "    s_model.layer[layer_idx].weight.requires_grad = False\n",
        "    s_model.layer[layer_idx].weight[wr,wc] = i\n",
        "    s_model.layer[layer_idx].weight.requires_grad = True\n",
        "    loss = F.binary_cross_entropy(s_model(X[0]), y[0])\n",
        "    Loss.append(loss.tolist())\n",
        "\n",
        "plt.plot(b, Loss)\n",
        "plt.ylabel('Loss')\n",
        "plt.xlabel(f'Weight(init_value={round(wv,3)}), scale = +-{scale}')\n",
        "plt.show()"
      ],
      "metadata": {
        "id": "qcMpF4lBJ3nb"
      },
      "execution_count": null,
      "outputs": []
    },
    {
      "cell_type": "code",
      "source": [
        "loss = F.binary_cross_entropy(s_model(X[0]), y[0])\n",
        "loss"
      ],
      "metadata": {
        "id": "1H6YcUFnRsvh"
      },
      "execution_count": null,
      "outputs": []
    },
    {
      "cell_type": "code",
      "source": [
        "DEVICE = \"cuda\" if torch.cuda.is_available() else \"cpu\"\n",
        "print(DEVICE)"
      ],
      "metadata": {
        "id": "A9WeVyseOthb"
      },
      "execution_count": null,
      "outputs": []
    },
    {
      "cell_type": "code",
      "source": [
        "s_model = Sigmoid_model()\n",
        "\n",
        "layer_idx1 = 4\n",
        "layer_idx2 = 4\n",
        "wr1, wc1 = 2, 3\n",
        "wr2, wc2 = 4, 5\n",
        "scale1 = 0.5\n",
        "scale2 = 0.5\n",
        "\n",
        "\n",
        "wv1 = s_model.layer[layer_idx1].weight[wr1,wc1].tolist()\n",
        "b1 = torch.linspace(wv1-scale1,wv1+scale1,500)\n",
        "wv2 = s_model.layer[layer_idx2].weight[wr2,wc2].tolist()\n",
        "b2 = torch.linspace(wv2-scale2,wv2+scale2,500)\n",
        "\n",
        "b1_test, b2_test = torch.meshgrid(b1,b2)\n",
        "\n",
        "Loss = []\n",
        "ct = 0\n",
        "\n",
        "for bi in b1:\n",
        "    ct += 1\n",
        "    if ct%10 == 0:\n",
        "        print(f\"--------------------{ct}-----------------------\")\n",
        "\n",
        "    for bj in b2:\n",
        "        s_model.layer[layer_idx1].weight.requires_grad = False\n",
        "        s_model.layer[layer_idx1].weight[wr,wc] = bi\n",
        "        s_model.layer[layer_idx1].weight.requires_grad = True\n",
        "        s_model.layer[layer_idx2].weight.requires_grad = False\n",
        "        s_model.layer[layer_idx2].weight[wr,wc] = bj\n",
        "        s_model.layer[layer_idx2].weight.requires_grad = True\n",
        "        loss = F.binary_cross_entropy(s_model(X[0]), y[0])\n",
        "        Loss.append(loss.item())\n",
        "\n",
        "Loss = torch.tensor(Loss)\n",
        "Loss = Loss.reshape(500,500)\n",
        "Loss = Loss.T\n",
        "\n",
        "plt.figure(figsize=[10, 9])\n",
        "ax = plt.axes(projection=\"3d\")\n",
        "ax.view_init(elev=25,azim=-140)\n",
        "ax.plot_surface(b1_test, b2_test, Loss, cmap=\"viridis\", alpha=0.2)\n",
        "\n",
        "plt.xlabel(\"x1\")\n",
        "plt.ylabel(\"x2\")"
      ],
      "metadata": {
        "id": "qstAZircY8Vw"
      },
      "execution_count": null,
      "outputs": []
    },
    {
      "cell_type": "code",
      "source": [
        "import plotly.graph_objects as go\n",
        "\n",
        "fig = go.Figure(data=[go.Surface(x=b1_test, y=b2_test, z=Loss, colorscale=\"viridis\", opacity=0.5)])\n",
        "fig.update_traces(contours_z=dict(show=True, usecolormap=True, highlightcolor=\"limegreen\", project_z=True))\n",
        "fig.update_layout(title='binary classification', width=700, height=600)"
      ],
      "metadata": {
        "id": "pWWgKEX-b1bO"
      },
      "execution_count": null,
      "outputs": []
    },
    {
      "cell_type": "code",
      "source": [
        "x1_test=torch.linspace(-2,2,5) # case 2\n",
        "x2_test=torch.linspace(-2,2,5) # case 2\n",
        "\n",
        "X1_test, X2_test=torch.meshgrid(x1_test,x2_test)\n",
        "X_test=torch.cat([X1_test.unsqueeze(dim=2), X2_test.unsqueeze(dim=2)], dim=2)"
      ],
      "metadata": {
        "id": "22AOcwOSWUPr"
      },
      "execution_count": null,
      "outputs": []
    },
    {
      "cell_type": "code",
      "source": [
        "x1_test"
      ],
      "metadata": {
        "id": "IT5UjpVhXDaq"
      },
      "execution_count": null,
      "outputs": []
    },
    {
      "cell_type": "code",
      "source": [
        "X1_test"
      ],
      "metadata": {
        "id": "_c_BD2fkf923"
      },
      "execution_count": null,
      "outputs": []
    },
    {
      "cell_type": "code",
      "source": [
        "X2_test"
      ],
      "metadata": {
        "id": "2Ua-w1TTgJ3W"
      },
      "execution_count": null,
      "outputs": []
    },
    {
      "cell_type": "code",
      "source": [
        "X_test"
      ],
      "metadata": {
        "id": "KjfiIZ09gQFZ"
      },
      "execution_count": null,
      "outputs": []
    },
    {
      "cell_type": "code",
      "source": [],
      "metadata": {
        "id": "nb_P-KqigRQ6"
      },
      "execution_count": null,
      "outputs": []
    }
  ]
}