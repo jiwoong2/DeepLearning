{
  "nbformat": 4,
  "nbformat_minor": 0,
  "metadata": {
    "colab": {
      "provenance": [],
      "include_colab_link": true
    },
    "kernelspec": {
      "name": "python3",
      "display_name": "Python 3"
    },
    "language_info": {
      "name": "python"
    }
  },
  "cells": [
    {
      "cell_type": "markdown",
      "metadata": {
        "id": "view-in-github",
        "colab_type": "text"
      },
      "source": [
        "<a href=\"https://colab.research.google.com/github/jiwoong2/deeplearning/blob/main/multiclass_classification.ipynb\" target=\"_parent\"><img src=\"https://colab.research.google.com/assets/colab-badge.svg\" alt=\"Open In Colab\"/></a>"
      ]
    },
    {
      "cell_type": "code",
      "execution_count": 1,
      "metadata": {
        "id": "LdP-lGvlfogA"
      },
      "outputs": [],
      "source": [
        "import torch\n",
        "from torchvision import datasets, transforms\n",
        "import matplotlib.pyplot as plt"
      ]
    },
    {
      "cell_type": "markdown",
      "source": [
        "## 구글 드라이브와 연동 (코랩 새로 켤 때마다 지워지기 땜에)"
      ],
      "metadata": {
        "id": "6PB6aY3QgKwq"
      }
    },
    {
      "cell_type": "code",
      "source": [
        "from google.colab import drive\n",
        "drive.mount('/content/drive')"
      ],
      "metadata": {
        "colab": {
          "base_uri": "https://localhost:8080/"
        },
        "id": "xpllydITg1gy",
        "outputId": "afbde530-e615-4c8f-d5e6-57480dc81104"
      },
      "execution_count": 8,
      "outputs": [
        {
          "output_type": "stream",
          "name": "stdout",
          "text": [
            "Mounted at /content/drive\n"
          ]
        }
      ]
    },
    {
      "cell_type": "markdown",
      "source": [
        "## 구글 GPU 좀 써보자"
      ],
      "metadata": {
        "id": "QQCloFWekDgo"
      }
    },
    {
      "cell_type": "code",
      "source": [
        "# DEVICE = \"cuda\" if torch.cuda.is_available() else \"cpu\"\n",
        "# print(DEVICE)\n",
        "DEVICE = \"cuda\" if torch.cuda.is_available() else \"cpu\"\n",
        "print(DEVICE)"
      ],
      "metadata": {
        "colab": {
          "base_uri": "https://localhost:8080/"
        },
        "id": "WQ5EzHtPkFCY",
        "outputId": "77c8ad61-8ada-4eb3-c447-2f570522a32f"
      },
      "execution_count": 25,
      "outputs": [
        {
          "output_type": "stream",
          "name": "stdout",
          "text": [
            "cpu\n"
          ]
        }
      ]
    },
    {
      "cell_type": "markdown",
      "source": [
        "## train_DS와 test_DS 구경"
      ],
      "metadata": {
        "id": "9SrLOlXIksJj"
      }
    },
    {
      "cell_type": "code",
      "source": [
        "transform = transforms.ToTensor()\n",
        "train_DS = datasets.MNIST(root = '/content/drive/MyDrive/Colab Notebooks/data', train=True, download=True, transform=transform)\n",
        "test_DS = datasets.MNIST(root = '/content/drive/MyDrive/Colab Notebooks/data', train=False, download=True, transform=transform)"
      ],
      "metadata": {
        "id": "O5m2bl9BkrUA"
      },
      "execution_count": null,
      "outputs": []
    },
    {
      "cell_type": "code",
      "source": [
        "print(train_DS)\n",
        "print(test_DS)\n",
        "print(len(train_DS))\n",
        "print(len(test_DS))"
      ],
      "metadata": {
        "colab": {
          "base_uri": "https://localhost:8080/"
        },
        "id": "NySu9m2elF7H",
        "outputId": "007ce0b1-27c4-4aa7-dc8d-293a7de10ba4"
      },
      "execution_count": 10,
      "outputs": [
        {
          "output_type": "stream",
          "name": "stdout",
          "text": [
            "Dataset MNIST\n",
            "    Number of datapoints: 60000\n",
            "    Root location: /content/drive/MyDrive/Colab Notebooks/data\n",
            "    Split: Train\n",
            "    StandardTransform\n",
            "Transform: ToTensor()\n",
            "Dataset MNIST\n",
            "    Number of datapoints: 10000\n",
            "    Root location: /content/drive/MyDrive/Colab Notebooks/data\n",
            "    Split: Test\n",
            "    StandardTransform\n",
            "Transform: ToTensor()\n",
            "60000\n",
            "10000\n"
          ]
        }
      ]
    },
    {
      "cell_type": "code",
      "source": [
        "train_DS.classes # . 뒤에서 탭 하면 이것저것 볼 수 있는 게 뜬다."
      ],
      "metadata": {
        "colab": {
          "base_uri": "https://localhost:8080/"
        },
        "id": "kHO3ObtIlXLQ",
        "outputId": "869f7b31-9628-4649-a363-ab5fa89917b9"
      },
      "execution_count": 11,
      "outputs": [
        {
          "output_type": "execute_result",
          "data": {
            "text/plain": [
              "['0 - zero',\n",
              " '1 - one',\n",
              " '2 - two',\n",
              " '3 - three',\n",
              " '4 - four',\n",
              " '5 - five',\n",
              " '6 - six',\n",
              " '7 - seven',\n",
              " '8 - eight',\n",
              " '9 - nine']"
            ]
          },
          "metadata": {},
          "execution_count": 11
        }
      ]
    },
    {
      "cell_type": "code",
      "source": [
        "train_DS.class_to_idx"
      ],
      "metadata": {
        "colab": {
          "base_uri": "https://localhost:8080/"
        },
        "id": "DI6kgGUzlkzP",
        "outputId": "a5b7bc75-32eb-443d-dca4-c7c593c14fe0"
      },
      "execution_count": 12,
      "outputs": [
        {
          "output_type": "execute_result",
          "data": {
            "text/plain": [
              "{'0 - zero': 0,\n",
              " '1 - one': 1,\n",
              " '2 - two': 2,\n",
              " '3 - three': 3,\n",
              " '4 - four': 4,\n",
              " '5 - five': 5,\n",
              " '6 - six': 6,\n",
              " '7 - seven': 7,\n",
              " '8 - eight': 8,\n",
              " '9 - nine': 9}"
            ]
          },
          "metadata": {},
          "execution_count": 12
        }
      ]
    },
    {
      "cell_type": "code",
      "source": [
        "train_DS.data.shape"
      ],
      "metadata": {
        "colab": {
          "base_uri": "https://localhost:8080/"
        },
        "id": "ZJ_jzKUYlm4A",
        "outputId": "8351e412-6b01-459e-f848-a3cd4f25eda3"
      },
      "execution_count": 13,
      "outputs": [
        {
          "output_type": "execute_result",
          "data": {
            "text/plain": [
              "torch.Size([60000, 28, 28])"
            ]
          },
          "metadata": {},
          "execution_count": 13
        }
      ]
    },
    {
      "cell_type": "code",
      "source": [
        "train_DS.data[0]"
      ],
      "metadata": {
        "colab": {
          "base_uri": "https://localhost:8080/"
        },
        "id": "7xhEEbzYl4OY",
        "outputId": "c9249e27-8937-4ec5-a4c8-5500c2f7e3e3"
      },
      "execution_count": 14,
      "outputs": [
        {
          "output_type": "execute_result",
          "data": {
            "text/plain": [
              "tensor([[  0,   0,   0,   0,   0,   0,   0,   0,   0,   0,   0,   0,   0,   0,\n",
              "           0,   0,   0,   0,   0,   0,   0,   0,   0,   0,   0,   0,   0,   0],\n",
              "        [  0,   0,   0,   0,   0,   0,   0,   0,   0,   0,   0,   0,   0,   0,\n",
              "           0,   0,   0,   0,   0,   0,   0,   0,   0,   0,   0,   0,   0,   0],\n",
              "        [  0,   0,   0,   0,   0,   0,   0,   0,   0,   0,   0,   0,   0,   0,\n",
              "           0,   0,   0,   0,   0,   0,   0,   0,   0,   0,   0,   0,   0,   0],\n",
              "        [  0,   0,   0,   0,   0,   0,   0,   0,   0,   0,   0,   0,   0,   0,\n",
              "           0,   0,   0,   0,   0,   0,   0,   0,   0,   0,   0,   0,   0,   0],\n",
              "        [  0,   0,   0,   0,   0,   0,   0,   0,   0,   0,   0,   0,   0,   0,\n",
              "           0,   0,   0,   0,   0,   0,   0,   0,   0,   0,   0,   0,   0,   0],\n",
              "        [  0,   0,   0,   0,   0,   0,   0,   0,   0,   0,   0,   0,   3,  18,\n",
              "          18,  18, 126, 136, 175,  26, 166, 255, 247, 127,   0,   0,   0,   0],\n",
              "        [  0,   0,   0,   0,   0,   0,   0,   0,  30,  36,  94, 154, 170, 253,\n",
              "         253, 253, 253, 253, 225, 172, 253, 242, 195,  64,   0,   0,   0,   0],\n",
              "        [  0,   0,   0,   0,   0,   0,   0,  49, 238, 253, 253, 253, 253, 253,\n",
              "         253, 253, 253, 251,  93,  82,  82,  56,  39,   0,   0,   0,   0,   0],\n",
              "        [  0,   0,   0,   0,   0,   0,   0,  18, 219, 253, 253, 253, 253, 253,\n",
              "         198, 182, 247, 241,   0,   0,   0,   0,   0,   0,   0,   0,   0,   0],\n",
              "        [  0,   0,   0,   0,   0,   0,   0,   0,  80, 156, 107, 253, 253, 205,\n",
              "          11,   0,  43, 154,   0,   0,   0,   0,   0,   0,   0,   0,   0,   0],\n",
              "        [  0,   0,   0,   0,   0,   0,   0,   0,   0,  14,   1, 154, 253,  90,\n",
              "           0,   0,   0,   0,   0,   0,   0,   0,   0,   0,   0,   0,   0,   0],\n",
              "        [  0,   0,   0,   0,   0,   0,   0,   0,   0,   0,   0, 139, 253, 190,\n",
              "           2,   0,   0,   0,   0,   0,   0,   0,   0,   0,   0,   0,   0,   0],\n",
              "        [  0,   0,   0,   0,   0,   0,   0,   0,   0,   0,   0,  11, 190, 253,\n",
              "          70,   0,   0,   0,   0,   0,   0,   0,   0,   0,   0,   0,   0,   0],\n",
              "        [  0,   0,   0,   0,   0,   0,   0,   0,   0,   0,   0,   0,  35, 241,\n",
              "         225, 160, 108,   1,   0,   0,   0,   0,   0,   0,   0,   0,   0,   0],\n",
              "        [  0,   0,   0,   0,   0,   0,   0,   0,   0,   0,   0,   0,   0,  81,\n",
              "         240, 253, 253, 119,  25,   0,   0,   0,   0,   0,   0,   0,   0,   0],\n",
              "        [  0,   0,   0,   0,   0,   0,   0,   0,   0,   0,   0,   0,   0,   0,\n",
              "          45, 186, 253, 253, 150,  27,   0,   0,   0,   0,   0,   0,   0,   0],\n",
              "        [  0,   0,   0,   0,   0,   0,   0,   0,   0,   0,   0,   0,   0,   0,\n",
              "           0,  16,  93, 252, 253, 187,   0,   0,   0,   0,   0,   0,   0,   0],\n",
              "        [  0,   0,   0,   0,   0,   0,   0,   0,   0,   0,   0,   0,   0,   0,\n",
              "           0,   0,   0, 249, 253, 249,  64,   0,   0,   0,   0,   0,   0,   0],\n",
              "        [  0,   0,   0,   0,   0,   0,   0,   0,   0,   0,   0,   0,   0,   0,\n",
              "          46, 130, 183, 253, 253, 207,   2,   0,   0,   0,   0,   0,   0,   0],\n",
              "        [  0,   0,   0,   0,   0,   0,   0,   0,   0,   0,   0,   0,  39, 148,\n",
              "         229, 253, 253, 253, 250, 182,   0,   0,   0,   0,   0,   0,   0,   0],\n",
              "        [  0,   0,   0,   0,   0,   0,   0,   0,   0,   0,  24, 114, 221, 253,\n",
              "         253, 253, 253, 201,  78,   0,   0,   0,   0,   0,   0,   0,   0,   0],\n",
              "        [  0,   0,   0,   0,   0,   0,   0,   0,  23,  66, 213, 253, 253, 253,\n",
              "         253, 198,  81,   2,   0,   0,   0,   0,   0,   0,   0,   0,   0,   0],\n",
              "        [  0,   0,   0,   0,   0,   0,  18, 171, 219, 253, 253, 253, 253, 195,\n",
              "          80,   9,   0,   0,   0,   0,   0,   0,   0,   0,   0,   0,   0,   0],\n",
              "        [  0,   0,   0,   0,  55, 172, 226, 253, 253, 253, 253, 244, 133,  11,\n",
              "           0,   0,   0,   0,   0,   0,   0,   0,   0,   0,   0,   0,   0,   0],\n",
              "        [  0,   0,   0,   0, 136, 253, 253, 253, 212, 135, 132,  16,   0,   0,\n",
              "           0,   0,   0,   0,   0,   0,   0,   0,   0,   0,   0,   0,   0,   0],\n",
              "        [  0,   0,   0,   0,   0,   0,   0,   0,   0,   0,   0,   0,   0,   0,\n",
              "           0,   0,   0,   0,   0,   0,   0,   0,   0,   0,   0,   0,   0,   0],\n",
              "        [  0,   0,   0,   0,   0,   0,   0,   0,   0,   0,   0,   0,   0,   0,\n",
              "           0,   0,   0,   0,   0,   0,   0,   0,   0,   0,   0,   0,   0,   0],\n",
              "        [  0,   0,   0,   0,   0,   0,   0,   0,   0,   0,   0,   0,   0,   0,\n",
              "           0,   0,   0,   0,   0,   0,   0,   0,   0,   0,   0,   0,   0,   0]],\n",
              "       dtype=torch.uint8)"
            ]
          },
          "metadata": {},
          "execution_count": 14
        }
      ]
    },
    {
      "cell_type": "code",
      "source": [
        "# plt.imshow(train_DS.data[0], cmap=\"gray\")\n",
        "# plt.colorbar()\n",
        "\n",
        "plt.imshow(train_DS.data[0], cmap = \"gray\")\n",
        "plt.colorbar()"
      ],
      "metadata": {
        "colab": {
          "base_uri": "https://localhost:8080/",
          "height": 448
        },
        "id": "c5cQrV6ul-Gg",
        "outputId": "1b325cb2-db94-4399-d1bb-b747c6f37c92"
      },
      "execution_count": 15,
      "outputs": [
        {
          "output_type": "execute_result",
          "data": {
            "text/plain": [
              "<matplotlib.colorbar.Colorbar at 0x7f2839ada5f0>"
            ]
          },
          "metadata": {},
          "execution_count": 15
        },
        {
          "output_type": "display_data",
          "data": {
            "text/plain": [
              "<Figure size 640x480 with 2 Axes>"
            ],
            "image/png": "[encoded data removed]"
          },
          "metadata": {}
        }
      ]
    },
    {
      "cell_type": "code",
      "source": [
        "print(train_DS.targets)\n",
        "print(train_DS.targets.shape)"
      ],
      "metadata": {
        "colab": {
          "base_uri": "https://localhost:8080/"
        },
        "id": "zZE-oGIymLlY",
        "outputId": "84a0d3bd-0c95-4632-981b-0b92187865d5"
      },
      "execution_count": 16,
      "outputs": [
        {
          "output_type": "stream",
          "name": "stdout",
          "text": [
            "tensor([5, 0, 4,  ..., 5, 6, 8])\n",
            "torch.Size([60000])\n"
          ]
        }
      ]
    },
    {
      "cell_type": "markdown",
      "source": [
        "## DataLoader 구경"
      ],
      "metadata": {
        "id": "Q5vY0-D_mi6l"
      }
    },
    {
      "cell_type": "code",
      "source": [
        "BATCH_SIZE = 32\n",
        "train_DL = torch.utils.data.DataLoader(train_DS, batch_size=BATCH_SIZE, shuffle=True)\n",
        "test_DL = torch.utils.data.DataLoader(test_DS, batch_size=BATCH_SIZE, shuffle=True)"
      ],
      "metadata": {
        "id": "7I4E-ykemkIC"
      },
      "execution_count": 17,
      "outputs": []
    },
    {
      "cell_type": "code",
      "source": [
        "print(len(train_DL.dataset))"
      ],
      "metadata": {
        "colab": {
          "base_uri": "https://localhost:8080/"
        },
        "id": "FNsEyjKbm5mI",
        "outputId": "49a85cb8-05ad-43f4-87be-26476c7d4c00"
      },
      "execution_count": 18,
      "outputs": [
        {
          "output_type": "stream",
          "name": "stdout",
          "text": [
            "60000\n"
          ]
        }
      ]
    },
    {
      "cell_type": "code",
      "source": [
        "x_batch, y_batch = next(iter(train_DL)) # 데이터 한 국자\n",
        "print(type(train_DS.data))\n",
        "print(type(x_batch))\n",
        "print(x_batch.shape)\n",
        "print(y_batch.shape)\n",
        "plt.imshow(x_batch[0].squeeze(), cmap=\"gray\")\n",
        "plt.colorbar()\n",
        "print(y_batch[0])\n",
        "\n",
        "print(train_DL.dataset.data.dtype)\n",
        "print(x_batch.dtype)\n",
        "# ToTensor 의 역할\n",
        "# 1. tensor로 바꿔준다\n",
        "# 2. 개채행열로 바꿔준다\n",
        "# 3. 0~1 사이로 바꿔준다 (int -> float)\n",
        "\n",
        "\n",
        "\n",
        "# 1. tensor 로 바꾸고\n",
        "# 2. 개채행열로 바꾸고\n",
        "# 3. 0~1 사이로 바꾸고 (int -> float)\n",
        "print(type(train_DS.data))\n",
        "print(train_DS.data.shape)\n",
        "print(train_DS.data.dtype)\n",
        "# print(train_DS.data[0][0][0][0])\n",
        "x_batch, y_batch = next(iter(train_DL)) # next(iter(train_DS)) 는 한장만 꺼내기\n",
        "print(type(x_batch))\n",
        "print(x_batch.shape)\n",
        "print(x_batch.dtype)\n",
        "print(x_batch[0][0][0][0])"
      ],
      "metadata": {
        "colab": {
          "base_uri": "https://localhost:8080/",
          "height": 689
        },
        "id": "25nMD96km-hQ",
        "outputId": "2dfec146-9805-4580-c747-03ad6a1d0b36"
      },
      "execution_count": 20,
      "outputs": [
        {
          "output_type": "stream",
          "name": "stdout",
          "text": [
            "<class 'torch.Tensor'>\n",
            "<class 'torch.Tensor'>\n",
            "torch.Size([32, 1, 28, 28])\n",
            "torch.Size([32])\n",
            "tensor(8)\n",
            "torch.uint8\n",
            "torch.float32\n",
            "<class 'torch.Tensor'>\n",
            "torch.Size([60000, 28, 28])\n",
            "torch.uint8\n",
            "<class 'torch.Tensor'>\n",
            "torch.Size([32, 1, 28, 28])\n",
            "torch.float32\n",
            "tensor(0.)\n"
          ]
        },
        {
          "output_type": "display_data",
          "data": {
            "text/plain": [
              "<Figure size 640x480 with 2 Axes>"
            ],
            "image/png": "[encoded data removed]"
          },
          "metadata": {}
        }
      ]
    },
    {
      "cell_type": "markdown",
      "source": [
        "## 본격적으로 model 만들기!"
      ],
      "metadata": {
        "id": "xwurJKohouHW"
      }
    },
    {
      "cell_type": "code",
      "source": [
        "from torch import nn\n",
        "\n",
        "class MLP(nn.Module):\n",
        "    def __init__(self):\n",
        "        super().__init__()\n",
        "\n",
        "        self.linear = nn.Sequential(nn.Linear(28*28, 100),\n",
        "                                    nn.ReLU(),\n",
        "                                    nn.Linear(100,10))\n",
        "\n",
        "    def forward(self, x):\n",
        "        x = torch.flatten(x, start_dim=1)\n",
        "        x = self.linear(x)\n",
        "        return x"
      ],
      "metadata": {
        "id": "--a4BNdYotTI"
      },
      "execution_count": 21,
      "outputs": []
    },
    {
      "cell_type": "code",
      "source": [
        "# flatten 확인\n",
        "x_batch, _ = next(iter(train_DL))\n",
        "print(x_batch.shape)\n",
        "flat_images = torch.flatten(x_batch)\n",
        "print(flat_images.shape)\n",
        "flat_images2 = torch.flatten(x_batch, start_dim=1) # 1번부터 flatten\n",
        "print(flat_images2.shape)"
      ],
      "metadata": {
        "colab": {
          "base_uri": "https://localhost:8080/"
        },
        "id": "_MkdAmtvrOsw",
        "outputId": "c150bf2d-1cf4-4995-abf8-6a24cce61e2d"
      },
      "execution_count": 24,
      "outputs": [
        {
          "output_type": "stream",
          "name": "stdout",
          "text": [
            "torch.Size([32, 1, 28, 28])\n",
            "torch.Size([25088])\n",
            "torch.Size([32, 784])\n"
          ]
        }
      ]
    },
    {
      "cell_type": "code",
      "source": [
        "model = MLP()\n",
        "print(model)\n",
        "x_batch, _ = next(iter(train_DL))\n",
        "print(model(x_batch).shape)"
      ],
      "metadata": {
        "colab": {
          "base_uri": "https://localhost:8080/"
        },
        "id": "AdOhZhwXpBeY",
        "outputId": "a6cf75e6-fac3-453b-9495-560e43a430e8"
      },
      "execution_count": 22,
      "outputs": [
        {
          "output_type": "stream",
          "name": "stdout",
          "text": [
            "MLP(\n",
            "  (linear): Sequential(\n",
            "    (0): Linear(in_features=784, out_features=100, bias=True)\n",
            "    (1): ReLU()\n",
            "    (2): Linear(in_features=100, out_features=10, bias=True)\n",
            "  )\n",
            ")\n",
            "torch.Size([32, 10])\n"
          ]
        }
      ]
    },
    {
      "cell_type": "markdown",
      "source": [
        "## 모델 훈련시키기!"
      ],
      "metadata": {
        "id": "77bMfyMRrvkU"
      }
    },
    {
      "cell_type": "code",
      "source": [
        "from torch import optim\n",
        "\n",
        "LR = 1e-3\n",
        "EPOCH = 5\n",
        "criterion = nn.CrossEntropyLoss()\n",
        "\n",
        "def Train(model, train_DL, criterion, optimizer):\n",
        "\n",
        "    loss_history =[]\n",
        "    NoT = len(train_DL.dataset)\n",
        "\n",
        "    model.train() # train mode로 전환\n",
        "    for ep in range(EPOCH):\n",
        "        rloss = 0 # running loss\n",
        "        for x_batch, y_batch in train_DL:\n",
        "            x_batch = x_batch.to(DEVICE)\n",
        "            y_batch = y_batch.to(DEVICE)\n",
        "            # inference\n",
        "            y_hat = model(x_batch)\n",
        "            # loss\n",
        "            loss = criterion(y_hat, y_batch)\n",
        "            # update\n",
        "            optimizer.zero_grad() # gradient 누적을 막기 위한 초기화\n",
        "            loss.backward() # backpropagation\n",
        "            optimizer.step() # weight update\n",
        "            # loss accumulation\n",
        "            loss_b = loss.item() * x_batch.shape[0] # batch loss # BATCH_SIZE를 곱하면 마지막 18개도 32개를 곱하니까.. / 평균크로스엔트로피이므로\n",
        "            rloss += loss_b # running loss\n",
        "        # print loss\n",
        "        loss_e = rloss/NoT\n",
        "        loss_history += [loss_e]\n",
        "        print(f\"Epoch: {ep+1}, train loss: {round(loss_e,3)}\")\n",
        "        print(\"-\"*20)\n",
        "\n",
        "    return loss_history"
      ],
      "metadata": {
        "id": "9-dA9l_lrmxg"
      },
      "execution_count": 26,
      "outputs": []
    },
    {
      "cell_type": "markdown",
      "source": [
        "## Cross Entropy 확인 (왜 모델에 softmax를 안붙였을까?)\n",
        "\n"
      ],
      "metadata": {
        "id": "gBJc7lvvu8_q"
      }
    },
    {
      "cell_type": "code",
      "source": [
        "# cross entropy 구하는 여러가지 방법\n",
        "import torch.nn.functional as F\n",
        "\n",
        "y_hat = torch.randn(3, 5) # data는 세 개, 5 종류로 분류하는 문제 가정\n",
        "print(y_hat) # 가로 축으로 합이 1이 아님, 즉, softmax 통과 전\n",
        "y_batch = torch.randint(5, (3,))\n",
        "print(y_batch)\n",
        "\n",
        "# 방법 1\n",
        "loss = F.cross_entropy(y_hat, y_batch) # softmax가 내장\n",
        "print(loss)\n",
        "\n",
        "# 방법 2\n",
        "criterion = nn.CrossEntropyLoss() # softmax가 내장\n",
        "print(criterion(y_hat, y_batch))\n",
        "\n",
        "# 방법 3\n",
        "y_hat_soft = F.softmax(y_hat, dim=1)\n",
        "print(y_hat_soft)\n",
        "loss = 0\n",
        "for i, val in enumerate(y_hat_soft):\n",
        "    print(i, val)\n",
        "    loss += -torch.log(val[y_batch[i]])\n",
        "print(loss/3) # 평균이 내장되어있음을 알 수 있다"
      ],
      "metadata": {
        "colab": {
          "base_uri": "https://localhost:8080/"
        },
        "id": "q4DIUUqPu_SC",
        "outputId": "0d84e8d6-7505-4b4d-f6b7-ee2322cf3cb8"
      },
      "execution_count": null,
      "outputs": [
        {
          "output_type": "stream",
          "name": "stdout",
          "text": [
            "tensor([[-1.5921,  0.0532, -0.8198,  0.8071, -2.2306],\n",
            "        [ 1.8647, -0.4367,  0.3500, -0.3858, -0.6777],\n",
            "        [ 0.7187, -0.3449, -1.8158,  1.0209,  0.8408]])\n",
            "tensor([2, 2, 4])\n",
            "tensor(1.7938)\n",
            "tensor(1.7938)\n",
            "tensor([[0.0503, 0.2606, 0.1088, 0.5538, 0.0266],\n",
            "        [0.6649, 0.0666, 0.1462, 0.0700, 0.0523],\n",
            "        [0.2559, 0.0884, 0.0203, 0.3462, 0.2892]])\n",
            "0 tensor([0.0503, 0.2606, 0.1088, 0.5538, 0.0266])\n",
            "1 tensor([0.6649, 0.0666, 0.1462, 0.0700, 0.0523])\n",
            "2 tensor([0.2559, 0.0884, 0.0203, 0.3462, 0.2892])\n",
            "tensor(1.7938)\n"
          ]
        }
      ]
    },
    {
      "cell_type": "markdown",
      "source": [
        "2:15"
      ],
      "metadata": {
        "id": "ttdjbJVTw862"
      }
    },
    {
      "cell_type": "markdown",
      "source": [
        "## 모델 학습시키기"
      ],
      "metadata": {
        "id": "YTY-BwrV0z3H"
      }
    },
    {
      "cell_type": "code",
      "source": [
        "# model = MLP().to(DEVICE) # x_batch, y_batch, model 까지 DEVICE에 올려줘야 함\n",
        "# optimizer = optim.Adam(model.parameters(), lr=LR)\n",
        "# loss_history = Train(model, train_DL, criterion, optimizer)\n",
        "\n",
        "# plt.plot(range(1,EPOCH+1),loss_history)\n",
        "# plt.xlabel('Epoch')\n",
        "# plt.ylabel('loss')\n",
        "# plt.title(\"Train Loss\")\n",
        "# plt.grid()"
      ],
      "metadata": {
        "id": "eoxWyzdP0yK3"
      },
      "execution_count": null,
      "outputs": []
    },
    {
      "cell_type": "markdown",
      "source": [
        "## 모델 저장하기 & 불러오기"
      ],
      "metadata": {
        "id": "Cs01PVLe1cnq"
      }
    },
    {
      "cell_type": "code",
      "source": [
        "# save_model_path = \"/content/drive/MyDrive/Colab Notebooks/results/MLP_MNIST.pt\"\n",
        "# torch.save(model.state_dict(), save_model_path)"
      ],
      "metadata": {
        "id": "8Zma1Y_F1bdo"
      },
      "execution_count": null,
      "outputs": []
    },
    {
      "cell_type": "code",
      "source": [
        "load_model = MLP().to(DEVICE)\n",
        "load_model.load_state_dict(torch.load(save_model_path, map_location=DEVICE))\n",
        "# map_location 있어야 GPU로 학습했던 거 현재 device로 불러올 수 있음"
      ],
      "metadata": {
        "colab": {
          "base_uri": "https://localhost:8080/"
        },
        "id": "zsB0AWQi3SRh",
        "outputId": "3c6bdb40-7dcb-4053-9a5a-d935d7fcd95a"
      },
      "execution_count": null,
      "outputs": [
        {
          "output_type": "execute_result",
          "data": {
            "text/plain": [
              "<All keys matched successfully>"
            ]
          },
          "metadata": {},
          "execution_count": 227
        }
      ]
    },
    {
      "cell_type": "markdown",
      "source": [
        "## 모델 테스트하기"
      ],
      "metadata": {
        "id": "DHnuxUVY3qPC"
      }
    },
    {
      "cell_type": "code",
      "source": [
        "def Test(model, test_DL):\n",
        "    model.eval()\n",
        "    with torch.no_grad():\n",
        "        rcorrect = 0\n",
        "        for x_batch, y_batch in test_DL:\n",
        "            x_batch = x_batch.to(DEVICE)\n",
        "            y_batch = y_batch.to(DEVICE)\n",
        "            # inference\n",
        "            y_hat = model(x_batch)\n",
        "            # accuracy accumulation\n",
        "            pred = y_hat.argmax(dim=1)\n",
        "            corrects_b = torch.sum(pred == y_batch).item()\n",
        "            rcorrect += corrects_b\n",
        "        accuracy_e = rcorrect/len(test_DL.dataset)*100\n",
        "    print(f\"Test accuracy: {rcorrect}/{len(test_DL.dataset)} ({round(accuracy_e,1)} %)\")"
      ],
      "metadata": {
        "id": "5mTZdqfn3rNs"
      },
      "execution_count": null,
      "outputs": []
    },
    {
      "cell_type": "code",
      "source": [
        "Test(load_model, test_DL)"
      ],
      "metadata": {
        "colab": {
          "base_uri": "https://localhost:8080/"
        },
        "id": "zfehxFZv6HR5",
        "outputId": "d3c8d17a-0e88-4451-da5d-4e3fd8744ee4"
      },
      "execution_count": null,
      "outputs": [
        {
          "output_type": "stream",
          "name": "stdout",
          "text": [
            "Test accuracy: 881/10000 (8.8 %)\n"
          ]
        }
      ]
    },
    {
      "cell_type": "code",
      "source": [
        "def Test_plot(model, test_DL):\n",
        "    model.eval()\n",
        "    with torch.no_grad():\n",
        "        x_batch, y_batch = next(iter(test_DL))\n",
        "        x_batch = x_batch.to(DEVICE)\n",
        "        y_hat = model(x_batch)\n",
        "        pred = y_hat.argmax(dim=1)\n",
        "\n",
        "    x_batch = x_batch.to(\"cpu\")\n",
        "\n",
        "    plt.figure(figsize=(8,4))\n",
        "    for idx in range(6):\n",
        "        plt.subplot(2,3, idx+1, xticks=[], yticks=[])\n",
        "        plt.imshow(x_batch[idx].permute(1,2,0).squeeze(), cmap=\"gray\")\n",
        "        pred_class = test_DL.dataset.classes[pred[idx]]\n",
        "        true_class = test_DL.dataset.classes[y_batch[idx]]\n",
        "        plt.title(f\"{pred_class} ({true_class})\", color = \"g\" if pred_class==true_class else \"r\")"
      ],
      "metadata": {
        "id": "VcRSvkQq6Kxx"
      },
      "execution_count": null,
      "outputs": []
    },
    {
      "cell_type": "code",
      "source": [
        "Test_plot(load_model, test_DL)"
      ],
      "metadata": {
        "colab": {
          "base_uri": "https://localhost:8080/",
          "height": 268
        },
        "id": "HlSqQ8zN6PgB",
        "outputId": "e4aadd9e-f6c9-4bd2-ddc6-f6c35c5e43c1"
      },
      "execution_count": null,
      "outputs": [
        {
          "output_type": "display_data",
          "data": {
            "text/plain": [
              "<Figure size 576x288 with 6 Axes>"
            ],
            "image/png": "[encoded data removed]"
          },
          "metadata": {}
        }
      ]
    },
    {
      "cell_type": "code",
      "source": [
        "# 파라미터 수 구하기\n",
        "def count_params(model):\n",
        "    num = sum([p.numel() for p in model.parameters() if p.requires_grad])\n",
        "    return num"
      ],
      "metadata": {
        "id": "KuhfKxmI6XmJ"
      },
      "execution_count": null,
      "outputs": []
    },
    {
      "cell_type": "code",
      "source": [
        "print(count_params(load_model))"
      ],
      "metadata": {
        "colab": {
          "base_uri": "https://localhost:8080/"
        },
        "id": "laAyndpe7TMw",
        "outputId": "28f314e3-8da7-4c41-e0b9-1984bbd007e2"
      },
      "execution_count": null,
      "outputs": [
        {
          "output_type": "stream",
          "name": "stdout",
          "text": [
            "79510\n"
          ]
        }
      ]
    }
  ]
}