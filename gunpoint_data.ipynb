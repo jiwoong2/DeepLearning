{
  "nbformat": 4,
  "nbformat_minor": 0,
  "metadata": {
    "colab": {
      "private_outputs": true,
      "provenance": [],
      "mount_file_id": "1r7DG9LQclNW4y435SmfgwOvR_GWD8oaq",
      "authorship_tag": "ABX9TyPTAKWQL9tJkJXwslyQHwsf",
      "include_colab_link": true
    },
    "kernelspec": {
      "name": "python3",
      "display_name": "Python 3"
    },
    "language_info": {
      "name": "python"
    }
  },
  "cells": [
    {
      "cell_type": "markdown",
      "metadata": {
        "id": "view-in-github",
        "colab_type": "text"
      },
      "source": [
        "<a href=\"https://colab.research.google.com/github/jiwoong2/deeplearning/blob/main/gunpoint_data.ipynb\" target=\"_parent\"><img src=\"https://colab.research.google.com/assets/colab-badge.svg\" alt=\"Open In Colab\"/></a>"
      ]
    },
    {
      "cell_type": "code",
      "source": [
        "import torch\n",
        "from torch.utils.data import Dataset, DataLoader, random_split\n",
        "import numpy as np\n",
        "from torch import nn"
      ],
      "metadata": {
        "id": "wh_hqvOgE2pl"
      },
      "execution_count": null,
      "outputs": []
    },
    {
      "cell_type": "code",
      "execution_count": null,
      "metadata": {
        "id": "jUysUn6i2QJi"
      },
      "outputs": [],
      "source": [
        "# 파일 경로\n",
        "file_path = '/content/drive/MyDrive/Colab Notebooks/data/GunPointOldVersusYoung_TRAIN.txt'\n",
        "\n",
        "# 데이터셋 클래스 정의\n",
        "class GunPointDataset(Dataset):\n",
        "    def __init__(self, file_path):\n",
        "        # 데이터와 레이블을 로드\n",
        "        data = np.loadtxt(file_path)\n",
        "        self.labels = data[:, 0].astype(int) - 1  # 레이블을 0과 1로 조정\n",
        "        self.features = data[:, 1:]\n",
        "\n",
        "    def __len__(self):\n",
        "        return len(self.labels)\n",
        "\n",
        "    def __getitem__(self, idx):\n",
        "        # 특정 인덱스의 샘플과 레이블을 반환\n",
        "        return torch.tensor(self.features[idx], dtype=torch.float), self.labels[idx]\n",
        "\n",
        "# 데이터셋 인스턴스 생성\n",
        "dataset = GunPointDataset(file_path)\n",
        "\n",
        "# 데이터를 훈련 데이터와 검증데이터로 나누기.\n",
        "train_size = int(0.9 * len(dataset))  # 전체 데이터의 90%를 훈련 데이터로 사용\n",
        "val_size = len(dataset) - train_size\n",
        "\n",
        "train_dataset, val_dataset = random_split(dataset, [train_size, val_size])\n",
        "\n",
        "# 데이터 로더 생성\n",
        "batch_size = 4\n",
        "train_DL = DataLoader(train_dataset, batch_size=batch_size, shuffle=True)\n",
        "val_DL = DataLoader(val_dataset, batch_size=batch_size, shuffle=True)\n",
        "\n",
        "# 데이터 로더를 통해 데이터 확인\n",
        "for features, labels in train_DL:\n",
        "    print(features.shape, labels.shape)\n",
        "    print(f\"Features: {features}, Labels: {labels}\")\n",
        "    break  # 첫 배치만 출력하고 멈춤"
      ]
    },
    {
      "cell_type": "code",
      "source": [
        "class MLP(nn.Module):\n",
        "    def __init__(self):\n",
        "        super().__init__()\n",
        "\n",
        "        self.linear = nn.Sequential(nn.Linear(150, 1500), nn.ReLU(),\n",
        "                                    nn.Linear(1500,1500), nn.ReLU(),\n",
        "                                    nn.Linear(1500,1500), nn.ReLU(),\n",
        "                                    nn.Linear(1500,2), nn.Sigmoid(),)\n",
        "\n",
        "    def forward(self, x):\n",
        "\n",
        "        x = self.linear(x)\n",
        "\n",
        "        return x"
      ],
      "metadata": {
        "id": "5wtdf9o3GrGB"
      },
      "execution_count": null,
      "outputs": []
    },
    {
      "cell_type": "code",
      "source": [],
      "metadata": {
        "id": "SUNqmwVeO8vl"
      },
      "execution_count": null,
      "outputs": []
    }
  ]
}