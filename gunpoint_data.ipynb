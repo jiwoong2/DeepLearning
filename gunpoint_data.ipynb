{
  "nbformat": 4,
  "nbformat_minor": 0,
  "metadata": {
    "colab": {
      "provenance": [],
      "mount_file_id": "1r7DG9LQclNW4y435SmfgwOvR_GWD8oaq",
      "authorship_tag": "ABX9TyOCVO4+2/jnmwOe8rTSMHWd",
      "include_colab_link": true
    },
    "kernelspec": {
      "name": "python3",
      "display_name": "Python 3"
    },
    "language_info": {
      "name": "python"
    }
  },
  "cells": [
    {
      "cell_type": "markdown",
      "metadata": {
        "id": "view-in-github",
        "colab_type": "text"
      },
      "source": [
        "<a href=\"https://colab.research.google.com/github/jiwoong2/deeplearning/blob/main/gunpoint_data.ipynb\" target=\"_parent\"><img src=\"https://colab.research.google.com/assets/colab-badge.svg\" alt=\"Open In Colab\"/></a>"
      ]
    },
    {
      "cell_type": "code",
      "source": [
        "import torch\n",
        "from torch.utils.data import Dataset, DataLoader, random_split\n",
        "import numpy as np\n",
        "from torch import nn, optim\n",
        "from google.colab import drive\n",
        "drive.mount('/content/drive')\n",
        "import torch.nn.functional as F\n",
        "from tqdm import tqdm\n",
        "import time\n",
        "from sklearn.preprocessing import MinMaxScaler, StandardScaler\n",
        "import matplotlib.pyplot as plt\n",
        "import sys\n",
        "sys.path.append(\"/content/drive/MyDrive/Colab Notebooks\")\n",
        "from binary_train import *"
      ],
      "metadata": {
        "id": "wh_hqvOgE2pl",
        "colab": {
          "base_uri": "https://localhost:8080/"
        },
        "outputId": "5170a7e4-1768-40b5-adef-d7a4fd1891dc"
      },
      "execution_count": 1,
      "outputs": [
        {
          "output_type": "stream",
          "name": "stdout",
          "text": [
            "Drive already mounted at /content/drive; to attempt to forcibly remount, call drive.mount(\"/content/drive\", force_remount=True).\n"
          ]
        }
      ]
    },
    {
      "cell_type": "code",
      "execution_count": null,
      "metadata": {
        "id": "jUysUn6i2QJi"
      },
      "outputs": [],
      "source": [
        "# 파일 경로\n",
        "train_file_path = '/content/drive/MyDrive/Colab Notebooks/data/GunPointOldVersusYoung_TRAIN.txt'\n",
        "test_file_path = '/content/drive/MyDrive/Colab Notebooks/data/GunPointOldVersusYoung_TEST.txt'\n",
        "\n",
        "# 데이터셋 클래스 정의\n",
        "class GunPointDataset(Dataset):\n",
        "    def __init__(self, file_path, scaler=None):\n",
        "        # 데이터와 레이블을 로드\n",
        "        data = np.loadtxt(file_path)\n",
        "        self.labels = data[:, 0].astype(int) - 1  # 레이블을 0과 1로 조정\n",
        "        self.features = data[:, 1:]\n",
        "\n",
        "        if scaler:\n",
        "            self.features = scaler.fit_transform(self.features)\n",
        "\n",
        "    def __len__(self):\n",
        "        return len(self.labels)\n",
        "\n",
        "    def __getitem__(self, idx):\n",
        "        # 특정 인덱스의 샘플과 레이블을 반환\n",
        "        return torch.tensor(self.features[idx], dtype=torch.float), self.labels[idx]\n",
        "\n",
        "scaler = StandardScaler() # data를 스케일링하지 않는경우 초기 모델의 출력값의 폭이 아주 큼.\n",
        "\n",
        "# 데이터셋 인스턴스 생성\n",
        "train_dataset = GunPointDataset(train_file_path, scaler)\n",
        "test_dataset = GunPointDataset(test_file_path, scaler)\n",
        "\n",
        "# 데이터를 훈련 데이터와 검증데이터로 나누기.\n",
        "train_size = int(0.9 * len(train_dataset))  # 전체 데이터의 90%를 훈련 데이터로 사용\n",
        "val_size = len(train_dataset) - train_size\n",
        "\n",
        "train_dataset, val_dataset = random_split(train_dataset, [train_size, val_size])\n",
        "\n",
        "# 데이터 로더 생성\n",
        "batch_size = 4\n",
        "train_DL = DataLoader(train_dataset, batch_size=batch_size, shuffle=True)\n",
        "val_DL = DataLoader(val_dataset, batch_size=batch_size, shuffle=True)\n",
        "test_DL = DataLoader(test_dataset, batch_size=batch_size, shuffle=True)\n",
        "\n",
        "# 데이터 로더를 통해 데이터 확인\n",
        "for features, labels in train_DL:\n",
        "    print(features.shape, labels.shape)\n",
        "    print(f\"Features: {features}, Labels: {labels}\")\n",
        "    break  # 첫 배치만 출력하고 멈춤"
      ]
    },
    {
      "cell_type": "code",
      "source": [
        "class MLP(nn.Module):\n",
        "    def __init__(self):\n",
        "        super().__init__()\n",
        "\n",
        "        # 히든레이어의 노드가 10개만 돼도 금방수렴함.\n",
        "\n",
        "        self.linear = nn.Sequential(nn.Linear(150, 10), nn.ReLU(),\n",
        "                                    nn.Linear(10,1), nn.Sigmoid(),)\n",
        "\n",
        "    def forward(self, x):\n",
        "\n",
        "        x = self.linear(x)\n",
        "\n",
        "        return x"
      ],
      "metadata": {
        "id": "5wtdf9o3GrGB"
      },
      "execution_count": 3,
      "outputs": []
    },
    {
      "cell_type": "code",
      "source": [
        "model = MLP()\n",
        "LR = 1e-3 # -1 인경우 한번에 0또는 1만 출력하는 로컬 미니멈으로 수렴.\n",
        "optimizer = optim.Adam(model.parameters(), lr = LR)"
      ],
      "metadata": {
        "id": "qdX2vm8zJEU9"
      },
      "execution_count": 22,
      "outputs": []
    },
    {
      "cell_type": "code",
      "source": [
        "Test(model, test_DL)"
      ],
      "metadata": {
        "colab": {
          "base_uri": "https://localhost:8080/"
        },
        "id": "DNkSPDnBsulg",
        "outputId": "8333abb4-e094-4b4b-8b7c-52e6a4d32f0a"
      },
      "execution_count": 18,
      "outputs": [
        {
          "output_type": "stream",
          "name": "stderr",
          "text": [
            "                                      "
          ]
        },
        {
          "output_type": "stream",
          "name": "stdout",
          "text": [
            "\n",
            "Test loss: 0.78705\n",
            "Test accuracy: 165/315 (52.4 %)\n"
          ]
        },
        {
          "output_type": "stream",
          "name": "stderr",
          "text": [
            "\r"
          ]
        },
        {
          "output_type": "execute_result",
          "data": {
            "text/plain": [
              "52.4"
            ]
          },
          "metadata": {},
          "execution_count": 18
        }
      ]
    },
    {
      "cell_type": "code",
      "source": [
        "Train(model, train_DL, val_DL, EPOCH = 5, optimizer = optimizer)"
      ],
      "metadata": {
        "colab": {
          "base_uri": "https://localhost:8080/"
        },
        "id": "laRcq1X5szrO",
        "outputId": "316efdf5-a8ab-4519-93ed-3378b100f9f0"
      },
      "execution_count": 24,
      "outputs": [
        {
          "output_type": "stream",
          "name": "stderr",
          "text": []
        },
        {
          "output_type": "stream",
          "name": "stdout",
          "text": [
            "train loss: 0.45884, val loss: 0.28881 \n",
            "train acc: 89.3 %, val acc: 100.0 %, time: 0 s\n",
            "--------------------\n"
          ]
        },
        {
          "output_type": "stream",
          "name": "stderr",
          "text": []
        },
        {
          "output_type": "stream",
          "name": "stdout",
          "text": [
            "train loss: 0.24117, val loss: 0.16688 \n",
            "train acc: 88.5 %, val acc: 100.0 %, time: 0 s\n",
            "--------------------\n"
          ]
        },
        {
          "output_type": "stream",
          "name": "stderr",
          "text": []
        },
        {
          "output_type": "stream",
          "name": "stdout",
          "text": [
            "train loss: 0.17369, val loss: 0.12503 \n",
            "train acc: 95.9 %, val acc: 100.0 %, time: 0 s\n",
            "--------------------\n"
          ]
        },
        {
          "output_type": "stream",
          "name": "stderr",
          "text": []
        },
        {
          "output_type": "stream",
          "name": "stdout",
          "text": [
            "train loss: 0.13117, val loss: 0.09665 \n",
            "train acc: 98.4 %, val acc: 100.0 %, time: 0 s\n",
            "--------------------\n"
          ]
        },
        {
          "output_type": "stream",
          "name": "stderr",
          "text": [
            "                                     "
          ]
        },
        {
          "output_type": "stream",
          "name": "stdout",
          "text": [
            "train loss: 0.09561, val loss: 0.07384 \n",
            "train acc: 99.2 %, val acc: 100.0 %, time: 0 s\n",
            "--------------------\n"
          ]
        },
        {
          "output_type": "stream",
          "name": "stderr",
          "text": [
            "\r"
          ]
        },
        {
          "output_type": "execute_result",
          "data": {
            "text/plain": [
              "{'train': [0.45883510738122657,\n",
              "  0.24117406408806316,\n",
              "  0.1736948327695737,\n",
              "  0.1311722901939857,\n",
              "  0.09561138694770023],\n",
              " 'val': [0.2888101211615971,\n",
              "  0.16687895197953498,\n",
              "  0.1250252319233758,\n",
              "  0.09664680090333734,\n",
              "  0.07383794497166361]}"
            ]
          },
          "metadata": {},
          "execution_count": 24
        }
      ]
    }
  ]
}