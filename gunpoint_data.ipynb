{
  "nbformat": 4,
  "nbformat_minor": 0,
  "metadata": {
    "colab": {
      "private_outputs": true,
      "provenance": [],
      "mount_file_id": "1r7DG9LQclNW4y435SmfgwOvR_GWD8oaq",
      "authorship_tag": "ABX9TyMdYIEsVj99Mg8a3DXezdOJ",
      "include_colab_link": true
    },
    "kernelspec": {
      "name": "python3",
      "display_name": "Python 3"
    },
    "language_info": {
      "name": "python"
    }
  },
  "cells": [
    {
      "cell_type": "markdown",
      "metadata": {
        "id": "view-in-github",
        "colab_type": "text"
      },
      "source": [
        "<a href=\"https://colab.research.google.com/github/jiwoong2/deeplearning/blob/main/gunpoint_data.ipynb\" target=\"_parent\"><img src=\"https://colab.research.google.com/assets/colab-badge.svg\" alt=\"Open In Colab\"/></a>"
      ]
    },
    {
      "cell_type": "code",
      "source": [
        "import torch\n",
        "from torch.utils.data import Dataset, DataLoader, random_split\n",
        "import numpy as np\n",
        "from torch import nn, optim\n",
        "from google.colab import drive\n",
        "drive.mount('/content/drive')\n",
        "import torch.nn.functional as F\n",
        "from tqdm import tqdm\n",
        "import time\n",
        "from sklearn.preprocessing import MinMaxScaler, StandardScaler"
      ],
      "metadata": {
        "id": "wh_hqvOgE2pl"
      },
      "execution_count": null,
      "outputs": []
    },
    {
      "cell_type": "code",
      "execution_count": null,
      "metadata": {
        "id": "jUysUn6i2QJi"
      },
      "outputs": [],
      "source": [
        "# 파일 경로\n",
        "train_file_path = '/content/drive/MyDrive/Colab Notebooks/data/GunPointOldVersusYoung_TRAIN.txt'\n",
        "test_file_path = '/content/drive/MyDrive/Colab Notebooks/data/GunPointOldVersusYoung_TEST.txt'\n",
        "\n",
        "# 데이터셋 클래스 정의\n",
        "class GunPointDataset(Dataset):\n",
        "    def __init__(self, file_path, scaler=None):\n",
        "        # 데이터와 레이블을 로드\n",
        "        data = np.loadtxt(file_path)\n",
        "        self.labels = data[:, 0].astype(int) - 1  # 레이블을 0과 1로 조정\n",
        "        self.features = data[:, 1:]\n",
        "\n",
        "        if scaler:\n",
        "            self.features = scaler.fit_transform(self.features)\n",
        "\n",
        "    def __len__(self):\n",
        "        return len(self.labels)\n",
        "\n",
        "    def __getitem__(self, idx):\n",
        "        # 특정 인덱스의 샘플과 레이블을 반환\n",
        "        return torch.tensor(self.features[idx], dtype=torch.float), self.labels[idx]\n",
        "\n",
        "scaler = StandardScaler() # data를 스케일링하지 않는경우 초기 모델의 출력값의 폭이 아주 큼.\n",
        "\n",
        "# 데이터셋 인스턴스 생성\n",
        "train_dataset = GunPointDataset(train_file_path, scaler)\n",
        "test_dataset = GunPointDataset(test_file_path, scaler)\n",
        "\n",
        "# 데이터를 훈련 데이터와 검증데이터로 나누기.\n",
        "train_size = int(0.9 * len(train_dataset))  # 전체 데이터의 90%를 훈련 데이터로 사용\n",
        "val_size = len(train_dataset) - train_size\n",
        "\n",
        "train_dataset, val_dataset = random_split(train_dataset, [train_size, val_size])\n",
        "\n",
        "# 데이터 로더 생성\n",
        "batch_size = 4\n",
        "train_DL = DataLoader(train_dataset, batch_size=batch_size, shuffle=True)\n",
        "val_DL = DataLoader(val_dataset, batch_size=batch_size, shuffle=True)\n",
        "test_DL = DataLoader(test_dataset, batch_size=batch_size, shuffle=True)\n",
        "\n",
        "# 데이터 로더를 통해 데이터 확인\n",
        "for features, labels in train_DL:\n",
        "    print(features.shape, labels.shape)\n",
        "    print(f\"Features: {features}, Labels: {labels}\")\n",
        "    break  # 첫 배치만 출력하고 멈춤"
      ]
    },
    {
      "cell_type": "code",
      "source": [
        "class MLP(nn.Module):\n",
        "    def __init__(self):\n",
        "        super().__init__()\n",
        "\n",
        "        # 히든레이어의 노드가 10개만 돼도 금방수렴함.\n",
        "\n",
        "        self.linear = nn.Sequential(nn.Linear(150, 10), nn.ReLU(),\n",
        "                                    nn.Linear(10,1), nn.Sigmoid(),)\n",
        "\n",
        "    def forward(self, x):\n",
        "\n",
        "        x = self.linear(x)\n",
        "\n",
        "        return x"
      ],
      "metadata": {
        "id": "5wtdf9o3GrGB"
      },
      "execution_count": null,
      "outputs": []
    },
    {
      "cell_type": "code",
      "source": [
        "len(train_DL.dataset)"
      ],
      "metadata": {
        "id": "A3MfTavBGoJk"
      },
      "execution_count": null,
      "outputs": []
    },
    {
      "cell_type": "code",
      "source": [
        "DEVICE = \"cuda\" if torch.cuda.is_available() else \"cpu\"\n",
        "\n",
        "def loss_epoch(model, DL, optimizer = None):\n",
        "    N = len(DL.dataset)\n",
        "    rloss = 0; rcorrect = 0\n",
        "    for x_batch, y_batch in tqdm(DL, leave=False):\n",
        "        x_batch = x_batch.to(DEVICE)\n",
        "        y_batch = y_batch.to(DEVICE)\n",
        "\n",
        "        y_hat = model(x_batch)\n",
        "\n",
        "        loss = F.binary_cross_entropy(y_hat.squeeze(), y_batch.float())\n",
        "\n",
        "        if optimizer is not None:\n",
        "            optimizer.zero_grad()\n",
        "            loss.backward()\n",
        "            optimizer.step()\n",
        "\n",
        "        loss_b = loss.item() * x_batch.shape[0]\n",
        "        rloss += loss_b\n",
        "\n",
        "        pred = (y_hat > 0.5).float()\n",
        "        corrects_b = torch.sum(pred.squeeze() == y_batch).item()\n",
        "        rcorrect += corrects_b\n",
        "\n",
        "    loss_e = rloss / N\n",
        "    accuracy_e = rcorrect/N*100\n",
        "\n",
        "    return loss_e, accuracy_e, rcorrect\n",
        "\n",
        "def Test(model, test_DL):\n",
        "    model.eval()\n",
        "    with torch.no_grad():\n",
        "        test_loss, test_acc, rcorrect = loss_epoch(model, test_DL)\n",
        "    print()\n",
        "    print(f\"Test loss: {round(test_loss,5)}\")\n",
        "    print(f\"Test accuracy: {rcorrect}/{len(test_DL.dataset)} ({round(test_acc,1)} %)\")\n",
        "    return round(test_acc,1)\n",
        "\n",
        "def Train(model, train_DL, val_DL, optimizer, EPOCH):\n",
        "\n",
        "    loss_history = {\"train\":[], \"val\":[]}\n",
        "    acc_history = {\"train\":[], \"val\":[]}\n",
        "\n",
        "    for ep in range(EPOCH):\n",
        "        epoch_start = time.time()\n",
        "\n",
        "        model.train() # train mode로 전환\n",
        "        train_loss, train_acc, _ = loss_epoch(model, train_DL, optimizer)\n",
        "        loss_history[\"train\"] += [train_loss]\n",
        "        acc_history[\"train\"] += [train_acc]\n",
        "\n",
        "        model.eval() # test mode로 전환\n",
        "        with torch.no_grad():\n",
        "            val_loss, val_acc, _ = loss_epoch(model, val_DL)\n",
        "            loss_history[\"val\"] += [val_loss]\n",
        "            acc_history[\"val\"] += [val_acc]\n",
        "\n",
        "        # print loss\n",
        "        print(f\"train loss: {round(train_loss,5)}, \"\n",
        "              f\"val loss: {round(val_loss,5)} \\n\"\n",
        "              f\"train acc: {round(train_acc,1)} %, \"\n",
        "              f\"val acc: {round(val_acc,1)} %, time: {round(time.time()-epoch_start)} s\")\n",
        "        print(\"-\"*20)\n",
        "\n",
        "    return loss_history"
      ],
      "metadata": {
        "id": "SUNqmwVeO8vl"
      },
      "execution_count": null,
      "outputs": []
    },
    {
      "cell_type": "code",
      "source": [
        "print(len(train_DL.dataset))"
      ],
      "metadata": {
        "id": "gRPiY6b2hWQF"
      },
      "execution_count": null,
      "outputs": []
    },
    {
      "cell_type": "code",
      "source": [
        "model = MLP()\n",
        "LR = 1e-3 # -1 인경우 한번에 0또는 1만 출력하는 로컬 미니멈으로 수렴.\n",
        "optimizer = optim.Adam(model.parameters(), lr = LR)"
      ],
      "metadata": {
        "id": "qdX2vm8zJEU9"
      },
      "execution_count": null,
      "outputs": []
    },
    {
      "cell_type": "code",
      "source": [
        "Train(model, train_DL, val_DL, optimizer, 5)"
      ],
      "metadata": {
        "id": "5bS4HRemhlPh"
      },
      "execution_count": null,
      "outputs": []
    },
    {
      "cell_type": "code",
      "source": [
        "Test(model, test_DL)"
      ],
      "metadata": {
        "id": "g-VjZQ6sjKi2"
      },
      "execution_count": null,
      "outputs": []
    },
    {
      "cell_type": "code",
      "source": [
        "N = len(train_DL.dataset)\n",
        "rloss = 0; rcorrect = 0; corrects_b=0\n",
        "for x_batch, y_batch in tqdm(train_DL, leave=False):\n",
        "\n",
        "    y_hat = model(x_batch)\n",
        "\n",
        "    print(y_hat)\n",
        "\n",
        "    loss = F.binary_cross_entropy(y_hat.squeeze(), y_batch.float())\n",
        "\n",
        "    print(f\"loss = {loss}\")\n",
        "\n",
        "    optimizer.zero_grad()\n",
        "    loss.backward()\n",
        "    optimizer.step()\n",
        "\n",
        "    loss_b = loss.item() * x_batch.shape[0]\n",
        "    rloss += loss_b\n",
        "\n",
        "    pred = (y_hat > 0.5).float()\n",
        "\n",
        "    print(pred)\n",
        "    print(y_batch)\n",
        "\n",
        "    corrects_b = torch.sum(pred.squeeze() == y_batch).item()\n",
        "\n",
        "    print(corrects_b)\n",
        "    rcorrect += corrects_b\n",
        "\n",
        "    break\n",
        "\n",
        "# loss_e = rloss / N\n",
        "# accuracy_e = rcorrect/N*100"
      ],
      "metadata": {
        "id": "zitYPs1iWHXi"
      },
      "execution_count": null,
      "outputs": []
    }
  ]
}