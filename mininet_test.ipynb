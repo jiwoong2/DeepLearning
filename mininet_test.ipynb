{
  "nbformat": 4,
  "nbformat_minor": 0,
  "metadata": {
    "colab": {
      "provenance": [],
      "authorship_tag": "ABX9TyPU8lHlb6TBXBrJcv4cV78w",
      "include_colab_link": true
    },
    "kernelspec": {
      "name": "python3",
      "display_name": "Python 3"
    },
    "language_info": {
      "name": "python"
    }
  },
  "cells": [
    {
      "cell_type": "markdown",
      "metadata": {
        "id": "view-in-github",
        "colab_type": "text"
      },
      "source": [
        "<a href=\"https://colab.research.google.com/github/jiwoong2/deeplearning/blob/main/mininet_test.ipynb\" target=\"_parent\"><img src=\"https://colab.research.google.com/assets/colab-badge.svg\" alt=\"Open In Colab\"/></a>"
      ]
    },
    {
      "cell_type": "code",
      "execution_count": 1,
      "metadata": {
        "id": "yc9V62zR3May"
      },
      "outputs": [],
      "source": [
        "import torch\n",
        "from torch import nn"
      ]
    },
    {
      "cell_type": "code",
      "source": [
        "x = torch.randn(100,3)\n",
        "layer = torch.nn.Linear(3,5)\n",
        "print(layer(x).shape)\n",
        "print(layer.weight)\n",
        "print(layer.bias)"
      ],
      "metadata": {
        "id": "YDFiw8Cv3ik8",
        "colab": {
          "base_uri": "https://localhost:8080/"
        },
        "outputId": "fa530a05-c47e-4581-82a7-471c5fa3551f"
      },
      "execution_count": 2,
      "outputs": [
        {
          "output_type": "stream",
          "name": "stdout",
          "text": [
            "torch.Size([100, 5])\n",
            "Parameter containing:\n",
            "tensor([[ 0.3678,  0.5722, -0.2147],\n",
            "        [ 0.2794, -0.4973, -0.1392],\n",
            "        [ 0.4440,  0.3696, -0.3795],\n",
            "        [-0.5396,  0.1880, -0.1981],\n",
            "        [-0.5292,  0.1998,  0.5715]], requires_grad=True)\n",
            "Parameter containing:\n",
            "tensor([-0.2123,  0.1199,  0.2059,  0.3089, -0.3607], requires_grad=True)\n"
          ]
        }
      ]
    },
    {
      "cell_type": "code",
      "source": [
        "x = torch.randn(2,5)\n",
        "layer = torch.nn.ReLU()\n",
        "print(layer(x))"
      ],
      "metadata": {
        "id": "lHNNBn7-4J6R",
        "colab": {
          "base_uri": "https://localhost:8080/"
        },
        "outputId": "b32cc0af-3bee-4cec-b4ac-25665d225c44"
      },
      "execution_count": 3,
      "outputs": [
        {
          "output_type": "stream",
          "name": "stdout",
          "text": [
            "tensor([[0.0000, 0.0000, 0.0030, 0.3444, 0.0000],\n",
            "        [2.3252, 0.7045, 0.0000, 0.0000, 0.0000]])\n"
          ]
        }
      ]
    },
    {
      "cell_type": "code",
      "source": [
        "x = torch.randn(3,7)\n",
        "drop = nn.Dropout(p=0.3) # p는 죽일확률\n",
        "print(x)\n",
        "print(drop(x))"
      ],
      "metadata": {
        "id": "wQOdkBsZ4fZl",
        "colab": {
          "base_uri": "https://localhost:8080/"
        },
        "outputId": "00d1256d-697d-419a-87df-4f228b953f1d"
      },
      "execution_count": 4,
      "outputs": [
        {
          "output_type": "stream",
          "name": "stdout",
          "text": [
            "tensor([[-0.1539, -0.0455,  0.8011, -0.2736, -0.5154, -0.2928,  0.8686],\n",
            "        [ 0.8514, -0.1296,  1.7560,  2.5745,  0.7562, -0.6695, -0.1019],\n",
            "        [ 0.6727,  0.5611,  0.7939, -2.3833, -0.3115,  1.5153,  0.6839]])\n",
            "tensor([[-0.0000, -0.0650,  1.1445, -0.0000, -0.0000, -0.0000,  0.0000],\n",
            "        [ 1.2162, -0.0000,  2.5086,  3.6778,  1.0803, -0.9564, -0.0000],\n",
            "        [ 0.9610,  0.0000,  1.1341, -0.0000, -0.0000,  2.1648,  0.9770]])\n"
          ]
        }
      ]
    },
    {
      "cell_type": "code",
      "source": [
        "class sample_model(nn.Module):\n",
        "    def __init__(self):\n",
        "        super().__init__()\n",
        "        self.drop_layer = nn.Sequential(nn.Linear(5,7),\n",
        "                                        nn.Dropout(p=0.3))\n",
        "\n",
        "    def forward(self, x):\n",
        "        x = self.drop_layer(x)\n",
        "\n",
        "        return x\n",
        "\n",
        "model = sample_model()\n",
        "model.train()\n",
        "x = torch.randn(3,5)\n",
        "y = torch.randn(2,3,5)\n",
        "print(model(x))\n",
        "\n",
        "model.eval() # 모두살리는 동시에 각 요소에 p를 곱해준다.\n",
        "print(model(x))"
      ],
      "metadata": {
        "id": "_p00wSBV5BA_",
        "colab": {
          "base_uri": "https://localhost:8080/"
        },
        "outputId": "a217782c-d64b-4fe6-ad42-5a7bc917e5ba"
      },
      "execution_count": 5,
      "outputs": [
        {
          "output_type": "stream",
          "name": "stdout",
          "text": [
            "tensor([[-0.2807, -0.0000, -0.1165, -0.0042,  0.0000, -0.0000,  0.0000],\n",
            "        [ 0.0000, -1.8225,  1.8012, -1.2450,  1.3255, -0.2090,  1.6106],\n",
            "        [ 0.0000, -2.0500,  0.0000,  0.4317,  1.1879, -0.0000,  1.4149]],\n",
            "       grad_fn=<MulBackward0>)\n",
            "tensor([[-0.1965, -0.3587, -0.0816, -0.0029,  0.7690, -0.6795,  0.2801],\n",
            "        [ 0.3446, -1.2758,  1.2608, -0.8715,  0.9279, -0.1463,  1.1274],\n",
            "        [ 0.3512, -1.4350,  0.9079,  0.3022,  0.8316, -0.2244,  0.9904]],\n",
            "       grad_fn=<AddmmBackward0>)\n"
          ]
        }
      ]
    },
    {
      "cell_type": "code",
      "source": [
        "layer = nn.Conv2d(in_channels=1, out_channels=2, kernel_size=3, strid=1, padding=1) # stride=1, padding=0이 default\n",
        "layer(torch.randn(32,1,5,5)).shape"
      ],
      "metadata": {
        "id": "KrIhWxO08NhU",
        "colab": {
          "base_uri": "https://localhost:8080/"
        },
        "outputId": "f6478ecc-6e1b-4155-e342-ad6724234f69"
      },
      "execution_count": 6,
      "outputs": [
        {
          "output_type": "execute_result",
          "data": {
            "text/plain": [
              "torch.Size([32, 2, 3, 3])"
            ]
          },
          "metadata": {},
          "execution_count": 6
        }
      ]
    },
    {
      "cell_type": "code",
      "source": [
        "#shape 햇갈리니까 잘 생각.\n",
        "layer = nn.Conv2d(3,5,3, padding=1, stride=2)\n",
        "print(layer(torch.rand(32,3,5,5)).shape)\n",
        "layer.weight.shape"
      ],
      "metadata": {
        "colab": {
          "base_uri": "https://localhost:8080/"
        },
        "id": "91KyCrzD2dT8",
        "outputId": "6209e89d-fd69-462e-c818-17a9f3d40dde"
      },
      "execution_count": 10,
      "outputs": [
        {
          "output_type": "stream",
          "name": "stdout",
          "text": [
            "torch.Size([32, 5, 3, 3])\n"
          ]
        },
        {
          "output_type": "execute_result",
          "data": {
            "text/plain": [
              "torch.Size([5, 3, 3, 3])"
            ]
          },
          "metadata": {},
          "execution_count": 10
        }
      ]
    },
    {
      "cell_type": "code",
      "source": [
        "conv1 = nn.Conv2d(1,8,6, stride=2)\n",
        "x=torch.randn(32,1,28,28)\n",
        "print(conv1(x).shape)\n",
        "\n",
        "conv2 = nn.Conv2d(8,16,3, padding=1)\n",
        "print(conv2(conv1(x)).shape)\n",
        "\n",
        "Maxpool = nn.MaxPool2d(kernel_size=2, stride=(2,2))\n",
        "print(Maxpool(conv2(conv1(x))).shape)"
      ],
      "metadata": {
        "colab": {
          "base_uri": "https://localhost:8080/"
        },
        "id": "8HOCkGLb76fI",
        "outputId": "6e6bed52-8a56-4cc5-f5a4-1408e60907e7"
      },
      "execution_count": 13,
      "outputs": [
        {
          "output_type": "stream",
          "name": "stdout",
          "text": [
            "torch.Size([32, 8, 12, 12])\n",
            "torch.Size([32, 16, 12, 12])\n",
            "torch.Size([32, 16, 6, 6])\n"
          ]
        }
      ]
    },
    {
      "cell_type": "code",
      "source": [
        "maxpool = nn.MaxPool2d(2) # 2로만줘도 kernel_size=2, strid=(2,2)\n",
        "x=torch.randn(1,1,6,6)\n",
        "print(x)\n",
        "print(maxpool(x))"
      ],
      "metadata": {
        "colab": {
          "base_uri": "https://localhost:8080/"
        },
        "id": "YN3WDFyi_-mH",
        "outputId": "25d41d38-402f-4a80-c8eb-61d8154bae9a"
      },
      "execution_count": 17,
      "outputs": [
        {
          "output_type": "stream",
          "name": "stdout",
          "text": [
            "tensor([[[[-0.2443,  1.2284, -2.3478,  0.8707,  0.4839, -0.4141],\n",
            "          [ 0.3479,  0.7178, -0.8183,  0.4136,  1.1103,  0.7696],\n",
            "          [ 0.5983, -0.7601, -0.4293,  0.7322, -0.0848,  0.4155],\n",
            "          [-0.4926,  0.4655, -1.8375, -1.4843,  3.0647, -0.8200],\n",
            "          [-0.1299,  0.4026, -0.5110, -0.0790,  2.0965, -0.4386],\n",
            "          [-1.3896,  0.4669,  0.8643,  1.3096, -0.7392, -1.3777]]]])\n",
            "tensor([[[[1.2284, 0.8707, 1.1103],\n",
            "          [0.5983, 0.7322, 3.0647],\n",
            "          [0.4669, 1.3096, 2.0965]]]])\n"
          ]
        }
      ]
    },
    {
      "cell_type": "code",
      "source": [
        "avgpool = nn.AvgPool2d(2)\n",
        "x = torch.randn(1,1,6,6)\n",
        "print(x)\n",
        "print(avgpool(x))\n",
        "print(avgpool(torch.randn(32,3,6,6)).shape)"
      ],
      "metadata": {
        "colab": {
          "base_uri": "https://localhost:8080/"
        },
        "id": "rn3WyhH9AKES",
        "outputId": "86f74c75-2c9a-41b7-99bf-f1fb6680f1b8"
      },
      "execution_count": 18,
      "outputs": [
        {
          "output_type": "stream",
          "name": "stdout",
          "text": [
            "tensor([[[[ 1.1395,  1.5123,  0.4370,  0.0638, -0.1156, -0.2695],\n",
            "          [-1.4530, -1.1092,  0.7602, -0.2652, -0.0485,  0.2819],\n",
            "          [ 0.0643,  0.4649,  1.9696, -0.7863, -1.1970,  1.5279],\n",
            "          [-1.1243,  1.6156, -2.1950, -0.9363,  1.7829, -1.4392],\n",
            "          [-0.7423,  0.1364, -0.5768, -1.2655,  0.0349,  0.1311],\n",
            "          [ 0.1253, -0.6836, -0.5449, -0.8237, -0.3981, -0.6251]]]])\n",
            "tensor([[[[ 0.0224,  0.2490, -0.0379],\n",
            "          [ 0.2551, -0.4870,  0.1686],\n",
            "          [-0.2910, -0.8027, -0.2143]]]])\n",
            "torch.Size([32, 3, 3, 3])\n"
          ]
        }
      ]
    },
    {
      "cell_type": "code",
      "source": [],
      "metadata": {
        "id": "nAFFxkL_A_3q"
      },
      "execution_count": null,
      "outputs": []
    }
  ]
}