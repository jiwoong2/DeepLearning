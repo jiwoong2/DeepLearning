{
  "nbformat": 4,
  "nbformat_minor": 0,
  "metadata": {
    "colab": {
      "private_outputs": true,
      "provenance": [],
      "gpuType": "V100",
      "mount_file_id": "1xc_2GhKn8u--Ev10Njx1CInXfnGK7e3e",
      "authorship_tag": "ABX9TyM3PgmdXC9sUNLHH2iJETDV",
      "include_colab_link": true
    },
    "kernelspec": {
      "name": "python3",
      "display_name": "Python 3"
    },
    "language_info": {
      "name": "python"
    },
    "accelerator": "GPU"
  },
  "cells": [
    {
      "cell_type": "markdown",
      "metadata": {
        "id": "view-in-github",
        "colab_type": "text"
      },
      "source": [
        "<a href=\"https://colab.research.google.com/github/jiwoong2/deeplearning/blob/main/%EC%8B%9C%EA%B0%81%ED%99%94.ipynb\" target=\"_parent\"><img src=\"https://colab.research.google.com/assets/colab-badge.svg\" alt=\"Open In Colab\"/></a>"
      ]
    },
    {
      "cell_type": "code",
      "source": [
        "import numpy as np\n",
        "import torch\n",
        "from torchvision import datasets, transforms\n",
        "from sklearn.decomposition import PCA\n",
        "from scipy.stats import gaussian_kde\n",
        "import matplotlib.pyplot as plt\n",
        "from mpl_toolkits.mplot3d import Axes3D\n",
        "import argparse\n",
        "import os\n",
        "from torchvision.utils import save_image\n",
        "from torch.utils.data import DataLoader\n",
        "from torchvision import datasets\n",
        "import torch.nn as nn\n",
        "import torch\n",
        "\n",
        "DEVICE = \"cuda\" if torch.cuda.is_available() else \"cpu\""
      ],
      "metadata": {
        "id": "YjqO9ylPqi76"
      },
      "execution_count": null,
      "outputs": []
    },
    {
      "cell_type": "code",
      "source": [
        "# PyTorch에서 MNIST 데이터 로드\n",
        "transform = transforms.Compose([transforms.ToTensor()])\n",
        "mnist_data = datasets.MNIST(root='./data', train=True, download=True, transform=transform)\n",
        "data_loader = torch.utils.data.DataLoader(mnist_data, batch_size=1000, shuffle=True)"
      ],
      "metadata": {
        "id": "y5c5XHfHqsJi"
      },
      "execution_count": null,
      "outputs": []
    },
    {
      "cell_type": "code",
      "source": [
        "imgs = []\n",
        "\n",
        "for img, label in data_loader:\n",
        "    # label이 0인 이미지만 처리합니다.\n",
        "    # img = img[label == 0]\n",
        "    img = img.flatten(1)\n",
        "    imgs.append(img.numpy())\n",
        "\n",
        "imgs = np.concatenate(imgs, axis=0)\n",
        "\n",
        "print(imgs.shape)"
      ],
      "metadata": {
        "id": "qYd5CoMK6Ce6"
      },
      "execution_count": null,
      "outputs": []
    },
    {
      "cell_type": "code",
      "source": [
        "# 축소 및 밀도 추정\n",
        "pca2 = PCA(n_components=2)\n",
        "data_pca2 = pca2.fit_transform(np.stack(imgs))\n",
        "data_pca2.shape\n",
        "\n",
        "kde = gaussian_kde(data_pca2.T)"
      ],
      "metadata": {
        "id": "gAtZa5T_89hv"
      },
      "execution_count": null,
      "outputs": []
    },
    {
      "cell_type": "code",
      "source": [
        "import numpy as np\n",
        "import matplotlib.pyplot as plt\n",
        "from mpl_toolkits.mplot3d import Axes3D\n",
        "\n",
        "# 2차원 그리드 생성\n",
        "x = np.linspace(data_pca2[:, 0].min(), data_pca2[:, 0].max(), 100)\n",
        "y = np.linspace(data_pca2[:, 1].min(), data_pca2[:, 1].max(), 100)\n",
        "X, Y = np.meshgrid(x, y)\n",
        "\n",
        "# 그리드 상의 각 지점에서 밀도 계산\n",
        "positions = np.vstack([X.ravel(), Y.ravel()])\n",
        "density = kde(positions).reshape(X.shape)\n",
        "\n",
        "# 3차원 그래프로 시각화\n",
        "fig = plt.figure(figsize=(10, 7))\n",
        "ax = fig.add_subplot(111, projection='3d')\n",
        "surf = ax.plot_surface(X, Y, density, cmap='viridis', edgecolor='none')\n",
        "ax.set_xlabel('PCA 1')\n",
        "ax.set_ylabel('PCA 2')\n",
        "ax.set_zlabel('Density')\n",
        "plt.title('Gaussian KDE of MNIST Digits (Label 0) in 3D')\n",
        "plt.colorbar(surf)\n",
        "plt.show()"
      ],
      "metadata": {
        "id": "_rPlbZjF_Bb0"
      },
      "execution_count": null,
      "outputs": []
    },
    {
      "cell_type": "code",
      "source": [
        "# pca3 = PCA(n_components=3)\n",
        "# data_pca3 = pca3.fit_transform(np.stack(imgs))\n",
        "# data_pca3.shape\n",
        "\n",
        "# kde = gaussian_kde(data_pca3.T)\n",
        "\n",
        "# # 3D 그리드 생성\n",
        "# x = np.linspace(data_pca3[:, 0].min(), data_pca3[:, 0].max(), 100)\n",
        "# y = np.linspace(data_pca3[:, 1].min(), data_pca3[:, 1].max(), 100)\n",
        "# z = np.linspace(data_pca3[:, 2].min(), data_pca3[:, 2].max(), 100)\n",
        "# X, Y, Z = np.meshgrid(x, y, z)\n",
        "# positions = np.vstack([X.ravel(), Y.ravel(), Z.ravel()])\n",
        "\n",
        "# # 밀도 계산\n",
        "# density = kde(positions).reshape(X.shape)\n",
        "\n",
        "# # 밀도가 높은 지점만 시각화하기 위한 임계값 설정\n",
        "# threshold = density.mean()\n",
        "\n",
        "# # 3D 그래프 시각화\n",
        "# fig = plt.figure(figsize=(10, 7))\n",
        "# ax = fig.add_subplot(111, projection='3d')\n",
        "# ax.scatter(X[density > threshold], Y[density > threshold], Z[density > threshold], c=density[density > threshold], cmap='viridis')\n",
        "# plt.title('Gaussian KDE of MNIST Digits (Label 0)')\n",
        "# plt.show()"
      ],
      "metadata": {
        "id": "NedwSjvI89Gp"
      },
      "execution_count": null,
      "outputs": []
    },
    {
      "cell_type": "markdown",
      "source": [
        "# 생성모델\n"
      ],
      "metadata": {
        "id": "GA0XT5TOoJTt"
      }
    },
    {
      "cell_type": "code",
      "source": [
        "n_epochs = 200  # 학습 에폭 수\n",
        "batch_size = 64  # 배치 크기\n",
        "lr = 0.0002  # 학습률\n",
        "b1 = 0.5  # adam 최적화기의 베타1 값\n",
        "b2 = 0.999  # adam 최적화기의 베타2 값\n",
        "n_cpu = 8  # 배치 생성 시 사용할 CPU 쓰레드 수\n",
        "latent_dim = 100  # 잠재 공간의 차원 수\n",
        "img_size = 28  # 이미지의 한 변의 크기\n",
        "channels = 1  # 이미지의 채널 수\n",
        "sample_interval = 400  # 이미지 샘플링 간격\n",
        "\n",
        "img_shape = (channels, img_size, img_size)\n",
        "\n",
        "# Generator 클래스 정의\n",
        "class Generator(nn.Module):\n",
        "    def __init__(self, latent_dim, img_shape):\n",
        "        super(Generator, self).__init__()\n",
        "\n",
        "        def block(in_dim, out_dim, normalize=True):\n",
        "            layers = [nn.Linear(in_dim, out_dim)]\n",
        "            if normalize:\n",
        "                layers.append(nn.BatchNorm1d(out_dim, 0.8))\n",
        "            layers.append(nn.LeakyReLU(0.2, inplace=True))\n",
        "            return layers\n",
        "\n",
        "        self.model = nn.Sequential(\n",
        "            *block(latent_dim, 128, normalize=False),\n",
        "            *block(128, 256),\n",
        "            *block(256, 512),\n",
        "            *block(512, 1024),\n",
        "            nn.Linear(1024, int(np.prod(img_shape))),\n",
        "            nn.Tanh()\n",
        "        )\n",
        "\n",
        "    def forward(self, z):\n",
        "        img = self.model(z)\n",
        "        img = img.view(img.size(0), *img_shape)\n",
        "        return img\n",
        "\n",
        "# 모델 인스턴스 생성\n",
        "generator = Generator(latent_dim=latent_dim, img_shape=img_shape)"
      ],
      "metadata": {
        "id": "2mRhVy88derA"
      },
      "execution_count": null,
      "outputs": []
    },
    {
      "cell_type": "code",
      "source": [
        "# 모델 로드 (이전에 저장된 모델의 경로를 지정하세요)\n",
        "model_path = '/content/drive/MyDrive/Colab Notebooks/model/gan198.pt'\n",
        "generator = torch.load(model_path, map_location=torch.device('cpu'))  # CPU로 매핑\n",
        "generator.eval()"
      ],
      "metadata": {
        "id": "dQbM2LjfeDJr"
      },
      "execution_count": null,
      "outputs": []
    },
    {
      "cell_type": "code",
      "source": [
        "# z = torch.randn(1, latent_dim, device=DEVICE)\n",
        "z = torch.randn(1, latent_dim)\n",
        "z = generator(z)\n",
        "\n",
        "\n",
        "# img_tensor = torch.rand(1, 1, 28, 28)  # 실제 코드에서는 GAN으로 생성된 이미지 텐서 사용\n",
        "\n",
        "# 생성된 이미지 텐서를 가져옵니다. 예: img_tensor = 생성한 이미지 텐서\n",
        "# 예를 들어, img_tensor 변수가 이미 생성된 이미지를 가지고 있다고 가정합니다.\n",
        "\n",
        "def imshow(img_tensor):\n",
        "    img = img_tensor.squeeze()  # 차원 축소: [1, 1, 28, 28] -> [28, 28]\n",
        "    img = img.detach()\n",
        "    plt.imshow(img, cmap='gray')  # 흑백 이미지로 출력\n",
        "    plt.axis('off')  # 축 제거\n",
        "    plt.show()\n",
        "\n",
        "# 이미지 출력\n",
        "imshow(z)"
      ],
      "metadata": {
        "id": "XsNGsGw2gBSO"
      },
      "execution_count": null,
      "outputs": []
    },
    {
      "cell_type": "code",
      "source": [
        "z = torch.randn(100000, latent_dim)\n",
        "z = generator(z)"
      ],
      "metadata": {
        "id": "16wUEt1ygYfN"
      },
      "execution_count": null,
      "outputs": []
    },
    {
      "cell_type": "code",
      "source": [
        "z.shape"
      ],
      "metadata": {
        "id": "LdrFuQIQhXRg"
      },
      "execution_count": null,
      "outputs": []
    },
    {
      "cell_type": "code",
      "source": [
        "z = z.flatten(1)\n",
        "z.shape"
      ],
      "metadata": {
        "id": "NQv50j5MhYBs"
      },
      "execution_count": null,
      "outputs": []
    },
    {
      "cell_type": "code",
      "source": [
        "z = z.detach()\n",
        "z = z.numpy()"
      ],
      "metadata": {
        "id": "OBYiGH0Cidig"
      },
      "execution_count": null,
      "outputs": []
    },
    {
      "cell_type": "code",
      "source": [
        "# 축소 및 밀도 추정\n",
        "pca2 = PCA(n_components=2)\n",
        "data_pca2t = pca2.fit_transform(np.stack(z))\n",
        "data_pca2t.shape\n",
        "\n",
        "kde = gaussian_kde(data_pca2t.T)"
      ],
      "metadata": {
        "id": "W5zdFRDbh0Ex"
      },
      "execution_count": null,
      "outputs": []
    },
    {
      "cell_type": "code",
      "source": [
        "# 2차원 그리드 생성\n",
        "x = np.linspace(data_pca2t[:, 0].min(), data_pca2t[:, 0].max(), 100)\n",
        "y = np.linspace(data_pca2t[:, 1].min(), data_pca2t[:, 1].max(), 100)\n",
        "X, Y = np.meshgrid(x, y)\n",
        "\n",
        "# 그리드 상의 각 지점에서 밀도 계산\n",
        "positions = np.vstack([X.ravel(), Y.ravel()])\n",
        "density = kde(positions).reshape(X.shape)\n",
        "\n",
        "# 3차원 그래프로 시각화\n",
        "fig = plt.figure(figsize=(10, 7))\n",
        "ax = fig.add_subplot(111, projection='3d')\n",
        "surf = ax.plot_surface(X, Y, density, cmap='viridis', edgecolor='none')\n",
        "ax.set_xlabel('PCA 1')\n",
        "ax.set_ylabel('PCA 2')\n",
        "ax.set_zlabel('Density')\n",
        "plt.title('Gaussian KDE of MNIST Digits (Label 0) in 3D')\n",
        "plt.colorbar(surf)\n",
        "plt.show()"
      ],
      "metadata": {
        "id": "EbPNmPgUiHvQ"
      },
      "execution_count": null,
      "outputs": []
    },
    {
      "cell_type": "code",
      "source": [],
      "metadata": {
        "id": "rKgbAk9QjAph"
      },
      "execution_count": null,
      "outputs": []
    }
  ]
}