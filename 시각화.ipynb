{
  "nbformat": 4,
  "nbformat_minor": 0,
  "metadata": {
    "colab": {
      "private_outputs": true,
      "provenance": [],
      "authorship_tag": "ABX9TyNDUCM3VWGRT6PJtXr2/t95",
      "include_colab_link": true
    },
    "kernelspec": {
      "name": "python3",
      "display_name": "Python 3"
    },
    "language_info": {
      "name": "python"
    }
  },
  "cells": [
    {
      "cell_type": "markdown",
      "metadata": {
        "id": "view-in-github",
        "colab_type": "text"
      },
      "source": [
        "<a href=\"https://colab.research.google.com/github/jiwoong2/deeplearning/blob/main/%EC%8B%9C%EA%B0%81%ED%99%94.ipynb\" target=\"_parent\"><img src=\"https://colab.research.google.com/assets/colab-badge.svg\" alt=\"Open In Colab\"/></a>"
      ]
    },
    {
      "cell_type": "code",
      "source": [
        "import numpy as np\n",
        "import torch\n",
        "from torchvision import datasets, transforms\n",
        "from sklearn.decomposition import PCA\n",
        "from scipy.stats import gaussian_kde\n",
        "import matplotlib.pyplot as plt\n",
        "from mpl_toolkits.mplot3d import Axes3D"
      ],
      "metadata": {
        "id": "YjqO9ylPqi76"
      },
      "execution_count": null,
      "outputs": []
    },
    {
      "cell_type": "code",
      "source": [
        "# PyTorch에서 MNIST 데이터 로드\n",
        "transform = transforms.Compose([transforms.ToTensor()])\n",
        "mnist_data = datasets.MNIST(root='./data', train=True, download=True, transform=transform)\n",
        "data_loader = torch.utils.data.DataLoader(mnist_data, batch_size=1000, shuffle=True)"
      ],
      "metadata": {
        "id": "y5c5XHfHqsJi"
      },
      "execution_count": null,
      "outputs": []
    },
    {
      "cell_type": "code",
      "source": [
        "imgs = []\n",
        "\n",
        "for img, label in data_loader:\n",
        "    # label이 0인 이미지만 처리합니다.\n",
        "    # img = img[label == 0]\n",
        "    img = img.flatten(1)\n",
        "    imgs.append(img.numpy())\n",
        "\n",
        "imgs = np.concatenate(imgs, axis=0)\n",
        "\n",
        "print(imgs.shape)"
      ],
      "metadata": {
        "id": "qYd5CoMK6Ce6"
      },
      "execution_count": null,
      "outputs": []
    },
    {
      "cell_type": "code",
      "source": [
        "# 축소 및 밀도 추정\n",
        "pca2 = PCA(n_components=2)\n",
        "data_pca2 = pca2.fit_transform(np.stack(imgs))\n",
        "data_pca2.shape\n",
        "\n",
        "kde = gaussian_kde(data_pca2.T)"
      ],
      "metadata": {
        "id": "gAtZa5T_89hv"
      },
      "execution_count": null,
      "outputs": []
    },
    {
      "cell_type": "code",
      "source": [
        "import numpy as np\n",
        "import matplotlib.pyplot as plt\n",
        "from mpl_toolkits.mplot3d import Axes3D\n",
        "\n",
        "# 2차원 그리드 생성\n",
        "x = np.linspace(data_pca2[:, 0].min(), data_pca2[:, 0].max(), 100)\n",
        "y = np.linspace(data_pca2[:, 1].min(), data_pca2[:, 1].max(), 100)\n",
        "X, Y = np.meshgrid(x, y)\n",
        "\n",
        "# 그리드 상의 각 지점에서 밀도 계산\n",
        "positions = np.vstack([X.ravel(), Y.ravel()])\n",
        "density = kde(positions).reshape(X.shape)\n",
        "\n",
        "# 3차원 그래프로 시각화\n",
        "fig = plt.figure(figsize=(10, 7))\n",
        "ax = fig.add_subplot(111, projection='3d')\n",
        "surf = ax.plot_surface(X, Y, density, cmap='viridis', edgecolor='none')\n",
        "ax.set_xlabel('PCA 1')\n",
        "ax.set_ylabel('PCA 2')\n",
        "ax.set_zlabel('Density')\n",
        "plt.title('Gaussian KDE of MNIST Digits (Label 0) in 3D')\n",
        "plt.colorbar(surf)\n",
        "plt.show()"
      ],
      "metadata": {
        "id": "_rPlbZjF_Bb0"
      },
      "execution_count": null,
      "outputs": []
    },
    {
      "cell_type": "code",
      "source": [
        "# pca3 = PCA(n_components=3)\n",
        "# data_pca3 = pca3.fit_transform(np.stack(imgs))\n",
        "# data_pca3.shape\n",
        "\n",
        "# kde = gaussian_kde(data_pca3.T)\n",
        "\n",
        "# # 3D 그리드 생성\n",
        "# x = np.linspace(data_pca3[:, 0].min(), data_pca3[:, 0].max(), 100)\n",
        "# y = np.linspace(data_pca3[:, 1].min(), data_pca3[:, 1].max(), 100)\n",
        "# z = np.linspace(data_pca3[:, 2].min(), data_pca3[:, 2].max(), 100)\n",
        "# X, Y, Z = np.meshgrid(x, y, z)\n",
        "# positions = np.vstack([X.ravel(), Y.ravel(), Z.ravel()])\n",
        "\n",
        "# # 밀도 계산\n",
        "# density = kde(positions).reshape(X.shape)\n",
        "\n",
        "# # 밀도가 높은 지점만 시각화하기 위한 임계값 설정\n",
        "# threshold = density.mean()\n",
        "\n",
        "# # 3D 그래프 시각화\n",
        "# fig = plt.figure(figsize=(10, 7))\n",
        "# ax = fig.add_subplot(111, projection='3d')\n",
        "# ax.scatter(X[density > threshold], Y[density > threshold], Z[density > threshold], c=density[density > threshold], cmap='viridis')\n",
        "# plt.title('Gaussian KDE of MNIST Digits (Label 0)')\n",
        "# plt.show()"
      ],
      "metadata": {
        "id": "NedwSjvI89Gp"
      },
      "execution_count": null,
      "outputs": []
    },
    {
      "cell_type": "code",
      "source": [
        "# 데이터를 라벨별로 분리\n",
        "label_data = {i: [] for i in range(10)}\n",
        "for img, label in zip(images, labels):\n",
        "    label_data[label.item()].append(img)"
      ],
      "metadata": {
        "id": "I4vvn5vkvnuO"
      },
      "execution_count": null,
      "outputs": []
    },
    {
      "cell_type": "code",
      "source": [
        "label_data.keys() # 라벨이 key값 해당하는 데이터들의 리스트가 value인 딕셔너리."
      ],
      "metadata": {
        "id": "YBqj-Mz3vqFM"
      },
      "execution_count": null,
      "outputs": []
    },
    {
      "cell_type": "code",
      "source": [
        "for label in label_data:\n",
        "    print(img)"
      ],
      "metadata": {
        "id": "jRwQc1Rm0rwj"
      },
      "execution_count": null,
      "outputs": []
    },
    {
      "cell_type": "code",
      "source": [
        "# 라벨별로 PCA와 KDE 수행\n",
        "pca_results = {}\n",
        "kde_results = {}\n",
        "for label in label_data:\n",
        "    # 라벨별 데이터에 대해 PCA 수행\n",
        "    pca = PCA(n_components=3)\n",
        "    data_pca = pca.fit_transform(np.stack(label_data[label]))\n",
        "    pca_results[label] = data_pca\n",
        "\n",
        "    # 라벨별 데이터에 대해 KDE 수행\n",
        "    kde = gaussian_kde(data_pca.T)\n",
        "    kde_results[label] = kde"
      ],
      "metadata": {
        "id": "P55RN8xYyLwB"
      },
      "execution_count": null,
      "outputs": []
    },
    {
      "cell_type": "code",
      "source": [
        "# 3차원 그리드 생성\n",
        "x = np.linspace(-7, 7, 100) # 예상 데이터 범위 설정\n",
        "y = np.linspace(-7, 7, 100)\n",
        "z = np.linspace(-7, 7, 100)\n",
        "X, Y, Z = np.meshgrid(x, y, z)\n",
        "xyz = np.vstack([X.ravel(), Y.ravel(), Z.ravel()])"
      ],
      "metadata": {
        "id": "s38I_q3syTaJ"
      },
      "execution_count": null,
      "outputs": []
    },
    {
      "cell_type": "code",
      "source": [
        "import numpy as np\n",
        "import matplotlib.pyplot as plt\n",
        "from mpl_toolkits.mplot3d import Axes3D\n",
        "\n",
        "# 3D 그래프 시각화\n",
        "fig = plt.figure(figsize=(10, 7))\n",
        "ax = fig.add_subplot(111, projection='3d')\n",
        "\n",
        "# 색상 맵 선택\n",
        "cmap = plt.get_cmap('viridis')\n",
        "\n",
        "# 3D 그래프 시각화 준비\n",
        "fig = plt.figure(figsize=(10, 7))\n",
        "ax = fig.add_subplot(111, projection='3d')\n",
        "\n",
        "# 라벨별로 밀도 계산 및 시각화\n",
        "for label in pca_results:\n",
        "    data_pca = pca_results[label]\n",
        "    kde = kde_results[label]\n",
        "\n",
        "    # 해당 라벨의 점들에 대한 밀도 계산\n",
        "    density = kde(data_pca.T)\n",
        "\n",
        "    # 밀도 값을 색상으로 변환 (0-1 사이로 정규화)\n",
        "    colors = cmap((density - density.min()) / (density.max() - density.min()))\n",
        "\n",
        "    # 라벨별로 시각화\n",
        "    ax.scatter(data_pca[:, 0], data_pca[:, 1], data_pca[:, 2], c=colors, label=str(label), edgecolor='w')\n",
        "\n",
        "# 축 라벨 및 제목 설정\n",
        "ax.set_xlabel('Principal Component 1')\n",
        "ax.set_ylabel('Principal Component 2')\n",
        "ax.set_zlabel('Principal Component 3')\n",
        "ax.set_title('3D Gaussian KDE of MNIST Data by Label')\n",
        "\n",
        "# 범례 표시\n",
        "ax.legend()\n",
        "\n",
        "# 그래프 표시\n",
        "plt.show()\n"
      ],
      "metadata": {
        "id": "xLVo-uRmvRH5"
      },
      "execution_count": null,
      "outputs": []
    },
    {
      "cell_type": "code",
      "source": [
        "# PCA를 사용하여 데이터 차원 축소\n",
        "pca = PCA(n_components=3)\n",
        "data_pca = pca.fit_transform(images)"
      ],
      "metadata": {
        "id": "LMlJzqLsq6Kh"
      },
      "execution_count": null,
      "outputs": []
    },
    {
      "cell_type": "code",
      "source": [
        "data_pca.shape"
      ],
      "metadata": {
        "id": "tqENDaYvrqnV"
      },
      "execution_count": null,
      "outputs": []
    },
    {
      "cell_type": "code",
      "execution_count": null,
      "metadata": {
        "id": "5eOnNw10qbu7"
      },
      "outputs": [],
      "source": [
        "# 가우시안 KDE로 밀도 함수 추정\n",
        "kde = gaussian_kde(data_pca.T) # kde는 특성이 행을로 구성된 데이터를 입력으로한다.\n",
        "\n",
        "# 3차원 그리드에서 밀도 계산\n",
        "x = np.linspace(data_pca[:,0].min(), data_pca[:,0].max(), 100)\n",
        "y = np.linspace(data_pca[:,1].min(), data_pca[:,1].max(), 100)\n",
        "z = np.linspace(data_pca[:,2].min(), data_pca[:,2].max(), 100)\n",
        "X, Y, Z = np.meshgrid(x, y, z)\n",
        "xyz = np.vstack([X.ravel(), Y.ravel(), Z.ravel()])\n",
        "density = kde(xyz).reshape(X.shape)\n",
        "\n",
        "# 밀도 기준으로 데이터 포인트 색상 결정\n",
        "colors = density - density.min()\n",
        "colors = colors / colors.max()\n",
        "\n",
        "# 3D 그래프 시각화\n",
        "fig = plt.figure(figsize=(10, 7))\n",
        "ax = fig.add_subplot(111, projection='3d')\n",
        "ax.scatter(X.ravel(), Y.ravel(), Z.ravel(), c=colors, cmap='viridis', marker='o')\n",
        "ax.set_xlabel('Principal Component 1')\n",
        "ax.set_ylabel('Principal Component 2')\n",
        "ax.set_zlabel('Principal Component 3')\n",
        "ax.set_title('3D Gaussian KDE of MNIST Data')\n",
        "plt.show()"
      ]
    }
  ]
}