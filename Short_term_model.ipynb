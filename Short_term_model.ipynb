{
  "nbformat": 4,
  "nbformat_minor": 0,
  "metadata": {
    "colab": {
      "private_outputs": true,
      "provenance": [],
      "collapsed_sections": [
        "N3OdynW6QT0-",
        "0crHQF93NZeI",
        "3Hdz0541PS61"
      ],
      "gpuType": "T4",
      "authorship_tag": "ABX9TyMD4nvZaJuf2XvWOSffjlK4",
      "include_colab_link": true
    },
    "kernelspec": {
      "name": "python3",
      "display_name": "Python 3"
    },
    "language_info": {
      "name": "python"
    },
    "accelerator": "GPU"
  },
  "cells": [
    {
      "cell_type": "markdown",
      "metadata": {
        "id": "view-in-github",
        "colab_type": "text"
      },
      "source": [
        "<a href=\"https://colab.research.google.com/github/jiwoong2/deeplearning/blob/main/Short_term_model.ipynb\" target=\"_parent\"><img src=\"https://colab.research.google.com/assets/colab-badge.svg\" alt=\"Open In Colab\"/></a>"
      ]
    },
    {
      "cell_type": "markdown",
      "source": [
        "# Module"
      ],
      "metadata": {
        "id": "N3OdynW6QT0-"
      }
    },
    {
      "cell_type": "code",
      "execution_count": null,
      "metadata": {
        "id": "YbgevtwTHYTR"
      },
      "outputs": [],
      "source": [
        "!pip install yfinance\n",
        "import pandas as pd\n",
        "from google.colab import drive\n",
        "drive.mount('/content/drive')\n",
        "import torch\n",
        "from sklearn.preprocessing import StandardScaler\n",
        "from torch import nn, optim\n",
        "import numpy as np\n",
        "from torch.utils.data import Dataset, DataLoader, random_split\n",
        "from tqdm import tqdm\n",
        "import matplotlib.pyplot as plt\n",
        "import sys\n",
        "sys.path.append(\"/content/drive/MyDrive/Colab Notebooks\")\n",
        "import yfinance as yf\n",
        "DEVICE = \"cuda\" if torch.cuda.is_available() else \"cpu\""
      ]
    },
    {
      "cell_type": "markdown",
      "source": [
        "# Handle"
      ],
      "metadata": {
        "id": "ICKCsvpWQ01p"
      }
    },
    {
      "cell_type": "code",
      "source": [
        "criterion = nn.CrossEntropyLoss()\n",
        "LR = 1e-7 # -1 인경우 한번에 0또는 1만 출력하는 로컬 미니멈으로 수렴.\n",
        "EPOCH = 400\n",
        "batch_size = 70 #데이터셋이 작은데 배치사이즈가 너무크면 문제가생김. 훈련 loss,와 검증 loss 역전, loss 하락폭 감소등 확인.\n",
        "               #배치사이즈가 크면 gpu에 많은 data를 올릴 수 있어 훈련이 빨라지짐.\n",
        "               #배치사이즈가 굉장히 중요한 역할을 하는듯. 이유를 알아보자."
      ],
      "metadata": {
        "id": "vzIoxmLiQ3ta"
      },
      "execution_count": null,
      "outputs": []
    },
    {
      "cell_type": "markdown",
      "source": [
        "# Short term model data"
      ],
      "metadata": {
        "id": "0crHQF93NZeI"
      }
    },
    {
      "cell_type": "code",
      "source": [
        "# 애플의 주가데이터 불러오기.\n",
        "apple = yf.Ticker(\"AAPL\")\n",
        "apple = apple.history(period=\"25y\")\n",
        "apple = apple.reset_index() # 인덱스 초기화"
      ],
      "metadata": {
        "id": "nQWy2iHTHoud"
      },
      "execution_count": null,
      "outputs": []
    },
    {
      "cell_type": "code",
      "source": [
        "# 날짜, 배당, 분할데이터 누락\n",
        "apple.drop(['Date','Dividends','Stock Splits'], axis=1, inplace=True)"
      ],
      "metadata": {
        "id": "Co9qr_ljKWUD"
      },
      "execution_count": null,
      "outputs": []
    },
    {
      "cell_type": "code",
      "source": [
        "# 데이터 프레임을 넘파이배열로 변환.\n",
        "apple = apple.to_numpy()"
      ],
      "metadata": {
        "id": "ktbSzlB_IKJy"
      },
      "execution_count": null,
      "outputs": []
    },
    {
      "cell_type": "code",
      "source": [
        "apple.shape"
      ],
      "metadata": {
        "id": "UgfnzjsOJjDG"
      },
      "execution_count": null,
      "outputs": []
    },
    {
      "cell_type": "code",
      "source": [
        "# data, label생성기.\n",
        "# Size:데이터개수.\n",
        "# data:원본 data\n",
        "# interval:시계열길이. ex) 30 -> 30일치 데이터를 보고 다음 5일간의 주가변동을 예측.\n",
        "def data_generator(Size:int, data, interval:int):\n",
        "\n",
        "    s = np.random.choice(range(0, len(data)-interval-6), size=Size, replace=False)\n",
        "    s = np.array(s)\n",
        "\n",
        "    g_data = []\n",
        "    g_label = []\n",
        "\n",
        "    for i in s:\n",
        "        gs_data = data[i:i+interval, :]\n",
        "        g_data.append(gs_data)\n",
        "\n",
        "        label = (data[i+interval+6,2] - data[i+interval+1,2]) / data[i+interval+1,2] * 100\n",
        "\n",
        "        if label >= 0:\n",
        "            g_label.append(1)\n",
        "\n",
        "        # elif 0 <= label < 5:\n",
        "        #     g_label.append(2)\n",
        "\n",
        "        # elif -5 < label < 0:\n",
        "        #     g_label.append(1)\n",
        "\n",
        "        elif label < 0:\n",
        "            g_label.append(0)\n",
        "\n",
        "    g_data = np.array(g_data).astype(np.float32)\n",
        "    g_label = np.array(g_label)\n",
        "\n",
        "    return g_data, g_label"
      ],
      "metadata": {
        "id": "B3pU86iDIPjc"
      },
      "execution_count": null,
      "outputs": []
    },
    {
      "cell_type": "code",
      "source": [
        "short_term_data, short_term_label = data_generator(5000, apple, 20)"
      ],
      "metadata": {
        "id": "2rHHi7uxJU1f"
      },
      "execution_count": null,
      "outputs": []
    },
    {
      "cell_type": "code",
      "source": [
        "# 데이터 표준화.\n",
        "# 주가데이터는 지수적으로 증가하므로 각 샘플마다 따로 표준화함.\n",
        "def data_scaler(data):\n",
        "    for sample in range(data.shape[0]):\n",
        "        scaler = StandardScaler()\n",
        "        std = scaler.fit_transform(data[sample,:,:])\n",
        "        data[sample,:,:] = std"
      ],
      "metadata": {
        "id": "Kp13OIDWKqXA"
      },
      "execution_count": null,
      "outputs": []
    },
    {
      "cell_type": "code",
      "source": [
        "data_scaler(short_term_data)"
      ],
      "metadata": {
        "id": "jzdqbS0kLcH4"
      },
      "execution_count": null,
      "outputs": []
    },
    {
      "cell_type": "code",
      "source": [
        "class CustomDataset(Dataset):\n",
        "    def __init__(self, data, labels):\n",
        "        self.data = data\n",
        "        self.labels = labels\n",
        "\n",
        "    def __len__(self):\n",
        "        return len(self.data)\n",
        "\n",
        "    def __getitem__(self, idx):\n",
        "        return self.data[idx], self.labels[idx]\n",
        "\n",
        "# 인스턴스 생성.\n",
        "short_term_dataset = CustomDataset(short_term_data, short_term_label)\n",
        "\n",
        "#데이터를 훈련 데이터와 검증 데이터, 테스트 데이터로 나누기. 파이토치데이터셋 인스턴스에 사용하면 라벨도 같이 분류됨.\n",
        "#훈련세트 80%, 테스트세트 20% 분류\n",
        "train_size = int(0.8 * len(short_term_dataset))\n",
        "test_size = len(short_term_dataset) - train_size\n",
        "\n",
        "short_term_train_dataset, short_term_test_dataset = random_split(short_term_dataset, [train_size, test_size])\n",
        "\n",
        "#테스트세트를 테스트세트 10%, 검증세트 10% 분류\n",
        "test_size = int(0.5 * len(short_term_test_dataset))\n",
        "val_size = len(short_term_test_dataset) - test_size\n",
        "\n",
        "short_term_test_dataset, short_term_val_dataset = random_split(short_term_test_dataset, [test_size, val_size])\n",
        "\n",
        "# 데이터 로더 생성.\n",
        "short_term_train_DL = DataLoader(short_term_train_dataset, batch_size=batch_size, shuffle=True)\n",
        "short_term_val_DL = DataLoader(short_term_val_dataset, batch_size=batch_size, shuffle=True)\n",
        "short_term_test_DL = DataLoader(short_term_test_dataset, batch_size=batch_size, shuffle=True)\n",
        "\n",
        "# 데이터 로더를 통해 데이터 확인\n",
        "for features, labels in short_term_train_DL:\n",
        "    print(features.shape)\n",
        "    print(labels)\n",
        "    break"
      ],
      "metadata": {
        "id": "rCSHtapULlqN"
      },
      "execution_count": null,
      "outputs": []
    },
    {
      "cell_type": "code",
      "source": [
        "print(len(short_term_train_DL.dataset))\n",
        "print(len(short_term_test_DL.dataset))\n",
        "print(len(short_term_val_DL.dataset))"
      ],
      "metadata": {
        "id": "A5iNDUbXNNUL"
      },
      "execution_count": null,
      "outputs": []
    },
    {
      "cell_type": "markdown",
      "source": [
        "# Short term model"
      ],
      "metadata": {
        "id": "nPlE8lFzNlVP"
      }
    },
    {
      "cell_type": "code",
      "source": [
        "class ShortTermModel(nn.Module):\n",
        "    def __init__(self):\n",
        "        super().__init__()\n",
        "\n",
        "        self.conv1 = nn.Sequential(nn.Conv2d(1, 20, 5, stride=1),\n",
        "                                   nn.BatchNorm2d(20),\n",
        "                                   nn.GELU())\n",
        "\n",
        "        self.conv2 = nn.Sequential(nn.Conv2d(1, 40, kernel_size=(20, 5), stride=1),\n",
        "                                   nn.BatchNorm2d(40),\n",
        "                                   nn.GELU())\n",
        "\n",
        "        self.conv3 = nn.Sequential(nn.Conv2d(1, 80, kernel_size=(40, 5), stride=1),\n",
        "                                   nn.BatchNorm2d(80),\n",
        "                                   nn.GELU())\n",
        "\n",
        "        self.conv4 = nn.Sequential(nn.Conv2d(1, 160, kernel_size=(80, 5), stride=1),\n",
        "                                   nn.BatchNorm2d(160),\n",
        "                                   nn.GELU())\n",
        "\n",
        "        self.linear = nn.Sequential(nn.Linear(640,100), nn.GELU(),\n",
        "                                    nn.Linear(100,2))\n",
        "\n",
        "    def forward(self, x):\n",
        "\n",
        "        x = x.permute(0,2,1)\n",
        "        x = x.unsqueeze(1)\n",
        "        x = self.conv1(x)\n",
        "        x = x.squeeze().unsqueeze(1)\n",
        "        x = self.conv2(x)\n",
        "        x = x.squeeze().unsqueeze(1)\n",
        "        x = self.conv3(x)\n",
        "        x = x.squeeze().unsqueeze(1)\n",
        "        x = self.conv4(x)\n",
        "        x = x.squeeze().unsqueeze(1)\n",
        "        x = torch.flatten(x, start_dim=1)\n",
        "        x = self.linear(x)\n",
        "\n",
        "        return x"
      ],
      "metadata": {
        "id": "m8zQZ1dANn2l"
      },
      "execution_count": null,
      "outputs": []
    },
    {
      "cell_type": "code",
      "source": [
        "model = ShortTermModel().to(DEVICE)\n",
        "optimizer = optim.Adam(model.parameters(), lr = LR)"
      ],
      "metadata": {
        "id": "nLT149IdXpTc"
      },
      "execution_count": null,
      "outputs": []
    },
    {
      "cell_type": "markdown",
      "source": [
        "# Trainer"
      ],
      "metadata": {
        "id": "3Hdz0541PS61"
      }
    },
    {
      "cell_type": "code",
      "source": [
        "# 1에폭 트레이닝.\n",
        "def loss_epoch(model, DL, criterion, optimizer = None):\n",
        "\n",
        "    N = len(DL.dataset) # the number of data\n",
        "    rloss = 0; rcorrect = 0\n",
        "\n",
        "    for x_batch, y_batch in DL:\n",
        "\n",
        "        x_batch = x_batch.to(DEVICE)\n",
        "        y_batch = y_batch.to(DEVICE)\n",
        "\n",
        "        # inference\n",
        "        y_hat = model(x_batch)\n",
        "\n",
        "        # loss\n",
        "        loss = criterion(y_hat,y_batch)\n",
        "\n",
        "        # update\n",
        "        if optimizer is not None:\n",
        "            optimizer.zero_grad() # gradient 누적을 막기 위한 초기화\n",
        "            loss.backward() # backpropagation\n",
        "            optimizer.step() # weight update\n",
        "\n",
        "        # loss accumulation\n",
        "        loss_b = loss.item() * x_batch.shape[0] # batch loss # BATCH_SIZE를 곱하면 마지막 18개도 32개를 곱하니까..\n",
        "        rloss += loss_b # running loss\n",
        "        # accuracy accumulation\n",
        "        pred = y_hat.argmax(dim=1)\n",
        "        corrects_b = torch.sum(pred == y_batch).item()\n",
        "        rcorrect += corrects_b\n",
        "\n",
        "    loss_e = rloss/ N # epoch loss\n",
        "    accuracy_e = rcorrect/N*100\n",
        "\n",
        "    return loss_e, accuracy_e, rcorrect\n",
        "\n",
        "def Train(model, train_DL, val_DL, criterion, optimizer, EPOCH):\n",
        "\n",
        "    loss_history = {\"train\":[], \"val\":[]}\n",
        "    acc_history = {\"train\":[], \"val\":[]}\n",
        "\n",
        "    for ep in tqdm(range(EPOCH), leave=False):\n",
        "\n",
        "        model.train() # train mode로 전환\n",
        "        train_loss, train_acc, _ = loss_epoch(model, train_DL, criterion, optimizer)\n",
        "        loss_history[\"train\"] += [train_loss]\n",
        "        acc_history[\"train\"] += [train_acc]\n",
        "\n",
        "        model.eval() # test mode로 전환\n",
        "        with torch.no_grad():\n",
        "            val_loss, val_acc, _ = loss_epoch(model, val_DL, criterion)\n",
        "            loss_history[\"val\"] += [val_loss]\n",
        "            acc_history[\"val\"] += [val_acc]\n",
        "\n",
        "        # # print loss\n",
        "        # print(f\"train loss: {round(train_loss,5)}, \"\n",
        "        #       f\"val loss: {round(val_loss,5)} \\n\"\n",
        "        #       f\"train acc: {round(train_acc,1)} %, \"\n",
        "        #       f\"val acc: {round(val_acc,1)} %, time: {round(time.time()-epoch_start)} s\")\n",
        "        # print(\"-\"*20)\n",
        "\n",
        "    return loss_history, acc_history\n",
        "\n",
        "def Test(model, test_DL, criterion):\n",
        "    model.eval()\n",
        "    with torch.no_grad():\n",
        "        test_loss, test_acc, rcorrect = loss_epoch(model, test_DL, criterion)\n",
        "    print()\n",
        "    print(f\"Test loss: {round(test_loss,5)}\")\n",
        "    print(f\"Test accuracy: {rcorrect}/{len(test_DL.dataset)} ({round(test_acc,1)} %)\")\n",
        "    return round(test_acc,1)"
      ],
      "metadata": {
        "id": "k2AJ4f1FOEP_"
      },
      "execution_count": null,
      "outputs": []
    },
    {
      "cell_type": "markdown",
      "source": [
        "# Experience"
      ],
      "metadata": {
        "id": "ULg3oDhcPbKC"
      }
    },
    {
      "cell_type": "code",
      "source": [
        "loss, acc = Train(model, short_term_train_DL, short_term_val_DL, criterion, optimizer, EPOCH)"
      ],
      "metadata": {
        "id": "PgFLOcMhOgN-"
      },
      "execution_count": null,
      "outputs": []
    },
    {
      "cell_type": "code",
      "source": [
        "plt.plot(range(1, EPOCH + 1), loss['train'], label='Train Loss')\n",
        "plt.plot(range(1, EPOCH + 1), loss['val'], label='Validation Loss')\n",
        "\n",
        "plt.xlabel('Epoch')\n",
        "plt.ylabel('loss')\n",
        "\n",
        "plt.title('Training and Validation Loss')\n",
        "plt.legend()\n",
        "\n",
        "plt.show()"
      ],
      "metadata": {
        "id": "a2l2_VbhO3KB"
      },
      "execution_count": null,
      "outputs": []
    },
    {
      "cell_type": "code",
      "source": [
        "plt.plot(range(1, EPOCH + 1), acc['train'], label='Train acc')\n",
        "plt.plot(range(1, EPOCH + 1), acc['val'], label='Validation acc')\n",
        "\n",
        "plt.xlabel('Epoch')\n",
        "plt.ylabel('acc')\n",
        "\n",
        "plt.title('Training and Validation acc')\n",
        "plt.legend()\n",
        "\n",
        "plt.show()"
      ],
      "metadata": {
        "id": "Bl5-dEpJO6vb"
      },
      "execution_count": null,
      "outputs": []
    },
    {
      "cell_type": "code",
      "source": [
        "Test(model, short_term_test_DL, criterion)"
      ],
      "metadata": {
        "id": "33Nj2rwjRKKV"
      },
      "execution_count": null,
      "outputs": []
    },
    {
      "cell_type": "markdown",
      "source": [
        "# Model save"
      ],
      "metadata": {
        "id": "RceLm2HPXUkD"
      }
    },
    {
      "cell_type": "code",
      "source": [
        "#전체 모델 저장하기\n",
        "torch.save(model, '/content/drive/MyDrive/Colab Notebooks/results/short_term_model.pt')\n",
        "\n",
        "# # 나중에 전체 모델 로드하기\n",
        "# model = torch.load('model_complete.pth')\n",
        "# model.eval()  # 추론 모드로 설정"
      ],
      "metadata": {
        "id": "lCDhCuHaXXO4"
      },
      "execution_count": null,
      "outputs": []
    }
  ]
}