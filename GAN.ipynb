{
  "nbformat": 4,
  "nbformat_minor": 0,
  "metadata": {
    "colab": {
      "private_outputs": true,
      "provenance": [],
      "gpuType": "V100",
      "mount_file_id": "14JYViUXMlv-tTkA_ZERFxq-9JrE88DVi",
      "authorship_tag": "ABX9TyOzy+E0Zf/27YT0NGp7aX8T",
      "include_colab_link": true
    },
    "kernelspec": {
      "name": "python3",
      "display_name": "Python 3"
    },
    "language_info": {
      "name": "python"
    },
    "accelerator": "GPU"
  },
  "cells": [
    {
      "cell_type": "markdown",
      "metadata": {
        "id": "view-in-github",
        "colab_type": "text"
      },
      "source": [
        "<a href=\"https://colab.research.google.com/github/jiwoong2/deeplearning/blob/main/GAN.ipynb\" target=\"_parent\"><img src=\"https://colab.research.google.com/assets/colab-badge.svg\" alt=\"Open In Colab\"/></a>"
      ]
    },
    {
      "cell_type": "code",
      "source": [
        "import argparse\n",
        "import os\n",
        "import numpy as np\n",
        "import torchvision.transforms as transforms\n",
        "from torchvision.utils import save_image\n",
        "from torch.utils.data import DataLoader\n",
        "from torchvision import datasets\n",
        "import torch.nn as nn\n",
        "import torch\n",
        "\n",
        "DEVICE = \"cuda\" if torch.cuda.is_available() else \"cpu\""
      ],
      "metadata": {
        "id": "lwaP8DMondpH"
      },
      "execution_count": null,
      "outputs": []
    },
    {
      "cell_type": "code",
      "source": [
        "# 이미지 저장용 폴더 생성, exist_ok는 해당경로에 같은파일이 이미존재해도 오류를 일으키지 않게함.\n",
        "os.makedirs(\"/content/drive/MyDrive/Colab Notebooks/gan/mnist\", exist_ok=True)\n",
        "os.makedirs(\"/content/drive/MyDrive/Colab Notebooks/gan/gen_imgs\", exist_ok=True)"
      ],
      "metadata": {
        "id": "meolzufGoJkd"
      },
      "execution_count": null,
      "outputs": []
    },
    {
      "cell_type": "code",
      "source": [
        "# 명령줄 인수 파싱 (스크립트로 실행할 경우)\n",
        "# parser = argparse.ArgumentParser()\n",
        "# parser.add_argument(\"--n_epochs\", type=int, default=200, help=\"number of epochs of training\")\n",
        "# parser.add_argument(\"--batch_size\", type=int, default=64, help=\"size of the batches\")\n",
        "# parser.add_argument(\"--lr\", type=float, default=0.0002, help=\"adam: learning rate\")\n",
        "# parser.add_argument(\"--b1\", type=float, default=0.5, help=\"adam: decay of first order momentum of gradient\")\n",
        "# parser.add_argument(\"--b2\", type=float, default=0.999, help=\"adam: decay of second order momentum of gradient\")\n",
        "# parser.add_argument(\"--n_cpu\", type=int, default=8, help=\"number of cpu threads to use during batch generation\")\n",
        "# parser.add_argument(\"--latent_dim\", type=int, default=100, help=\"dimensionality of the latent space\")\n",
        "# parser.add_argument(\"--img_size\", type=int, default=28, help=\"size of each image dimension\")\n",
        "# parser.add_argument(\"--channels\", type=int, default=1, help=\"number of image channels\")\n",
        "# parser.add_argument(\"--sample_interval\", type=int, default=400, help=\"interval between image samples\")\n",
        "# opt = parser.parse_args()\n",
        "\n",
        "n_epochs = 200  # 학습 에폭 수\n",
        "batch_size = 64  # 배치 크기\n",
        "lr = 0.0002  # 학습률\n",
        "b1 = 0.5  # adam 최적화기의 베타1 값\n",
        "b2 = 0.999  # adam 최적화기의 베타2 값\n",
        "n_cpu = 8  # 배치 생성 시 사용할 CPU 쓰레드 수\n",
        "latent_dim = 100  # 잠재 공간의 차원 수\n",
        "img_size = 28  # 이미지의 한 변의 크기\n",
        "channels = 1  # 이미지의 채널 수\n",
        "sample_interval = 400  # 이미지 샘플링 간격\n",
        "\n",
        "img_shape = (channels, img_size, img_size)"
      ],
      "metadata": {
        "id": "qimrFOMeovXj"
      },
      "execution_count": null,
      "outputs": []
    },
    {
      "cell_type": "code",
      "source": [
        "class Generator(nn.Module):\n",
        "    def __init__(self):\n",
        "        super().__init__()\n",
        "\n",
        "        def block(in_dim, out_dim, normalize=True):\n",
        "            layers = [nn.Linear(in_dim, out_dim)]\n",
        "            if normalize:\n",
        "                layers.append(nn.BatchNorm1d(out_dim, momentum=0.8)) # eps는 분모에추가되어 0으로 나누는것을 방지,\n",
        "                                                             # momentum: 새로운 값과 이전 실행 평균 및 분산에 대한 가중치를 조절하는데 사용되는 값, 기본값은 0.1.\n",
        "            layers.append(nn.LeakyReLU(0.2, inplace=True)) # 0.2는 LeakyReLU의 음수값 기울기, inplace는 입력텐서를 바로수정해 메모리절약.\n",
        "            return layers\n",
        "\n",
        "        self.model = nn.Sequential(\n",
        "            *block(latent_dim, 128, normalize=False), # 배치정규화를 사용하지 않는 이유는?\n",
        "            *block(128, 256),\n",
        "            *block(256, 512),\n",
        "            *block(512, 1024),\n",
        "            nn.Linear(1024, int(np.prod(img_shape))),\n",
        "            nn.Tanh()\n",
        "        )\n",
        "\n",
        "    def forward(self, z):\n",
        "        img = self.model(z)\n",
        "        img = img.view(img.size(0), *img_shape) # 이미지 shape 변경.\n",
        "        return img\n",
        "\n",
        "class Discriminator(nn.Module):\n",
        "    def __init__(self):\n",
        "        super().__init__()\n",
        "        self.model = nn.Sequential(\n",
        "            nn.Linear(int(np.prod(img_shape)), 512), # np.prod는 곱.\n",
        "            nn.LeakyReLU(0.2, inplace=True),\n",
        "            nn.Linear(512, 256),\n",
        "            nn.LeakyReLU(0.2, inplace=True),\n",
        "            nn.Linear(256, 1),\n",
        "            nn.Sigmoid(),\n",
        "        )\n",
        "\n",
        "    def forward(self, img):\n",
        "        img_flat = img.view(img.size(0), -1)\n",
        "        validity = self.model(img_flat) # validity는 타당성.\n",
        "        return validity"
      ],
      "metadata": {
        "id": "1hg_3BhupOBG"
      },
      "execution_count": null,
      "outputs": []
    },
    {
      "cell_type": "code",
      "source": [
        "# 손실함수.\n",
        "adversarial_loss = nn.BCELoss() # 이진 크로스 엔트로피\n",
        "\n",
        "# 모델 및 손실함수 초기화.\n",
        "generator = Generator().to(DEVICE)\n",
        "discriminator = Discriminator().to(DEVICE)\n",
        "adversarial_loss = adversarial_loss.to(DEVICE)"
      ],
      "metadata": {
        "id": "LUvxlpMPxKAu"
      },
      "execution_count": null,
      "outputs": []
    },
    {
      "cell_type": "code",
      "source": [
        "# Configure data loader 데이터로더 구성.\n",
        "os.makedirs(\"/content/drive/MyDrive/Colab Notebooks/gan/mnist/data/mnist\", exist_ok=True)\n",
        "dataloader = DataLoader(\n",
        "    datasets.MNIST(\n",
        "        \"/content/drive/MyDrive/Colab Notebooks/gan/mnist/data/mnist\",\n",
        "        train=True,\n",
        "        download=True,\n",
        "        transform=transforms.Compose( # 데이터 변환을 조합. 리사이즈, 텐서변환, 노말라이즈(0.5빼기 0.5나누기. 0에서 1사이의 값을 -1에서 1사이의 값을 변경.)\n",
        "            [transforms.Resize(img_size), transforms.ToTensor(), transforms.Normalize([0.5], [0.5])]\n",
        "        ),\n",
        "    ),\n",
        "    batch_size,\n",
        "    shuffle=True,\n",
        ")"
      ],
      "metadata": {
        "id": "bJiQP_NPzXXm"
      },
      "execution_count": null,
      "outputs": []
    },
    {
      "cell_type": "code",
      "source": [
        "# Optimizers\n",
        "optimizer_G = torch.optim.Adam(generator.parameters(), lr=lr, betas=(b1, b2))\n",
        "optimizer_D = torch.optim.Adam(discriminator.parameters(), lr=lr, betas=(b1, b2))"
      ],
      "metadata": {
        "id": "XgExKtlqz9WY"
      },
      "execution_count": null,
      "outputs": []
    },
    {
      "cell_type": "code",
      "source": [
        "# Training\n",
        "for epoch in range(n_epochs): # 입력에폭만큼 반복\n",
        "    for i, (imgs, _) in enumerate(dataloader): # 인덱스와 이미지\n",
        "\n",
        "        # Adversarial ground truths\n",
        "        valid = torch.ones(imgs.size(0), 1, device=DEVICE) # 배치 묶음만큼 행으로하는 1로채워진 텐서\n",
        "        fake = torch.zeros(imgs.size(0), 1, device=DEVICE)\n",
        "\n",
        "        # Configure input\n",
        "        real_imgs = imgs.type(torch.Tensor).to(DEVICE) #이미지의 데이터형을 텐서로 변경\n",
        "\n",
        "        # -----------------\n",
        "        #  Train Generator\n",
        "        # -----------------\n",
        "\n",
        "        optimizer_G.zero_grad() # 그라디언트 초기화\n",
        "\n",
        "        # Sample noise as generator input\n",
        "        z = torch.randn(imgs.shape[0], latent_dim, device=DEVICE) # 가우시안분포에서 노이즈 생성 latent_dim은 노이즈벡터의 차원\n",
        "\n",
        "        # Generate a batch of images\n",
        "        gen_imgs = generator(z) # 가짜이미지 생성\n",
        "\n",
        "        # Loss measures generator's ability to fool the discriminator\n",
        "        g_loss = adversarial_loss(discriminator(gen_imgs), valid) # valil 실제이미지인척!\n",
        "\n",
        "        g_loss.backward()\n",
        "        optimizer_G.step()\n",
        "\n",
        "        # ---------------------\n",
        "        #  Train Discriminator\n",
        "        # ---------------------\n",
        "\n",
        "        optimizer_D.zero_grad()\n",
        "\n",
        "        # Measure discriminator's ability to classify real from generated samples\n",
        "        real_loss = adversarial_loss(discriminator(real_imgs), valid)\n",
        "        fake_loss = adversarial_loss(discriminator(gen_imgs.detach()), fake)\n",
        "        d_loss = (real_loss + fake_loss) / 2\n",
        "\n",
        "        d_loss.backward()\n",
        "        optimizer_D.step()\n",
        "\n",
        "        print(\n",
        "            f\"[Epoch {epoch}/{n_epochs}] [Batch {i}/{len(dataloader)}] [D loss: {d_loss.item()}] [G loss: {g_loss.item()}]\"\n",
        "        )\n",
        "\n",
        "        # 아미지 저장\n",
        "        batches_done = epoch * len(dataloader) + i\n",
        "        if batches_done % sample_interval == 0:\n",
        "            save_image(gen_imgs.data[:25], f\"/content/drive/MyDrive/Colab Notebooks/gan/gen_imgs/{batches_done}.png\", nrow=5, normalize=True)"
      ],
      "metadata": {
        "id": "sU3frFNV0Ol6"
      },
      "execution_count": null,
      "outputs": []
    },
    {
      "cell_type": "code",
      "source": [
        "#전체 모델 저장하기\n",
        "#torch.save(model, '/content/drive/MyDrive/Colab Notebooks/results/short_term_model.pt')\n",
        "\n",
        "# # 나중에 전체 모델 로드하기\n",
        "# model = torch.load('model_complete.pth')\n",
        "# model.eval()  # 추론 모드로 설정"
      ],
      "metadata": {
        "id": "49K3x3Dc4FbM"
      },
      "execution_count": null,
      "outputs": []
    }
  ]
}