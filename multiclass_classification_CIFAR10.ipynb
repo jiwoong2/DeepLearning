{
  "nbformat": 4,
  "nbformat_minor": 0,
  "metadata": {
    "colab": {
      "private_outputs": true,
      "provenance": [],
      "gpuType": "T4",
      "authorship_tag": "ABX9TyNPX4JJXjAEBNqj4JcBtdTH",
      "include_colab_link": true
    },
    "kernelspec": {
      "name": "python3",
      "display_name": "Python 3"
    },
    "language_info": {
      "name": "python"
    },
    "accelerator": "GPU"
  },
  "cells": [
    {
      "cell_type": "markdown",
      "metadata": {
        "id": "view-in-github",
        "colab_type": "text"
      },
      "source": [
        "<a href=\"https://colab.research.google.com/github/jiwoong2/deeplearning/blob/main/multiclass_classification_CIFAR10.ipynb\" target=\"_parent\"><img src=\"https://colab.research.google.com/assets/colab-badge.svg\" alt=\"Open In Colab\"/></a>"
      ]
    },
    {
      "cell_type": "code",
      "execution_count": null,
      "metadata": {
        "id": "80eAFDF3r8uP"
      },
      "outputs": [],
      "source": [
        "from google.colab import drive\n",
        "drive.mount('/content/drive')\n",
        "import sys\n",
        "sys.path.append(\"/content/drive/MyDrive/Colab Notebooks\")\n",
        "from multiclass_functions import *\n",
        "import torch\n",
        "from torch import nn, optim\n",
        "from torchvision import datasets, transforms\n",
        "import matplotlib.pyplot as plt\n",
        "DEVICE = \"cuda\" if torch.cuda.is_available() else \"cpu\"\n",
        "print(DEVICE)"
      ]
    },
    {
      "cell_type": "code",
      "source": [
        "BATCH_SIZE = 32\n",
        "LR = 1e-3\n",
        "EPOCH = 5\n",
        "criterion = nn.CrossEntropyLoss()\n",
        "new_model_train = True\n",
        "model_type = \"CNN\"\n",
        "dataset = \"CIFAR10\"\n",
        "save_model_path =f\"/content/drive/MyDrive/Colab Notebooks/results/{model_type}_{dataset}.pt\""
      ],
      "metadata": {
        "id": "qIXeJiJcswH1"
      },
      "execution_count": null,
      "outputs": []
    },
    {
      "cell_type": "code",
      "source": [
        "transform = transforms.ToTensor()\n",
        "train_DS = datasets.CIFAR10(root = '/content/drive/MyDrive/Colab Notebooks/data', train = True, download = True, transform = transform)\n",
        "test_DS = datasets.CIFAR10(root = '/content/drive/MyDrive/Colab Notebooks/data', train=False, download=True, transform=transform)\n",
        "train_DL = torch.utils.data.DataLoader(train_DS, batch_size = BATCH_SIZE, shuffle= True)\n",
        "test_DL = torch.utils.data.DataLoader(test_DS, batch_size = BATCH_SIZE, shuffle = True)"
      ],
      "metadata": {
        "id": "5MWFX4zUvuJi"
      },
      "execution_count": null,
      "outputs": []
    },
    {
      "cell_type": "code",
      "source": [
        "print(train_DS)\n",
        "print(test_DS)\n",
        "print(len(train_DS))\n",
        "print(len(test_DS))"
      ],
      "metadata": {
        "id": "Xl9rzz5DEIWE"
      },
      "execution_count": null,
      "outputs": []
    },
    {
      "cell_type": "code",
      "source": [
        "print(test_DS.classes)\n",
        "print(test_DS.class_to_idx)\n",
        "x_batch, y_batch = next(iter(test_DL))\n",
        "print(x_batch.shape)\n",
        "plt.imshow(x_batch[0].permute(1,2,0))\n",
        "print(test_DS.classes[y_batch[0]])"
      ],
      "metadata": {
        "id": "mwLGVaG7Es4C"
      },
      "execution_count": null,
      "outputs": []
    },
    {
      "cell_type": "code",
      "source": [
        "# 1. tensor로 바꾸고\n",
        "# 2. 개체행열로 바꾸고\n",
        "# 3. 0~1 사이로 바꾸고 (int->float)\n",
        "print(type(train_DS.data))\n",
        "print(train_DS.data.shape)\n",
        "print(train_DS.data.dtype)\n",
        "print(train_DS.data[0][0][0][0])\n",
        "x_batch, y_batch = next(iter(test_DL))\n",
        "print(type(x_batch))\n",
        "print(x_batch.shape)\n",
        "print(x_batch.dtype)\n",
        "print(x_batch[0][0][0][0])"
      ],
      "metadata": {
        "id": "Yw2EViVxw5tj"
      },
      "execution_count": null,
      "outputs": []
    },
    {
      "cell_type": "code",
      "source": [
        "class MLP(nn.Module):\n",
        "    def __init__(self):\n",
        "        super().__init__()\n",
        "\n",
        "        self.linear = nn.Sequential(nn.Linear(3*32*32, 100),\n",
        "                                    nn.ReLU(),\n",
        "                                    nn.Linear(100, 10))\n",
        "\n",
        "    def forward(self, x):\n",
        "        x = torch.flatten(x, start_dim=1)\n",
        "        x = self.linear(x)\n",
        "\n",
        "        return x\n",
        "\n",
        "class CNN(nn.Module):\n",
        "    def __init__(self):\n",
        "        super().__init__()\n",
        "\n",
        "        self.conv1 = nn.Sequential(nn.Conv2d(3,8,3,padding=1), # 컨볼루션,배치,렐루는 삼총사!, VGG net에서는 커널사이즈3, 패딩1, 스타라이드1로 설정한다.\n",
        "                                   nn.BatchNorm2d(8),\n",
        "                                   nn.ReLU())\n",
        "        self.Maxpool1 = nn.MaxPool2d(2)\n",
        "\n",
        "        self.conv2 = nn.Sequential(nn.Conv2d(8,16,3,padding=1),\n",
        "                                   nn.BatchNorm2d(16),\n",
        "                                   nn.ReLU())\n",
        "        self.Maxpool2 = nn.MaxPool2d(2)\n",
        "\n",
        "        self.conv3 = nn.Sequential(nn.Conv2d(16,32,3,padding=1),\n",
        "                                   nn.BatchNorm2d(32),\n",
        "                                   nn.ReLU())\n",
        "        self.Maxpool3 = nn.MaxPool2d(2)\n",
        "\n",
        "        self.fc = nn.Linear(32*4*4, 10)\n",
        "\n",
        "    def forward(self, x):\n",
        "        x = self.conv1(x)\n",
        "        x = self.Maxpool1(x)\n",
        "        x = self.conv2(x)\n",
        "        x = self.Maxpool2(x)\n",
        "        x = self.conv3(x)\n",
        "        x = self.Maxpool3(x)\n",
        "        x = torch.flatten(x,start_dim=1)\n",
        "        x = self.fc(x)\n",
        "\n",
        "        return x\n",
        "\n",
        "class CNN_deep(nn.Module):\n",
        "    def __init__(self):\n",
        "        super().__init__()\n",
        "        self.conv_block1 = nn.Sequential(nn.Conv2d(3,32,3,padding=1),\n",
        "                                         nn.BatchNorm2d(32),\n",
        "                                         nn.ReLU(),\n",
        "                                         nn.Conv2d(32,32,3,padding=1),\n",
        "                                         nn.BatchNorm2d(32),\n",
        "                                         nn.ReLU())\n",
        "        self.Maxpool1 = nn.MaxPool2d(2)\n",
        "\n",
        "        self.conv_block2 = nn.Sequential(nn.Conv2d(32,64,3,padding=1),\n",
        "                                         nn.BatchNorm2d(64),\n",
        "                                         nn.ReLU(),\n",
        "                                         nn.Conv2d(64,64,3,padding=1),\n",
        "                                         nn.BatchNorm2d(64),\n",
        "                                         nn.ReLU(),\n",
        "                                         nn.Conv2d(64,64,3,padding=1),\n",
        "                                         nn.BatchNorm2d(64),\n",
        "                                         nn.ReLU())\n",
        "        self.Maxpool2 = nn.MaxPool2d(2)\n",
        "\n",
        "        self.conv_block3 = nn.Sequential(nn.Conv2d(64,128,3,padding=1),\n",
        "                                         nn.BatchNorm2d(128),\n",
        "                                         nn.ReLU(),\n",
        "                                         nn.Conv2d(128,128,3,padding=1),\n",
        "                                         nn.BatchNorm2d(128),\n",
        "                                         nn.ReLU(),\n",
        "                                         nn.Conv2d(128,128,3,padding=1),\n",
        "                                         nn.BatchNorm2d(128),\n",
        "                                         nn.ReLU())\n",
        "        self.Maxpool3 = nn.MaxPool2d(2)\n",
        "\n",
        "        self.classifier = nn.Sequential(nn.Linear(128*4*4,512),\n",
        "                                        nn.ReLU(),\n",
        "                                        nn.Linear(512,10))\n",
        "\n",
        "    def forward(self, x):\n",
        "        x = self.conv_block1(x)\n",
        "        x = self.Maxpool1(x)\n",
        "        x = self.conv_block2(x)\n",
        "        x = self.Maxpool2(x)\n",
        "        x = self.conv_block3(x)\n",
        "        x = self.Maxpool3(x)\n",
        "        x = torch.flatten(x, start_dim=1)\n",
        "        x = self.classifier(x)\n",
        "        return x"
      ],
      "metadata": {
        "id": "c6MfhaT2xuzt"
      },
      "execution_count": null,
      "outputs": []
    },
    {
      "cell_type": "code",
      "source": [
        "exec(f\"model = {model_type}().to(DEVICE)\")\n",
        "print(model)\n",
        "x_batch, _ = next(iter(train_DL))\n",
        "print(model(x_batch.to(DEVICE)).shape)"
      ],
      "metadata": {
        "id": "nVZzsgJny1v_"
      },
      "execution_count": null,
      "outputs": []
    },
    {
      "cell_type": "code",
      "source": [
        "if new_model_train:\n",
        "    optimizer = optim.Adam(model.parameters(), lr=LR)\n",
        "    loss_history = Train(model, train_DL, criterion, optimizer, EPOCH)\n",
        "\n",
        "    torch.save(model, save_model_path)\n",
        "\n",
        "    plt.plot(range(1,EPOCH+1),loss_history)\n",
        "    plt.xlabel('Epoch')\n",
        "    plt.ylabel('loss')\n",
        "    plt.title(\"Train Loss\")\n",
        "    plt.grid()"
      ],
      "metadata": {
        "id": "cZoIXtkpzytS"
      },
      "execution_count": null,
      "outputs": []
    },
    {
      "cell_type": "code",
      "source": [
        "load_model = torch.load(save_model_path, map_location=DEVICE)"
      ],
      "metadata": {
        "id": "RWl4fUNG0hEH"
      },
      "execution_count": null,
      "outputs": []
    },
    {
      "cell_type": "code",
      "source": [
        "Test(load_model, test_DL)\n",
        "print(count_params(load_model))"
      ],
      "metadata": {
        "id": "ZF5JfS_m2TlH"
      },
      "execution_count": null,
      "outputs": []
    },
    {
      "cell_type": "code",
      "source": [
        "Test_plot(load_model, test_DL)"
      ],
      "metadata": {
        "id": "1HlnJDt32d1D"
      },
      "execution_count": null,
      "outputs": []
    }
  ]
}