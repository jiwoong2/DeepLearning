{
  "nbformat": 4,
  "nbformat_minor": 0,
  "metadata": {
    "colab": {
      "private_outputs": true,
      "provenance": [],
      "collapsed_sections": [
        "PA9QcTNqrIPg"
      ],
      "authorship_tag": "ABX9TyOt9McJ+0+vBmF05F8jk3fO",
      "include_colab_link": true
    },
    "kernelspec": {
      "name": "python3",
      "display_name": "Python 3"
    },
    "language_info": {
      "name": "python"
    }
  },
  "cells": [
    {
      "cell_type": "markdown",
      "metadata": {
        "id": "view-in-github",
        "colab_type": "text"
      },
      "source": [
        "<a href=\"https://colab.research.google.com/github/jiwoong2/deeplearning/blob/main/%EB%B0%94%EB%8B%90%EB%9D%BC_RNN%EC%9D%98_gradient_%EC%86%8C%EC%8B%A4%2C_%ED%8F%AD%EB%B0%9C_%EB%AC%B8%EC%A0%9C%2C_Gradient_Clipping.ipynb\" target=\"_parent\"><img src=\"https://colab.research.google.com/assets/colab-badge.svg\" alt=\"Open In Colab\"/></a>"
      ]
    },
    {
      "cell_type": "markdown",
      "source": [
        "# $W_h$의 norm 크기에 따른 기울기 소실, 폭발 문제"
      ],
      "metadata": {
        "id": "PA9QcTNqrIPg"
      }
    },
    {
      "cell_type": "code",
      "execution_count": null,
      "metadata": {
        "id": "Us3N0d-tqwaY"
      },
      "outputs": [],
      "source": [
        "import numpy as np\n",
        "import matplotlib.pyplot as plt\n",
        "\n",
        "\n",
        "N = 2   # 미니배치 크기\n",
        "H = 3   # 은닉 상태 벡터의 차원 수\n",
        "T = 20  # 시계열 데이터의 길이\n",
        "\n",
        "dh = np.ones((N, H))\n",
        "\n",
        "np.random.seed(3) # 재현할 수 있도록 난수의 시드 고정\n",
        "\n",
        "Wh = np.random.randn(H, H)\n",
        "#Wh = np.random.randn(H, H) * 0.5\n",
        "\n",
        "norm_list = []\n",
        "for t in range(T):\n",
        "    dh = np.dot(dh, Wh.T)\n",
        "    norm = np.sqrt(np.sum(dh**2)) / N\n",
        "    norm_list.append(norm)\n",
        "\n",
        "print(norm_list)\n",
        "\n",
        "# 그래프 그리기\n",
        "plt.plot(np.arange(len(norm_list)), norm_list)\n",
        "plt.xticks([0, 4, 9, 14, 19], [1, 5, 10, 15, 20])\n",
        "plt.xlabel('시간 크기(time step)')\n",
        "plt.ylabel('노름(norm)')\n",
        "plt.show()"
      ]
    },
    {
      "cell_type": "markdown",
      "source": [
        "# Gradient Clipping"
      ],
      "metadata": {
        "id": "lTTHZk3cra0t"
      }
    },
    {
      "cell_type": "code",
      "source": [
        "dW1 = np.random.rand(3, 3) * 10\n",
        "dW2 = np.random.rand(3, 3) * 10\n",
        "grads = [dW1, dW2]\n",
        "max_norm = 5.0\n",
        "\n",
        "\n",
        "def clip_grads(grads, max_norm):\n",
        "    total_norm = 0\n",
        "    for grad in grads:\n",
        "        total_norm += np.sum(grad ** 2)\n",
        "    total_norm = np.sqrt(total_norm)\n",
        "\n",
        "    rate = max_norm / (total_norm + 1e-6)\n",
        "    if rate < 1: # gradient의 norm 이 threshold보다 크다면\n",
        "        for grad in grads:\n",
        "            grad *= rate\n",
        "\n",
        "\n",
        "print('before:', dW1.flatten())\n",
        "clip_grads(grads, max_norm)\n",
        "print('after:', dW1.flatten())"
      ],
      "metadata": {
        "id": "PhG1MD5rreW_"
      },
      "execution_count": null,
      "outputs": []
    }
  ]
}