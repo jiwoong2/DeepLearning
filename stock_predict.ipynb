{
  "nbformat": 4,
  "nbformat_minor": 0,
  "metadata": {
    "colab": {
      "private_outputs": true,
      "provenance": [],
      "authorship_tag": "ABX9TyMOjPHPD4FZmm3FzE5j1ne0",
      "include_colab_link": true
    },
    "kernelspec": {
      "name": "python3",
      "display_name": "Python 3"
    },
    "language_info": {
      "name": "python"
    }
  },
  "cells": [
    {
      "cell_type": "markdown",
      "metadata": {
        "id": "view-in-github",
        "colab_type": "text"
      },
      "source": [
        "<a href=\"https://colab.research.google.com/github/jiwoong2/deeplearning/blob/main/stock_predict.ipynb\" target=\"_parent\"><img src=\"https://colab.research.google.com/assets/colab-badge.svg\" alt=\"Open In Colab\"/></a>"
      ]
    },
    {
      "cell_type": "code",
      "execution_count": null,
      "metadata": {
        "id": "wLIj-BVs0MVJ"
      },
      "outputs": [],
      "source": [
        "import pandas as pd\n",
        "from google.colab import drive\n",
        "drive.mount('/content/drive')\n",
        "import torch\n",
        "from sklearn.preprocessing import StandardScaler\n",
        "from torch import nn, optim\n",
        "import numpy as np\n",
        "from torch.utils.data import Dataset, DataLoader, random_split\n",
        "from tqdm import tqdm\n",
        "import torch.nn.functional as F"
      ]
    },
    {
      "cell_type": "code",
      "source": [
        "data = pd.read_csv('/content/drive/MyDrive/Colab Notebooks/data/Microsoft_Stock.csv')"
      ],
      "metadata": {
        "id": "OVyNrUX92cBx"
      },
      "execution_count": null,
      "outputs": []
    },
    {
      "cell_type": "code",
      "source": [
        "data.head"
      ],
      "metadata": {
        "id": "fVw1hYXQ2r49"
      },
      "execution_count": null,
      "outputs": []
    },
    {
      "cell_type": "code",
      "source": [
        "print(data.columns)"
      ],
      "metadata": {
        "id": "NkwS7G2s3AYC"
      },
      "execution_count": null,
      "outputs": []
    },
    {
      "cell_type": "code",
      "source": [
        "#날짜데이터를 누락.\n",
        "data.drop('Date', axis=1, inplace=True)"
      ],
      "metadata": {
        "id": "BHc9V_Ot7GRg"
      },
      "execution_count": null,
      "outputs": []
    },
    {
      "cell_type": "code",
      "source": [
        "data.columns"
      ],
      "metadata": {
        "id": "OsYeKhrd7RSd"
      },
      "execution_count": null,
      "outputs": []
    },
    {
      "cell_type": "code",
      "source": [
        "#data 표준화.\n",
        "scaler = StandardScaler()\n",
        "\n",
        "std_data = scaler.fit_transform(data)"
      ],
      "metadata": {
        "id": "s3Kc2RNCDLZ-"
      },
      "execution_count": null,
      "outputs": []
    },
    {
      "cell_type": "code",
      "source": [
        "std_data"
      ],
      "metadata": {
        "id": "e8Pr0KX8DoKy"
      },
      "execution_count": null,
      "outputs": []
    },
    {
      "cell_type": "code",
      "source": [
        "std_data[0,:]"
      ],
      "metadata": {
        "id": "eBGVfqmuNEyl"
      },
      "execution_count": null,
      "outputs": []
    },
    {
      "cell_type": "code",
      "source": [
        "#단기모델을학습시키기위한 데이터 생성\n",
        "#데이터는 연속한날짜 두개를 합침. 라벨은 종가를 기준으로 등락을 퍼센트로 구성.\n",
        "\n",
        "label = data['Close'].to_numpy()\n",
        "\n",
        "short_term_data = []\n",
        "short_term_label = []\n",
        "\n",
        "for i in range(len(std_data)-1):\n",
        "\n",
        "    d = np.hstack([std_data[i,:], std_data[i+1,:]])\n",
        "    p = (label[i+1]-label[i])/label[i]*100\n",
        "\n",
        "    short_term_data.append(d)\n",
        "    short_term_label.append(p)\n",
        "\n",
        "short_term_data = torch.tensor(short_term_data).float()\n",
        "short_term_label = torch.tensor(short_term_label).float()\n",
        "\n",
        "print(short_term_data.shape)\n",
        "print(short_term_label.shape)\n",
        "print(short_term_data[0])\n",
        "print(short_term_label[0])"
      ],
      "metadata": {
        "id": "JiFyGg1VMWMn"
      },
      "execution_count": null,
      "outputs": []
    },
    {
      "cell_type": "code",
      "source": [
        "#데이터로더.\n",
        "class CustomDataset(Dataset):\n",
        "    def __init__(self, data, labels):\n",
        "        self.data = data\n",
        "        self.labels = labels\n",
        "\n",
        "    def __len__(self):\n",
        "        return len(self.data)\n",
        "\n",
        "    def __getitem__(self, idx):\n",
        "        return self.data[idx], self.labels[idx]\n",
        "\n",
        "#인스턴스 생성.\n",
        "custom_dataset = CustomDataset(short_term_data, short_term_label)\n",
        "\n",
        "#데이터를 훈련 데이터와 검증 데이터, 테스트 데이터로 나누기. 파이토치데이터셋 인스턴스에 사용하면 라벨도 같이 분류됨.\n",
        "#훈련세트 80%, 테스트세트 20% 분류\n",
        "train_size = int(0.8 * len(short_term_data))\n",
        "test_size = len(short_term_data) - train_size\n",
        "\n",
        "train_dataset, test_dataset = random_split(custom_dataset, [train_size, test_size])\n",
        "\n",
        "#테스트세트를 테스트세트 10%, 검증세트 10% 분류\n",
        "test_size = int(0.5 * len(test_dataset))\n",
        "val_size = len(test_dataset) - test_size\n",
        "\n",
        "test_dataset, val_dataset = random_split(test_dataset, [test_size, val_size])\n",
        "\n",
        "# 데이터 로더 생성.\n",
        "# 데이터 로더 생성\n",
        "batch_size = 2\n",
        "train_DL = DataLoader(train_dataset, batch_size=batch_size, shuffle=True)\n",
        "val_DL = DataLoader(val_dataset, batch_size=batch_size, shuffle=True)\n",
        "test_DL = DataLoader(test_dataset, batch_size=batch_size, shuffle=True)\n",
        "\n",
        "# 데이터 로더를 통해 데이터 확인\n",
        "for features, labels in train_DL:\n",
        "    print(features)\n",
        "    print(labels)\n",
        "    break\n",
        "# train_DL.dataset[0]"
      ],
      "metadata": {
        "id": "t3O7ZgqzFsK4"
      },
      "execution_count": null,
      "outputs": []
    },
    {
      "cell_type": "code",
      "source": [
        "print(len(train_DL.dataset))\n",
        "print(len(test_DL.dataset))\n",
        "print(len(val_DL.dataset))"
      ],
      "metadata": {
        "id": "5x2ZOm75PChI"
      },
      "execution_count": null,
      "outputs": []
    },
    {
      "cell_type": "code",
      "source": [
        "#단기모델(연속2일의 data를 받아 다음날의 주가상승률 예측)의 label생성\n",
        "#주가가 지수적으로 증가하므로 증가율로 설정\n",
        "class term1_model(nn.Module):\n",
        "    def __init__(self):\n",
        "        super().__init__()\n",
        "\n",
        "        self.linear = nn.Sequential(nn.Linear(10,50), nn.ReLU(),\n",
        "                                    nn.Linear(50,50), nn.ReLU(),\n",
        "                                    nn.Linear(50,50), nn.ReLU(),\n",
        "                                    nn.Linear(50,1))\n",
        "\n",
        "    def forward(self, x):\n",
        "\n",
        "        x = self.linear(x)\n",
        "\n",
        "        return x"
      ],
      "metadata": {
        "id": "vQ44L6Ai6P9m"
      },
      "execution_count": null,
      "outputs": []
    },
    {
      "cell_type": "markdown",
      "source": [
        "MSE (Mean Squared Error):\n",
        "\n",
        "정의: 예측값과 실제값의 차이(오차)를 제곱한 값의 평균입니다.\n",
        "특징: 오차의 제곱을 사용하기 때문에 큰 오차에 더 큰 벌점을 부여합니다. 이는 모델이 큰 오차를 내는 것을 특히 피하도록 유도합니다.\n",
        "훈련에서의 사용: MSE는 그래디언트가 오차의 크기에 비례하기 때문에, 훈련 중에 큰 오차를 더 효과적으로 줄일 수 있습니다. 따라서 모델의 학습에 있어서 더 민감하고 강력한 피드백을 제공합니다.\n",
        "MAE (Mean Absolute Error):\n",
        "\n",
        "정의: 예측값과 실제값의 차이의 절대값의 평균입니다.\n",
        "특징: 오차의 절대값을 사용하기 때문에, 모든 오차에 동일한 가중치를 부여합니다. 이는 큰 오차와 작은 오차를 동일하게 다룹니다.\n",
        "성능 평가에서의 사용: MAE는 이상치에 대해 덜 민감하며, 오차의 '실제' 크기를 더 직관적으로 반영합니다. 따라서 모델의 성능을 사람이 이해하기 쉬운 방식으로 평가하는 데 유용합니다."
      ],
      "metadata": {
        "id": "PBeCfyLCRzHz"
      }
    },
    {
      "cell_type": "code",
      "source": [
        "DEVICE = \"cuda\" if torch.cuda.is_available() else \"cpu\"\n",
        "\n",
        "def loss_epoch(model, DL, optimizer=None):\n",
        "    num_samples = len(DL.dataset)\n",
        "    running_loss = 0\n",
        "    total_absolute_error = 0\n",
        "\n",
        "    for x_batch, y_batch in tqdm(DL, leave=False):\n",
        "        x_batch = x_batch.to(DEVICE)\n",
        "        y_batch = y_batch.to(DEVICE)\n",
        "\n",
        "        # 모델 예측\n",
        "        y_pred = model(x_batch)\n",
        "        y_pred = y_pred.squeeze()\n",
        "\n",
        "        # MSE 손실 계산\n",
        "        loss = F.mse_loss(y_pred, y_batch)\n",
        "\n",
        "        # 역전파와 최적화\n",
        "        if optimizer is not None:\n",
        "            optimizer.zero_grad()\n",
        "            loss.backward()\n",
        "            optimizer.step()\n",
        "\n",
        "        # 손실과 MAE 업데이트\n",
        "        running_loss += loss.item() * x_batch.size(0)\n",
        "        total_absolute_error += torch.sum(torch.abs(y_pred - y_batch)).item()\n",
        "\n",
        "    # 에포크 당 평균 손실과 MAE 계산\n",
        "    epoch_loss = running_loss / num_samples\n",
        "    epoch_mae = total_absolute_error / num_samples\n",
        "\n",
        "    return epoch_loss, epoch_mae"
      ],
      "metadata": {
        "id": "1h1rjQp7IX3g"
      },
      "execution_count": null,
      "outputs": []
    },
    {
      "cell_type": "code",
      "source": [
        "model = term1_model()\n",
        "LR = 1e-3 # -1 인경우 한번에 0또는 1만 출력하는 로컬 미니멈으로 수렴.\n",
        "optimizer = optim.Adam(model.parameters(), lr = LR)\n",
        "loss_epoch(model, train_DL, optimizer=optimizer)"
      ],
      "metadata": {
        "id": "-rdR2z6ZSIbd"
      },
      "execution_count": null,
      "outputs": []
    },
    {
      "cell_type": "code",
      "source": [
        "def Train(model, train_DL, val_DL, optimizer, EPOCH):\n",
        "\n",
        "    loss_history = {\"train\":[], \"val\":[]}\n",
        "    acc_history = {\"train\":[], \"val\":[]}\n",
        "\n",
        "    for ep in range(EPOCH):\n",
        "        epoch_start = time.time()\n",
        "\n",
        "        model.train() # train mode로 전환\n",
        "        train_loss, train_acc, _ = loss_epoch(model, train_DL, optimizer)\n",
        "        loss_history[\"train\"] += [train_loss]\n",
        "        acc_history[\"train\"] += [train_acc]\n",
        "\n",
        "        model.eval() # test mode로 전환\n",
        "        with torch.no_grad():\n",
        "            val_loss, val_acc, _ = loss_epoch(model, val_DL)\n",
        "            loss_history[\"val\"] += [val_loss]\n",
        "            acc_history[\"val\"] += [val_acc]\n",
        "\n",
        "        # print loss\n",
        "        print(f\"train loss: {round(train_loss,5)}, \"\n",
        "              f\"val loss: {round(val_loss,5)} \\n\"\n",
        "              f\"train acc: {round(train_acc,1)} %, \"\n",
        "              f\"val acc: {round(val_acc,1)} %, time: {round(time.time()-epoch_start)} s\")\n",
        "        print(\"-\"*20)\n",
        "\n",
        "    return loss_history"
      ],
      "metadata": {
        "id": "BAEfYUHQSc_5"
      },
      "execution_count": null,
      "outputs": []
    }
  ]
}