{
  "nbformat": 4,
  "nbformat_minor": 0,
  "metadata": {
    "colab": {
      "private_outputs": true,
      "provenance": [],
      "gpuType": "T4",
      "authorship_tag": "ABX9TyM0sqabXchdKUjsruNdbZbO",
      "include_colab_link": true
    },
    "kernelspec": {
      "name": "python3",
      "display_name": "Python 3"
    },
    "language_info": {
      "name": "python"
    },
    "accelerator": "GPU"
  },
  "cells": [
    {
      "cell_type": "markdown",
      "metadata": {
        "id": "view-in-github",
        "colab_type": "text"
      },
      "source": [
        "<a href=\"https://colab.research.google.com/github/jiwoong2/deeplearning/blob/main/stock_predict.ipynb\" target=\"_parent\"><img src=\"https://colab.research.google.com/assets/colab-badge.svg\" alt=\"Open In Colab\"/></a>"
      ]
    },
    {
      "cell_type": "code",
      "execution_count": null,
      "metadata": {
        "id": "wLIj-BVs0MVJ"
      },
      "outputs": [],
      "source": [
        "import pandas as pd\n",
        "from google.colab import drive\n",
        "drive.mount('/content/drive')\n",
        "import torch\n",
        "from sklearn.preprocessing import StandardScaler\n",
        "from torch import nn, optim\n",
        "import numpy as np\n",
        "from torch.utils.data import Dataset, DataLoader, random_split\n",
        "from tqdm import tqdm\n",
        "import torch.nn.functional as F\n",
        "import time\n",
        "import matplotlib.pyplot as plt\n",
        "import sys\n",
        "sys.path.append(\"/content/drive/MyDrive/Colab Notebooks\")\n",
        "from binary_train import *\n",
        "DEVICE = \"cuda\" if torch.cuda.is_available() else \"cpu\""
      ]
    },
    {
      "cell_type": "code",
      "source": [
        "data = pd.read_csv('/content/drive/MyDrive/Colab Notebooks/data/Microsoft_Stock.csv')"
      ],
      "metadata": {
        "id": "OVyNrUX92cBx"
      },
      "execution_count": null,
      "outputs": []
    },
    {
      "cell_type": "code",
      "source": [
        "# 날짜데이터를 누락.\n",
        "data.drop('Date', axis=1, inplace=True)"
      ],
      "metadata": {
        "id": "BHc9V_Ot7GRg"
      },
      "execution_count": null,
      "outputs": []
    },
    {
      "cell_type": "code",
      "source": [
        "# data 표준화.\n",
        "scaler = StandardScaler()\n",
        "\n",
        "std_data = scaler.fit_transform(data) # numpy배열로 반환됨."
      ],
      "metadata": {
        "id": "s3Kc2RNCDLZ-"
      },
      "execution_count": null,
      "outputs": []
    },
    {
      "cell_type": "code",
      "source": [
        "# term2_data\n",
        "# 연속된 2개의 data를 묶어서 다시 구성.\n",
        "term2_data = []\n",
        "term2_label = []\n",
        "\n",
        "label = data['Close'].to_numpy() # label은 마지막날종가와 다음날종가의 증가율로.\n",
        "\n",
        "for i in range(len(std_data)-2):\n",
        "\n",
        "    d = np.hstack([std_data[i,:], std_data[i+1,:]])\n",
        "    l = 1 if 0 < (label[i+2]-label[i+1]) else 0\n",
        "\n",
        "    term2_data.append(d)\n",
        "    term2_label.append(l)\n",
        "\n",
        "term2_data = torch.tensor(term2_data).float()    # double형은 모델훈련시 가중치와 data형이 맞지 않으므로\n",
        "term2_label = torch.tensor(term2_label).float()  # float형으로 변환한다.\n",
        "\n",
        "print(term2_data.shape)\n",
        "print(term2_label.shape)\n",
        "print(label[0])\n",
        "print(label[1])\n",
        "print(label[2])\n",
        "print(label[3])\n",
        "print(term2_label[0])\n",
        "print(term2_label[1])\n",
        "print(term2_label[2])"
      ],
      "metadata": {
        "id": "JiFyGg1VMWMn"
      },
      "execution_count": null,
      "outputs": []
    },
    {
      "cell_type": "code",
      "source": [
        "# 데이터셋 구성.\n",
        "class CustomDataset(Dataset):\n",
        "    def __init__(self, data, labels):\n",
        "        self.data = data\n",
        "        self.labels = labels\n",
        "\n",
        "    def __len__(self):\n",
        "        return len(self.data)\n",
        "\n",
        "    def __getitem__(self, idx):\n",
        "        return self.data[idx], self.labels[idx]\n",
        "\n",
        "# 인스턴스 생성.\n",
        "custom_dataset = CustomDataset(term2_data, term2_label)\n",
        "\n",
        "#데이터를 훈련 데이터와 검증 데이터, 테스트 데이터로 나누기. 파이토치데이터셋 인스턴스에 사용하면 라벨도 같이 분류됨.\n",
        "#훈련세트 80%, 테스트세트 20% 분류\n",
        "train_size = int(0.8 * len(term2_data))\n",
        "test_size = len(term2_data) - train_size\n",
        "\n",
        "train_dataset, test_dataset = random_split(custom_dataset, [train_size, test_size])\n",
        "\n",
        "#테스트세트를 테스트세트 10%, 검증세트 10% 분류\n",
        "test_size = int(0.5 * len(test_dataset))\n",
        "val_size = len(test_dataset) - test_size\n",
        "\n",
        "test_dataset, val_dataset = random_split(test_dataset, [test_size, val_size])\n",
        "\n",
        "# 데이터 로더 생성.\n",
        "batch_size = 4 #데이터셋이 작은데 배치사이즈가 너무크면 문제가생김. 훈련 loss,와 검증 loss 역전, loss 하락폭 감소등 확인.\n",
        "               #배치사이즈가 크면 gpu에 많은 data를 올릴 수 있어 훈련이 빨라지짐.\n",
        "train_DL = DataLoader(train_dataset, batch_size=batch_size, shuffle=True)\n",
        "val_DL = DataLoader(val_dataset, batch_size=batch_size, shuffle=True)\n",
        "test_DL = DataLoader(test_dataset, batch_size=batch_size, shuffle=True)\n",
        "\n",
        "# 데이터 로더를 통해 데이터 확인\n",
        "for features, labels in train_DL:\n",
        "    print(features)\n",
        "    print(labels)\n",
        "    break"
      ],
      "metadata": {
        "id": "t3O7ZgqzFsK4"
      },
      "execution_count": null,
      "outputs": []
    },
    {
      "cell_type": "code",
      "source": [
        "print(len(train_DL.dataset))\n",
        "print(len(test_DL.dataset))\n",
        "print(len(val_DL.dataset))"
      ],
      "metadata": {
        "id": "5x2ZOm75PChI"
      },
      "execution_count": null,
      "outputs": []
    },
    {
      "cell_type": "code",
      "source": [
        "#단기모델(연속2일의 data를 받아 다음날의 주가상승률 예측)의 label생성\n",
        "#주가가 지수적으로 증가하므로 증가율로 설정\n",
        "\n",
        "#--------------------회귀모델----------------------\n",
        "#!!!파라미터가 너무 많은 경우 over fitting이 빠르게 일어남.\n",
        "#!!!파라미터를 410까지 줄였더니 validation의 로스가 train loss를 처음부터 역전함. 데이터 누수, 과소적함, 데이터 복잡도 부족등 검토.\n",
        "#!!!파라미터 개수는 620개에서 가장 바람직한 학습패턴을 보임.\n",
        "#!!!같은 조건에서 학습해도 완전히 다른 학습양상을 보이기도함.\n",
        "# 회귀모델의 경우 훈련시 오차함수로 mse를 사용하고 측정시 mae를 사용하는게 유리. mse는 오차값을 크게 가져가기때문에 역전파시 유리.\n",
        "#!!!회귀모델은 학습이 거의 이루어지지 않는 것 같음. 분류모델로 수정 검토.\n",
        "\n",
        "#--------------------이진분류모델--------------------\n",
        "#역시 파라미터수가 너무 많으면 안됨.\n",
        "#파라미터수를 줄이니 에폭을 많이 늘릴 수 있었음.\n",
        "#커널을 이진분류모델로 훈련해도 단기특성을 학습할 수 있을까? 만약 된다면 중기, 단기모델에 이진분류모델로 훈련한 커널을 적용하고 모델은 회귀모델로 작성 가능할까?\n",
        "#파라미터수를 유지하면서 층을 늘려 비선형성을 키우면 overfitting됨...\n",
        "#------------------------------------------------------\n",
        "#너무 단기적인 주가 변동은 연관이 없을수도?\n",
        "\n",
        "class term2_model(nn.Module):\n",
        "    def __init__(self):\n",
        "        super().__init__()\n",
        "\n",
        "        self.linear = nn.Sequential(nn.Linear(10,15), nn.ReLU(),\n",
        "                                    nn.Linear(15,10), nn.ReLU(),\n",
        "                                    nn.Linear(10,1), nn.Sigmoid())\n",
        "\n",
        "    def forward(self, x):\n",
        "\n",
        "        x = self.linear(x)\n",
        "\n",
        "        return x"
      ],
      "metadata": {
        "id": "vQ44L6Ai6P9m"
      },
      "execution_count": null,
      "outputs": []
    },
    {
      "cell_type": "code",
      "source": [
        "model = term2_model().to(DEVICE)\n",
        "LR = 1e-4 # -1 인경우 한번에 0또는 1만 출력하는 로컬 미니멈으로 수렴.\n",
        "optimizer = optim.Adam(model.parameters(), lr = LR)\n",
        "EPOCH = 100"
      ],
      "metadata": {
        "id": "-rdR2z6ZSIbd"
      },
      "execution_count": null,
      "outputs": []
    },
    {
      "cell_type": "code",
      "source": [
        "loss = Train(model, train_DL, val_DL, optimizer, EPOCH)"
      ],
      "metadata": {
        "id": "-3DzYT5fl1OM"
      },
      "execution_count": null,
      "outputs": []
    },
    {
      "cell_type": "code",
      "source": [
        "plt.plot(range(1, EPOCH + 1), loss['train'], label='Train Loss')\n",
        "plt.plot(range(1, EPOCH + 1), loss['val'], label='Validation Loss')\n",
        "\n",
        "plt.xlabel('Epoch')\n",
        "plt.ylabel('loss')\n",
        "\n",
        "plt.title('Training and Validation Loss')\n",
        "plt.legend()\n",
        "\n",
        "plt.show()"
      ],
      "metadata": {
        "id": "Ht_QiedIqR2_"
      },
      "execution_count": null,
      "outputs": []
    },
    {
      "cell_type": "code",
      "source": [
        "# 지금있는 데이터셋으로는 test mae가 0.3밑으로 안내려감.\n",
        "model = model.to(DEVICE)\n",
        "Test(model, test_DL)"
      ],
      "metadata": {
        "id": "ZZPpR8nqo28S"
      },
      "execution_count": null,
      "outputs": []
    },
    {
      "cell_type": "code",
      "source": [
        "# 개별확인\n",
        "model = model.to('cpu')\n",
        "for i in range(10):\n",
        "    print(model(test_DL.dataset[i][0]))\n",
        "    print(test_DL.dataset[i][1])"
      ],
      "metadata": {
        "id": "SFvzG_Kf50C-"
      },
      "execution_count": null,
      "outputs": []
    },
    {
      "cell_type": "code",
      "source": [
        "# 훈련시킨 필터 추출.\n",
        "\n",
        "C_W1 = model.linear[0].weight\n",
        "C_B1 = model.linear[0].bias\n",
        "\n",
        "print(C_W1.shape)\n",
        "print(C_B1)"
      ],
      "metadata": {
        "id": "uNDkX8fDiO0j"
      },
      "execution_count": null,
      "outputs": []
    },
    {
      "cell_type": "code",
      "source": [
        "train_DL.dataset[:][0].shape"
      ],
      "metadata": {
        "id": "7unLbD2am6oy"
      },
      "execution_count": null,
      "outputs": []
    },
    {
      "cell_type": "code",
      "source": [
        "model.linear[0](train_DL.dataset[0][0])"
      ],
      "metadata": {
        "id": "bxMBsRajljIM"
      },
      "execution_count": null,
      "outputs": []
    },
    {
      "cell_type": "code",
      "source": [
        "n = model.linear[0](train_DL.dataset[:][0])\n",
        "n = n.detach().numpy()"
      ],
      "metadata": {
        "id": "Q5X8Pqe2nPdG"
      },
      "execution_count": null,
      "outputs": []
    },
    {
      "cell_type": "code",
      "source": [
        "# term3_data\n",
        "# 연속된 2개의 data를 묶어서 다시 구성.\n",
        "term3_data = []\n",
        "term3_label = []\n",
        "\n",
        "label = data['Close'].to_numpy() # label은 마지막날종가와 다음날종가의 증가율로.\n",
        "\n",
        "for i in range(len(n)-1):\n",
        "\n",
        "    d = np.hstack([n[i,:], n[i+1,:]])\n",
        "    l = (label[i+3]-label[i+2])/label[i+2]*100\n",
        "\n",
        "    term3_data.append(d)\n",
        "    term3_label.append(l)\n",
        "\n",
        "term3_data = torch.tensor(term3_data).float()    # double형은 모델훈련시 가중치와 data형이 맞지 않으므로\n",
        "term3_label = torch.tensor(term3_label).float()  # float형으로 변환한다.\n",
        "\n",
        "print(term3_data.shape)\n",
        "print(term3_label.shape)\n",
        "print(term3_data[0])\n",
        "print(term3_label[0])"
      ],
      "metadata": {
        "id": "-eHWiNSbn0tH"
      },
      "execution_count": null,
      "outputs": []
    }
  ]
}