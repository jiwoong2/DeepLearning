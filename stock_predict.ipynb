{
  "nbformat": 4,
  "nbformat_minor": 0,
  "metadata": {
    "colab": {
      "private_outputs": true,
      "provenance": [],
      "gpuType": "T4",
      "authorship_tag": "ABX9TyMHKD37H6lUmPcWuBfBv3a+",
      "include_colab_link": true
    },
    "kernelspec": {
      "name": "python3",
      "display_name": "Python 3"
    },
    "language_info": {
      "name": "python"
    },
    "accelerator": "GPU"
  },
  "cells": [
    {
      "cell_type": "markdown",
      "metadata": {
        "id": "view-in-github",
        "colab_type": "text"
      },
      "source": [
        "<a href=\"https://colab.research.google.com/github/jiwoong2/deeplearning/blob/main/stock_predict.ipynb\" target=\"_parent\"><img src=\"https://colab.research.google.com/assets/colab-badge.svg\" alt=\"Open In Colab\"/></a>"
      ]
    },
    {
      "cell_type": "code",
      "source": [
        "!pip install yfinance"
      ],
      "metadata": {
        "id": "hb5i7_rXVGlP"
      },
      "execution_count": null,
      "outputs": []
    },
    {
      "cell_type": "code",
      "execution_count": null,
      "metadata": {
        "id": "wLIj-BVs0MVJ"
      },
      "outputs": [],
      "source": [
        "import pandas as pd\n",
        "from google.colab import drive\n",
        "drive.mount('/content/drive')\n",
        "import torch\n",
        "from sklearn.preprocessing import StandardScaler\n",
        "from torch import nn, optim\n",
        "import numpy as np\n",
        "from torch.utils.data import Dataset, DataLoader, random_split\n",
        "from tqdm import tqdm\n",
        "import torch.nn.functional as F\n",
        "import time\n",
        "import matplotlib.pyplot as plt\n",
        "import sys\n",
        "sys.path.append(\"/content/drive/MyDrive/Colab Notebooks\")\n",
        "import yfinance as yf\n",
        "DEVICE = \"cuda\" if torch.cuda.is_available() else \"cpu\""
      ]
    },
    {
      "cell_type": "code",
      "source": [
        "apple = yf.Ticker(\"AAPL\")\n",
        "apple = apple.history(period=\"20y\")\n",
        "apple = apple.reset_index() # 인덱스 초기화"
      ],
      "metadata": {
        "id": "Q9RAzCWFVMbT"
      },
      "execution_count": null,
      "outputs": []
    },
    {
      "cell_type": "code",
      "source": [
        "# google = yf.Ticker('GOOG')\n",
        "# google = google.history(period=\"10y\")\n",
        "# google = google.reset_index() # 인덱스 초기화"
      ],
      "metadata": {
        "id": "pk1Wku3frhyP"
      },
      "execution_count": null,
      "outputs": []
    },
    {
      "cell_type": "code",
      "source": [
        "# 날짜, 배당, 분할데이터 누락\n",
        "apple.drop(['Date','Dividends','Stock Splits'], axis=1, inplace=True)\n",
        "# google.drop(['Date','Dividends','Stock Splits'], axis=1, inplace=True)"
      ],
      "metadata": {
        "id": "BHc9V_Ot7GRg"
      },
      "execution_count": null,
      "outputs": []
    },
    {
      "cell_type": "code",
      "source": [
        "# 데이터 프레임을 넘파이배열로 변환\n",
        "apple = apple.to_numpy()\n",
        "# google = google.to_numpy()\n",
        "apple.shape"
      ],
      "metadata": {
        "id": "xhWcvCprEHBY"
      },
      "execution_count": null,
      "outputs": []
    },
    {
      "cell_type": "code",
      "source": [
        "# data 생성기. 랜던한날짜로부터 한달(20일)치 data를 인덱싱하고 다음한주간의 종가변화율을 라벨로하는 데이터 생성.\n",
        "#              Size는 data 갯수.\n",
        "def data_gen(Size:int, data):\n",
        "\n",
        "    s = np.random.choice(range(0, len(data)-71), size=Size, replace=False)\n",
        "    s = np.array(s)\n",
        "\n",
        "    short_term_data = []\n",
        "    short_term_label = []\n",
        "\n",
        "    for i in s:\n",
        "        s_data = data[i:i+20, :]\n",
        "        short_term_data.append(s_data)\n",
        "\n",
        "        label = (data[i+26,2] - data[i+21,2]) / data[i+21,2] * 100\n",
        "\n",
        "        if label >= 10:\n",
        "            short_term_label.append(3)\n",
        "\n",
        "        elif 0 <= label < 10:\n",
        "            short_term_label.append(2)\n",
        "\n",
        "        elif -10 < label < 0:\n",
        "            short_term_label.append(1)\n",
        "\n",
        "        elif label <= -10:\n",
        "            short_term_label.append(0)\n",
        "\n",
        "    short_term_data = np.array(short_term_data).astype(np.float32)\n",
        "    short_term_label = np.array(short_term_label)\n",
        "\n",
        "    return short_term_data, short_term_label"
      ],
      "metadata": {
        "id": "Zb-At_fBEFmK"
      },
      "execution_count": null,
      "outputs": []
    },
    {
      "cell_type": "code",
      "source": [
        "apple_data, apple_label = data_gen(4000,apple)\n",
        "# google_data, google_label = data_gen(2200,google)\n",
        "apple_data.shape"
      ],
      "metadata": {
        "id": "azVdcjUhsiR0"
      },
      "execution_count": null,
      "outputs": []
    },
    {
      "cell_type": "code",
      "source": [
        "# data = np.vstack((apple_data, google_data))\n",
        "# data.shape"
      ],
      "metadata": {
        "id": "z4WBv22nvL8Y"
      },
      "execution_count": null,
      "outputs": []
    },
    {
      "cell_type": "code",
      "source": [
        "# label = np.hstack((apple_label, google_label))\n",
        "# label.shape"
      ],
      "metadata": {
        "id": "QCefre9Eu892"
      },
      "execution_count": null,
      "outputs": []
    },
    {
      "cell_type": "code",
      "source": [
        "# 데이터 표준화. 주가데이터는 지수적으로 증가하므로 각 샘플마다 따로 표준화함.\n",
        "for sample in range(apple_data.shape[0]):\n",
        "    scaler = StandardScaler()\n",
        "    std = scaler.fit_transform(apple_data[sample,:,:])\n",
        "    apple_data[sample,:,:] = std"
      ],
      "metadata": {
        "id": "2e-XOumZJXOa"
      },
      "execution_count": null,
      "outputs": []
    },
    {
      "cell_type": "code",
      "source": [
        "# # 2차원 데이터 표준화 예시. 기본적으로 열을 기준으로 표준화한다.\n",
        "# test_data = np.array([[1, 4, 2], [4, 10, 6], [7, 16, 9]])\n",
        "\n",
        "# # StandardScaler 초기화 및 적용\n",
        "# scaler = StandardScaler()\n",
        "# test_std_data = scaler.fit_transform(test_data)\n",
        "\n",
        "# test_std_data"
      ],
      "metadata": {
        "id": "G1WNOaouI7-m"
      },
      "execution_count": null,
      "outputs": []
    },
    {
      "cell_type": "code",
      "source": [
        "# 데이터셋 구성.\n",
        "class CustomDataset(Dataset):\n",
        "    def __init__(self, data, labels):\n",
        "        self.data = data\n",
        "        self.labels = labels\n",
        "\n",
        "    def __len__(self):\n",
        "        return len(self.data)\n",
        "\n",
        "    def __getitem__(self, idx):\n",
        "        return self.data[idx], self.labels[idx]\n",
        "\n",
        "# 인스턴스 생성.\n",
        "custom_dataset = CustomDataset(apple_data, apple_label)\n",
        "\n",
        "#데이터를 훈련 데이터와 검증 데이터, 테스트 데이터로 나누기. 파이토치데이터셋 인스턴스에 사용하면 라벨도 같이 분류됨.\n",
        "#훈련세트 80%, 테스트세트 20% 분류\n",
        "train_size = int(0.8 * len(apple_data))\n",
        "test_size = len(apple_data) - train_size\n",
        "\n",
        "train_dataset, test_dataset = random_split(custom_dataset, [train_size, test_size])\n",
        "\n",
        "#테스트세트를 테스트세트 10%, 검증세트 10% 분류\n",
        "test_size = int(0.5 * len(test_dataset))\n",
        "val_size = len(test_dataset) - test_size\n",
        "\n",
        "test_dataset, val_dataset = random_split(test_dataset, [test_size, val_size])\n",
        "\n",
        "# 데이터 로더 생성.\n",
        "batch_size = 20 #데이터셋이 작은데 배치사이즈가 너무크면 문제가생김. 훈련 loss,와 검증 loss 역전, loss 하락폭 감소등 확인.\n",
        "               #배치사이즈가 크면 gpu에 많은 data를 올릴 수 있어 훈련이 빨라지짐.\n",
        "               #배치사이즈가 굉장히 중요한 역할을 하는듯. 이유를 알아보자.\n",
        "train_DL = DataLoader(train_dataset, batch_size=batch_size, shuffle=True)\n",
        "val_DL = DataLoader(val_dataset, batch_size=batch_size, shuffle=True)\n",
        "test_DL = DataLoader(test_dataset, batch_size=batch_size, shuffle=True)\n",
        "\n",
        "# 데이터 로더를 통해 데이터 확인\n",
        "for features, labels in train_DL:\n",
        "    print(features.shape)\n",
        "    print(labels)\n",
        "    break"
      ],
      "metadata": {
        "id": "t3O7ZgqzFsK4"
      },
      "execution_count": null,
      "outputs": []
    },
    {
      "cell_type": "code",
      "source": [
        "print(len(train_DL.dataset))\n",
        "print(len(test_DL.dataset))\n",
        "print(len(val_DL.dataset))"
      ],
      "metadata": {
        "id": "5x2ZOm75PChI"
      },
      "execution_count": null,
      "outputs": []
    },
    {
      "cell_type": "code",
      "source": [
        "#단기모델(연속2일의 data를 받아 다음날의 주가상승률 예측)의 label생성\n",
        "#주가가 지수적으로 증가하므로 증가율로 설정\n",
        "\n",
        "#--------------------회귀모델----------------------\n",
        "#!!!파라미터가 너무 많은 경우 over fitting이 빠르게 일어남.\n",
        "#!!!파라미터를 410까지 줄였더니 validation의 로스가 train loss를 처음부터 역전함. 데이터 누수, 과소적함, 데이터 복잡도 부족등 검토.\n",
        "#!!!파라미터 개수는 620개에서 가장 바람직한 학습패턴을 보임.\n",
        "#!!!같은 조건에서 학습해도 완전히 다른 학습양상을 보이기도함.\n",
        "# 회귀모델의 경우 훈련시 오차함수로 mse를 사용하고 측정시 mae를 사용하는게 유리. mse는 오차값을 크게 가져가기때문에 역전파시 유리.\n",
        "#!!!회귀모델은 학습이 거의 이루어지지 않는 것 같음. 분류모델로 수정 검토.\n",
        "\n",
        "#--------------------이진분류모델--------------------\n",
        "#역시 파라미터수가 너무 많으면 안됨.\n",
        "#파라미터수를 줄이니 에폭을 많이 늘릴 수 있었음.\n",
        "#커널을 이진분류모델로 훈련해도 단기특성을 학습할 수 있을까? 만약 된다면 중기, 단기모델에 이진분류모델로 훈련한 커널을 적용하고 모델은 회귀모델로 작성 가능할까?\n",
        "#파라미터수를 유지하면서 층을 늘려 비선형성을 키우면 overfitting됨...\n",
        "#------------------------------------------------------\n",
        "#너무 단기적인 주가 변동은 연관이 없을수도? rnn, lstm을 사용해보자. 단일 커널의 학습을 포기하고, 3개월이나 6개월단위의 모델을 만들거나, 로스를 여러번 받아 학습하는 방법을 생각해봐야할듯.\n",
        "\n",
        "class ShortTermModel(nn.Module):\n",
        "    def __init__(self):\n",
        "        super().__init__()\n",
        "\n",
        "        self.conv1 = nn.Sequential(nn.Conv2d(1, 20, 5, stride=1),\n",
        "                                   nn.BatchNorm2d(20),\n",
        "                                   nn.GELU())\n",
        "\n",
        "        self.conv2 = nn.Sequential(nn.Conv2d(1, 40, kernel_size=(20, 5), stride=1),\n",
        "                                   nn.BatchNorm2d(40),\n",
        "                                   nn.GELU())\n",
        "\n",
        "        self.conv3 = nn.Sequential(nn.Conv2d(1, 80, kernel_size=(40, 5), stride=1),\n",
        "                                   nn.BatchNorm2d(80),\n",
        "                                   nn.GELU())\n",
        "\n",
        "        self.conv4 = nn.Sequential(nn.Conv2d(1, 160, kernel_size=(80, 5), stride=1),\n",
        "                                   nn.BatchNorm2d(160),\n",
        "                                   nn.GELU())\n",
        "\n",
        "        self.linear = nn.Sequential(nn.Linear(640,100), nn.GELU(),\n",
        "                                    nn.Linear(100,4))\n",
        "\n",
        "    def forward(self, x):\n",
        "\n",
        "        x = x.permute(0,2,1)\n",
        "        x = x.unsqueeze(1)\n",
        "        x = self.conv1(x)\n",
        "        x = x.squeeze().unsqueeze(1)\n",
        "        x = self.conv2(x)\n",
        "        x = x.squeeze().unsqueeze(1)\n",
        "        x = self.conv3(x)\n",
        "        x = x.squeeze().unsqueeze(1)\n",
        "        x = self.conv4(x)\n",
        "        x = x.squeeze().unsqueeze(1)\n",
        "        x = torch.flatten(x, start_dim=1)\n",
        "        x = self.linear(x)\n",
        "\n",
        "        return x"
      ],
      "metadata": {
        "id": "vQ44L6Ai6P9m"
      },
      "execution_count": null,
      "outputs": []
    },
    {
      "cell_type": "code",
      "source": [
        "for i in train_DL:\n",
        "    test_data = i[0]\n",
        "    break\n",
        "\n",
        "test_data.shape"
      ],
      "metadata": {
        "id": "UZF3LwecfsnS"
      },
      "execution_count": null,
      "outputs": []
    },
    {
      "cell_type": "code",
      "source": [
        "model = ShortTermModel()\n",
        "a = model(test_data)\n",
        "print(a.shape)\n",
        "print(a)"
      ],
      "metadata": {
        "id": "AZ5nPkea1fZ5"
      },
      "execution_count": null,
      "outputs": []
    },
    {
      "cell_type": "code",
      "source": [
        "model = ShortTermModel().to(DEVICE)\n",
        "criterion = nn.CrossEntropyLoss()\n",
        "LR = 2e-6 # -1 인경우 한번에 0또는 1만 출력하는 로컬 미니멈으로 수렴.\n",
        "optimizer = optim.Adam(model.parameters(), lr = LR)\n",
        "EPOCH = 60"
      ],
      "metadata": {
        "id": "-rdR2z6ZSIbd"
      },
      "execution_count": null,
      "outputs": []
    },
    {
      "cell_type": "code",
      "source": [
        "def loss_epoch(model, DL, criterion, optimizer = None):\n",
        "\n",
        "    N = len(DL.dataset) # the number of data\n",
        "    rloss = 0; rcorrect = 0\n",
        "\n",
        "    for x_batch, y_batch in DL:\n",
        "\n",
        "        x_batch = x_batch.to(DEVICE)\n",
        "        y_batch = y_batch.to(DEVICE)\n",
        "\n",
        "        # inference\n",
        "        y_hat = model(x_batch)\n",
        "\n",
        "        # loss\n",
        "        loss = criterion(y_hat,y_batch)\n",
        "\n",
        "        # update\n",
        "        if optimizer is not None:\n",
        "            optimizer.zero_grad() # gradient 누적을 막기 위한 초기화\n",
        "            loss.backward() # backpropagation\n",
        "            optimizer.step() # weight update\n",
        "\n",
        "        # loss accumulation\n",
        "        loss_b = loss.item() * x_batch.shape[0] # batch loss # BATCH_SIZE를 곱하면 마지막 18개도 32개를 곱하니까..\n",
        "        rloss += loss_b # running loss\n",
        "        # accuracy accumulation\n",
        "        pred = y_hat.argmax(dim=1)\n",
        "        corrects_b = torch.sum(pred == y_batch).item()\n",
        "        rcorrect += corrects_b\n",
        "\n",
        "    loss_e = rloss/ N # epoch loss\n",
        "    accuracy_e = rcorrect/N*100\n",
        "\n",
        "    return loss_e, accuracy_e, rcorrect"
      ],
      "metadata": {
        "id": "w2glipKklV7S"
      },
      "execution_count": null,
      "outputs": []
    },
    {
      "cell_type": "code",
      "source": [
        "# loss_epoch(model, val_DL, criterion, optimizer = optimizer)"
      ],
      "metadata": {
        "id": "mKt1kTO3lYih"
      },
      "execution_count": null,
      "outputs": []
    },
    {
      "cell_type": "code",
      "source": [
        "def Train(model, train_DL, val_DL, criterion, optimizer, EPOCH):\n",
        "\n",
        "    loss_history = {\"train\":[], \"val\":[]}\n",
        "    acc_history = {\"train\":[], \"val\":[]}\n",
        "\n",
        "    for ep in tqdm(range(EPOCH), leave=False):\n",
        "\n",
        "        model.train() # train mode로 전환\n",
        "        train_loss, train_acc, _ = loss_epoch(model, train_DL, criterion, optimizer)\n",
        "        loss_history[\"train\"] += [train_loss]\n",
        "        acc_history[\"train\"] += [train_acc]\n",
        "\n",
        "        model.eval() # test mode로 전환\n",
        "        with torch.no_grad():\n",
        "            val_loss, val_acc, _ = loss_epoch(model, val_DL, criterion)\n",
        "            loss_history[\"val\"] += [val_loss]\n",
        "            acc_history[\"val\"] += [val_acc]\n",
        "\n",
        "        # # print loss\n",
        "        # print(f\"train loss: {round(train_loss,5)}, \"\n",
        "        #       f\"val loss: {round(val_loss,5)} \\n\"\n",
        "        #       f\"train acc: {round(train_acc,1)} %, \"\n",
        "        #       f\"val acc: {round(val_acc,1)} %, time: {round(time.time()-epoch_start)} s\")\n",
        "        # print(\"-\"*20)\n",
        "\n",
        "    return loss_history, acc_history"
      ],
      "metadata": {
        "id": "qQXwk4RXvnXL"
      },
      "execution_count": null,
      "outputs": []
    },
    {
      "cell_type": "code",
      "source": [
        "loss, acc = Train(model, train_DL, val_DL, criterion, optimizer, EPOCH)"
      ],
      "metadata": {
        "id": "spoEFCZdweVB"
      },
      "execution_count": null,
      "outputs": []
    },
    {
      "cell_type": "code",
      "source": [
        "plt.plot(range(1, EPOCH + 1), loss['train'], label='Train Loss')\n",
        "plt.plot(range(1, EPOCH + 1), loss['val'], label='Validation Loss')\n",
        "\n",
        "plt.xlabel('Epoch')\n",
        "plt.ylabel('loss')\n",
        "\n",
        "plt.title('Training and Validation Loss')\n",
        "plt.legend()\n",
        "\n",
        "plt.show()"
      ],
      "metadata": {
        "id": "Ht_QiedIqR2_"
      },
      "execution_count": null,
      "outputs": []
    },
    {
      "cell_type": "code",
      "source": [
        "plt.plot(range(1, EPOCH + 1), acc['train'], label='Train acc')\n",
        "plt.plot(range(1, EPOCH + 1), acc['val'], label='Validation acc')\n",
        "\n",
        "plt.xlabel('Epoch')\n",
        "plt.ylabel('acc')\n",
        "\n",
        "plt.title('Training and Validation acc')\n",
        "plt.legend()\n",
        "\n",
        "plt.show()"
      ],
      "metadata": {
        "id": "D_Ut-rEcx2Zt"
      },
      "execution_count": null,
      "outputs": []
    },
    {
      "cell_type": "code",
      "source": [
        "def Test(model, test_DL, criterion):\n",
        "    model.eval()\n",
        "    with torch.no_grad():\n",
        "        test_loss, test_acc, rcorrect = loss_epoch(model, test_DL, criterion)\n",
        "    print()\n",
        "    print(f\"Test loss: {round(test_loss,5)}\")\n",
        "    print(f\"Test accuracy: {rcorrect}/{len(test_DL.dataset)} ({round(test_acc,1)} %)\")\n",
        "    return round(test_acc,1)"
      ],
      "metadata": {
        "id": "2pEjDz0fMHhf"
      },
      "execution_count": null,
      "outputs": []
    },
    {
      "cell_type": "code",
      "source": [
        "Test(model, test_DL, criterion)"
      ],
      "metadata": {
        "id": "6TXUwvrPMHFW"
      },
      "execution_count": null,
      "outputs": []
    },
    {
      "cell_type": "markdown",
      "source": [
        "# mid term model"
      ],
      "metadata": {
        "id": "xaRiwXmN2iQ7"
      }
    },
    {
      "cell_type": "code",
      "source": [
        "# data 생성기. 랜던한날짜로부터 한달(40일)치 data를 인덱싱하고 다음한주간의 종가변화율을 라벨로하는 데이터 생성.\n",
        "#              Size는 data 갯수.\n",
        "def data_gen(Size:int, data, interval):\n",
        "\n",
        "    s = np.random.choice(range(0, len(data)-interval-6), size=Size, replace=False)\n",
        "    s = np.array(s)\n",
        "\n",
        "    g_data = []\n",
        "    g_label = []\n",
        "\n",
        "    for i in s:\n",
        "        gs_data = data[i:i+interval, :]\n",
        "        g_data.append(gs_data)\n",
        "\n",
        "        label = (data[i+interval+6,2] - data[i+interval+1,2]) / data[i+interval+1,2] * 100\n",
        "\n",
        "        if label >= 10:\n",
        "            g_label.append(3)\n",
        "\n",
        "        elif 0 <= label < 10:\n",
        "            g_label.append(2)\n",
        "\n",
        "        elif -10 < label < 0:\n",
        "            g_label.append(1)\n",
        "\n",
        "        elif label <= -10:\n",
        "            g_label.append(0)\n",
        "\n",
        "    g_data = np.array(g_data).astype(np.float32)\n",
        "    g_label = np.array(g_label)\n",
        "\n",
        "    return g_data, g_label"
      ],
      "metadata": {
        "id": "wDFC0HDIykjM"
      },
      "execution_count": null,
      "outputs": []
    },
    {
      "cell_type": "code",
      "source": [
        "m_data, m_label = data_gen(4000, apple, 40)"
      ],
      "metadata": {
        "id": "IcQgos6Pz9Fz"
      },
      "execution_count": null,
      "outputs": []
    },
    {
      "cell_type": "code",
      "source": [
        "m_data.shape"
      ],
      "metadata": {
        "id": "ZWjP8A8a2bbI"
      },
      "execution_count": null,
      "outputs": []
    },
    {
      "cell_type": "code",
      "source": [
        "for sample in range(m_data.shape[0]):\n",
        "    scaler = StandardScaler()\n",
        "    std = scaler.fit_transform(m_data[sample,:,:])\n",
        "    m_data[sample,:,:] = std"
      ],
      "metadata": {
        "id": "OJGtJSsb2hB8"
      },
      "execution_count": null,
      "outputs": []
    },
    {
      "cell_type": "code",
      "source": [
        "# 데이터셋 구성.\n",
        "class CustomDataset(Dataset):\n",
        "    def __init__(self, data, labels):\n",
        "        self.data = data\n",
        "        self.labels = labels\n",
        "\n",
        "    def __len__(self):\n",
        "        return len(self.data)\n",
        "\n",
        "    def __getitem__(self, idx):\n",
        "        return self.data[idx], self.labels[idx]\n",
        "\n",
        "# 인스턴스 생성.\n",
        "custom_dataset = CustomDataset(m_data, m_label)\n",
        "\n",
        "#데이터를 훈련 데이터와 검증 데이터, 테스트 데이터로 나누기. 파이토치데이터셋 인스턴스에 사용하면 라벨도 같이 분류됨.\n",
        "#훈련세트 80%, 테스트세트 20% 분류\n",
        "train_size = int(0.8 * len(apple_data))\n",
        "test_size = len(apple_data) - train_size\n",
        "\n",
        "train_dataset, test_dataset = random_split(custom_dataset, [train_size, test_size])\n",
        "\n",
        "#테스트세트를 테스트세트 10%, 검증세트 10% 분류\n",
        "test_size = int(0.5 * len(test_dataset))\n",
        "val_size = len(test_dataset) - test_size\n",
        "\n",
        "test_dataset, val_dataset = random_split(test_dataset, [test_size, val_size])\n",
        "\n",
        "# 데이터 로더 생성.\n",
        "batch_size = 20 #데이터셋이 작은데 배치사이즈가 너무크면 문제가생김. 훈련 loss,와 검증 loss 역전, loss 하락폭 감소등 확인.\n",
        "               #배치사이즈가 크면 gpu에 많은 data를 올릴 수 있어 훈련이 빨라지짐.\n",
        "               #배치사이즈가 굉장히 중요한 역할을 하는듯. 이유를 알아보자.\n",
        "train_DL = DataLoader(train_dataset, batch_size=batch_size, shuffle=True)\n",
        "val_DL = DataLoader(val_dataset, batch_size=batch_size, shuffle=True)\n",
        "test_DL = DataLoader(test_dataset, batch_size=batch_size, shuffle=True)\n",
        "\n",
        "# 데이터 로더를 통해 데이터 확인\n",
        "for features, labels in train_DL:\n",
        "    print(features.shape)\n",
        "    print(labels)\n",
        "    break"
      ],
      "metadata": {
        "id": "L8-QH3S_2u3E"
      },
      "execution_count": null,
      "outputs": []
    },
    {
      "cell_type": "code",
      "source": [
        "class MidTermModel(nn.Module):\n",
        "    def __init__(self):\n",
        "        super().__init__()\n",
        "\n",
        "        self.conv1 = nn.Sequential(nn.Conv2d(1, 20, 5, stride=2),\n",
        "                                   nn.BatchNorm2d(20),\n",
        "                                   nn.GELU())\n",
        "\n",
        "        self.conv2 = nn.Sequential(nn.Conv2d(1, 40, kernel_size=(20, 5), stride=1),\n",
        "                                   nn.BatchNorm2d(40),\n",
        "                                   nn.GELU())\n",
        "\n",
        "        self.conv3 = nn.Sequential(nn.Conv2d(1, 80, kernel_size=(40, 5), stride=1),\n",
        "                                   nn.BatchNorm2d(80),\n",
        "                                   nn.GELU())\n",
        "\n",
        "        self.conv4 = nn.Sequential(nn.Conv2d(1, 160, kernel_size=(80, 5), stride=1),\n",
        "                                   nn.BatchNorm2d(160),\n",
        "                                   nn.GELU())\n",
        "\n",
        "        self.conv5 = nn.Sequential(nn.Conv2d(1, 320, kernel_size=(160, 5), stride=1),\n",
        "                                   nn.BatchNorm2d(320),\n",
        "                                   nn.GELU())\n",
        "\n",
        "        self.linear = nn.Sequential(nn.Linear(640,300), nn.GELU(),\n",
        "                                    nn.Linear(300,100), nn.GELU(),\n",
        "                                    nn.Linear(100,4))\n",
        "\n",
        "    def forward(self, x):\n",
        "\n",
        "        x = x.permute(0,2,1)\n",
        "        x = x.unsqueeze(1)\n",
        "        x = self.conv1(x)\n",
        "        x = x.squeeze().unsqueeze(1)\n",
        "        x = self.conv2(x)\n",
        "        x = x.squeeze().unsqueeze(1)\n",
        "        x = self.conv3(x)\n",
        "        x = x.squeeze().unsqueeze(1)\n",
        "        x = self.conv4(x)\n",
        "        x = x.squeeze().unsqueeze(1)\n",
        "        x = self.conv5(x)\n",
        "        x = x.squeeze().unsqueeze(1)\n",
        "        x = torch.flatten(x, start_dim=1)\n",
        "        x = self.linear(x)\n",
        "\n",
        "        return x"
      ],
      "metadata": {
        "id": "EQPnaby33KiO"
      },
      "execution_count": null,
      "outputs": []
    },
    {
      "cell_type": "code",
      "source": [
        "for i in train_DL:\n",
        "    test_data = i[0]\n",
        "    test_label = i[1]\n",
        "    break\n",
        "\n",
        "test_data.shape\n",
        "\n",
        "model = MidTermModel()\n",
        "a = model(test_data)\n",
        "print(a.shape)\n",
        "print(a)\n",
        "print(test_label)"
      ],
      "metadata": {
        "id": "4lozjuFF3G91"
      },
      "execution_count": null,
      "outputs": []
    },
    {
      "cell_type": "code",
      "source": [
        "model = MidTermModel().to(DEVICE)\n",
        "criterion = nn.CrossEntropyLoss()\n",
        "LR = 1e-6 # -1 인경우 한번에 0또는 1만 출력하는 로컬 미니멈으로 수렴.\n",
        "optimizer = optim.Adam(model.parameters(), lr = LR)\n",
        "EPOCH = 60"
      ],
      "metadata": {
        "id": "tbTxOnSN4_dX"
      },
      "execution_count": null,
      "outputs": []
    },
    {
      "cell_type": "code",
      "source": [
        "loss, acc = Train(model, train_DL, val_DL, criterion, optimizer, EPOCH)"
      ],
      "metadata": {
        "id": "eEgN42PO3ZIb"
      },
      "execution_count": null,
      "outputs": []
    },
    {
      "cell_type": "code",
      "source": [
        "plt.plot(range(1, EPOCH + 1), loss['train'], label='Train Loss')\n",
        "plt.plot(range(1, EPOCH + 1), loss['val'], label='Validation Loss')\n",
        "\n",
        "plt.xlabel('Epoch')\n",
        "plt.ylabel('loss')\n",
        "\n",
        "plt.title('Training and Validation Loss')\n",
        "plt.legend()\n",
        "\n",
        "plt.show()"
      ],
      "metadata": {
        "id": "0Gd7GBQm4k2S"
      },
      "execution_count": null,
      "outputs": []
    },
    {
      "cell_type": "code",
      "source": [
        "plt.plot(range(1, EPOCH + 1), acc['train'], label='Train acc')\n",
        "plt.plot(range(1, EPOCH + 1), acc['val'], label='Validation acc')\n",
        "\n",
        "plt.xlabel('Epoch')\n",
        "plt.ylabel('acc')\n",
        "\n",
        "plt.title('Training and Validation acc')\n",
        "plt.legend()\n",
        "\n",
        "plt.show()"
      ],
      "metadata": {
        "id": "a2wnEwTg4ldC"
      },
      "execution_count": null,
      "outputs": []
    },
    {
      "cell_type": "code",
      "source": [
        "Test(model, test_DL, criterion)"
      ],
      "metadata": {
        "id": "XcBMcsVF4pVp"
      },
      "execution_count": null,
      "outputs": []
    },
    {
      "cell_type": "code",
      "source": [
        "def loss_epoch(model, DL, criterion, optimizer = None):\n",
        "\n",
        "    N = len(DL.dataset) # the number of data\n",
        "    rloss = 0; rcorrect = 0\n",
        "\n",
        "    for x_batch, y_batch in DL:\n",
        "\n",
        "        x_batch = x_batch.to(DEVICE)\n",
        "        y_batch = y_batch.to(DEVICE)\n",
        "\n",
        "        # inference\n",
        "        y_hat = model(x_batch)\n",
        "\n",
        "        # loss\n",
        "        loss = criterion(y_hat,y_batch)\n",
        "\n",
        "        # update\n",
        "        if optimizer is not None:\n",
        "            optimizer.zero_grad() # gradient 누적을 막기 위한 초기화\n",
        "            loss.backward() # backpropagation\n",
        "            optimizer.step() # weight update\n",
        "\n",
        "        # loss accumulation\n",
        "        loss_b = loss.item() * x_batch.shape[0] # batch loss # BATCH_SIZE를 곱하면 마지막 18개도 32개를 곱하니까..\n",
        "        rloss += loss_b # running loss\n",
        "        # accuracy accumulation\n",
        "        pred = y_hat.argmax(dim=1)\n",
        "        corrects_b = torch.sum(pred == y_batch).item()\n",
        "        rcorrect += corrects_b\n",
        "\n",
        "    loss_e = rloss/ N # epoch loss\n",
        "    accuracy_e = rcorrect/N*100\n",
        "\n",
        "    return loss_e, accuracy_e, rcorrect"
      ],
      "metadata": {
        "id": "Rol99dCW5WHj"
      },
      "execution_count": null,
      "outputs": []
    }
  ]
}