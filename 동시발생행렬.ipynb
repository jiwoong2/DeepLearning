{
  "nbformat": 4,
  "nbformat_minor": 0,
  "metadata": {
    "colab": {
      "private_outputs": true,
      "provenance": [],
      "authorship_tag": "ABX9TyM5twjSgI+c8kaTi/qZVqVC",
      "include_colab_link": true
    },
    "kernelspec": {
      "name": "python3",
      "display_name": "Python 3"
    },
    "language_info": {
      "name": "python"
    }
  },
  "cells": [
    {
      "cell_type": "markdown",
      "metadata": {
        "id": "view-in-github",
        "colab_type": "text"
      },
      "source": [
        "<a href=\"https://colab.research.google.com/github/jiwoong2/deeplearning/blob/main/%EB%8F%99%EC%8B%9C%EB%B0%9C%EC%83%9D%ED%96%89%EB%A0%AC.ipynb\" target=\"_parent\"><img src=\"https://colab.research.google.com/assets/colab-badge.svg\" alt=\"Open In Colab\"/></a>"
      ]
    },
    {
      "cell_type": "code",
      "source": [
        "import numpy as np"
      ],
      "metadata": {
        "id": "aDuEEU8amE4B"
      },
      "execution_count": null,
      "outputs": []
    },
    {
      "cell_type": "code",
      "source": [
        "text = 'You say goodbye and I say hello.'"
      ],
      "metadata": {
        "id": "MveLpLfdinKG"
      },
      "execution_count": null,
      "outputs": []
    },
    {
      "cell_type": "code",
      "execution_count": null,
      "metadata": {
        "id": "X77zVnyTiO-O"
      },
      "outputs": [],
      "source": [
        "# 희소행렬. 말뭉치에 등장하는 순서대로 단어를 원-핫 인코딩 한다.\n",
        "\n",
        "def preprocess(text):\n",
        "    text = text.lower() # 소문자 변환\n",
        "    text = text.replace('.', ' .') # 특정 단어 대체\n",
        "    words = text.split(' ') # 띄어쓰기로 문장을 분리. 리스트로 반환\n",
        "\n",
        "    word_to_id = {}\n",
        "    id_to_word = {}\n",
        "\n",
        "    for word in words:\n",
        "        if word not in word_to_id:\n",
        "            new_id = len(word_to_id)\n",
        "            word_to_id[word] = new_id\n",
        "            id_to_word[new_id] = word\n",
        "\n",
        "    corpus = np.array([word_to_id[w] for w in words])\n",
        "\n",
        "    return corpus, word_to_id, id_to_word"
      ]
    },
    {
      "cell_type": "code",
      "source": [
        "preprocess(text)"
      ],
      "metadata": {
        "id": "pjgGBHTemDxd"
      },
      "execution_count": null,
      "outputs": []
    },
    {
      "cell_type": "code",
      "source": [
        "# 동시 발생 행렬. 분포 가셀에 따라 주변에 등장하는 단어를 벡터에 반영한다.\n",
        "\n",
        "def creat_co_matrix(corpus, vocab_size, window_size=1): # vocab_size 는 단어의 개수이다.\n",
        "    corpus_size = len(corpus)\n",
        "    co_matrix = np.zeros((vocab_size, vocab_size), dtype=np.int32)\n",
        "\n",
        "    for idx, word_id in enumerate(corpus): # 인덱스와 원소를 묶어서 반환.\n",
        "        for i in range(1, window_size + 1):\n",
        "            left_idx = idx - i\n",
        "            right_idx = idx + i\n",
        "\n",
        "            if left_idx >= 0:\n",
        "                left_word_id = corpus[left_idx]\n",
        "                co_matrix[word_id, left_word_id] += 1\n",
        "\n",
        "            if right_idx < corpus_size:\n",
        "                right_word_id = corpus[right_idx]\n",
        "                co_matrix[word_id, right_word_id] += 1\n",
        "\n",
        "    return co_matrix"
      ],
      "metadata": {
        "id": "TctF_5yMnQNJ"
      },
      "execution_count": null,
      "outputs": []
    }
  ]
}