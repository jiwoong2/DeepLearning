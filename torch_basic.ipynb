{
  "nbformat": 4,
  "nbformat_minor": 0,
  "metadata": {
    "colab": {
      "provenance": [],
      "include_colab_link": true
    },
    "kernelspec": {
      "name": "python3",
      "display_name": "Python 3"
    },
    "language_info": {
      "name": "python"
    }
  },
  "cells": [
    {
      "cell_type": "markdown",
      "metadata": {
        "id": "view-in-github",
        "colab_type": "text"
      },
      "source": [
        "<a href=\"https://colab.research.google.com/github/jiwoong2/deeplearning/blob/main/torch_basic.ipynb\" target=\"_parent\"><img src=\"https://colab.research.google.com/assets/colab-badge.svg\" alt=\"Open In Colab\"/></a>"
      ]
    },
    {
      "cell_type": "markdown",
      "source": [
        "## numpy와 닮은 파이토치 (pytorch)"
      ],
      "metadata": {
        "id": "RzMsP9hsc36l"
      }
    },
    {
      "cell_type": "code",
      "source": [
        "import torch\n",
        "# a=torch.tensor([1,2,3,4])\n",
        "a = torch.tensor([1, 2, 3, 4])\n",
        "print(a)\n",
        "# print(type(a))\n",
        "print(type(a))\n",
        "print(a.dtype) # data type\n",
        "print(a.shape)\n",
        "b=torch.tensor([1,2, 3.1   , 4])\n",
        "print(b.dtype) # 하나라도 실수면 자동으로 실수 타입으로\n",
        "print(b)"
      ],
      "metadata": {
        "id": "SAmMX78Lc3Iy",
        "colab": {
          "base_uri": "https://localhost:8080/"
        },
        "outputId": "e36a3735-0a6f-4e76-942e-ad3e3d5f9178"
      },
      "execution_count": 1,
      "outputs": [
        {
          "output_type": "stream",
          "name": "stdout",
          "text": [
            "tensor([1, 2, 3, 4])\n",
            "<class 'torch.Tensor'>\n",
            "torch.int64\n",
            "torch.Size([4])\n",
            "torch.float32\n",
            "tensor([1.0000, 2.0000, 3.1000, 4.0000])\n"
          ]
        }
      ]
    },
    {
      "cell_type": "code",
      "source": [
        "# A = torch.tensor([ [1,2,3], [3,4,5] ]) # 이 셀부터는 import torch 는 실행 했다 치고 작성\n",
        "# A = torch.tensor([[1,2],[3,4,5]]) # 리스트와는 달리 이제는 행렬이라서 각 행에 해당하는 숫자의 개수가 같아야 함\n",
        "# print(A)\n",
        "# print(A.shape)\n",
        "# print(A.ndim)  # 차원의 수\n",
        "# print(A.numel()) # 전체 성분의 수\n",
        "\n",
        "A = torch.tensor([ [1, 2, 3], [4, 5, 6] ])\n",
        "print(A)\n",
        "print(A.shape)\n",
        "print(A.ndim)\n",
        "print(A.numel())"
      ],
      "metadata": {
        "id": "QRPA6o3EdDy5",
        "colab": {
          "base_uri": "https://localhost:8080/"
        },
        "outputId": "d5244cda-2755-472f-a8ed-f07bd3264d02"
      },
      "execution_count": null,
      "outputs": [
        {
          "output_type": "stream",
          "name": "stdout",
          "text": [
            "tensor([[1, 2, 3],\n",
            "        [4, 5, 6]])\n",
            "torch.Size([2, 3])\n",
            "2\n",
            "6\n"
          ]
        }
      ]
    },
    {
      "cell_type": "code",
      "source": [
        "# print(torch.zeros(5))\n",
        "# print(torch.zeros_like(A))\n",
        "# print(torch.ones(5))\n",
        "# print(torch.zeros(3,3))\n",
        "# print(torch.arange(3,10,2)) # range랑 같은데 tensor로 만들어줌\n",
        "# print(torch.arange(0,1,0.1)) # 소수점 가능\n",
        "# print(torch.linspace(0,1,10)) # 0 에서부터 1 포함 10개로\n",
        "\n",
        "print(torch.zeros(5))\n",
        "print(torch.zeros_like(A))\n",
        "print(torch.ones(5))\n",
        "print(torch.zeros(3,3))\n",
        "print(torch.arange(3, 10 , 2))\n",
        "print(torch.arange(0, 1, 0.1))\n",
        "print(torch.linspace(0, 1, 5))"
      ],
      "metadata": {
        "id": "DtQ20sP8dv8i",
        "colab": {
          "base_uri": "https://localhost:8080/"
        },
        "outputId": "8a0de115-677c-4b8b-a91c-3e69ed8e6a5c"
      },
      "execution_count": null,
      "outputs": [
        {
          "output_type": "stream",
          "name": "stdout",
          "text": [
            "tensor([0., 0., 0., 0., 0.])\n",
            "tensor([[0, 0, 0],\n",
            "        [0, 0, 0]])\n",
            "tensor([1., 1., 1., 1., 1.])\n",
            "tensor([[0., 0., 0.],\n",
            "        [0., 0., 0.],\n",
            "        [0., 0., 0.]])\n",
            "tensor([3, 5, 7, 9])\n",
            "tensor([0.0000, 0.1000, 0.2000, 0.3000, 0.4000, 0.5000, 0.6000, 0.7000, 0.8000,\n",
            "        0.9000])\n",
            "tensor([0.0000, 0.2500, 0.5000, 0.7500, 1.0000])\n"
          ]
        }
      ]
    },
    {
      "cell_type": "code",
      "source": [
        "a=torch.tensor([1,2,3])\n",
        "b=torch.tensor([4,5,6])\n",
        "c=a+b\n",
        "print(c)"
      ],
      "metadata": {
        "colab": {
          "base_uri": "https://localhost:8080/"
        },
        "id": "mEY_M0PPfRCz",
        "outputId": "6f31317f-6757-4909-8602-fb8fd85c4eae"
      },
      "execution_count": null,
      "outputs": [
        {
          "output_type": "stream",
          "name": "stdout",
          "text": [
            "tensor([5, 7, 9])\n"
          ]
        }
      ]
    },
    {
      "cell_type": "code",
      "source": [
        "A=torch.tensor([[1,2,3],[1,2,3]])\n",
        "B=torch.tensor([[4,5,6],[1,1,1]])\n",
        "C=A+B\n",
        "D=A-B\n",
        "print(C)\n",
        "print(D)\n",
        "print()\n",
        "print(A*B) # 곱셈은? 성분끼리의 곱! (Hadamard product)\n",
        "print(A/B) # 나누기도 마찬가지\n",
        "print(B**2) # 제곱도 각 성분에 대해서 해준다"
      ],
      "metadata": {
        "colab": {
          "base_uri": "https://localhost:8080/"
        },
        "id": "zRGH_ASMfY5q",
        "outputId": "ad8b364e-f0d6-4444-e8d2-ec9c789d5141"
      },
      "execution_count": null,
      "outputs": [
        {
          "output_type": "stream",
          "name": "stdout",
          "text": [
            "tensor([[5, 7, 9],\n",
            "        [2, 3, 4]])\n",
            "tensor([[-3, -3, -3],\n",
            "        [ 0,  1,  2]])\n",
            "\n",
            "tensor([[ 4, 10, 18],\n",
            "        [ 1,  2,  3]])\n",
            "tensor([[0.2500, 0.4000, 0.5000],\n",
            "        [1.0000, 2.0000, 3.0000]])\n",
            "tensor([[16, 25, 36],\n",
            "        [ 1,  1,  1]])\n"
          ]
        }
      ]
    },
    {
      "cell_type": "code",
      "source": [
        "A=torch.tensor([[1,2],[3,4]])\n",
        "B=torch.tensor([[1,2],[3,4]])\n",
        "print(A*B)\n",
        "print(A@B) # 이게 진짜 행렬 곱하기"
      ],
      "metadata": {
        "colab": {
          "base_uri": "https://localhost:8080/"
        },
        "id": "LDMR3HebgeIS",
        "outputId": "dea7eed6-2331-4979-fe0c-749df473347c"
      },
      "execution_count": null,
      "outputs": [
        {
          "output_type": "stream",
          "name": "stdout",
          "text": [
            "tensor([[ 1,  4],\n",
            "        [ 9, 16]])\n",
            "tensor([[ 7, 10],\n",
            "        [15, 22]])\n"
          ]
        }
      ]
    },
    {
      "cell_type": "markdown",
      "source": [
        "## pytorch 의 인덱싱 슬라이스"
      ],
      "metadata": {
        "id": "lwIW_G6ThRuW"
      }
    },
    {
      "cell_type": "code",
      "source": [
        "a=torch.tensor([1,2,3,4,5,6,7,8,9])\n",
        "# 인덱싱과 슬라이싱, list할 때와 동일!\n",
        "print(a[0])\n",
        "print(a[1])\n",
        "print(a[-1])\n",
        "print(a[1:4])\n",
        "print(a[7:])\n",
        "print(a[:7])\n",
        "print(a[:])"
      ],
      "metadata": {
        "colab": {
          "base_uri": "https://localhost:8080/"
        },
        "id": "EvEXUodtlOyq",
        "outputId": "eda8c665-1470-4ada-bfea-8a096636922b"
      },
      "execution_count": null,
      "outputs": [
        {
          "output_type": "stream",
          "name": "stdout",
          "text": [
            "tensor(1)\n",
            "tensor(2)\n",
            "tensor(9)\n",
            "tensor([2, 3, 4])\n",
            "tensor([8, 9])\n",
            "tensor([1, 2, 3, 4, 5, 6, 7])\n",
            "tensor([1, 2, 3, 4, 5, 6, 7, 8, 9])\n"
          ]
        }
      ]
    },
    {
      "cell_type": "code",
      "source": [
        "# 행렬에 대한 인덱싱과 슬라이싱\n",
        "A=torch.tensor([ [1,2,3], [4,5,6], [7,8,9] ])\n",
        "print(A[0]) # 하나만 쓰면 행에 대한 인덱싱 (리스트 속 리스트 생각)\n",
        "print(A[-1])\n",
        "print(A[1:])\n",
        "print(A[:])\n",
        "print(A[0][2])\n",
        "print(A[0,2]) # 2차원 행렬도 동일한데, 리스트와 달리 이런 것도 됨\n",
        "B=[[1,2,3,4], [5,6,7,8]]\n",
        "print(B)\n",
        "print(B[0][2])\n",
        "# print(B[0,2]) # error!\n",
        "print(A[1,:]) # 1 행, 전부\n",
        "print(A[1,0:3:2]) # 0부터 3미만번째까지 2간격\n",
        "print(A[:,2]) # 전부, 2 열\n",
        "print(A[:][2]) # 헷갈림."
      ],
      "metadata": {
        "colab": {
          "base_uri": "https://localhost:8080/"
        },
        "id": "4PSLeE0flTMC",
        "outputId": "7a1bdb07-380a-4579-a100-11e1bc659d70"
      },
      "execution_count": null,
      "outputs": [
        {
          "output_type": "stream",
          "name": "stdout",
          "text": [
            "tensor([1, 2, 3])\n",
            "tensor([7, 8, 9])\n",
            "tensor([[4, 5, 6],\n",
            "        [7, 8, 9]])\n",
            "tensor([[1, 2, 3],\n",
            "        [4, 5, 6],\n",
            "        [7, 8, 9]])\n",
            "tensor(3)\n",
            "tensor(3)\n",
            "[[1, 2, 3, 4], [5, 6, 7, 8]]\n",
            "3\n",
            "tensor([4, 5, 6])\n",
            "tensor([4, 6])\n",
            "tensor([3, 6, 9])\n",
            "tensor([7, 8, 9])\n"
          ]
        }
      ]
    },
    {
      "cell_type": "code",
      "source": [
        "# 3차원 행렬 인덱싱\n",
        "A=torch.tensor([ [[0,1,2,3],[4,5,6,7],[8,9,10,11]] ,\n",
        "             [[12,13,14,15],[16,17,18,19],[20,21,22,23]] ])\n",
        "print(A)\n",
        "print(A.shape) # 대괄호가 하나 늘어나면 왼쪽에 shape 값이 추가 된다.\n",
        "print(A[0,1,2])\n",
        "\n",
        "a=torch.tensor([[[1,2,3,4]]])\n",
        "print(a.shape)"
      ],
      "metadata": {
        "colab": {
          "base_uri": "https://localhost:8080/"
        },
        "id": "y6Zg1lZ9ZIBe",
        "outputId": "4e09c373-634a-45fd-f50f-4183267fc51a"
      },
      "execution_count": null,
      "outputs": [
        {
          "output_type": "stream",
          "name": "stdout",
          "text": [
            "tensor([[[ 0,  1,  2,  3],\n",
            "         [ 4,  5,  6,  7],\n",
            "         [ 8,  9, 10, 11]],\n",
            "\n",
            "        [[12, 13, 14, 15],\n",
            "         [16, 17, 18, 19],\n",
            "         [20, 21, 22, 23]]])\n",
            "torch.Size([2, 3, 4])\n",
            "tensor(6)\n",
            "torch.Size([1, 1, 4])\n"
          ]
        }
      ]
    },
    {
      "cell_type": "code",
      "source": [
        "# boolean 인덱싱\n",
        "a=[1,2,3,4,5,3,3]\n",
        "print(a==3) # 여러개 값 들어있는 리스트랑 3 달랑 하나랑 같냐? 다르다!\n",
        "A=torch.tensor([[1,2,3,4],[5,3,7,3]])\n",
        "print(A==3) # 리스트와 달리 각 성분에 대해 비교해줌\n",
        "print(A[A==3]) # True, False가 담긴 행렬로 인덱싱 가능!!\n",
        "\n",
        "A[A==3] = 100\n",
        "print(A) # 그러면 이런 것도 가능하다! (3과 같은 애를 100으로 바꿔줘)\n",
        "\n",
        "A=torch.tensor([[1,2],[3,4],[5,6],[7,8]])\n",
        "B=torch.tensor([True, False, False, True]) # 참고로 그냥 리스트여도 됨\n",
        "print(A[B,:]) # 0행, 3행 슬라이싱\n",
        "\n",
        "b=torch.tensor([1,2,3,4])\n",
        "print(b[ [True,True,False,False] ])\n",
        "c=[1,2,3,4]\n",
        "# c[[True,True,False,False]] # error!"
      ],
      "metadata": {
        "colab": {
          "base_uri": "https://localhost:8080/"
        },
        "id": "DBjH6loolzdS",
        "outputId": "818ff37c-bcfa-4aa6-ccb7-18765844da5d"
      },
      "execution_count": null,
      "outputs": [
        {
          "output_type": "stream",
          "name": "stdout",
          "text": [
            "False\n",
            "tensor([[False, False,  True, False],\n",
            "        [False,  True, False,  True]])\n",
            "tensor([3, 3, 3])\n",
            "tensor([[  1,   2, 100,   4],\n",
            "        [  5, 100,   7, 100]])\n",
            "tensor([[1, 2],\n",
            "        [7, 8]])\n",
            "tensor([1, 2])\n"
          ]
        }
      ]
    },
    {
      "cell_type": "code",
      "source": [
        "# tensor로 인덱싱\n",
        "a=torch.tensor([1,2,3,4,5])\n",
        "A=a[2]\n",
        "print(A)\n",
        "A=a[ torch.tensor(2) ] # torch.tensor 안에다가?\n",
        "print(A)\n",
        "A=a[ torch.tensor([2,3,4]) ]\n",
        "print(A)\n",
        "A=a[ torch.tensor([[2,2,2],[3,3,3]]) ]\n",
        "print(A) # 인덱싱된 애들로 2행 3열짜리 행렬을 만든다\n",
        "\n",
        "a=[1,2,3]\n",
        "# a[ [1,1,1,1,2,2,2] ] # error!\n",
        "\n",
        "a=torch.tensor([[1,2,3],[4,5,6]])\n",
        "print(a[0])\n",
        "A=a[ torch.tensor([[0,1],[1,1]]) ]\n",
        "print(A.shape) # 예를 들어, a[0] = tensor([1,2,3])과 같이 1차원 데이터이므로 한 차원이 뒤에 늘어나서 2,2, \"3\" 이 된다!\n",
        "print(A) # segmentation 결과 그림 보여줄 때 사용!"
      ],
      "metadata": {
        "colab": {
          "base_uri": "https://localhost:8080/"
        },
        "id": "FzKn6wIJZAgn",
        "outputId": "b4c1e2ce-2d88-4190-a31b-2c0393daba90"
      },
      "execution_count": null,
      "outputs": [
        {
          "output_type": "stream",
          "name": "stdout",
          "text": [
            "tensor(3)\n",
            "tensor(3)\n",
            "tensor([3, 4, 5])\n",
            "tensor([[3, 3, 3],\n",
            "        [4, 4, 4]])\n",
            "tensor([1, 2, 3])\n",
            "torch.Size([2, 2, 3])\n",
            "tensor([[[1, 2, 3],\n",
            "         [4, 5, 6]],\n",
            "\n",
            "        [[4, 5, 6],\n",
            "         [4, 5, 6]]])\n"
          ]
        }
      ]
    },
    {
      "cell_type": "code",
      "source": [
        "A=torch.tensor([[1,2],[3,4],[5,6],[7,8]])\n",
        "print(A)\n",
        "print(A.shape)\n",
        "\n",
        "# 1. A[몇 번째 행이냐, 몇 번째 열이냐]\n",
        "print(A[0,1])\n",
        "# 2. A[ tensor(bool) ] => A와 같은 shape을 가지는 tensor형 bool이 어디에 True를 가지고 있냐\n",
        "print(A[ torch.tensor([[False,True],[False,False],[False,False],[False,False]]) ])\n",
        "print(A[A==2])\n",
        "# 3. A[몇 번째 값에 True가 있냐, 몇 번째 값에 True가 있냐]\n",
        "print(A[ [True,False,False,True], [False,True] ])\n",
        "# 4. A[ tensor ] # 몇 번째 것을 어떻게 쌓을거냐\n",
        "print(A[ torch.tensor([1,1,2,2,2]) ])"
      ],
      "metadata": {
        "colab": {
          "base_uri": "https://localhost:8080/"
        },
        "id": "BBEF3i6xl1sK",
        "outputId": "bb84704b-ef59-47a9-8f29-2f1614e95e41"
      },
      "execution_count": null,
      "outputs": [
        {
          "output_type": "stream",
          "name": "stdout",
          "text": [
            "tensor([[1, 2],\n",
            "        [3, 4],\n",
            "        [5, 6],\n",
            "        [7, 8]])\n",
            "torch.Size([4, 2])\n",
            "tensor(2)\n",
            "tensor([2])\n",
            "tensor([2])\n",
            "tensor([2, 8])\n",
            "tensor([[3, 4],\n",
            "        [3, 4],\n",
            "        [5, 6],\n",
            "        [5, 6],\n",
            "        [5, 6]])\n"
          ]
        }
      ]
    },
    {
      "cell_type": "markdown",
      "source": [
        "## pytorch의 여러 함수들"
      ],
      "metadata": {
        "id": "QYBXKfCupHU9"
      }
    },
    {
      "cell_type": "code",
      "source": [
        "A=torch.randn(3,3) # Normal 의 n,  평균 0, 분산 1, n곱하면 분산은 n제곱\n",
        "B=torch.rand(3,3) # 이건 uniform 0~1사이\n",
        "print(A)\n",
        "print(B)\n",
        "print(A[A[:,0]<0,:]) # 0 번째 열이 음수인 행들"
      ],
      "metadata": {
        "colab": {
          "base_uri": "https://localhost:8080/"
        },
        "id": "0lfFqRGOpI-0",
        "outputId": "b520699f-d67b-4a31-ce91-4fdc94fd154e"
      },
      "execution_count": null,
      "outputs": [
        {
          "output_type": "stream",
          "name": "stdout",
          "text": [
            "tensor([[-0.6186,  1.2270, -0.2644],\n",
            "        [ 0.2553,  0.5459, -0.1742],\n",
            "        [ 1.0628,  0.1838, -0.0114]])\n",
            "tensor([[0.3082, 0.8563, 0.3361],\n",
            "        [0.8437, 0.1220, 0.4998],\n",
            "        [0.3029, 0.8311, 0.5707]])\n",
            "tensor([[-0.6186,  1.2270, -0.2644]])\n"
          ]
        }
      ]
    },
    {
      "cell_type": "code",
      "source": [
        "A=torch.randn(3,3)\n",
        "print(A)\n",
        "print(torch.abs(A))\n",
        "print(torch.sqrt(torch.abs(A)))\n",
        "print(torch.exp(A))\n",
        "print(torch.log(torch.abs(A)))\n",
        "print(torch.log(torch.exp(torch.tensor(1)))) # torch.exp(torch.tensor(1)) = e^1\n",
        "print(torch.log10(torch.tensor(10)))\n",
        "print(torch.log2(torch.tensor(2)))\n",
        "print(torch.round(A)) # 반올림\n",
        "print(torch.round(A, decimals=2)) # 소수점 둘째자리까지\n",
        "print(torch.floor(A)) # 내림\n",
        "print(torch.ceil(A)) # 올림"
      ],
      "metadata": {
        "colab": {
          "base_uri": "https://localhost:8080/"
        },
        "id": "J6KxUXALpniU",
        "outputId": "858796ec-5539-4a10-8766-be0d1e52ca71"
      },
      "execution_count": null,
      "outputs": [
        {
          "output_type": "stream",
          "name": "stdout",
          "text": [
            "tensor([[-0.9573, -0.4223, -0.9859],\n",
            "        [ 1.3260,  1.3537, -0.9468],\n",
            "        [-0.8205, -1.4452, -0.8479]])\n",
            "tensor([[0.9573, 0.4223, 0.9859],\n",
            "        [1.3260, 1.3537, 0.9468],\n",
            "        [0.8205, 1.4452, 0.8479]])\n",
            "tensor([[0.9784, 0.6498, 0.9929],\n",
            "        [1.1515, 1.1635, 0.9730],\n",
            "        [0.9058, 1.2022, 0.9208]])\n",
            "tensor([[0.3839, 0.6555, 0.3731],\n",
            "        [3.7661, 3.8716, 0.3880],\n",
            "        [0.4402, 0.2357, 0.4283]])\n",
            "tensor([[-0.0437, -0.8620, -0.0142],\n",
            "        [ 0.2822,  0.3028, -0.0547],\n",
            "        [-0.1979,  0.3682, -0.1650]])\n",
            "tensor(1.)\n",
            "tensor(1.)\n",
            "tensor(1.)\n",
            "tensor([[-1., -0., -1.],\n",
            "        [ 1.,  1., -1.],\n",
            "        [-1., -1., -1.]])\n",
            "tensor([[-0.9600, -0.4200, -0.9900],\n",
            "        [ 1.3300,  1.3500, -0.9500],\n",
            "        [-0.8200, -1.4500, -0.8500]])\n",
            "tensor([[-1., -1., -1.],\n",
            "        [ 1.,  1., -1.],\n",
            "        [-1., -2., -1.]])\n",
            "tensor([[-0., -0., -0.],\n",
            "        [ 2.,  2., -0.],\n",
            "        [-0., -1., -0.]])\n"
          ]
        }
      ]
    },
    {
      "cell_type": "code",
      "source": [
        "print(torch.sin(torch.tensor(torch.pi/6))) # type(torch.pi) <- float임 만약 tensor와 연산하면 tensor로 바꿔줌\n",
        "print(torch.cos(torch.tensor(torch.pi/3)))\n",
        "print(torch.tan(torch.tensor(torch.pi/4)))\n",
        "print(torch.tanh(torch.tensor(-10)))\n",
        "\n",
        "type(torch.tensor(1)/6)"
      ],
      "metadata": {
        "colab": {
          "base_uri": "https://localhost:8080/"
        },
        "id": "PFPjWX54qaXi",
        "outputId": "1856345f-8786-4775-86ce-e38914fdab09"
      },
      "execution_count": null,
      "outputs": [
        {
          "output_type": "stream",
          "name": "stdout",
          "text": [
            "tensor(0.5000)\n",
            "tensor(0.5000)\n",
            "tensor(1.)\n",
            "tensor(-1.)\n"
          ]
        },
        {
          "output_type": "execute_result",
          "data": {
            "text/plain": [
              "torch.Tensor"
            ]
          },
          "metadata": {},
          "execution_count": 16
        }
      ]
    },
    {
      "cell_type": "code",
      "source": [
        "torch.nan # not a number\n",
        "print(torch.log(torch.tensor(-1)))\n",
        "print(torch.isnan(torch.tensor([1,2,torch.nan,3,4])))\n",
        "print(torch.isinf(torch.tensor([1,2,3,4,torch.inf])))"
      ],
      "metadata": {
        "colab": {
          "base_uri": "https://localhost:8080/"
        },
        "id": "huDfIsJoqdDa",
        "outputId": "9a5fa227-0998-4345-a638-a491de6ab36c"
      },
      "execution_count": null,
      "outputs": [
        {
          "output_type": "stream",
          "name": "stdout",
          "text": [
            "tensor(nan)\n",
            "tensor([False, False,  True, False, False])\n",
            "tensor([False, False, False, False,  True])\n"
          ]
        }
      ]
    },
    {
      "cell_type": "code",
      "source": [
        "A=torch.randn(3,4)\n",
        "print(A)\n",
        "# print(torch.max(A))\n",
        "# print(torch.max(A,dim=0))\n",
        "# print(torch.max(A,dim=1))\n",
        "# print(torch.max(A,dim=0, keepdims=True))\n",
        "# print(torch.max(A,dim=1, keepdims=True)) # 3 행 1열 짜리 2D tensor\n",
        "# print(torch.min(A))\n",
        "# print(torch.min(A,dim=0))\n",
        "# print(torch.min(A,dim=1))\n",
        "print(torch.argmax(A))\n",
        "print(torch.argmax(A,dim=0)) # 각 열에서 가장 큰 애가 존재하는 인덱스\n",
        "print(torch.argmax(A,dim=1)) # 각 행에서 가장 큰 애가 존재하는 인덱스"
      ],
      "metadata": {
        "colab": {
          "base_uri": "https://localhost:8080/"
        },
        "id": "C9G0Rdhiqn3a",
        "outputId": "78f4f9c8-de80-439e-a064-188f94ce6966"
      },
      "execution_count": null,
      "outputs": [
        {
          "output_type": "stream",
          "name": "stdout",
          "text": [
            "tensor([[ 0.0931, -0.6570,  0.4329, -0.3441],\n",
            "        [-0.7114, -0.1857,  1.7223, -0.9317],\n",
            "        [-1.6473, -0.8096, -1.0356, -1.6160]])\n",
            "tensor(6)\n",
            "tensor([0, 1, 1, 0])\n",
            "tensor([2, 2, 1])\n"
          ]
        }
      ]
    },
    {
      "cell_type": "code",
      "source": [
        "# a=torch.randn(6,1)\n",
        "# print(a)\n",
        "# a_sorted=torch.sort(a,dim=0)\n",
        "# print(a_sorted)\n",
        "\n",
        "a=torch.randn(6,1)\n",
        "print(a)\n",
        "print(a.sort(dim=0))\n",
        "print(a.sort(dim=0, descending=True)) # 내림차순\n",
        "\n",
        "# print(torch.max(a))\n",
        "# print(a.max())\n",
        "# print(torch.abs(a))\n",
        "# print(a.abs())"
      ],
      "metadata": {
        "colab": {
          "base_uri": "https://localhost:8080/"
        },
        "id": "5h8JeQ8bqsrv",
        "outputId": "a78ad78c-daaf-4302-9f8f-fa29ca98cdf8"
      },
      "execution_count": null,
      "outputs": [
        {
          "output_type": "stream",
          "name": "stdout",
          "text": [
            "tensor([[ 0.4293],\n",
            "        [-0.0181],\n",
            "        [ 0.3894],\n",
            "        [ 0.4830],\n",
            "        [-0.4085],\n",
            "        [ 0.3370]])\n",
            "torch.return_types.sort(\n",
            "values=tensor([[-0.4085],\n",
            "        [-0.0181],\n",
            "        [ 0.3370],\n",
            "        [ 0.3894],\n",
            "        [ 0.4293],\n",
            "        [ 0.4830]]),\n",
            "indices=tensor([[4],\n",
            "        [1],\n",
            "        [5],\n",
            "        [2],\n",
            "        [0],\n",
            "        [3]]))\n",
            "torch.return_types.sort(\n",
            "values=tensor([[ 0.4830],\n",
            "        [ 0.4293],\n",
            "        [ 0.3894],\n",
            "        [ 0.3370],\n",
            "        [-0.0181],\n",
            "        [-0.4085]]),\n",
            "indices=tensor([[3],\n",
            "        [0],\n",
            "        [2],\n",
            "        [5],\n",
            "        [1],\n",
            "        [4]]))\n"
          ]
        }
      ]
    },
    {
      "cell_type": "code",
      "source": [
        "A=torch.randn(3,4)\n",
        "print(A)\n",
        "print(torch.sum(A))\n",
        "print(torch.sum(A,dim=1))\n",
        "print(torch.sum(A,dim=1,keepdims=True))\n",
        "print(torch.mean(A))\n",
        "print(torch.mean(A,dim=1))\n",
        "print(torch.mean(A,dim=1,keepdims=True))\n",
        "print(torch.std(A)) # standard deviation 표준 편차\n",
        "\n",
        "print(A.sum(dim=1, keepdims=True))\n",
        "print(A.mean(dim=1, keepdims=True))\n",
        "print(A.std())"
      ],
      "metadata": {
        "colab": {
          "base_uri": "https://localhost:8080/"
        },
        "id": "KJUEZtB4rglS",
        "outputId": "d0b81b3c-15cd-41d9-bc17-e248d54a0e2c"
      },
      "execution_count": null,
      "outputs": [
        {
          "output_type": "stream",
          "name": "stdout",
          "text": [
            "tensor([[-0.9716, -1.5907, -1.4502, -0.3699],\n",
            "        [-0.5651,  0.0200,  0.2660, -0.0543],\n",
            "        [-0.4527, -0.1583,  0.6699,  2.6063]])\n",
            "tensor(-2.0507)\n",
            "tensor([-4.3824, -0.3335,  2.6652])\n",
            "tensor([[-4.3824],\n",
            "        [-0.3335],\n",
            "        [ 2.6652]])\n",
            "tensor(-0.1709)\n",
            "tensor([-1.0956, -0.0834,  0.6663])\n",
            "tensor([[-1.0956],\n",
            "        [-0.0834],\n",
            "        [ 0.6663]])\n",
            "tensor(1.0966)\n",
            "tensor([[-4.3824],\n",
            "        [-0.3335],\n",
            "        [ 2.6652]])\n",
            "tensor([[-1.0956],\n",
            "        [-0.0834],\n",
            "        [ 0.6663]])\n",
            "tensor(1.0966)\n"
          ]
        }
      ]
    },
    {
      "cell_type": "code",
      "source": [
        "A=torch.randint(1,5,size=(12,)) # 1부터 5미만 12개 정수 (1 차원은 (N,) 과 같이 표현)\n",
        "print(A)\n",
        "print(A.shape)\n",
        "\n",
        "B=A.reshape(2,2,3)\n",
        "print(B)\n",
        "print(B.ndim) # 3 차원 행렬이다"
      ],
      "metadata": {
        "colab": {
          "base_uri": "https://localhost:8080/"
        },
        "id": "CmuensVlsERE",
        "outputId": "fba05b71-9b99-4034-8ec3-ecb3706b6cab"
      },
      "execution_count": null,
      "outputs": [
        {
          "output_type": "stream",
          "name": "stdout",
          "text": [
            "tensor([4, 4, 3, 4, 1, 2, 3, 3, 2, 4, 3, 1])\n",
            "torch.Size([12])\n",
            "tensor([[[4, 4, 3],\n",
            "         [4, 1, 2]],\n",
            "\n",
            "        [[3, 3, 2],\n",
            "         [4, 3, 1]]])\n",
            "3\n"
          ]
        }
      ]
    },
    {
      "cell_type": "code",
      "source": [
        "a=torch.tensor([1,2,3])\n",
        "b=torch.tensor([2,2,1])\n",
        "print(torch.sum(a*b)) # 내적과 같음.\n",
        "\n",
        "print(a@b)\n",
        "a=a.reshape(3,1)\n",
        "b=b.reshape(3,1)\n",
        "print(a.transpose(1,0)@b)\n",
        "print(a.permute(1,0)@b)\n",
        "print(a.T@b)\n",
        "print(a.t()@b)\n",
        "\n",
        "A=torch.randn(4,3,6)\n",
        "print(A.permute(0,2,1).shape)\n",
        "print(A.transpose(0,2).shape) # transpose 는 둘끼리 자리 바꾸기만 가능"
      ],
      "metadata": {
        "colab": {
          "base_uri": "https://localhost:8080/"
        },
        "id": "VdXu_OZ1sgNK",
        "outputId": "ba433c72-0a68-4659-fae2-fc79ea88e9f8"
      },
      "execution_count": null,
      "outputs": [
        {
          "output_type": "stream",
          "name": "stdout",
          "text": [
            "tensor(9)\n",
            "tensor(9)\n",
            "tensor([[9]])\n",
            "tensor([[9]])\n",
            "tensor([[9]])\n",
            "tensor([[9]])\n",
            "torch.Size([4, 6, 3])\n",
            "torch.Size([6, 3, 4])\n"
          ]
        }
      ]
    },
    {
      "cell_type": "code",
      "source": [
        "A=torch.arange(20)\n",
        "print(A)\n",
        "print(A.reshape(4,5))\n",
        "print(A.reshape(4,-1).shape) # 4개 행이 될 수 있도록 열의 수를 맞춰라\n",
        "print(A.reshape(2,5,-1).shape)\n",
        "print(A.reshape(2,-1,5).shape)\n",
        "print(A.reshape(1,-1).shape) # 2차원 행 벡터\n",
        "print(A.reshape(-1,1).shape) # 2차원 열 벡터"
      ],
      "metadata": {
        "colab": {
          "base_uri": "https://localhost:8080/"
        },
        "id": "aYsTsVD7sjmj",
        "outputId": "f81328c3-7b06-4ff9-835e-621b209369c1"
      },
      "execution_count": null,
      "outputs": [
        {
          "output_type": "stream",
          "name": "stdout",
          "text": [
            "tensor([ 0,  1,  2,  3,  4,  5,  6,  7,  8,  9, 10, 11, 12, 13, 14, 15, 16, 17,\n",
            "        18, 19])\n",
            "tensor([[ 0,  1,  2,  3,  4],\n",
            "        [ 5,  6,  7,  8,  9],\n",
            "        [10, 11, 12, 13, 14],\n",
            "        [15, 16, 17, 18, 19]])\n",
            "torch.Size([4, 5])\n",
            "torch.Size([2, 5, 2])\n",
            "torch.Size([2, 2, 5])\n",
            "torch.Size([1, 20])\n",
            "torch.Size([20, 1])\n"
          ]
        }
      ]
    },
    {
      "cell_type": "code",
      "source": [
        "x=torch.randn(2,3,4,5,6)\n",
        "print(x[1,2,:,:,:].shape)\n",
        "print(x[1,2,...].shape) # x[1, 2, …] 는 x[1, 2, :, :, :] 와 같습니다.\n",
        "print(x[:,:,:,:,3].shape)\n",
        "print(x[...,3].shape) # x[…, 3] 는 x[:, :, :, :, 3] 와 같습니다.\n",
        "print(x[1,:,:,3,:].shape)\n",
        "print(x[1,...,3,:].shape) # x[1, …, 3, :] 는 x[1, :, :, 3, :] 와 같습니다."
      ],
      "metadata": {
        "colab": {
          "base_uri": "https://localhost:8080/"
        },
        "id": "VFBBHxp2zFyr",
        "outputId": "b18e0c48-f70f-4098-ac58-e1d99ae5ca86"
      },
      "execution_count": null,
      "outputs": [
        {
          "output_type": "stream",
          "name": "stdout",
          "text": [
            "torch.Size([4, 5, 6])\n",
            "torch.Size([4, 5, 6])\n",
            "torch.Size([2, 3, 4, 5])\n",
            "torch.Size([2, 3, 4, 5])\n",
            "torch.Size([3, 4, 6])\n",
            "torch.Size([3, 4, 6])\n"
          ]
        }
      ]
    },
    {
      "cell_type": "code",
      "source": [
        "A=torch.ones((2,3,4))\n",
        "B=torch.zeros((2,3,4))\n",
        "\n",
        "C=torch.vstack([A,B])\n",
        "D=torch.hstack([A,B]) # v는 0번째 차원, h는 1번째 차원에 쌓는다.\n",
        "\n",
        "E=torch.cat([A,B], dim=0) #4,3,4\n",
        "F=torch.cat([A,B], dim=1)\n",
        "G=torch.cat([A,B], dim=2)\n",
        "\n",
        "# print(C)\n",
        "# print(D)\n",
        "print(E)\n",
        "print(F)\n",
        "print(G)"
      ],
      "metadata": {
        "colab": {
          "base_uri": "https://localhost:8080/"
        },
        "id": "VsBKRAiJzbBz",
        "outputId": "01e31787-f7c2-4cc1-8d92-5dd4ba9354e2"
      },
      "execution_count": null,
      "outputs": [
        {
          "output_type": "stream",
          "name": "stdout",
          "text": [
            "tensor([[[1., 1., 1., 1.],\n",
            "         [1., 1., 1., 1.],\n",
            "         [1., 1., 1., 1.]],\n",
            "\n",
            "        [[1., 1., 1., 1.],\n",
            "         [1., 1., 1., 1.],\n",
            "         [1., 1., 1., 1.]],\n",
            "\n",
            "        [[0., 0., 0., 0.],\n",
            "         [0., 0., 0., 0.],\n",
            "         [0., 0., 0., 0.]],\n",
            "\n",
            "        [[0., 0., 0., 0.],\n",
            "         [0., 0., 0., 0.],\n",
            "         [0., 0., 0., 0.]]])\n",
            "tensor([[[1., 1., 1., 1.],\n",
            "         [1., 1., 1., 1.],\n",
            "         [1., 1., 1., 1.],\n",
            "         [0., 0., 0., 0.],\n",
            "         [0., 0., 0., 0.],\n",
            "         [0., 0., 0., 0.]],\n",
            "\n",
            "        [[1., 1., 1., 1.],\n",
            "         [1., 1., 1., 1.],\n",
            "         [1., 1., 1., 1.],\n",
            "         [0., 0., 0., 0.],\n",
            "         [0., 0., 0., 0.],\n",
            "         [0., 0., 0., 0.]]])\n",
            "tensor([[[1., 1., 1., 1., 0., 0., 0., 0.],\n",
            "         [1., 1., 1., 1., 0., 0., 0., 0.],\n",
            "         [1., 1., 1., 1., 0., 0., 0., 0.]],\n",
            "\n",
            "        [[1., 1., 1., 1., 0., 0., 0., 0.],\n",
            "         [1., 1., 1., 1., 0., 0., 0., 0.],\n",
            "         [1., 1., 1., 1., 0., 0., 0., 0.]]])\n"
          ]
        }
      ]
    },
    {
      "cell_type": "code",
      "source": [
        "A = torch.randn(1,1,1,3,1,1,4,1)\n",
        "# print(A)\n",
        "print(A.shape)\n",
        "print(A.squeeze().shape)"
      ],
      "metadata": {
        "colab": {
          "base_uri": "https://localhost:8080/"
        },
        "id": "EOsKnQTvzeAL",
        "outputId": "c3f0d144-9cae-4e3d-9281-08d371a55c27"
      },
      "execution_count": null,
      "outputs": [
        {
          "output_type": "stream",
          "name": "stdout",
          "text": [
            "torch.Size([1, 1, 1, 3, 1, 1, 4, 1])\n",
            "torch.Size([3, 4])\n"
          ]
        }
      ]
    },
    {
      "cell_type": "code",
      "source": [
        "A = torch.randn(3,4)\n",
        "print(A.unsqueeze(dim=0).shape)\n",
        "print(A.unsqueeze(dim=1).shape)\n",
        "print(A.unsqueeze(dim=2).shape)\n",
        "print(A.reshape(1,3,4).shape)\n",
        "print(A.reshape(3,1,4).shape)\n",
        "print(A.reshape(3,4,1).shape)"
      ],
      "metadata": {
        "colab": {
          "base_uri": "https://localhost:8080/"
        },
        "id": "fgFgG48p02YK",
        "outputId": "ea96d9a5-de5a-4e3c-c360-b447a1ead351"
      },
      "execution_count": null,
      "outputs": [
        {
          "output_type": "stream",
          "name": "stdout",
          "text": [
            "torch.Size([1, 3, 4])\n",
            "torch.Size([3, 1, 4])\n",
            "torch.Size([3, 4, 1])\n",
            "torch.Size([1, 3, 4])\n",
            "torch.Size([3, 1, 4])\n",
            "torch.Size([3, 4, 1])\n"
          ]
        }
      ]
    },
    {
      "cell_type": "code",
      "source": [
        "A=torch.ones(3,4)\n",
        "B=torch.zeros(3,4)\n",
        "A=A.unsqueeze(dim=0)\n",
        "B=B.unsqueeze(dim=0)\n",
        "C=torch.cat([A,B], dim=0)\n",
        "print(C)\n",
        "print(C.shape)"
      ],
      "metadata": {
        "colab": {
          "base_uri": "https://localhost:8080/"
        },
        "id": "jG2ZCKHY_O14",
        "outputId": "46190dec-2c8f-4d86-b848-6cff7b69e39d"
      },
      "execution_count": null,
      "outputs": [
        {
          "output_type": "stream",
          "name": "stdout",
          "text": [
            "tensor([[[1., 1., 1., 1.],\n",
            "         [1., 1., 1., 1.],\n",
            "         [1., 1., 1., 1.]],\n",
            "\n",
            "        [[0., 0., 0., 0.],\n",
            "         [0., 0., 0., 0.],\n",
            "         [0., 0., 0., 0.]]])\n",
            "torch.Size([2, 3, 4])\n"
          ]
        }
      ]
    },
    {
      "cell_type": "code",
      "source": [
        "A=torch.tensor([[1,2],[3,4]])\n",
        "B=A.clone() # B = A 하면 주소까지 같음.\n",
        "B[0,0]=100\n",
        "\n",
        "print(B)\n",
        "print(A)"
      ],
      "metadata": {
        "colab": {
          "base_uri": "https://localhost:8080/"
        },
        "id": "0Ns_z6TI_jMm",
        "outputId": "8e602a9c-3d21-4fe3-a533-0bb7fd6ff3cd"
      },
      "execution_count": null,
      "outputs": [
        {
          "output_type": "stream",
          "name": "stdout",
          "text": [
            "tensor([[100,   2],\n",
            "        [  3,   4]])\n",
            "tensor([[1, 2],\n",
            "        [3, 4]])\n"
          ]
        }
      ]
    },
    {
      "cell_type": "markdown",
      "source": [
        "## @ 에 대해 좀만 더"
      ],
      "metadata": {
        "id": "KGZoEgEREL3n"
      }
    },
    {
      "cell_type": "code",
      "source": [
        "#2\n",
        "A=torch.randn(5,7)\n",
        "B=torch.randn(7,10)\n",
        "C=A@B\n",
        "print(C.shape)\n",
        "\n",
        "A=torch.randn(32,5,7)\n",
        "B=torch.randn(32,7,10)\n",
        "C=A@B\n",
        "print(C.shape)"
      ],
      "metadata": {
        "colab": {
          "base_uri": "https://localhost:8080/"
        },
        "id": "_AfML6PD_xxm",
        "outputId": "9dbaebe5-cd3e-4715-8b65-3e9c91d46e5c"
      },
      "execution_count": null,
      "outputs": [
        {
          "output_type": "stream",
          "name": "stdout",
          "text": [
            "torch.Size([5, 10])\n",
            "torch.Size([32, 5, 10])\n"
          ]
        }
      ]
    },
    {
      "cell_type": "code",
      "source": [
        "A=torch.randn(32,5,7)\n",
        "B=torch.randn(7,10)\n",
        "\n",
        "C=A@B.repeat(32,1,1)\n",
        "print(B.repeat(32, 1 ,1))\n",
        "D=A@B\n",
        "\n",
        "print(C.shape)\n",
        "print(D.shape)\n",
        "print((C-D).abs().max()) # C, D와 같음."
      ],
      "metadata": {
        "id": "lO6wqAoPEsdm"
      },
      "execution_count": null,
      "outputs": []
    },
    {
      "cell_type": "code",
      "source": [
        "A = torch.rand(2,3)\n",
        "A_repeat=A.repeat(3,1,3,2)\n",
        "print(A)\n",
        "print(A_repeat)\n",
        "print(A_repeat.shape)"
      ],
      "metadata": {
        "colab": {
          "base_uri": "https://localhost:8080/"
        },
        "id": "wJsuoY1AFTsP",
        "outputId": "edb847c3-0bad-4c0d-ba13-a5abd603aea1"
      },
      "execution_count": null,
      "outputs": [
        {
          "output_type": "stream",
          "name": "stdout",
          "text": [
            "tensor([[0.3584, 0.8366, 0.1965],\n",
            "        [0.3318, 0.1272, 0.4224]])\n",
            "tensor([[[[0.3584, 0.8366, 0.1965, 0.3584, 0.8366, 0.1965],\n",
            "          [0.3318, 0.1272, 0.4224, 0.3318, 0.1272, 0.4224],\n",
            "          [0.3584, 0.8366, 0.1965, 0.3584, 0.8366, 0.1965],\n",
            "          [0.3318, 0.1272, 0.4224, 0.3318, 0.1272, 0.4224],\n",
            "          [0.3584, 0.8366, 0.1965, 0.3584, 0.8366, 0.1965],\n",
            "          [0.3318, 0.1272, 0.4224, 0.3318, 0.1272, 0.4224]]],\n",
            "\n",
            "\n",
            "        [[[0.3584, 0.8366, 0.1965, 0.3584, 0.8366, 0.1965],\n",
            "          [0.3318, 0.1272, 0.4224, 0.3318, 0.1272, 0.4224],\n",
            "          [0.3584, 0.8366, 0.1965, 0.3584, 0.8366, 0.1965],\n",
            "          [0.3318, 0.1272, 0.4224, 0.3318, 0.1272, 0.4224],\n",
            "          [0.3584, 0.8366, 0.1965, 0.3584, 0.8366, 0.1965],\n",
            "          [0.3318, 0.1272, 0.4224, 0.3318, 0.1272, 0.4224]]],\n",
            "\n",
            "\n",
            "        [[[0.3584, 0.8366, 0.1965, 0.3584, 0.8366, 0.1965],\n",
            "          [0.3318, 0.1272, 0.4224, 0.3318, 0.1272, 0.4224],\n",
            "          [0.3584, 0.8366, 0.1965, 0.3584, 0.8366, 0.1965],\n",
            "          [0.3318, 0.1272, 0.4224, 0.3318, 0.1272, 0.4224],\n",
            "          [0.3584, 0.8366, 0.1965, 0.3584, 0.8366, 0.1965],\n",
            "          [0.3318, 0.1272, 0.4224, 0.3318, 0.1272, 0.4224]]]])\n",
            "torch.Size([3, 1, 6, 6])\n"
          ]
        }
      ]
    },
    {
      "cell_type": "markdown",
      "source": [
        "## numpy <-> torch 왔다갔다 가능"
      ],
      "metadata": {
        "id": "EFw55VafFpvc"
      }
    },
    {
      "cell_type": "code",
      "source": [
        "import numpy as np\n",
        "import torch\n",
        "\n",
        "a=np.array([1,2,3])\n",
        "b=torch.tensor([1,2,3])\n",
        "A=torch.tensor(a) # A=torch.from_numpy(a)\n",
        "B=b.numpy() # B=np.array(b)\n",
        "print(type(A))\n",
        "print(type(B))"
      ],
      "metadata": {
        "colab": {
          "base_uri": "https://localhost:8080/"
        },
        "id": "llEeZZHQFsgp",
        "outputId": "f1390d37-9e0f-4bcf-a3c9-d9871ed01f70"
      },
      "execution_count": null,
      "outputs": [
        {
          "output_type": "stream",
          "name": "stdout",
          "text": [
            "<class 'torch.Tensor'>\n",
            "<class 'numpy.ndarray'>\n"
          ]
        }
      ]
    },
    {
      "cell_type": "markdown",
      "source": [
        "## 딥러닝을 가능케한 autograd"
      ],
      "metadata": {
        "id": "tKkt6PjpGMvn"
      }
    },
    {
      "cell_type": "code",
      "source": [
        "# x=torch.tensor([1.], requires_grad=True) # float 이여야해서 1.\n",
        "# print(x)\n",
        "\n",
        "x = torch.tensor([1.], requires_grad = True)\n",
        "print(x)"
      ],
      "metadata": {
        "colab": {
          "base_uri": "https://localhost:8080/"
        },
        "id": "prT2Bx96GOGG",
        "outputId": "6b1bd8bc-ea2c-4009-d294-e6c61a1978ea"
      },
      "execution_count": null,
      "outputs": [
        {
          "output_type": "stream",
          "name": "stdout",
          "text": [
            "tensor([1.], requires_grad=True)\n"
          ]
        }
      ]
    },
    {
      "cell_type": "code",
      "source": [
        "x=torch.tensor([1.])\n",
        "print(x)\n",
        "print(x.requires_grad)\n",
        "\n",
        "x.requires_grad=True\n",
        "print(x)\n",
        "print(x.requires_grad)"
      ],
      "metadata": {
        "colab": {
          "base_uri": "https://localhost:8080/"
        },
        "id": "TcjcGFkoGhlm",
        "outputId": "feefecd6-749e-4c37-c220-4d27d2395365"
      },
      "execution_count": null,
      "outputs": [
        {
          "output_type": "stream",
          "name": "stdout",
          "text": [
            "tensor([1.])\n",
            "False\n",
            "tensor([1.], requires_grad=True)\n",
            "True\n"
          ]
        }
      ]
    },
    {
      "cell_type": "code",
      "source": [
        "# x=torch.tensor([1.], requires_grad=True)\n",
        "# y=x**2\n",
        "# print(y) # PowBackward0 가 붙어있다!\n",
        "\n",
        "# print(x.grad)\n",
        "# y.backward()\n",
        "# print(x.grad) # y=x**2을 미분한 2x의 x 값에 1을 대입한 gradient 값\n",
        "\n",
        "x = torch.tensor([1.], requires_grad = True)\n",
        "y = x**2\n",
        "\n",
        "print(y)\n",
        "print(x.grad)\n",
        "y.backward()\n",
        "print(x.grad)"
      ],
      "metadata": {
        "colab": {
          "base_uri": "https://localhost:8080/"
        },
        "id": "vrOnV1lEGryX",
        "outputId": "45f03e46-93dc-4d07-d4b2-6125ccf2cd1b"
      },
      "execution_count": null,
      "outputs": [
        {
          "output_type": "stream",
          "name": "stdout",
          "text": [
            "tensor([1.], grad_fn=<PowBackward0>)\n",
            "None\n",
            "tensor([2.])\n"
          ]
        }
      ]
    },
    {
      "cell_type": "code",
      "source": [
        "x=torch.tensor([2.], requires_grad=True)\n",
        "y=x**2\n",
        "print(y)\n",
        "y.retain_grad() # 이걸 하면 y.grad도 볼 수 있다\n",
        "\n",
        "z=3*(y**2)\n",
        "print(z) # MulBackward0 가 붙어있다!\n",
        "\n",
        "z.backward() # requires_grad가 True인 요소로 미분.\n",
        "print(x.grad) # chain rule로 알아냄\n",
        "print(y.grad) # warning! 중간건 안된다"
      ],
      "metadata": {
        "colab": {
          "base_uri": "https://localhost:8080/"
        },
        "id": "37iwYRZhHvPg",
        "outputId": "0f6c021c-a797-41b9-e8f8-5326bfef69ff"
      },
      "execution_count": null,
      "outputs": [
        {
          "output_type": "stream",
          "name": "stdout",
          "text": [
            "tensor([4.], grad_fn=<PowBackward0>)\n",
            "tensor([48.], grad_fn=<MulBackward0>)\n",
            "tensor([96.])\n",
            "tensor([24.])\n"
          ]
        }
      ]
    },
    {
      "cell_type": "code",
      "source": [
        "x=torch.tensor([1.], requires_grad=True)\n",
        "y=x**2\n",
        "z=3*y\n",
        "\n",
        "y.backward() # 이렇게하면 y에서부터 뒤로 넘어감 (backward!)\n",
        "print(x.grad)"
      ],
      "metadata": {
        "colab": {
          "base_uri": "https://localhost:8080/"
        },
        "id": "uTmUpkNMJMa2",
        "outputId": "f7b56771-c09c-472d-fb17-8709267d96a4"
      },
      "execution_count": null,
      "outputs": [
        {
          "output_type": "stream",
          "name": "stdout",
          "text": [
            "tensor([2.])\n"
          ]
        }
      ]
    },
    {
      "cell_type": "code",
      "source": [
        "x=torch.tensor([1.], requires_grad=True)\n",
        "a=x**2\n",
        "b=a+1\n",
        "print(b) # AddBackward0 가 붙어있다!\n",
        "c=b**2\n",
        "c.backward()\n",
        "print(x.grad)"
      ],
      "metadata": {
        "colab": {
          "base_uri": "https://localhost:8080/"
        },
        "id": "uXGWg878JVeu",
        "outputId": "e18f32ae-af71-4702-b7de-12338c3f1eb1"
      },
      "execution_count": null,
      "outputs": [
        {
          "output_type": "stream",
          "name": "stdout",
          "text": [
            "tensor([2.], grad_fn=<AddBackward0>)\n",
            "tensor([8.])\n"
          ]
        }
      ]
    },
    {
      "cell_type": "code",
      "source": [
        "x=torch.tensor([1.],requires_grad=True)\n",
        "y=torch.tensor([1.],requires_grad=True)\n",
        "z= 2*x**2 + y**2\n",
        "print(z)\n",
        "z.backward()\n",
        "print(x.grad)\n",
        "print(y.grad)"
      ],
      "metadata": {
        "colab": {
          "base_uri": "https://localhost:8080/"
        },
        "id": "4-H9POSyKGoe",
        "outputId": "7abc61f8-98f2-49c0-a74d-9f453a4e62bc"
      },
      "execution_count": null,
      "outputs": [
        {
          "output_type": "stream",
          "name": "stdout",
          "text": [
            "tensor([3.], grad_fn=<AddBackward0>)\n",
            "tensor([4.])\n",
            "tensor([2.])\n"
          ]
        }
      ]
    },
    {
      "cell_type": "code",
      "source": [
        "x=torch.tensor([1.],requires_grad=True)\n",
        "y=torch.tensor([1.],requires_grad=True)\n",
        "z= y*x**2\n",
        "z.backward()\n",
        "print(x.grad)\n",
        "print(y.grad)"
      ],
      "metadata": {
        "colab": {
          "base_uri": "https://localhost:8080/"
        },
        "id": "-CLo7GtDKZYP",
        "outputId": "7e79d89c-dae8-4788-823a-aa82926081e5"
      },
      "execution_count": null,
      "outputs": [
        {
          "output_type": "stream",
          "name": "stdout",
          "text": [
            "tensor([2.])\n",
            "tensor([1.])\n"
          ]
        }
      ]
    },
    {
      "cell_type": "code",
      "source": [
        "x=torch.tensor([1., 2., 3.] ,requires_grad=True)\n",
        "y=torch.sum(x**2) # x1**2 + x2**2 + x3**2\n",
        "y.backward()\n",
        "\n",
        "print(y)\n",
        "print(x.grad) # 스칼라를 벡터로 미분"
      ],
      "metadata": {
        "colab": {
          "base_uri": "https://localhost:8080/"
        },
        "id": "OcwjW_rHKaQY",
        "outputId": "90d7ce64-8dfa-4939-91a4-76f7923b3189"
      },
      "execution_count": null,
      "outputs": [
        {
          "output_type": "stream",
          "name": "stdout",
          "text": [
            "tensor(14., grad_fn=<SumBackward0>)\n",
            "tensor([2., 4., 6.])\n"
          ]
        }
      ]
    },
    {
      "cell_type": "code",
      "source": [
        "x=torch.tensor([1.] ,requires_grad=True)\n",
        "x.requires_grad=False\n",
        "# tranfer learning 할 때 필요  pretarinning model 활용.\n",
        "y=x**2\n",
        "print(y)\n",
        "# y.backward() # error!"
      ],
      "metadata": {
        "colab": {
          "base_uri": "https://localhost:8080/"
        },
        "id": "OnA1FrLgKtHU",
        "outputId": "dc8a582a-a3ab-4c74-d36f-d65b53d74474"
      },
      "execution_count": null,
      "outputs": [
        {
          "output_type": "stream",
          "name": "stdout",
          "text": [
            "tensor([1.])\n"
          ]
        }
      ]
    },
    {
      "cell_type": "code",
      "source": [
        "x=torch.tensor([2.] ,requires_grad=True)\n",
        "x=x.detach() # detach도 많이 쓰이는 듯\n",
        "print(x)\n",
        "y=x**2\n",
        "print(y)"
      ],
      "metadata": {
        "colab": {
          "base_uri": "https://localhost:8080/"
        },
        "id": "3IkS-TBZK7oH",
        "outputId": "5538d184-3ecb-40c0-ebd4-0534d112a79f"
      },
      "execution_count": null,
      "outputs": [
        {
          "output_type": "stream",
          "name": "stdout",
          "text": [
            "tensor([2.])\n",
            "tensor([4.])\n"
          ]
        }
      ]
    },
    {
      "cell_type": "code",
      "source": [
        "# # detach 와 torch.no_grad\n",
        "# x=torch.tensor([1.], requires_grad=True)\n",
        "# # chain rule을 위해 계속 grad_fu을 update 하니까 grad_fn 잠시 안 계산하고 싶을 때 torch.no_grad\n",
        "# # 모델 테스트 시에는 불필요하게 메모리 쓸 필요 없기 때문!\n",
        "# with torch.no_grad():\n",
        "#     y=x**2\n",
        "#     print(x.requires_grad)\n",
        "#     print(y)\n",
        "# print(x.requires_grad)\n",
        "# # y.backward() # error!\n",
        "# y=x**2\n",
        "# print(y)\n",
        "\n",
        "x = torch.tensor([1.], requires_grad = True)\n",
        "\n",
        "with torch.no_grad():\n",
        "    y = x**2\n",
        "    print(y)\n",
        "\n",
        "y = x**2\n",
        "print(y)\n",
        "\n",
        "# x=torch.tensor([1.], requires_grad=True)\n",
        "# x=x.detach()\n",
        "# y = x**2\n",
        "# print(x.requires_grad)\n",
        "# print(y)\n",
        "# # y.backward() # error!"
      ],
      "metadata": {
        "colab": {
          "base_uri": "https://localhost:8080/"
        },
        "id": "PyN_3wAULp-_",
        "outputId": "e984a563-1e53-41cf-94ec-d762e19647e1"
      },
      "execution_count": null,
      "outputs": [
        {
          "output_type": "stream",
          "name": "stdout",
          "text": [
            "tensor([1.])\n",
            "tensor([1.], grad_fn=<PowBackward0>)\n"
          ]
        }
      ]
    },
    {
      "cell_type": "code",
      "source": [
        "# !pip install torchviz\n",
        "# from torchviz import make_dot\n",
        "x=torch.tensor([1., 2.],requires_grad=True)\n",
        "print((x**2+1)**2)\n",
        "# make_dot(x)\n",
        "# make_dot(x**2)\n",
        "# make_dot(x**2+1)\n",
        "make_dot((x**2+1)**2)"
      ],
      "metadata": {
        "colab": {
          "base_uri": "https://localhost:8080/",
          "height": 473
        },
        "id": "XZ-1KlfUMp5v",
        "outputId": "709de521-8cbd-437f-b4ac-2b361713fded"
      },
      "execution_count": null,
      "outputs": [
        {
          "output_type": "stream",
          "name": "stdout",
          "text": [
            "tensor([ 4., 25.], grad_fn=<PowBackward0>)\n"
          ]
        },
        {
          "output_type": "execute_result",
          "data": {
            "image/svg+xml": "<?xml version=\"1.0\" encoding=\"UTF-8\" standalone=\"no\"?>\n<!DOCTYPE svg PUBLIC \"-//W3C//DTD SVG 1.1//EN\"\n \"http://www.w3.org/Graphics/SVG/1.1/DTD/svg11.dtd\">\n<!-- Generated by graphviz version 2.43.0 (0)\n -->\n<!-- Title: %3 Pages: 1 -->\n<svg width=\"109pt\" height=\"326pt\"\n viewBox=\"0.00 0.00 109.00 326.00\" xmlns=\"http://www.w3.org/2000/svg\" xmlns:xlink=\"http://www.w3.org/1999/xlink\">\n<g id=\"graph0\" class=\"graph\" transform=\"scale(1 1) rotate(0) translate(4 322)\">\n<title>%3</title>\n<polygon fill=\"white\" stroke=\"transparent\" points=\"-4,4 -4,-322 105,-322 105,4 -4,4\"/>\n<!-- 138626169293376 -->\n<g id=\"node1\" class=\"node\">\n<title>138626169293376</title>\n<polygon fill=\"#caff70\" stroke=\"black\" points=\"77.5,-31 23.5,-31 23.5,0 77.5,0 77.5,-31\"/>\n<text text-anchor=\"middle\" x=\"50.5\" y=\"-7\" font-family=\"monospace\" font-size=\"10.00\"> (2)</text>\n</g>\n<!-- 138626169442976 -->\n<g id=\"node2\" class=\"node\">\n<title>138626169442976</title>\n<polygon fill=\"lightgrey\" stroke=\"black\" points=\"95,-86 6,-86 6,-67 95,-67 95,-86\"/>\n<text text-anchor=\"middle\" x=\"50.5\" y=\"-74\" font-family=\"monospace\" font-size=\"10.00\">PowBackward0</text>\n</g>\n<!-- 138626169442976&#45;&gt;138626169293376 -->\n<g id=\"edge5\" class=\"edge\">\n<title>138626169442976&#45;&gt;138626169293376</title>\n<path fill=\"none\" stroke=\"black\" d=\"M50.5,-66.79C50.5,-60.07 50.5,-50.4 50.5,-41.34\"/>\n<polygon fill=\"black\" stroke=\"black\" points=\"54,-41.19 50.5,-31.19 47,-41.19 54,-41.19\"/>\n</g>\n<!-- 138626169443696 -->\n<g id=\"node3\" class=\"node\">\n<title>138626169443696</title>\n<polygon fill=\"lightgrey\" stroke=\"black\" points=\"95,-141 6,-141 6,-122 95,-122 95,-141\"/>\n<text text-anchor=\"middle\" x=\"50.5\" y=\"-129\" font-family=\"monospace\" font-size=\"10.00\">AddBackward0</text>\n</g>\n<!-- 138626169443696&#45;&gt;138626169442976 -->\n<g id=\"edge1\" class=\"edge\">\n<title>138626169443696&#45;&gt;138626169442976</title>\n<path fill=\"none\" stroke=\"black\" d=\"M50.5,-121.75C50.5,-114.8 50.5,-104.85 50.5,-96.13\"/>\n<polygon fill=\"black\" stroke=\"black\" points=\"54,-96.09 50.5,-86.09 47,-96.09 54,-96.09\"/>\n</g>\n<!-- 138626169449744 -->\n<g id=\"node4\" class=\"node\">\n<title>138626169449744</title>\n<polygon fill=\"lightgrey\" stroke=\"black\" points=\"95,-196 6,-196 6,-177 95,-177 95,-196\"/>\n<text text-anchor=\"middle\" x=\"50.5\" y=\"-184\" font-family=\"monospace\" font-size=\"10.00\">PowBackward0</text>\n</g>\n<!-- 138626169449744&#45;&gt;138626169443696 -->\n<g id=\"edge2\" class=\"edge\">\n<title>138626169449744&#45;&gt;138626169443696</title>\n<path fill=\"none\" stroke=\"black\" d=\"M50.5,-176.75C50.5,-169.8 50.5,-159.85 50.5,-151.13\"/>\n<polygon fill=\"black\" stroke=\"black\" points=\"54,-151.09 50.5,-141.09 47,-151.09 54,-151.09\"/>\n</g>\n<!-- 138626169449792 -->\n<g id=\"node5\" class=\"node\">\n<title>138626169449792</title>\n<polygon fill=\"lightgrey\" stroke=\"black\" points=\"101,-251 0,-251 0,-232 101,-232 101,-251\"/>\n<text text-anchor=\"middle\" x=\"50.5\" y=\"-239\" font-family=\"monospace\" font-size=\"10.00\">AccumulateGrad</text>\n</g>\n<!-- 138626169449792&#45;&gt;138626169449744 -->\n<g id=\"edge3\" class=\"edge\">\n<title>138626169449792&#45;&gt;138626169449744</title>\n<path fill=\"none\" stroke=\"black\" d=\"M50.5,-231.75C50.5,-224.8 50.5,-214.85 50.5,-206.13\"/>\n<polygon fill=\"black\" stroke=\"black\" points=\"54,-206.09 50.5,-196.09 47,-206.09 54,-206.09\"/>\n</g>\n<!-- 138626170116336 -->\n<g id=\"node6\" class=\"node\">\n<title>138626170116336</title>\n<polygon fill=\"lightblue\" stroke=\"black\" points=\"77.5,-318 23.5,-318 23.5,-287 77.5,-287 77.5,-318\"/>\n<text text-anchor=\"middle\" x=\"50.5\" y=\"-294\" font-family=\"monospace\" font-size=\"10.00\"> (2)</text>\n</g>\n<!-- 138626170116336&#45;&gt;138626169449792 -->\n<g id=\"edge4\" class=\"edge\">\n<title>138626170116336&#45;&gt;138626169449792</title>\n<path fill=\"none\" stroke=\"black\" d=\"M50.5,-286.92C50.5,-279.22 50.5,-269.69 50.5,-261.43\"/>\n<polygon fill=\"black\" stroke=\"black\" points=\"54,-261.25 50.5,-251.25 47,-261.25 54,-261.25\"/>\n</g>\n</g>\n</svg>\n",
            "text/plain": [
              "<graphviz.graphs.Digraph at 0x7e146b960d30>"
            ]
          },
          "metadata": {},
          "execution_count": 28
        }
      ]
    },
    {
      "cell_type": "markdown",
      "source": [
        "## 간단한 인공신경망 만들기"
      ],
      "metadata": {
        "id": "_msxA-KpwUU6"
      }
    },
    {
      "cell_type": "code",
      "source": [
        "# import torch\n",
        "from torch import nn\n",
        "\n",
        "x=torch.tensor([1.])\n",
        "model = nn.Linear(1,1) # 입력 node 한 개, 출력 node 한 개인 layer 만듦\n",
        "\n",
        "print(model.weight) # 만들면서 initialize 함\n",
        "print(model.bias)\n",
        "\n",
        "y = model(x)\n",
        "print(y)\n",
        "\n",
        "y = x @ model.weight + model.bias\n",
        "print(y)"
      ],
      "metadata": {
        "colab": {
          "base_uri": "https://localhost:8080/"
        },
        "id": "4EtybuRhwXvc",
        "outputId": "aed2425a-0291-4d1f-ba19-8b97569701f9"
      },
      "execution_count": 3,
      "outputs": [
        {
          "output_type": "stream",
          "name": "stdout",
          "text": [
            "Parameter containing:\n",
            "tensor([[0.3381]], requires_grad=True)\n",
            "Parameter containing:\n",
            "tensor([-0.0849], requires_grad=True)\n",
            "tensor([0.2532], grad_fn=<ViewBackward0>)\n",
            "tensor([0.2532], grad_fn=<AddBackward0>)\n"
          ]
        }
      ]
    },
    {
      "cell_type": "code",
      "source": [
        "fc1 = nn.Linear(1,3) # fully-connected\n",
        "fc2 = nn.Linear(3,1)\n",
        "\n",
        "print(fc1.weight)\n",
        "print(fc1.bias) # bias는 해당 신경의 민감, 둔감도로 이해가능.\n",
        "print(fc2.weight)\n",
        "print(fc2.bias) # bias가 하나.\n",
        "\n",
        "x=torch.tensor([1.])\n",
        "x=fc1(x)\n",
        "print(x)\n",
        "x=fc2(x)\n",
        "print(x)\n",
        "\n",
        "x=torch.tensor([1.])\n",
        "y = (x@fc1.weight.T+fc1.bias)@fc2.weight.T+fc2.bias # 파이토치 특성상 weihgt matrix가 transpose된상태이다.\n",
        "# nn.Linear 는 개x채x행x열에서 \"채\" 형태로 (1D data) 들어오길 기대하는 녀석이다.\n",
        "# 즉, 노드 하나가 곧 한 채널의 의미한다.\n",
        "# 따라서, 데이터 여러개를 통과시키고 싶다면 개x채 의 형태로 줘야 함\n",
        "# why T? weight도 개x채 형태로 만들기 위함!\n",
        "# 일단, weight shape 개x채에서 채는 무조건 앞에 거 채널 개수와 맞추셈! 약속! 약속! 일반적인 mlp, conv\n",
        "# 예를 들어, nn.Linear(2,3) 이면 앞에거 채널 개수는 2 따라서 ?x2 인데\n",
        "# 두 채널 값을 가지고 3개의 노드를 만드는 거라서 3x2 가 된다!\n",
        "\n",
        "print(y)\n",
        "# input size: 1\n",
        "# fc1.weight.T size: 1x3\n",
        "# fc1.bias size: 3\n",
        "# fc2.weight.T size: 3x1\n",
        "# fc2.bias size: 1"
      ],
      "metadata": {
        "colab": {
          "base_uri": "https://localhost:8080/"
        },
        "id": "tbvik3R0yAYL",
        "outputId": "2567f608-306a-4444-d773-5fd14f8453e8"
      },
      "execution_count": 5,
      "outputs": [
        {
          "output_type": "stream",
          "name": "stdout",
          "text": [
            "Parameter containing:\n",
            "tensor([[0.7272],\n",
            "        [0.9891],\n",
            "        [0.7011]], requires_grad=True)\n",
            "Parameter containing:\n",
            "tensor([-0.9851,  0.4118, -0.6164], requires_grad=True)\n",
            "Parameter containing:\n",
            "tensor([[-0.3995, -0.4969, -0.0852]], requires_grad=True)\n",
            "Parameter containing:\n",
            "tensor([-0.1954], requires_grad=True)\n",
            "tensor([-0.2578,  1.4008,  0.0847], grad_fn=<ViewBackward0>)\n",
            "tensor([-0.7957], grad_fn=<ViewBackward0>)\n",
            "tensor([-0.7957], grad_fn=<AddBackward0>)\n"
          ]
        }
      ]
    },
    {
      "cell_type": "code",
      "source": [
        "fc1 = nn.Linear(1,3)\n",
        "fc2 = nn.Linear(3,1)\n",
        "\n",
        "x=torch.tensor([1.])\n",
        "x=fc1(x)\n",
        "print(x)\n",
        "x=fc2(x)\n",
        "print(x)\n",
        "\n",
        "model = nn.Sequential(fc1, fc2) # layer 풀칠\n",
        "x=torch.tensor([1.])\n",
        "print(model(x))\n",
        "\n",
        "# fc1 = nn.Linear(1,3)\n",
        "# fc2 = nn.Linear(3,1)\n",
        "\n",
        "# model = nn.Sequential(fc1, fc2)\n",
        "\n",
        "# x = torch.tensor([1.])\n",
        "\n",
        "# print(x)\n",
        "# print(model(x))"
      ],
      "metadata": {
        "colab": {
          "base_uri": "https://localhost:8080/"
        },
        "id": "xURqkIyQ4LB7",
        "outputId": "c3c311e3-16dc-4504-a3dc-0f11c48c1434"
      },
      "execution_count": 7,
      "outputs": [
        {
          "output_type": "stream",
          "name": "stdout",
          "text": [
            "tensor([1.])\n",
            "tensor([-0.3490], grad_fn=<ViewBackward0>)\n"
          ]
        }
      ]
    },
    {
      "cell_type": "code",
      "source": [
        "model = nn.Sequential(nn.Linear(2,5), # 여기는 채,채\n",
        "                      nn.Linear(5,10),\n",
        "                      nn.Linear(10,3))\n",
        "\n",
        "x=torch.randn(2)\n",
        "print(x)\n",
        "print(model(x))\n",
        "\n",
        "x=torch.randn(1,2)\n",
        "print(x)\n",
        "print(model(x))\n",
        "\n",
        "x=torch.randn(5,2) # 개x채 => 두 개의 채널 값(키, 몸무게)을 가지는 데이터(사람) 5개를 통과시킴\n",
        "print(x)\n",
        "print(model(x))\n",
        "\n",
        "x=torch.randn(2,3,1,4,5,2) # 채 앞은 모조리 개\n",
        "print(model(x).shape)"
      ],
      "metadata": {
        "colab": {
          "base_uri": "https://localhost:8080/"
        },
        "id": "10eOxDlO4ssy",
        "outputId": "2e8dfa26-fb46-4e01-f878-9f09dff5b5c6"
      },
      "execution_count": null,
      "outputs": [
        {
          "output_type": "stream",
          "name": "stdout",
          "text": [
            "tensor([-0.2115, -1.6457])\n",
            "tensor([0.5339, 0.5663, 0.4219], grad_fn=<AddBackward0>)\n",
            "tensor([[1.1064, 0.4146]])\n",
            "tensor([[-0.1059, -0.0736,  0.6442]], grad_fn=<AddmmBackward0>)\n",
            "tensor([[ 0.7434, -0.2427],\n",
            "        [-0.4870, -0.8473],\n",
            "        [ 0.4725,  0.1137],\n",
            "        [-1.1611, -0.3709],\n",
            "        [-0.5012, -1.5173]])\n",
            "tensor([[0.0809, 0.1192, 0.5892],\n",
            "        [0.5228, 0.4744, 0.2909],\n",
            "        [0.1205, 0.1075, 0.4898],\n",
            "        [0.6698, 0.5209, 0.0719],\n",
            "        [0.6060, 0.6002, 0.3330]], grad_fn=<AddmmBackward0>)\n",
            "torch.Size([2, 3, 1, 4, 5, 3])\n"
          ]
        }
      ]
    },
    {
      "cell_type": "code",
      "source": [
        "class MyModel(nn.Module): # nn.Module을 상속.\n",
        "    def __init__(self):\n",
        "        super().__init__()\n",
        "\n",
        "        self.fc1 = nn.Linear(2,5)\n",
        "        self.fc2 = nn.Linear(5,10)\n",
        "        self.fc3 = nn.Linear(10,3)\n",
        "        self.sig1 = nn.Sigmoid() # 0,0.5에서 최대기울기 0.25\n",
        "        self.sig2 = nn.Sigmoid()\n",
        "        self.sig3 = nn.Sigmoid()\n",
        "\n",
        "    def forward(self, x):\n",
        "        x = self.fc1(x)\n",
        "        x = self.sig1(x)\n",
        "        x = self.fc2(x)\n",
        "        x = self.sig2(x)\n",
        "        x = self.fc3(x)\n",
        "        x = self.sig3(x)\n",
        "        return x\n",
        "\n",
        "model = MyModel()\n",
        "x = torch.randn(5,2)\n",
        "y = model(x)\n",
        "print(y)"
      ],
      "metadata": {
        "colab": {
          "base_uri": "https://localhost:8080/"
        },
        "id": "IKM2Ghae6s6N",
        "outputId": "6a5c28aa-a397-4b8a-b772-9cb3bf58ec67"
      },
      "execution_count": 12,
      "outputs": [
        {
          "output_type": "stream",
          "name": "stdout",
          "text": [
            "tensor([[0.4931, 0.6989, 0.5347],\n",
            "        [0.4962, 0.6978, 0.5354],\n",
            "        [0.4924, 0.6966, 0.5356],\n",
            "        [0.4905, 0.6996, 0.5342],\n",
            "        [0.4911, 0.6971, 0.5354]], grad_fn=<SigmoidBackward0>)\n"
          ]
        }
      ]
    },
    {
      "cell_type": "code",
      "source": [
        "print(model)\n",
        "print(model.fc1.weight)\n",
        "print(model.fc2.bias)"
      ],
      "metadata": {
        "colab": {
          "base_uri": "https://localhost:8080/"
        },
        "id": "AhbpzSze-G6n",
        "outputId": "eb694850-9aca-4bd8-c802-692df2c3121f"
      },
      "execution_count": 13,
      "outputs": [
        {
          "output_type": "stream",
          "name": "stdout",
          "text": [
            "MyModel(\n",
            "  (fc1): Linear(in_features=2, out_features=5, bias=True)\n",
            "  (fc2): Linear(in_features=5, out_features=10, bias=True)\n",
            "  (fc3): Linear(in_features=10, out_features=3, bias=True)\n",
            "  (sig1): Sigmoid()\n",
            "  (sig2): Sigmoid()\n",
            "  (sig3): Sigmoid()\n",
            ")\n",
            "Parameter containing:\n",
            "tensor([[ 0.5548,  0.0206],\n",
            "        [-0.0761, -0.2640],\n",
            "        [-0.2779, -0.6512],\n",
            "        [ 0.4191,  0.2412],\n",
            "        [ 0.6691,  0.4870]], requires_grad=True)\n",
            "Parameter containing:\n",
            "tensor([ 0.2140, -0.1453, -0.3428, -0.2356, -0.0434, -0.1462,  0.4141, -0.2280,\n",
            "         0.1741, -0.0523], requires_grad=True)\n"
          ]
        }
      ]
    },
    {
      "cell_type": "code",
      "source": [
        "# class MyModel2(nn.Module):\n",
        "#     def __init__(self):\n",
        "#         super().__init__()\n",
        "#         self.linear = nn.Sequential(\n",
        "#             nn.Linear(2,5),\n",
        "#             nn.Sigmoid(),\n",
        "#             nn.Linear(5,10),\n",
        "#             nn.Sigmoid(),\n",
        "#             nn.Linear(10,3),\n",
        "#             nn.Sigmoid())\n",
        "\n",
        "#     def forward(self,x):\n",
        "#         x = self.linear(x)\n",
        "#         return x\n",
        "\n",
        "# model2 = MyModel2()\n",
        "# x = torch.randn(5,2)\n",
        "# y = model2(x)\n",
        "# print(y)\n",
        "\n",
        "class MyModel2(nn.Module):\n",
        "    def __init__(self):\n",
        "        super().__init__()\n",
        "\n",
        "        self.linear = nn.Sequential(nn.Linear(2,5), nn.Sigmoid(),\n",
        "                                    nn.Linear(5,10), nn.Sigmoid(),\n",
        "                                    nn.Linear(10,3), nn.Sigmoid())\n",
        "\n",
        "    def forward(self, x):\n",
        "        x = self.linear(x)\n",
        "\n",
        "        return x\n",
        "\n",
        "model2 = MyModel2()\n",
        "x = torch.randn(5,2)\n",
        "y = model2(x)\n",
        "print(y)"
      ],
      "metadata": {
        "colab": {
          "base_uri": "https://localhost:8080/"
        },
        "id": "QoS0WARp-bEr",
        "outputId": "1557bc0c-f8a7-48fd-bbf4-548cf52a6d29"
      },
      "execution_count": 14,
      "outputs": [
        {
          "output_type": "stream",
          "name": "stdout",
          "text": [
            "tensor([[0.4006, 0.5370, 0.6288],\n",
            "        [0.3970, 0.5371, 0.6345],\n",
            "        [0.4035, 0.5439, 0.6310],\n",
            "        [0.4018, 0.5419, 0.6316],\n",
            "        [0.4035, 0.5436, 0.6306]], grad_fn=<SigmoidBackward0>)\n"
          ]
        }
      ]
    },
    {
      "cell_type": "code",
      "source": [
        "print(model2)\n",
        "print(model2.linear[0].weight)\n",
        "print(model2.linear[-2].bias)"
      ],
      "metadata": {
        "colab": {
          "base_uri": "https://localhost:8080/"
        },
        "id": "YQPswPA2_I38",
        "outputId": "5a5c4ca9-8cda-4937-8c58-00215bc566be"
      },
      "execution_count": null,
      "outputs": [
        {
          "output_type": "stream",
          "name": "stdout",
          "text": [
            "MyModel2(\n",
            "  (linear): Sequential(\n",
            "    (0): Linear(in_features=2, out_features=5, bias=True)\n",
            "    (1): Sigmoid()\n",
            "    (2): Linear(in_features=5, out_features=10, bias=True)\n",
            "    (3): Sigmoid()\n",
            "    (4): Linear(in_features=10, out_features=3, bias=True)\n",
            "    (5): Sigmoid()\n",
            "  )\n",
            ")\n",
            "Parameter containing:\n",
            "tensor([[ 0.5882, -0.1803],\n",
            "        [-0.3234,  0.6736],\n",
            "        [ 0.1816, -0.3730],\n",
            "        [-0.5313,  0.1610],\n",
            "        [-0.2035, -0.4490]], requires_grad=True)\n",
            "Parameter containing:\n",
            "tensor([-0.2463, -0.3069, -0.2348], requires_grad=True)\n"
          ]
        }
      ]
    },
    {
      "cell_type": "code",
      "source": [
        "list(model.parameters())"
      ],
      "metadata": {
        "colab": {
          "base_uri": "https://localhost:8080/"
        },
        "id": "NkwWghuuAUrz",
        "outputId": "c8c3f3bb-f96b-422c-acf2-3891251ce225"
      },
      "execution_count": null,
      "outputs": [
        {
          "output_type": "execute_result",
          "data": {
            "text/plain": [
              "[Parameter containing:\n",
              " tensor([[-0.1498, -0.1774],\n",
              "         [-0.1540,  0.5480],\n",
              "         [ 0.3895,  0.4730],\n",
              "         [-0.0553,  0.5704],\n",
              "         [-0.4322, -0.5768]], requires_grad=True), Parameter containing:\n",
              " tensor([ 0.5022, -0.5783,  0.3279, -0.1828, -0.2740], requires_grad=True), Parameter containing:\n",
              " tensor([[-1.9592e-04, -3.1074e-01,  9.8688e-02,  1.2608e-02, -4.2887e-01],\n",
              "         [-3.2016e-02, -3.8420e-01,  1.4005e-01, -3.2193e-02,  1.2688e-01],\n",
              "         [ 1.2562e-01,  8.4013e-02, -1.1773e-01, -8.5302e-02, -4.4347e-01],\n",
              "         [-2.7976e-01, -2.8719e-02,  2.8292e-01,  4.1799e-02,  2.8570e-04],\n",
              "         [ 4.2156e-02, -2.9544e-01,  3.6284e-01,  3.5578e-01,  1.2462e-01],\n",
              "         [ 3.2279e-01, -3.6989e-01,  2.4944e-01, -1.2068e-01,  1.9016e-01],\n",
              "         [-3.7973e-02, -3.1601e-01, -1.2153e-01, -4.4226e-01, -2.3349e-01],\n",
              "         [ 3.4167e-01, -1.0767e-01, -2.7544e-01,  2.1396e-01,  2.2648e-01],\n",
              "         [ 5.5263e-02, -3.7972e-02, -2.7386e-01,  2.4645e-01, -2.9669e-01],\n",
              "         [ 2.2193e-01, -6.5834e-02, -1.8236e-01,  3.0235e-01,  2.1629e-01]],\n",
              "        requires_grad=True), Parameter containing:\n",
              " tensor([ 0.2966,  0.1743, -0.3898, -0.2966, -0.0614, -0.4197,  0.0460,  0.2574,\n",
              "          0.0189, -0.4241], requires_grad=True), Parameter containing:\n",
              " tensor([[-0.1131, -0.0645, -0.1332,  0.1049, -0.0229,  0.0032, -0.1331,  0.0100,\n",
              "           0.2498, -0.1197],\n",
              "         [-0.0147, -0.2343,  0.0477,  0.0635,  0.0654,  0.0489, -0.0297,  0.2492,\n",
              "          -0.0986, -0.2913],\n",
              "         [-0.2840, -0.3084, -0.1185,  0.2781, -0.3138,  0.0343, -0.1931, -0.1857,\n",
              "           0.0319, -0.1245]], requires_grad=True), Parameter containing:\n",
              " tensor([ 0.3131, -0.0047, -0.0516], requires_grad=True)]"
            ]
          },
          "metadata": {},
          "execution_count": 46
        }
      ]
    },
    {
      "cell_type": "code",
      "source": [
        "# 파라미터 수 구하기\n",
        "num = sum([p.numel() for p in model.parameters() if p.requires_grad]) #if p.requires_grad는 학습 파라미터만 계산하고 싶을때.\n",
        "print(num)"
      ],
      "metadata": {
        "colab": {
          "base_uri": "https://localhost:8080/"
        },
        "id": "5HHbUV0YAhhE",
        "outputId": "07cf5143-1063-4d69-fe90-223a26ea7f2f"
      },
      "execution_count": null,
      "outputs": [
        {
          "output_type": "stream",
          "name": "stdout",
          "text": [
            "108\n"
          ]
        }
      ]
    },
    {
      "cell_type": "markdown",
      "source": [
        "## weight initialization\n",
        "\n",
        "https://pytorch.org/docs/stable/nn.init.html"
      ],
      "metadata": {
        "id": "IZ3eiZ33A02z"
      }
    },
    {
      "cell_type": "code",
      "source": [
        "# 내 필기용 : He initialization 이 공식 문서랑 다르다? => paper에 맞게 구현됐고 torch 공식 문서만 틀림\n",
        "import torch\n",
        "from torch import nn\n",
        "\n",
        "Fin=5000\n",
        "Fout=1000\n",
        "w = torch.zeros(141, Fin)\n",
        "nn.init.kaiming_uniform_(w, mode='fan_in', nonlinearity='relu') # forward pass에서 값의 범위를 유지시켜주기 위함\n",
        "print(w.std())\n",
        "print(torch.sqrt(torch.tensor(2/Fin)))\n",
        "w = torch.zeros(Fout, 212)\n",
        "nn.init.kaiming_uniform_(w, mode='fan_out', nonlinearity='relu') # backward pass에서 값의 범위를 유지시켜주기 위함\n",
        "print(w.std())\n",
        "print(torch.sqrt(torch.tensor(2/Fout)))\n",
        "\n",
        "# CNN?\n",
        "N=32\n",
        "C=64\n",
        "H=6\n",
        "W=10\n",
        "w = torch.zeros(N,C,H,W)\n",
        "nn.init.kaiming_uniform_(w, mode='fan_in', nonlinearity='relu')\n",
        "print(w.std())\n",
        "print(torch.sqrt(torch.tensor(2/(C*H*W))))\n",
        "\n",
        "w = torch.zeros(N,C,H,W)\n",
        "nn.init.kaiming_uniform_(w, mode='fan_out', nonlinearity='relu')\n",
        "print(w.std())\n",
        "print(torch.sqrt(torch.tensor(2/(N*H*W))))"
      ],
      "metadata": {
        "id": "NR1pSrEsAz11"
      },
      "execution_count": null,
      "outputs": []
    }
  ]
}