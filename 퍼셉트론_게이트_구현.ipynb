{
  "nbformat": 4,
  "nbformat_minor": 0,
  "metadata": {
    "colab": {
      "private_outputs": true,
      "provenance": [],
      "authorship_tag": "ABX9TyNE7FQqbE7sQPU9OTiV2qM/",
      "include_colab_link": true
    },
    "kernelspec": {
      "name": "python3",
      "display_name": "Python 3"
    },
    "language_info": {
      "name": "python"
    }
  },
  "cells": [
    {
      "cell_type": "markdown",
      "metadata": {
        "id": "view-in-github",
        "colab_type": "text"
      },
      "source": [
        "<a href=\"https://colab.research.google.com/github/jiwoong2/deeplearning/blob/main/%ED%8D%BC%EC%85%89%ED%8A%B8%EB%A1%A0_%EA%B2%8C%EC%9D%B4%ED%8A%B8_%EA%B5%AC%ED%98%84.ipynb\" target=\"_parent\"><img src=\"https://colab.research.google.com/assets/colab-badge.svg\" alt=\"Open In Colab\"/></a>"
      ]
    },
    {
      "cell_type": "code",
      "execution_count": null,
      "metadata": {
        "id": "pTtLOIV4ahHY"
      },
      "outputs": [],
      "source": [
        "import numpy as np"
      ]
    },
    {
      "cell_type": "markdown",
      "source": [
        "# AND 게이트 구현"
      ],
      "metadata": {
        "id": "0U_f76BBiKTm"
      }
    },
    {
      "cell_type": "code",
      "source": [
        "def AND(x1, x2):\n",
        "    x = np.array([x1, x2])\n",
        "    w = np.array([0.5, 0.5])\n",
        "    b = -0.7  # 설명1\n",
        "    tmp = np.sum(w*x) + b # 설명2\n",
        "    if tmp <= 0:\n",
        "        return 0\n",
        "    else:\n",
        "        return 1"
      ],
      "metadata": {
        "id": "sXlPy9S9ariY"
      },
      "execution_count": null,
      "outputs": []
    },
    {
      "cell_type": "markdown",
      "source": [
        "설명1: b는 bias(편향)로 위의 경우 AND게이트를 나태내는 수식 $x_1*w_1+x_2*w_2>=\\theta$ 를 $x_1*w_1+x_2*w_2-\\theta>=0$ 로 바꾼 식에서 $-\\theta$를 치환한 것 이다.\n",
        "\n",
        "설명2: w*x의 모든 원소를 합하고 bias를 더하라는 의미로 $x_1*w_1+x_2*w_2-\\theta$와 같은 의미 이다."
      ],
      "metadata": {
        "id": "h7WP4c9ZePxN"
      }
    },
    {
      "cell_type": "code",
      "source": [
        "for xs in [(0,0), (1,0), (0,1), (1,1)]:\n",
        "    y = AND(xs[0], xs[1])\n",
        "    print(str(xs) + \"->\" + str(y))"
      ],
      "metadata": {
        "id": "fYyzI9fMg0rQ"
      },
      "execution_count": null,
      "outputs": []
    },
    {
      "cell_type": "markdown",
      "source": [
        "# NAND 게이트 구현"
      ],
      "metadata": {
        "id": "d3HR7h2oiU1Q"
      }
    },
    {
      "cell_type": "code",
      "source": [
        "# 설명1\n",
        "def NAND(x1, x2):\n",
        "    x = np.array([x1, x2])\n",
        "    w = np.array([-0.5, -0.5])\n",
        "    b = 0.7\n",
        "    tmp = np.sum(w*x) + b\n",
        "    if tmp <= 0:\n",
        "        return 0\n",
        "    else:\n",
        "        return 1"
      ],
      "metadata": {
        "id": "zSZhMJTYibJf"
      },
      "execution_count": null,
      "outputs": []
    },
    {
      "cell_type": "markdown",
      "source": [
        "설명1: AND 게이트 구현 에서 weight 와 bias의 기호만 바뀌었는데 이유는 노트한 퍼셉트론의 기하학적 의미에서 AND 게이트와 NAND게이트는 같은 직선을 경계로 가질 수 있으며(가질 수 있다는 말의 의미는 퍼셉트론을 구현할 만한 직선은 무수히 많기 때문) 차이점은 경계를 기준으로 차지하는 영역이기 떄문이다."
      ],
      "metadata": {
        "id": "fWH7eHb_ixoT"
      }
    },
    {
      "cell_type": "code",
      "source": [
        "for xs in [(0,0), (1,0), (0,1), (1,1)]:\n",
        "    y = NAND(xs[0], xs[1])\n",
        "    print(str(xs) + \"->\" + str(y))"
      ],
      "metadata": {
        "id": "IIVHeVxViklL"
      },
      "execution_count": null,
      "outputs": []
    },
    {
      "cell_type": "markdown",
      "source": [
        "# OR 게이트 구현"
      ],
      "metadata": {
        "id": "WLH7fT5GjsIB"
      }
    },
    {
      "cell_type": "code",
      "source": [
        "def OR(x1, x2):\n",
        "    x = np.array([x1, x2])\n",
        "    w = np.array([0.5, 0.5])\n",
        "    b = -0.2\n",
        "    tmp = np.sum(w*x) + b\n",
        "    if tmp <= 0:\n",
        "        return 0\n",
        "    else:\n",
        "        return 1"
      ],
      "metadata": {
        "id": "FFreMXGBj1L6"
      },
      "execution_count": null,
      "outputs": []
    },
    {
      "cell_type": "code",
      "source": [
        "for xs in [(0,0), (1,0), (0,1), (1,1)]:\n",
        "     y = OR(xs[0], xs[1])\n",
        "     print(str(xs) + \"->\" + str(y))"
      ],
      "metadata": {
        "id": "3m0Gh1Ooj-r2"
      },
      "execution_count": null,
      "outputs": []
    },
    {
      "cell_type": "markdown",
      "source": [
        "# XOR 게이트 구현"
      ],
      "metadata": {
        "id": "t6KaUykjkOO5"
      }
    },
    {
      "cell_type": "code",
      "source": [
        "# 설명1\n",
        "def XOR(x1, x2):\n",
        "    s1 = NAND(x1, x2)\n",
        "    s2 = OR(x1, x2)\n",
        "    y = AND(s1, s2)\n",
        "    return y"
      ],
      "metadata": {
        "id": "XkhPicHckEBr"
      },
      "execution_count": null,
      "outputs": []
    },
    {
      "cell_type": "markdown",
      "source": [
        "설명1: XOR 게이트는 단일 퍼셉트론으로는 구현이 불가능 하며 노트한 다층 퍼셉트론으로 구현한 XOR 게이트를 보면 NAND게이트 OR게이트 AND게이트를 조합해 구현이 가능하다."
      ],
      "metadata": {
        "id": "PO9Vz-rpkwEb"
      }
    },
    {
      "cell_type": "code",
      "source": [
        "for xs in [(0,0), (1,0), (0,1), (1,1)]:\n",
        "     y = XOR(xs[0], xs[1])\n",
        "     print(str(xs) + \"->\" + str(y))"
      ],
      "metadata": {
        "id": "PteMJb6lkpGZ"
      },
      "execution_count": null,
      "outputs": []
    }
  ]
}