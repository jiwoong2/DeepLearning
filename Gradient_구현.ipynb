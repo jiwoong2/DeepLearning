{
  "nbformat": 4,
  "nbformat_minor": 0,
  "metadata": {
    "colab": {
      "private_outputs": true,
      "provenance": [],
      "authorship_tag": "ABX9TyOMcJ06bzUCrxqjglwkIlvE",
      "include_colab_link": true
    },
    "kernelspec": {
      "name": "python3",
      "display_name": "Python 3"
    },
    "language_info": {
      "name": "python"
    }
  },
  "cells": [
    {
      "cell_type": "markdown",
      "metadata": {
        "id": "view-in-github",
        "colab_type": "text"
      },
      "source": [
        "<a href=\"https://colab.research.google.com/github/jiwoong2/deeplearning/blob/main/Gradient_%EA%B5%AC%ED%98%84.ipynb\" target=\"_parent\"><img src=\"https://colab.research.google.com/assets/colab-badge.svg\" alt=\"Open In Colab\"/></a>"
      ]
    },
    {
      "cell_type": "code",
      "execution_count": null,
      "metadata": {
        "id": "GIoTejXxnG5K"
      },
      "outputs": [],
      "source": [
        "import numpy as np\n",
        "import matplotlib.pylab as plt\n",
        "from mpl_toolkits.mplot3d import Axes3D"
      ]
    },
    {
      "cell_type": "markdown",
      "source": [
        "# Gradient 구현"
      ],
      "metadata": {
        "id": "4RLuupEvoq29"
      }
    },
    {
      "cell_type": "code",
      "source": [
        "def _numerical_gradient_no_batch(f, x): # 수치 gradient, 앞의 수치미분과 같은 개념\n",
        "    h = 1e-4 # 0.0001\n",
        "    grad = np.zeros_like(x) # x와 형상이 같은 배열을 생성(이 경우 x와 같은 차원의 제로 벡터)\n",
        "\n",
        "    # gradient는 각 축에 대한 방향 미분을 모아놓은 벡터이므로 각 방향에 대한 수치미분을 grad 벡터에 차례로 대입하는 과정이다.\n",
        "    for idx in range(x.size):\n",
        "        tmp_val = x[idx]\n",
        "\n",
        "        # f(x+h) 계산\n",
        "        x[idx] = float(tmp_val) + h\n",
        "        fxh1 = f(x)\n",
        "\n",
        "        # f(x-h) 계산\n",
        "        x[idx] = tmp_val - h\n",
        "        fxh2 = f(x)\n",
        "\n",
        "        grad[idx] =  (fxh1 - fxh2) / (2*h)\n",
        "        x[idx] = tmp_val # 값 복원\n",
        "\n",
        "    return grad"
      ],
      "metadata": {
        "id": "_EJSMh_Ennl4"
      },
      "execution_count": null,
      "outputs": []
    },
    {
      "cell_type": "code",
      "source": [
        "def numerical_gradient(f, X): # 배치처리를 한 경우(행렬, 텐서 미분)\n",
        "    if X.ndim == 1: # 1차원, 그러니까 행렬로 묶이지 않은 벡터인 경우\n",
        "        return _numerical_gradient_no_batch(f, X)\n",
        "    else:\n",
        "        grad = np.zeros_like(X)\n",
        "\n",
        "        for idx, x in enumerate(X): # enumerate 설명1, 행벡터를 차례로 불러와 미분한다.\n",
        "            grad[idx] = _numerical_gradient_no_batch(f, x)\n",
        "\n",
        "        return grad"
      ],
      "metadata": {
        "id": "CE2w5i-jluET"
      },
      "execution_count": null,
      "outputs": []
    },
    {
      "cell_type": "code",
      "source": [
        "# enemerate 설명1\n",
        "for i,j in enumerate(['apple', 'orange', 'banana']):\n",
        "    print(i,j)\n",
        "\n",
        "for i,j in enumerate([['apple', 'orange', 'banana'], [24, 18, 16]]):\n",
        "    print(i,j)"
      ],
      "metadata": {
        "id": "jL0pZlQUnT85"
      },
      "execution_count": null,
      "outputs": []
    },
    {
      "cell_type": "markdown",
      "source": [
        "# Gradient 예제"
      ],
      "metadata": {
        "id": "a5_n98gzoup6"
      }
    },
    {
      "cell_type": "code",
      "source": [
        "def function_2(x):\n",
        "    if x.ndim == 1:\n",
        "        return np.sum(x**2)\n",
        "    else:\n",
        "        return np.sum(x**2, axis=1)"
      ],
      "metadata": {
        "id": "n5M4UGLUnkK9"
      },
      "execution_count": null,
      "outputs": []
    },
    {
      "cell_type": "code",
      "source": [
        "a = np.array([1, 2, 3])\n",
        "function_2(a)"
      ],
      "metadata": {
        "id": "uKSzp3vVpOWE"
      },
      "execution_count": null,
      "outputs": []
    },
    {
      "cell_type": "code",
      "source": [
        "def tnagent_line(f, x):\n",
        "    d = numerical_gradient(f, x)\n",
        "    print(d)\n",
        "    y = f(x) - d*x\n",
        "    return lambda t: d*t + y"
      ],
      "metadata": {
        "id": "XwydUc-wpTzW"
      },
      "execution_count": null,
      "outputs": []
    },
    {
      "cell_type": "code",
      "source": [
        "x0 = np.arange(-2, 2.5, 0.25)\n",
        "x1 = np.arange(-2, 2.5, 0.25)\n",
        "X, Y = np.meshgrid(x0, x1)\n",
        "\n",
        "X = X.flatten()\n",
        "Y = Y.flatten()\n",
        "\n",
        "grad = numerical_gradient(function_2, np.array([X, Y]))\n",
        "\n",
        "plt.figure()\n",
        "plt.quiver(X, Y, -grad[0], -grad[1], angles = \"xy\", color = \"#666\")\n",
        "plt.xlim([-2, 2])\n",
        "plt.ylim([-2, 2])\n",
        "plt.xlabel('x0')\n",
        "plt.ylabel('x1')\n",
        "plt.grid()\n",
        "plt.legend()\n",
        "plt.draw()\n",
        "plt.show()"
      ],
      "metadata": {
        "id": "KVyvkeeZrBMs"
      },
      "execution_count": null,
      "outputs": []
    },
    {
      "cell_type": "code",
      "source": [
        "x = np.arange(-2, 2.5, 0.25)\n",
        "y = np.arange(-2, 2.5, 0.25)\n",
        "X, Y = np.meshgrid(x, y) # meshgrid 설명2\n",
        "Z = X**2 + Y**2"
      ],
      "metadata": {
        "id": "6KFMi0igvTnG"
      },
      "execution_count": null,
      "outputs": []
    },
    {
      "cell_type": "code",
      "source": [
        "fig = plt.figure()\n",
        "ax = Axes3D(fig)\n",
        "ax.plot_surface(X, Y, Z)\n",
        "plt.show()\n",
        "plt.contour(X, Y, Z)\n",
        "plt.show()"
      ],
      "metadata": {
        "id": "dUqgdszJvc_d"
      },
      "execution_count": null,
      "outputs": []
    },
    {
      "cell_type": "code",
      "source": [
        "# meshgrid 설명2 : meshgird는 그물망을 말들어준다. 예로 밑의 경우 이차원 평면상에 x 좌표 1, 2, 3과 y 좌표 4, 5, 6의 직선을 그어 그물망을 만들고 3개 직선의 좌표는 각각\n",
        "# (1,6), (2,6), (3,6)\n",
        "# (1,5), (2,5), (3,5)\n",
        "# (1,4), (2,4), (3,4) 가 돼며 이를 순차적으로 반환한 것 이다.\n",
        "x = np.array([1,2,3])\n",
        "y = np.array([4,5,6])\n",
        "X, Y = np.meshgrid(x, y)\n",
        "print(X)\n",
        "print(Y)\n",
        "\n",
        "Z = X**2 + Y**2\n",
        "\n",
        "print(Z)"
      ],
      "metadata": {
        "id": "AJ5rGw1Pwauf"
      },
      "execution_count": null,
      "outputs": []
    },
    {
      "cell_type": "code",
      "source": [
        "fig = plt.figure()\n",
        "ax = Axes3D(fig)\n",
        "ax.plot_surface(X, Y, Z)\n",
        "plt.show()\n",
        "# plt.contour(X, Y, Z)\n",
        "# plt.show()"
      ],
      "metadata": {
        "id": "MeqMla240KVc"
      },
      "execution_count": null,
      "outputs": []
    }
  ]
}