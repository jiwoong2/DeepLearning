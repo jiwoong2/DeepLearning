{
  "nbformat": 4,
  "nbformat_minor": 0,
  "metadata": {
    "colab": {
      "provenance": [],
      "include_colab_link": true
    },
    "kernelspec": {
      "name": "python3",
      "display_name": "Python 3"
    },
    "language_info": {
      "name": "python"
    }
  },
  "cells": [
    {
      "cell_type": "markdown",
      "metadata": {
        "id": "view-in-github",
        "colab_type": "text"
      },
      "source": [
        "<a href=\"https://colab.research.google.com/github/jiwoong2/deeplearning/blob/main/%EC%9B%90_%ED%95%AB_%EC%9D%B8%EC%BD%94%EB%94%A9%2C_%EC%A7%80%EB%8B%88%EA%B3%84%EC%88%98%2C_%EB%A1%9C%EB%A0%8C%EC%B8%A0_%EA%B3%A1%EC%84%A0.ipynb\" target=\"_parent\"><img src=\"https://colab.research.google.com/assets/colab-badge.svg\" alt=\"Open In Colab\"/></a>"
      ]
    },
    {
      "cell_type": "markdown",
      "source": [
        "\n",
        "0. 구글드라이브 연결\n",
        "\n"
      ],
      "metadata": {
        "id": "Mje2u7jJcAPw"
      }
    },
    {
      "cell_type": "code",
      "execution_count": null,
      "metadata": {
        "colab": {
          "base_uri": "https://localhost:8080/"
        },
        "id": "lyP8BP14b6RJ",
        "outputId": "8143af6d-e296-48f3-9f17-527f9fcef9e8"
      },
      "outputs": [
        {
          "output_type": "stream",
          "name": "stdout",
          "text": [
            "Mounted at /content/drive\n"
          ]
        }
      ],
      "source": [
        "from google.colab import drive\n",
        "drive.mount('/content/drive')"
      ]
    },
    {
      "cell_type": "code",
      "source": [
        "data_path = \"/content/drive/My Drive/sjcu/porto-seguro-safe-driver-prediction/\""
      ],
      "metadata": {
        "id": "-r5KuRzscHIk"
      },
      "execution_count": null,
      "outputs": []
    },
    {
      "cell_type": "markdown",
      "source": [
        "1. 데이터 불러오기"
      ],
      "metadata": {
        "id": "OKbSmHZhdii3"
      }
    },
    {
      "cell_type": "code",
      "source": [
        "import pandas as pd\n",
        "\n",
        "train = pd.read_csv(data_path + 'train.csv', index_col = 'id')\n",
        "test = pd.read_csv(data_path + 'test.csv', index_col = 'id')\n",
        "submission = pd.read_csv(data_path +'sample_submission.csv', index_col = 'id')"
      ],
      "metadata": {
        "id": "0SLr429KdlEe"
      },
      "execution_count": null,
      "outputs": []
    },
    {
      "cell_type": "markdown",
      "source": [
        "2. 피처엔지니어링"
      ],
      "metadata": {
        "id": "KCtnNK8GeC4w"
      }
    },
    {
      "cell_type": "code",
      "source": [
        "all_data = pd.concat([train, test], ignore_index = True) #train, test 데이터 셋 병합\n",
        "all_data = all_data.drop('target', axis = 1) #타깃값 제거"
      ],
      "metadata": {
        "id": "VW0E2pODd6pt"
      },
      "execution_count": null,
      "outputs": []
    },
    {
      "cell_type": "code",
      "source": [
        "all_features = all_data.columns #전체 피처(컬럼)\n",
        "all_features"
      ],
      "metadata": {
        "colab": {
          "base_uri": "https://localhost:8080/"
        },
        "id": "Z1JoYYuSeZYt",
        "outputId": "43be8106-e3ff-486c-836c-f4fafad180b1"
      },
      "execution_count": null,
      "outputs": [
        {
          "output_type": "execute_result",
          "data": {
            "text/plain": [
              "Index(['ps_ind_01', 'ps_ind_02_cat', 'ps_ind_03', 'ps_ind_04_cat',\n",
              "       'ps_ind_05_cat', 'ps_ind_06_bin', 'ps_ind_07_bin', 'ps_ind_08_bin',\n",
              "       'ps_ind_09_bin', 'ps_ind_10_bin', 'ps_ind_11_bin', 'ps_ind_12_bin',\n",
              "       'ps_ind_13_bin', 'ps_ind_14', 'ps_ind_15', 'ps_ind_16_bin',\n",
              "       'ps_ind_17_bin', 'ps_ind_18_bin', 'ps_reg_01', 'ps_reg_02', 'ps_reg_03',\n",
              "       'ps_car_01_cat', 'ps_car_02_cat', 'ps_car_03_cat', 'ps_car_04_cat',\n",
              "       'ps_car_05_cat', 'ps_car_06_cat', 'ps_car_07_cat', 'ps_car_08_cat',\n",
              "       'ps_car_09_cat', 'ps_car_10_cat', 'ps_car_11_cat', 'ps_car_11',\n",
              "       'ps_car_12', 'ps_car_13', 'ps_car_14', 'ps_car_15', 'ps_calc_01',\n",
              "       'ps_calc_02', 'ps_calc_03', 'ps_calc_04', 'ps_calc_05', 'ps_calc_06',\n",
              "       'ps_calc_07', 'ps_calc_08', 'ps_calc_09', 'ps_calc_10', 'ps_calc_11',\n",
              "       'ps_calc_12', 'ps_calc_13', 'ps_calc_14', 'ps_calc_15_bin',\n",
              "       'ps_calc_16_bin', 'ps_calc_17_bin', 'ps_calc_18_bin', 'ps_calc_19_bin',\n",
              "       'ps_calc_20_bin'],\n",
              "      dtype='object')"
            ]
          },
          "metadata": {},
          "execution_count": 15
        }
      ]
    },
    {
      "cell_type": "markdown",
      "source": [
        "3. 원핫인코딩(One-hot Encoding)"
      ],
      "metadata": {
        "id": "orlmzwV8e2vw"
      }
    },
    {
      "cell_type": "code",
      "source": [
        "from sklearn.preprocessing import OneHotEncoder\n",
        "\n",
        "cat_features = [feature for feature in all_features if 'cat' in feature]\n",
        "onehot_encoder = OneHotEncoder() #원핫인코더 객체 생성\n",
        "encoded_cat_matrix = onehot_encoder.fit_transform(all_data[cat_features])"
      ],
      "metadata": {
        "id": "56pd0G62emLg"
      },
      "execution_count": null,
      "outputs": []
    },
    {
      "cell_type": "code",
      "source": [
        "encoded_cat_matrix"
      ],
      "metadata": {
        "colab": {
          "base_uri": "https://localhost:8080/"
        },
        "id": "gwlReZO-hvS_",
        "outputId": "769aefc3-18ea-4a3e-abc2-aa054d472613"
      },
      "execution_count": null,
      "outputs": [
        {
          "output_type": "execute_result",
          "data": {
            "text/plain": [
              "<1488028x184 sparse matrix of type '<class 'numpy.float64'>'\n",
              "\twith 20832392 stored elements in Compressed Sparse Row format>"
            ]
          },
          "metadata": {},
          "execution_count": 17
        }
      ]
    },
    {
      "cell_type": "code",
      "source": [
        "for feature in all_features:#for문으로 변수 선택\n",
        "  if 'cat' in feature:\n",
        "    print(feature)"
      ],
      "metadata": {
        "colab": {
          "base_uri": "https://localhost:8080/"
        },
        "id": "7cWF9ygJfP40",
        "outputId": "8d888d07-4786-42e6-8ce8-fd08d7175dc8"
      },
      "execution_count": null,
      "outputs": [
        {
          "output_type": "stream",
          "name": "stdout",
          "text": [
            "ps_ind_02_cat\n",
            "ps_ind_04_cat\n",
            "ps_ind_05_cat\n",
            "ps_car_01_cat\n",
            "ps_car_02_cat\n",
            "ps_car_03_cat\n",
            "ps_car_04_cat\n",
            "ps_car_05_cat\n",
            "ps_car_06_cat\n",
            "ps_car_07_cat\n",
            "ps_car_08_cat\n",
            "ps_car_09_cat\n",
            "ps_car_10_cat\n",
            "ps_car_11_cat\n"
          ]
        }
      ]
    },
    {
      "cell_type": "code",
      "source": [
        "drop_features = ['ps_ind_14', 'ps_ind_10_bin', 'ps_ind_11_bin',\n",
        "                 'ps_ind_12_bin', 'ps_ind_13_bin', 'ps_car_14']"
      ],
      "metadata": {
        "id": "kUjp8efDfRA8"
      },
      "execution_count": null,
      "outputs": []
    },
    {
      "cell_type": "code",
      "source": [
        "remaining_features = [feature for feature in all_features\n",
        "                      if('cat' not in feature and\n",
        "                         'calc' not in feature and\n",
        "                         feature not in drop_features)]"
      ],
      "metadata": {
        "id": "JLKBBUr1lCta"
      },
      "execution_count": null,
      "outputs": []
    },
    {
      "cell_type": "code",
      "source": [
        "remaining_features"
      ],
      "metadata": {
        "id": "ih-zUZH4kt2I",
        "colab": {
          "base_uri": "https://localhost:8080/"
        },
        "outputId": "cc2a46c2-642b-4407-de06-d759d556086a"
      },
      "execution_count": null,
      "outputs": [
        {
          "output_type": "execute_result",
          "data": {
            "text/plain": [
              "['ps_ind_01',\n",
              " 'ps_ind_03',\n",
              " 'ps_ind_06_bin',\n",
              " 'ps_ind_07_bin',\n",
              " 'ps_ind_08_bin',\n",
              " 'ps_ind_09_bin',\n",
              " 'ps_ind_15',\n",
              " 'ps_ind_16_bin',\n",
              " 'ps_ind_17_bin',\n",
              " 'ps_ind_18_bin',\n",
              " 'ps_reg_01',\n",
              " 'ps_reg_02',\n",
              " 'ps_reg_03',\n",
              " 'ps_car_11',\n",
              " 'ps_car_12',\n",
              " 'ps_car_13',\n",
              " 'ps_car_15']"
            ]
          },
          "metadata": {},
          "execution_count": 21
        }
      ]
    },
    {
      "cell_type": "code",
      "source": [
        "from scipy import sparse\n",
        "\n",
        "all_data_sprs = sparse.hstack([sparse.csr_matrix(all_data[remaining_features]),\n",
        "                               encoded_cat_matrix],\n",
        "                              format = 'csr')"
      ],
      "metadata": {
        "id": "4DyCqWV0qFMV"
      },
      "execution_count": null,
      "outputs": []
    },
    {
      "cell_type": "code",
      "source": [
        "num_train = len(train) #\n",
        "\n",
        "#훈련데이터와 테스트 데이터 나누기\n",
        "X = all_data_sprs[:num_train]\n",
        "X_test = all_data_sprs[num_train:]\n",
        "\n",
        "y = train['target'].values\n",
        "\n"
      ],
      "metadata": {
        "id": "FQZEz8fVakZP"
      },
      "execution_count": null,
      "outputs": []
    },
    {
      "cell_type": "markdown",
      "source": [
        "정규화 지니계수"
      ],
      "metadata": {
        "id": "K-qWAg6FjpQR"
      }
    },
    {
      "cell_type": "code",
      "source": [
        "import numpy as np\n",
        "\n",
        "def eval_gini(y_true, y_pred): #실제값과 예측값의 크기가 서로 같은지 확인(값이 다르면 오류 발생)\n",
        "  assert y_true.shape == y_pred.shape\n",
        "\n",
        "  n_samples = y_true.shape[0] #데이터 개수\n",
        "  L_mid = np.linspace(1/n_samples, 1, n_samples) #대각선 값\n",
        "\n",
        "  pred_order = y_true[y_pred.argsort()] #y_pred크기순으로 y _true 값 정렬\n",
        "\n",
        "  #1) 예측값에 대한 지니계수\n",
        "  pred_order = y_true[y_pred.argsort()] #y_pred 크기순으로 y_true값 정렬\n",
        "  L_pred = np.cumsum(pred_order) / np.sum(pred_order) #로렌츠 곡선\n",
        "  G_pred = np.sum(L_mid - L_pred) #예측값에 대한 지니계수\n",
        "\n",
        "  #2)예측이 완벽할 때 지니계수\n",
        "  true_order = y_true[y_true.argsort()] #y_true 크기순으로 y_true 값 정렬\n",
        "  L_true = np.cumsum(true_order) / np.sum(true_order) #로렌츠곡선\n",
        "  G_true = np.sum(L_mid - L_true)\n",
        "\n",
        "  #정규화된 지니계수\n",
        "  return G_pred / G_true\n",
        "\n"
      ],
      "metadata": {
        "id": "-cEyffnbjqmQ"
      },
      "execution_count": null,
      "outputs": []
    },
    {
      "cell_type": "markdown",
      "source": [
        "LightGBM용 gini()함수"
      ],
      "metadata": {
        "id": "hEgClNddmmnc"
      }
    },
    {
      "cell_type": "code",
      "source": [
        "def gini(preds, dtrain):\n",
        "  labels = dtrain.get_label()\n",
        "  return 'gini', eval_gini(labels, preds), True #반환값"
      ],
      "metadata": {
        "id": "gdPvK1H4l8P9"
      },
      "execution_count": null,
      "outputs": []
    },
    {
      "cell_type": "markdown",
      "source": [
        "OOF방식으로 LightGBM 훈련"
      ],
      "metadata": {
        "id": "GF4slYv-wKkA"
      }
    },
    {
      "cell_type": "code",
      "source": [
        "from sklearn.model_selection import StratifiedKFold\n",
        "\n",
        "#층화 K폴드 교차 검증기\n",
        "folds = StratifiedKFold(n_splits=5, shuffle =True, random_state=1991)"
      ],
      "metadata": {
        "id": "IkDRevYNwJAB"
      },
      "execution_count": null,
      "outputs": []
    },
    {
      "cell_type": "code",
      "source": [
        "params = {'objective': 'binary',\n",
        "          'learning rate': 0.01,\n",
        "          'force_row_wise': True,\n",
        "          'random_state': 0}"
      ],
      "metadata": {
        "id": "rARyMYtfxpBW"
      },
      "execution_count": null,
      "outputs": []
    },
    {
      "cell_type": "code",
      "source": [
        "#OOF방식으로 훈련된 모델로 검증 데이터 타깃값을 예측한 확률을 담을 1차원 배열\n",
        "oof_val_preds = np.zeros(X.shape[0])\n",
        "#OOF방식으로 훈련된 모델로 테스트 데이터 타깃값을 예측한 확률을 담을 1차원 배열\n",
        "oof_val_preds = np.zeros(X_test.shape[0])\n",
        "\n"
      ],
      "metadata": {
        "id": "n5ff0ynWxz8G"
      },
      "execution_count": null,
      "outputs": []
    },
    {
      "cell_type": "code",
      "source": [
        "import lightgbm as lgb\n",
        "\n",
        "#OOF방식으로 모델 훈련, 검증, 예측\n",
        "for idx, (train_idx, valid_idx) in enumerate(folds.split(X,y)):\n",
        "  #각 폴드를 구분하는 문구 출력\n",
        "  print('#' *40, f'폴드 {idx +1} / 폴드{folds.n_splits}', '#' * 40)\n",
        "\n",
        "#훈련용 데이터, 검증용 데이터 설정\n",
        "  X_train, y_train = X[train_idx], y[train_idx] #훈련용 데이터\n",
        "  X_valid, y_valid = X[valid_idx], y[valid_idx] #검증용 데이터\n",
        "\n",
        "  dtrain = lgb.Dataset(X_train, y_train) #LightGBM 전용 훈련 데이터 셋\n",
        "  dvalid = lgb.Dataset(X_valid, y_valid) #LightGBM 전용 검증 데이터 셋\n",
        "\n",
        "#LightGBM 모델 훈련\n",
        "  lgb_model = lgb.train(params = params,\n",
        "                        train_set = dtrain,\n",
        "                        num_boost_round = 1000,\n",
        "                        valid_sets = dvalid,\n",
        "                        feval = gini,\n",
        "                        verbose_eval = 500) # 500번째마다 점수 출력\n",
        "\n",
        "  off_test_preds =+ ...\n"
      ],
      "metadata": {
        "id": "b62j8kUs_9ay"
      },
      "execution_count": null,
      "outputs": []
    }
  ]
}