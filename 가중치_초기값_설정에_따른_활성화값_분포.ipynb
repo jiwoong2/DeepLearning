{
  "nbformat": 4,
  "nbformat_minor": 0,
  "metadata": {
    "colab": {
      "private_outputs": true,
      "provenance": [],
      "authorship_tag": "ABX9TyPLmLa1S0P/g2gT1Q9TEiRI",
      "include_colab_link": true
    },
    "kernelspec": {
      "name": "python3",
      "display_name": "Python 3"
    },
    "language_info": {
      "name": "python"
    }
  },
  "cells": [
    {
      "cell_type": "markdown",
      "metadata": {
        "id": "view-in-github",
        "colab_type": "text"
      },
      "source": [
        "<a href=\"https://colab.research.google.com/github/jiwoong2/deeplearning/blob/main/%EA%B0%80%EC%A4%91%EC%B9%98_%EC%B4%88%EA%B8%B0%EA%B0%92_%EC%84%A4%EC%A0%95%EC%97%90_%EB%94%B0%EB%A5%B8_%ED%99%9C%EC%84%B1%ED%99%94%EA%B0%92_%EB%B6%84%ED%8F%AC.ipynb\" target=\"_parent\"><img src=\"https://colab.research.google.com/assets/colab-badge.svg\" alt=\"Open In Colab\"/></a>"
      ]
    },
    {
      "cell_type": "code",
      "execution_count": null,
      "metadata": {
        "id": "bSkTeiSvQgEW"
      },
      "outputs": [],
      "source": [
        "import numpy as np\n",
        "import matplotlib.pyplot as plt"
      ]
    },
    {
      "cell_type": "code",
      "source": [
        "def sigmoid(x):\n",
        "    return 1 / (1 + np.exp(-x))"
      ],
      "metadata": {
        "id": "cPO_3burQ_b-"
      },
      "execution_count": null,
      "outputs": []
    },
    {
      "cell_type": "code",
      "source": [
        "def ReLU(x):\n",
        "    return np.maximum(0, x)"
      ],
      "metadata": {
        "id": "2XFyn9ZTRL-c"
      },
      "execution_count": null,
      "outputs": []
    },
    {
      "cell_type": "code",
      "source": [
        "# 아직 안배움. 자연어 처리에 많이 사용.\n",
        "def tanh(x):\n",
        "    return np.tanh(x)"
      ],
      "metadata": {
        "id": "gAUijL24RRmI"
      },
      "execution_count": null,
      "outputs": []
    },
    {
      "cell_type": "code",
      "source": [
        "input_data = np.random.randn(1000,100) # 1000개의 데이터\n",
        "node_num = 100 # 은닉층의 노드 수\n",
        "hidden_layer_size = 5\n",
        "activations = {} # 활성화 결과를 저장"
      ],
      "metadata": {
        "id": "vJYm7NhmRU74"
      },
      "execution_count": null,
      "outputs": []
    },
    {
      "cell_type": "code",
      "source": [
        "x = input_data"
      ],
      "metadata": {
        "id": "xKB7Vv7zRr6G"
      },
      "execution_count": null,
      "outputs": []
    },
    {
      "cell_type": "code",
      "source": [
        "for i in range(hidden_layer_size):\n",
        "    if i != 0:\n",
        "        x = activations[i-1]\n",
        "\n",
        "    # 초기값 설정\n",
        "    # w = np.random.randn(node_num, node_num) * 1 # 표준편차가 1\n",
        "    # w = np.random.randn(node_num, node_num) * 0.01 # 표준편차가 0.01\n",
        "    w = np.random.randn(node_num, node_num) * np.sqrt(1.0 / node_num) # LeCun 초기값\n",
        "    # w = np.random.randn(node_num, node_num) * np.sqrt(2.0 / node_num) # He 초기값\n",
        "\n",
        "\n",
        "    a = np.dot(x, w) # affine 변환. 편향은 없음.\n",
        "\n",
        "    # 활성화 함수 설정\n",
        "\n",
        "    # z = sigmoid(a)\n",
        "    z = ReLU(a) # ReLU함수를 활성화함수로 사용할 경우 LeCun이나 Xavier 초기값보다 He초기값을 사용하는 것 이 성능이 좋다.\n",
        "    # z = tanh(a)\n",
        "\n",
        "\n",
        "    activations[i] = z"
      ],
      "metadata": {
        "id": "KNQ7yRliRvHw"
      },
      "execution_count": null,
      "outputs": []
    },
    {
      "cell_type": "code",
      "source": [
        "for i, a in activations.items():\n",
        "    plt.subplot(1, len(activations), i+1)\n",
        "    plt.title(str(i+1) + '-layer')\n",
        "    if i != 0: plt.yticks([], [])\n",
        "    # ReLU함수 사용시 이상치 제거\n",
        "    plt.xlim(0.1, 1)\n",
        "    plt.ylim(0, 7000)\n",
        "    plt.hist(a.flatten(), 30, range=(0,1))\n",
        "plt.show()"
      ],
      "metadata": {
        "id": "jbSJ10ZhT4Vw"
      },
      "execution_count": null,
      "outputs": []
    }
  ]
}