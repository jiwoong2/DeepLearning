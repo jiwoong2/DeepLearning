{
  "nbformat": 4,
  "nbformat_minor": 0,
  "metadata": {
    "colab": {
      "private_outputs": true,
      "provenance": [],
      "authorship_tag": "ABX9TyP72VCRP7LZSV88aaDPzy1y",
      "include_colab_link": true
    },
    "kernelspec": {
      "name": "python3",
      "display_name": "Python 3"
    },
    "language_info": {
      "name": "python"
    }
  },
  "cells": [
    {
      "cell_type": "markdown",
      "metadata": {
        "id": "view-in-github",
        "colab_type": "text"
      },
      "source": [
        "<a href=\"https://colab.research.google.com/github/jiwoong2/deeplearning/blob/main/%EA%B0%80%EC%A4%91%EC%B9%98_%EC%B4%88%EA%B8%B0%EA%B0%92_%EC%84%A4%EC%A0%95%EC%97%90_%EB%94%B0%EB%A5%B8_%ED%99%9C%EC%84%B1%ED%99%94%EA%B0%92_%EB%B6%84%ED%8F%AC.ipynb\" target=\"_parent\"><img src=\"https://colab.research.google.com/assets/colab-badge.svg\" alt=\"Open In Colab\"/></a>"
      ]
    },
    {
      "cell_type": "code",
      "execution_count": null,
      "metadata": {
        "id": "bSkTeiSvQgEW"
      },
      "outputs": [],
      "source": [
        "import numpy as np\n",
        "import matplotlib.pyplot as plt"
      ]
    },
    {
      "cell_type": "code",
      "source": [
        "def sigmoid(x):\n",
        "    return 1 / (1 + np.exp(-x))"
      ],
      "metadata": {
        "id": "cPO_3burQ_b-"
      },
      "execution_count": null,
      "outputs": []
    },
    {
      "cell_type": "code",
      "source": [
        "def ReLU(x):\n",
        "    return np.maximum(0, x)"
      ],
      "metadata": {
        "id": "2XFyn9ZTRL-c"
      },
      "execution_count": null,
      "outputs": []
    },
    {
      "cell_type": "code",
      "source": [
        "# 아직 안배움. 자연어 처리에 많이 사용.\n",
        "def tanh(x):\n",
        "    return np.tanh(x)"
      ],
      "metadata": {
        "id": "gAUijL24RRmI"
      },
      "execution_count": null,
      "outputs": []
    },
    {
      "cell_type": "code",
      "source": [
        "input_data = np.random.randn(1000,100) # 1000개의 데이터\n",
        "node_num = 100 # 은닉층의 노드 수\n",
        "hidden_layer_size = 5\n",
        "activations = {} # 활성화 결과를 저장"
      ],
      "metadata": {
        "id": "vJYm7NhmRU74"
      },
      "execution_count": null,
      "outputs": []
    },
    {
      "cell_type": "code",
      "source": [
        "x = input_data"
      ],
      "metadata": {
        "id": "xKB7Vv7zRr6G"
      },
      "execution_count": null,
      "outputs": []
    },
    {
      "cell_type": "code",
      "source": [
        "for i in range(hidden_layer_size):\n",
        "    if i != 0:\n",
        "        x = activations[i-1]\n",
        "\n",
        "    # 초기값 설정\n",
        "    w = np.random.randn(node_num, node_num) * 1\n",
        "\n",
        "    a = np.dot(x, w)\n",
        "\n",
        "    # 활성화 함수 설정\n",
        "\n",
        "    z = sigmoid(a)"
      ],
      "metadata": {
        "id": "KNQ7yRliRvHw"
      },
      "execution_count": null,
      "outputs": []
    }
  ]
}