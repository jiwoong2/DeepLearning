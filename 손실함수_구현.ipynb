{
  "nbformat": 4,
  "nbformat_minor": 0,
  "metadata": {
    "colab": {
      "private_outputs": true,
      "provenance": [],
      "authorship_tag": "ABX9TyNzfKDcxhL1itCbWHSk+1zn",
      "include_colab_link": true
    },
    "kernelspec": {
      "name": "python3",
      "display_name": "Python 3"
    },
    "language_info": {
      "name": "python"
    }
  },
  "cells": [
    {
      "cell_type": "markdown",
      "metadata": {
        "id": "view-in-github",
        "colab_type": "text"
      },
      "source": [
        "<a href=\"https://colab.research.google.com/github/jiwoong2/deeplearning/blob/main/%EC%86%90%EC%8B%A4%ED%95%A8%EC%88%98_%EA%B5%AC%ED%98%84.ipynb\" target=\"_parent\"><img src=\"https://colab.research.google.com/assets/colab-badge.svg\" alt=\"Open In Colab\"/></a>"
      ]
    },
    {
      "cell_type": "code",
      "source": [
        "import numpy as np"
      ],
      "metadata": {
        "id": "xgIBR__y3YnB"
      },
      "execution_count": null,
      "outputs": []
    },
    {
      "cell_type": "markdown",
      "source": [
        "# MSE(Mean Squared Error), 평균 제곱 오차"
      ],
      "metadata": {
        "id": "T3FlEhSZzvYG"
      }
    },
    {
      "cell_type": "markdown",
      "source": [
        "$E = \\frac{1}{2}\\sum\\limits_{k}(y_{k}-t_{k})^{2}$\n",
        "\n",
        "\n",
        "y = 모델이 예측한 확률 벡터\n",
        "\n",
        "t = 라벨을 원-핫 인코딩한 확률 벡터\n",
        "\n",
        "\n",
        "평균 제곱 오차의 기본 아이디어는 data가 신경망을 거쳐 나온 확률 벡터와 라벨을 원-핫 인코딩한 확률 벡터를 고차원 공간의 점으로 이해하고 점사이의 거리를 측정하는 것 이다. 위의 식은 이 아이디어에서 미분계산을 편하게 하기위해 제곱근을 없에고 앞에 1/2을 곱한 것 이다."
      ],
      "metadata": {
        "id": "h3BJfctl0QX7"
      }
    },
    {
      "cell_type": "code",
      "source": [
        "def mean_squared_error(y, t):\n",
        "    return 0.5 * np.sum((y-t)**2) # (y-t)**2는 벡터에대한 제곱으로 각원소에 제곱하는 연산 이다."
      ],
      "metadata": {
        "id": "DxyR_-yPz-vh"
      },
      "execution_count": null,
      "outputs": []
    },
    {
      "cell_type": "markdown",
      "source": [
        "# Cross Entropy Error, 교차 엔트로피 오차"
      ],
      "metadata": {
        "id": "ysY5TS9P14KU"
      }
    },
    {
      "cell_type": "markdown",
      "source": [
        "$E = - \\sum\\limits_{k}t_{k}\\log{y_{k}}$\n",
        "\n",
        "교차 엔트로피는 정보이론에서 확률분포사이의 거리를 재는 방법이다."
      ],
      "metadata": {
        "id": "8x_y2W_V2IGq"
      }
    },
    {
      "cell_type": "code",
      "source": [
        "def corss_entropy_error(y, t):\n",
        "    if y.ndim == 1: # y가 벡터인 경우, 배치처리를 안 한 경우\n",
        "        t = t.reshape(1, t.size) # 10차원 벡터를 행렬로 변환.(개념상.)\n",
        "        y = y.reshape(1, y.size)\n",
        "\n",
        "    if t.size == y.size: # 라벨이 원-핫 인코딩이 돼어 있다면, 그러니까 10차원 벡터라면, size함수는 메트릭스의 원소갯수를 반환한다.\n",
        "        t = t.argmax(axis=1) # 원-핫 인코딩 이전으로 되돌리기 위해 작성.\n",
        "\n",
        "    batch_size = y.shape[0]\n",
        "    return -np.sum(np.log(y[np.arange(batch_size), t])) / batch_size # 설명1, 확률벡터로 이루어진 행렬에서 알맞은 인덱스를 얻기위한 과정."
      ],
      "metadata": {
        "id": "v0cv02_z2oar"
      },
      "execution_count": null,
      "outputs": []
    },
    {
      "cell_type": "code",
      "source": [
        "x = np.arange(12)\n",
        "x = x.reshape(3,4)\n",
        "print(x)\n",
        "x[[1, 2, 0], [3, 2, 0]] # 설명1 의 원리."
      ],
      "metadata": {
        "id": "Tb8HWM_f_EFi"
      },
      "execution_count": null,
      "outputs": []
    },
    {
      "cell_type": "code",
      "source": [],
      "metadata": {
        "id": "32ACsUA7_S_N"
      },
      "execution_count": null,
      "outputs": []
    }
  ]
}